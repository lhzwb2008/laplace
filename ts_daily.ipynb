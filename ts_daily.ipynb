{
 "cells": [
  {
   "cell_type": "code",
   "execution_count": 1,
   "id": "ab924168-b0a5-4c55-83f7-fd5ee717ff24",
   "metadata": {
    "tags": []
   },
   "outputs": [],
   "source": [
    "import tushare as ts\n",
    "import pymysql\n",
    "ts.set_token('b0030b7297c6b297f1db549c7f8c8a080b5f28e2267f07c4741e69ad')"
   ]
  },
  {
   "cell_type": "code",
   "execution_count": 10,
   "id": "3cc0c197-2b0b-4126-bc7e-0c3640386c06",
   "metadata": {
    "tags": []
   },
   "outputs": [
    {
     "name": "stdout",
     "output_type": "stream",
     "text": [
      "        ts_code           trade_time    open   close    high     low  \\\n",
      "0     002594.SZ  2023-02-01 11:09:00  299.01  299.28  299.29  299.00   \n",
      "1     002594.SZ  2023-02-01 11:08:00  298.90  299.01  299.01  298.70   \n",
      "2     002594.SZ  2023-02-01 11:07:00  298.33  298.97  298.98  298.33   \n",
      "3     002594.SZ  2023-02-01 11:06:00  298.11  298.33  298.33  298.05   \n",
      "4     002594.SZ  2023-02-01 11:05:00  297.86  298.11  298.11  297.86   \n",
      "...         ...                  ...     ...     ...     ...     ...   \n",
      "3951  002594.SZ  2023-01-03 09:34:00  252.87  253.20  253.20  252.60   \n",
      "3952  002594.SZ  2023-01-03 09:33:00  252.62  253.20  253.37  252.62   \n",
      "3953  002594.SZ  2023-01-03 09:32:00  253.34  252.72  253.34  252.40   \n",
      "3954  002594.SZ  2023-01-03 09:31:00  255.86  253.83  255.86  253.23   \n",
      "3955  002594.SZ  2023-01-03 09:30:00  256.41  256.00  256.45  255.73   \n",
      "\n",
      "           vol       amount trade_date  pre_close  \n",
      "0      64900.0  19414652.00   20230201     299.01  \n",
      "1      84500.0  25262119.00   20230201     298.97  \n",
      "2     155300.0  46407876.00   20230201     298.33  \n",
      "3      35500.0  10584438.00   20230201     298.11  \n",
      "4      34600.0  10311160.00   20230201     298.00  \n",
      "...        ...          ...        ...        ...  \n",
      "3951  191597.0  48440294.72   20230103     253.20  \n",
      "3952  167900.0  42474891.00   20230103     252.72  \n",
      "3953  186600.0  47170683.00   20230103     253.83  \n",
      "3954  207700.0  52832226.00   20230103     256.00  \n",
      "3955  110700.0  28374577.07   20230103        NaN  \n",
      "\n",
      "[3956 rows x 10 columns]\n"
     ]
    }
   ],
   "source": [
    "#获取股票1分钟数据\n",
    "df = ts.pro_bar(ts_code='002594.SZ',freq='1min', start_date='2023-01-01 09:00:00', end_date='2023-02-01 11:09:00')\n",
    "print(df)\n",
    "df = df[['open', 'vol']]\n",
    "# df.sort_index(ascending=False, inplace=True)\n",
    "# df = df.reset_index(drop=True)\n",
    "\n",
    "# df.to_csv('stock_data.csv', index=False,header=False)\n",
    "\n",
    "df.to_csv('stock_data.csv', index=False,mode='a', header=False)\n",
    "# for index,row in df.iterrows(): \n",
    "#     db = pymysql.connect(host=\"127.0.0.1\", user=\"root\", password=\"123\", database=\"laplace\" )\n",
    "#     cursor = db.cursor()\n",
    "#     sql = \"INSERT INTO trade(ts_code,trade_time,vol,amount,price) \\\n",
    "#     VALUES ('%s','%s','%s','%s','%s')\" % \\\n",
    "#     (row['ts_code'],row['trade_time'],row['vol'], row['amount'],row['open'])\n",
    "#     try:\n",
    "#         cursor.execute(sql)\n",
    "#         db.commit()\n",
    "#     except Exception as e:\n",
    "#         print(e)\n",
    "#     finally:\n",
    "#         db.close()        "
   ]
  },
  {
   "cell_type": "code",
   "execution_count": null,
   "id": "af06ba7e",
   "metadata": {},
   "outputs": [],
   "source": []
  }
 ],
 "metadata": {
  "kernelspec": {
   "display_name": "Python 3 (ipykernel)",
   "language": "python",
   "name": "python3"
  },
  "language_info": {
   "codemirror_mode": {
    "name": "ipython",
    "version": 3
   },
   "file_extension": ".py",
   "mimetype": "text/x-python",
   "name": "python",
   "nbconvert_exporter": "python",
   "pygments_lexer": "ipython3",
   "version": "3.10.10"
  }
 },
 "nbformat": 4,
 "nbformat_minor": 5
}
