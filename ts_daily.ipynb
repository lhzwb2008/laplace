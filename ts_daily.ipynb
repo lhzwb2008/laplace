{
 "cells": [
  {
   "cell_type": "code",
   "execution_count": 3,
   "id": "3cc0c197-2b0b-4126-bc7e-0c3640386c06",
   "metadata": {
    "tags": []
   },
   "outputs": [
    {
     "name": "stdout",
     "output_type": "stream",
     "text": [
      "        ts_code trade_date    open    high     low   close  pre_close  change  \\\n",
      "0     002594.SZ   20230713  267.50  269.50  265.01  267.83     265.61    2.22   \n",
      "1     002594.SZ   20230712  270.50  271.15  264.66  265.61     269.33   -3.72   \n",
      "2     002594.SZ   20230711  265.00  270.69  263.80  269.33     263.55    5.78   \n",
      "3     002594.SZ   20230710  267.00  269.50  262.75  263.55     264.40   -0.85   \n",
      "4     002594.SZ   20230707  267.00  267.66  264.11  264.40     268.10   -3.70   \n",
      "...         ...        ...     ...     ...     ...     ...        ...     ...   \n",
      "1337  002594.SZ   20180108   64.60   66.34   64.53   65.21      64.38    0.83   \n",
      "1338  002594.SZ   20180105   64.90   65.20   63.83   64.38      65.05   -0.67   \n",
      "1339  002594.SZ   20180104   66.00   66.36   64.91   65.05      66.12   -1.07   \n",
      "1340  002594.SZ   20180103   64.98   67.10   64.40   66.12      65.85    0.27   \n",
      "1341  002594.SZ   20180102   65.28   66.55   64.96   65.85      65.05    0.80   \n",
      "\n",
      "      pct_chg        vol       amount  \n",
      "0      0.8358   82753.01  2213414.441  \n",
      "1     -1.3812   87031.95  2328017.076  \n",
      "2      2.1931  102405.20  2744333.129  \n",
      "3     -0.3215   68877.62  1824432.454  \n",
      "4     -1.3801   62191.50  1650354.364  \n",
      "...       ...        ...          ...  \n",
      "1337   1.2900  136740.15   894169.179  \n",
      "1338  -1.0300  104870.00   673396.088  \n",
      "1339  -1.6200  118416.97   773631.609  \n",
      "1340   0.4100  151909.50  1000075.488  \n",
      "1341   1.2300  127140.77   837153.614  \n",
      "\n",
      "[1342 rows x 11 columns]\n"
     ]
    }
   ],
   "source": [
    "import tushare as ts\n",
    "import pymysql\n",
    "ts.set_token('b0030b7297c6b297f1db549c7f8c8a080b5f28e2267f07c4741e69ad')\n",
    "pro = ts.pro_api()\n",
    "df = pro.daily(ts_code='002594.SZ', start_date='20180101', end_date='20230713')\n",
    "print(df)\n",
    "# df = df[['close', 'vol']]\n",
    "\n",
    "df.to_csv('daily_002594.csv', index=False, header=False)\n",
    "\n",
    "# df.to_csv('daily_stock_data.csv', index=False,mode='a', header=False)\n",
    "# for index,row in df.iterrows(): \n",
    "#     db = pymysql.connect(host=\"127.0.0.1\", user=\"root\", password=\"123\", database=\"laplace\" )\n",
    "#     cursor = db.cursor()\n",
    "#     sql = \"INSERT INTO trade(ts_code,trade_time,vol,amount,price) \\\n",
    "#     VALUES ('%s','%s','%s','%s','%s')\" % \\\n",
    "#     (row['ts_code'],row['trade_time'],row['vol'], row['amount'],row['open'])\n",
    "#     try:\n",
    "#         cursor.execute(sql)\n",
    "#         db.commit()\n",
    "#     except Exception as e:\n",
    "#         print(e)\n",
    "#     finally:\n",
    "#         db.close()        "
   ]
  },
  {
   "cell_type": "code",
   "execution_count": null,
   "id": "af06ba7e",
   "metadata": {},
   "outputs": [],
   "source": []
  }
 ],
 "metadata": {
  "kernelspec": {
   "display_name": "Python 3 (ipykernel)",
   "language": "python",
   "name": "python3"
  },
  "language_info": {
   "codemirror_mode": {
    "name": "ipython",
    "version": 3
   },
   "file_extension": ".py",
   "mimetype": "text/x-python",
   "name": "python",
   "nbconvert_exporter": "python",
   "pygments_lexer": "ipython3",
   "version": "3.10.10"
  }
 },
 "nbformat": 4,
 "nbformat_minor": 5
}
