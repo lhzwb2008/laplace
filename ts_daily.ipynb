{
 "cells": [
  {
   "cell_type": "code",
   "execution_count": 9,
   "id": "3cc0c197-2b0b-4126-bc7e-0c3640386c06",
   "metadata": {
    "tags": []
   },
   "outputs": [
    {
     "name": "stdout",
     "output_type": "stream",
     "text": [
      "        ts_code trade_date    open    high     low   close  pre_close  change  \\\n",
      "0     002594.SZ   20230630  254.13  260.00  253.70  258.27     255.70    2.57   \n",
      "1     002594.SZ   20230629  260.25  260.78  255.23  255.70     260.25   -4.55   \n",
      "2     002594.SZ   20230628  260.00  262.50  258.10  260.25     260.05    0.20   \n",
      "3     002594.SZ   20230627  262.02  263.85  257.08  260.05     262.89   -2.84   \n",
      "4     002594.SZ   20230626  262.43  268.69  262.30  262.89     267.78   -4.89   \n",
      "...         ...        ...     ...     ...     ...     ...        ...     ...   \n",
      "2900  002594.SZ   20110706   32.80   35.55   32.11   33.40      33.05    0.35   \n",
      "2901  002594.SZ   20110705   32.78   33.88   31.89   33.05      30.80    2.25   \n",
      "2902  002594.SZ   20110704   28.88   30.80   28.58   30.80      28.00    2.80   \n",
      "2903  002594.SZ   20110701   25.77   28.00   25.00   28.00      25.45    2.55   \n",
      "2904  002594.SZ   20110630   22.00   26.19   22.00   25.45      18.00    7.45   \n",
      "\n",
      "      pct_chg        vol        amount  \n",
      "0      1.0051   75724.36  1.952425e+06  \n",
      "1     -1.7483   83485.05  2.148587e+06  \n",
      "2      0.0769   57269.51  1.489543e+06  \n",
      "3     -1.0803   99028.65  2.570405e+06  \n",
      "4     -1.8261  101512.22  2.681453e+06  \n",
      "...       ...        ...           ...  \n",
      "2900   1.0600  312967.19  1.056614e+06  \n",
      "2901   7.3100  381080.83  1.257046e+06  \n",
      "2902  10.0000  219645.91  6.535179e+05  \n",
      "2903  10.0200  335612.79  8.986792e+05  \n",
      "2904  41.3900  562925.34  1.349342e+06  \n",
      "\n",
      "[2905 rows x 11 columns]\n"
     ]
    }
   ],
   "source": [
    "import tushare as ts\n",
    "import pymysql\n",
    "ts.set_token('b0030b7297c6b297f1db549c7f8c8a080b5f28e2267f07c4741e69ad')\n",
    "pro = ts.pro_api()\n",
    "# df = pro.daily(ts_code='002594.SZ', start_date='20180101', end_date='20230331')\n",
    "df = pro.daily(ts_code='002594.SZ', start_date='20110630', end_date='20230631')\n",
    "print(df)\n",
    "df = df[['close', 'vol']]\n",
    "\n",
    "df.to_csv('daily_stock_data.csv', index=False, header=False)\n",
    "\n",
    "# df.to_csv('daily_stock_data.csv', index=False,mode='a', header=False)\n",
    "# for index,row in df.iterrows(): \n",
    "#     db = pymysql.connect(host=\"127.0.0.1\", user=\"root\", password=\"123\", database=\"laplace\" )\n",
    "#     cursor = db.cursor()\n",
    "#     sql = \"INSERT INTO trade(ts_code,trade_time,vol,amount,price) \\\n",
    "#     VALUES ('%s','%s','%s','%s','%s')\" % \\\n",
    "#     (row['ts_code'],row['trade_time'],row['vol'], row['amount'],row['open'])\n",
    "#     try:\n",
    "#         cursor.execute(sql)\n",
    "#         db.commit()\n",
    "#     except Exception as e:\n",
    "#         print(e)\n",
    "#     finally:\n",
    "#         db.close()        "
   ]
  },
  {
   "cell_type": "code",
   "execution_count": null,
   "id": "af06ba7e",
   "metadata": {},
   "outputs": [],
   "source": []
  }
 ],
 "metadata": {
  "kernelspec": {
   "display_name": "Python 3 (ipykernel)",
   "language": "python",
   "name": "python3"
  },
  "language_info": {
   "codemirror_mode": {
    "name": "ipython",
    "version": 3
   },
   "file_extension": ".py",
   "mimetype": "text/x-python",
   "name": "python",
   "nbconvert_exporter": "python",
   "pygments_lexer": "ipython3",
   "version": "3.10.10"
  }
 },
 "nbformat": 4,
 "nbformat_minor": 5
}
