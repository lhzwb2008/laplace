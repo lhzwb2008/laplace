{
 "cells": [
  {
   "cell_type": "code",
   "execution_count": 8,
   "metadata": {},
   "outputs": [
    {
     "name": "stdout",
     "output_type": "stream",
     "text": [
      "        ts_code trade_date  pre_close  pre_settle     open     high      low  \\\n",
      "0    SS2401.SHF   20231229    13800.0     13830.0  13800.0  13835.0  13250.0   \n",
      "1    SS2401.SHF   20231228    13855.0     13765.0  13855.0  13885.0  13750.0   \n",
      "2    SS2401.SHF   20231227    13775.0     13845.0  13760.0  13855.0  13675.0   \n",
      "3    SS2401.SHF   20231226    13915.0     13885.0  13935.0  13935.0  13750.0   \n",
      "4    SS2401.SHF   20231225    13770.0     13765.0  13755.0  13990.0  13695.0   \n",
      "..          ...        ...        ...         ...      ...      ...      ...   \n",
      "227  SS2401.SHF   20230130    16490.0     16570.0  16660.0  16660.0  16485.0   \n",
      "228  SS2401.SHF   20230120    16520.0     16510.0  16600.0  16605.0  16490.0   \n",
      "229  SS2401.SHF   20230119    16505.0     16560.0  16505.0  16555.0  16500.0   \n",
      "230  SS2401.SHF   20230118    16470.0     16470.0  16510.0  16655.0  16480.0   \n",
      "231  SS2401.SHF   20230117        NaN     16470.0      NaN      NaN      NaN   \n",
      "\n",
      "       close   settle  change1  change2     vol    amount       oi  oi_chg  \n",
      "0    13575.0  13630.0   -255.0   -200.0  3974.0  27088.91   3143.0 -1900.0  \n",
      "1    13800.0  13830.0     35.0     65.0  3110.0  21508.64   5043.0  -979.0  \n",
      "2    13855.0  13765.0     10.0    -80.0  6113.0  42075.66   6022.0 -2868.0  \n",
      "3    13775.0  13845.0   -110.0    -40.0  7017.0  48582.75   8890.0 -4408.0  \n",
      "4    13915.0  13885.0    150.0    120.0  8009.0  55615.97  13298.0 -2852.0  \n",
      "..       ...      ...      ...      ...     ...       ...      ...     ...  \n",
      "227  16515.0  16550.0    -55.0    -20.0     6.0     49.66     19.0     2.0  \n",
      "228  16490.0  16570.0    -20.0     60.0     6.0     49.71     17.0     3.0  \n",
      "229  16520.0  16510.0    -40.0    -50.0     6.0     49.54     14.0     2.0  \n",
      "230  16505.0  16560.0     35.0     90.0    17.0    140.78     12.0    12.0  \n",
      "231  16470.0  16470.0      0.0      0.0     0.0      0.00      0.0     NaN  \n",
      "\n",
      "[232 rows x 15 columns]\n"
     ]
    }
   ],
   "source": [
    "import tushare as ts\n",
    "ts.set_token('60b6737f6c928ce9ebbfaba3966ab0f890d8984c4361211a164bb59f')\n",
    "pro = ts.pro_api()\n",
    "\n",
    "df = pro.fut_daily(ts_code='SS2401.SHF', start_date='20230101', end_date='20240101')\n",
    "print(df)\n",
    "df.to_csv('SS2401_daily.csv',index=False)"
   ]
  }
 ],
 "metadata": {
  "kernelspec": {
   "display_name": "base",
   "language": "python",
   "name": "python3"
  },
  "language_info": {
   "codemirror_mode": {
    "name": "ipython",
    "version": 3
   },
   "file_extension": ".py",
   "mimetype": "text/x-python",
   "name": "python",
   "nbconvert_exporter": "python",
   "pygments_lexer": "ipython3",
   "version": "3.10.10"
  }
 },
 "nbformat": 4,
 "nbformat_minor": 2
}
