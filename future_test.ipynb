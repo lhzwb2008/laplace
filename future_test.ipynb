{
 "cells": [
  {
   "cell_type": "code",
   "execution_count": 5,
   "metadata": {},
   "outputs": [
    {
     "name": "stderr",
     "output_type": "stream",
     "text": [
      "/var/folders/g3/764mx2lj2gs3qc7l4pz4v2n00000gp/T/ipykernel_55306/1109842569.py:24: FutureWarning: The frame.append method is deprecated and will be removed from pandas in a future version. Use pandas.concat instead.\n",
      "  all_data = all_data.append(df, ignore_index=True)\n",
      "/var/folders/g3/764mx2lj2gs3qc7l4pz4v2n00000gp/T/ipykernel_55306/1109842569.py:24: FutureWarning: The frame.append method is deprecated and will be removed from pandas in a future version. Use pandas.concat instead.\n",
      "  all_data = all_data.append(df, ignore_index=True)\n",
      "/var/folders/g3/764mx2lj2gs3qc7l4pz4v2n00000gp/T/ipykernel_55306/1109842569.py:24: FutureWarning: The frame.append method is deprecated and will be removed from pandas in a future version. Use pandas.concat instead.\n",
      "  all_data = all_data.append(df, ignore_index=True)\n",
      "/var/folders/g3/764mx2lj2gs3qc7l4pz4v2n00000gp/T/ipykernel_55306/1109842569.py:24: FutureWarning: The frame.append method is deprecated and will be removed from pandas in a future version. Use pandas.concat instead.\n",
      "  all_data = all_data.append(df, ignore_index=True)\n",
      "/var/folders/g3/764mx2lj2gs3qc7l4pz4v2n00000gp/T/ipykernel_55306/1109842569.py:24: FutureWarning: The frame.append method is deprecated and will be removed from pandas in a future version. Use pandas.concat instead.\n",
      "  all_data = all_data.append(df, ignore_index=True)\n",
      "/var/folders/g3/764mx2lj2gs3qc7l4pz4v2n00000gp/T/ipykernel_55306/1109842569.py:24: FutureWarning: The frame.append method is deprecated and will be removed from pandas in a future version. Use pandas.concat instead.\n",
      "  all_data = all_data.append(df, ignore_index=True)\n",
      "/var/folders/g3/764mx2lj2gs3qc7l4pz4v2n00000gp/T/ipykernel_55306/1109842569.py:24: FutureWarning: The frame.append method is deprecated and will be removed from pandas in a future version. Use pandas.concat instead.\n",
      "  all_data = all_data.append(df, ignore_index=True)\n",
      "/var/folders/g3/764mx2lj2gs3qc7l4pz4v2n00000gp/T/ipykernel_55306/1109842569.py:24: FutureWarning: The frame.append method is deprecated and will be removed from pandas in a future version. Use pandas.concat instead.\n",
      "  all_data = all_data.append(df, ignore_index=True)\n",
      "/var/folders/g3/764mx2lj2gs3qc7l4pz4v2n00000gp/T/ipykernel_55306/1109842569.py:24: FutureWarning: The frame.append method is deprecated and will be removed from pandas in a future version. Use pandas.concat instead.\n",
      "  all_data = all_data.append(df, ignore_index=True)\n",
      "/var/folders/g3/764mx2lj2gs3qc7l4pz4v2n00000gp/T/ipykernel_55306/1109842569.py:24: FutureWarning: The frame.append method is deprecated and will be removed from pandas in a future version. Use pandas.concat instead.\n",
      "  all_data = all_data.append(df, ignore_index=True)\n",
      "/var/folders/g3/764mx2lj2gs3qc7l4pz4v2n00000gp/T/ipykernel_55306/1109842569.py:24: FutureWarning: The frame.append method is deprecated and will be removed from pandas in a future version. Use pandas.concat instead.\n",
      "  all_data = all_data.append(df, ignore_index=True)\n",
      "/var/folders/g3/764mx2lj2gs3qc7l4pz4v2n00000gp/T/ipykernel_55306/1109842569.py:24: FutureWarning: The frame.append method is deprecated and will be removed from pandas in a future version. Use pandas.concat instead.\n",
      "  all_data = all_data.append(df, ignore_index=True)\n",
      "/var/folders/g3/764mx2lj2gs3qc7l4pz4v2n00000gp/T/ipykernel_55306/1109842569.py:24: FutureWarning: The frame.append method is deprecated and will be removed from pandas in a future version. Use pandas.concat instead.\n",
      "  all_data = all_data.append(df, ignore_index=True)\n",
      "/var/folders/g3/764mx2lj2gs3qc7l4pz4v2n00000gp/T/ipykernel_55306/1109842569.py:24: FutureWarning: The frame.append method is deprecated and will be removed from pandas in a future version. Use pandas.concat instead.\n",
      "  all_data = all_data.append(df, ignore_index=True)\n",
      "/var/folders/g3/764mx2lj2gs3qc7l4pz4v2n00000gp/T/ipykernel_55306/1109842569.py:24: FutureWarning: The frame.append method is deprecated and will be removed from pandas in a future version. Use pandas.concat instead.\n",
      "  all_data = all_data.append(df, ignore_index=True)\n",
      "/var/folders/g3/764mx2lj2gs3qc7l4pz4v2n00000gp/T/ipykernel_55306/1109842569.py:24: FutureWarning: The frame.append method is deprecated and will be removed from pandas in a future version. Use pandas.concat instead.\n",
      "  all_data = all_data.append(df, ignore_index=True)\n",
      "/var/folders/g3/764mx2lj2gs3qc7l4pz4v2n00000gp/T/ipykernel_55306/1109842569.py:24: FutureWarning: The frame.append method is deprecated and will be removed from pandas in a future version. Use pandas.concat instead.\n",
      "  all_data = all_data.append(df, ignore_index=True)\n",
      "/var/folders/g3/764mx2lj2gs3qc7l4pz4v2n00000gp/T/ipykernel_55306/1109842569.py:24: FutureWarning: The frame.append method is deprecated and will be removed from pandas in a future version. Use pandas.concat instead.\n",
      "  all_data = all_data.append(df, ignore_index=True)\n",
      "/var/folders/g3/764mx2lj2gs3qc7l4pz4v2n00000gp/T/ipykernel_55306/1109842569.py:24: FutureWarning: The frame.append method is deprecated and will be removed from pandas in a future version. Use pandas.concat instead.\n",
      "  all_data = all_data.append(df, ignore_index=True)\n",
      "/var/folders/g3/764mx2lj2gs3qc7l4pz4v2n00000gp/T/ipykernel_55306/1109842569.py:24: FutureWarning: The frame.append method is deprecated and will be removed from pandas in a future version. Use pandas.concat instead.\n",
      "  all_data = all_data.append(df, ignore_index=True)\n"
     ]
    }
   ],
   "source": [
    "import pandas as pd\n",
    "import os\n",
    "import chardet\n",
    "\n",
    "def detect_file_encoding(file_path):\n",
    "    with open(file_path, 'rb') as f:\n",
    "        result = chardet.detect(f.read())\n",
    "    return result['encoding']\n",
    "\n",
    "# 设置工作目录为包含CSV文件的位置\n",
    "directory = \"/Users/zhangwenbo/testProjects/laplace/rb_202309\"  # 请修改为你的文件夹路径\n",
    "os.chdir(directory)\n",
    "\n",
    "# 找到所有以\"rb2307_\"开头的CSV文件\n",
    "all_files = [f for f in os.listdir(directory) if f.startswith(\"rb2401_\") and f.endswith(\".csv\")]\n",
    "\n",
    "# 初始化一个空的DataFrame来存储所有数据\n",
    "all_data = pd.DataFrame()\n",
    "\n",
    "for file in all_files:\n",
    "    # 读取文件内容（跳过第一行，因为它是列名）\n",
    "    file_encoding = detect_file_encoding(file)\n",
    "    df = pd.read_csv(file, encoding=file_encoding,skiprows=1, header=None)\n",
    "    all_data = all_data.append(df, ignore_index=True)\n",
    "\n",
    "# 按照日期列（即第一列，索引为0）进行升序排序\n",
    "all_data = all_data.sort_values(by=0)\n",
    "\n",
    "# 保存为新的CSV文件\n",
    "all_data.to_csv(\"merged_sorted_file_09.csv\", index=False, header=False)\n"
   ]
  }
 ],
 "metadata": {
  "kernelspec": {
   "display_name": "base",
   "language": "python",
   "name": "python3"
  },
  "language_info": {
   "codemirror_mode": {
    "name": "ipython",
    "version": 3
   },
   "file_extension": ".py",
   "mimetype": "text/x-python",
   "name": "python",
   "nbconvert_exporter": "python",
   "pygments_lexer": "ipython3",
   "version": "3.10.10"
  }
 },
 "nbformat": 4,
 "nbformat_minor": 2
}
