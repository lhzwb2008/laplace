{
 "cells": [
  {
   "cell_type": "code",
   "execution_count": 9,
   "id": "3cc0c197-2b0b-4126-bc7e-0c3640386c06",
   "metadata": {
    "tags": []
   },
   "outputs": [],
   "source": [
    "import tushare as ts\n",
    "ts.set_token('99d1db2246e8fbfdad49286347efb2b23323fd6373fb9621b77c6f72')\n",
    "data= ts.pro_bar(ts_code='600518.SH',freq='1min', start_date='2023-01-01 09:00:00', end_date='2023-02-23 13:26:00')\n",
    "# data.to_csv('600518.csv', index=False)\n",
    "data.to_csv('600518.csv',mode='a', header=False, index=False)\n",
    "\n",
    "\n",
    "     "
   ]
  }
 ],
 "metadata": {
  "kernelspec": {
   "display_name": "Python 3 (ipykernel)",
   "language": "python",
   "name": "python3"
  },
  "language_info": {
   "codemirror_mode": {
    "name": "ipython",
    "version": 3
   },
   "file_extension": ".py",
   "mimetype": "text/x-python",
   "name": "python",
   "nbconvert_exporter": "python",
   "pygments_lexer": "ipython3",
   "version": "3.10.10"
  }
 },
 "nbformat": 4,
 "nbformat_minor": 5
}
