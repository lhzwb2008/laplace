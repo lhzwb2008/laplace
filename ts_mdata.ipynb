{
 "cells": [
  {
   "cell_type": "code",
   "execution_count": 11,
   "id": "7b5ac9f4",
   "metadata": {},
   "outputs": [
    {
     "name": "stderr",
     "output_type": "stream",
     "text": [
      "/Users/zhangwenbo/miniforge3/lib/python3.10/site-packages/cashare/minute_data.py:96: FutureWarning: The frame.append method is deprecated and will be removed from pandas in a future version. Use pandas.concat instead.\n",
      "  df = df.append(lsss, ignore_index=True)\n",
      "/Users/zhangwenbo/miniforge3/lib/python3.10/site-packages/cashare/minute_data.py:96: FutureWarning: The frame.append method is deprecated and will be removed from pandas in a future version. Use pandas.concat instead.\n",
      "  df = df.append(lsss, ignore_index=True)\n",
      "/Users/zhangwenbo/miniforge3/lib/python3.10/site-packages/cashare/minute_data.py:96: FutureWarning: The frame.append method is deprecated and will be removed from pandas in a future version. Use pandas.concat instead.\n",
      "  df = df.append(lsss, ignore_index=True)\n",
      "/Users/zhangwenbo/miniforge3/lib/python3.10/site-packages/cashare/minute_data.py:96: FutureWarning: The frame.append method is deprecated and will be removed from pandas in a future version. Use pandas.concat instead.\n",
      "  df = df.append(lsss, ignore_index=True)\n",
      "/Users/zhangwenbo/miniforge3/lib/python3.10/site-packages/cashare/minute_data.py:96: FutureWarning: The frame.append method is deprecated and will be removed from pandas in a future version. Use pandas.concat instead.\n",
      "  df = df.append(lsss, ignore_index=True)\n",
      "/Users/zhangwenbo/miniforge3/lib/python3.10/site-packages/cashare/minute_data.py:96: FutureWarning: The frame.append method is deprecated and will be removed from pandas in a future version. Use pandas.concat instead.\n",
      "  df = df.append(lsss, ignore_index=True)\n",
      "/Users/zhangwenbo/miniforge3/lib/python3.10/site-packages/cashare/minute_data.py:96: FutureWarning: The frame.append method is deprecated and will be removed from pandas in a future version. Use pandas.concat instead.\n",
      "  df = df.append(lsss, ignore_index=True)\n",
      "/Users/zhangwenbo/miniforge3/lib/python3.10/site-packages/cashare/minute_data.py:96: FutureWarning: The frame.append method is deprecated and will be removed from pandas in a future version. Use pandas.concat instead.\n",
      "  df = df.append(lsss, ignore_index=True)\n",
      "/Users/zhangwenbo/miniforge3/lib/python3.10/site-packages/cashare/minute_data.py:96: FutureWarning: The frame.append method is deprecated and will be removed from pandas in a future version. Use pandas.concat instead.\n",
      "  df = df.append(lsss, ignore_index=True)\n",
      "/Users/zhangwenbo/miniforge3/lib/python3.10/site-packages/cashare/minute_data.py:96: FutureWarning: The frame.append method is deprecated and will be removed from pandas in a future version. Use pandas.concat instead.\n",
      "  df = df.append(lsss, ignore_index=True)\n",
      "/Users/zhangwenbo/miniforge3/lib/python3.10/site-packages/cashare/minute_data.py:96: FutureWarning: The frame.append method is deprecated and will be removed from pandas in a future version. Use pandas.concat instead.\n",
      "  df = df.append(lsss, ignore_index=True)\n",
      "/Users/zhangwenbo/miniforge3/lib/python3.10/site-packages/cashare/minute_data.py:96: FutureWarning: The frame.append method is deprecated and will be removed from pandas in a future version. Use pandas.concat instead.\n",
      "  df = df.append(lsss, ignore_index=True)\n",
      "/Users/zhangwenbo/miniforge3/lib/python3.10/site-packages/cashare/minute_data.py:96: FutureWarning: The frame.append method is deprecated and will be removed from pandas in a future version. Use pandas.concat instead.\n",
      "  df = df.append(lsss, ignore_index=True)\n",
      "/Users/zhangwenbo/miniforge3/lib/python3.10/site-packages/cashare/minute_data.py:96: FutureWarning: The frame.append method is deprecated and will be removed from pandas in a future version. Use pandas.concat instead.\n",
      "  df = df.append(lsss, ignore_index=True)\n",
      "/Users/zhangwenbo/miniforge3/lib/python3.10/site-packages/cashare/minute_data.py:96: FutureWarning: The frame.append method is deprecated and will be removed from pandas in a future version. Use pandas.concat instead.\n",
      "  df = df.append(lsss, ignore_index=True)\n",
      "/Users/zhangwenbo/miniforge3/lib/python3.10/site-packages/cashare/minute_data.py:96: FutureWarning: The frame.append method is deprecated and will be removed from pandas in a future version. Use pandas.concat instead.\n",
      "  df = df.append(lsss, ignore_index=True)\n",
      "/Users/zhangwenbo/miniforge3/lib/python3.10/site-packages/cashare/minute_data.py:96: FutureWarning: The frame.append method is deprecated and will be removed from pandas in a future version. Use pandas.concat instead.\n",
      "  df = df.append(lsss, ignore_index=True)\n",
      "/Users/zhangwenbo/miniforge3/lib/python3.10/site-packages/cashare/minute_data.py:96: FutureWarning: The frame.append method is deprecated and will be removed from pandas in a future version. Use pandas.concat instead.\n",
      "  df = df.append(lsss, ignore_index=True)\n",
      "/Users/zhangwenbo/miniforge3/lib/python3.10/site-packages/cashare/minute_data.py:96: FutureWarning: The frame.append method is deprecated and will be removed from pandas in a future version. Use pandas.concat instead.\n",
      "  df = df.append(lsss, ignore_index=True)\n",
      "/Users/zhangwenbo/miniforge3/lib/python3.10/site-packages/cashare/minute_data.py:96: FutureWarning: The frame.append method is deprecated and will be removed from pandas in a future version. Use pandas.concat instead.\n",
      "  df = df.append(lsss, ignore_index=True)\n",
      "/Users/zhangwenbo/miniforge3/lib/python3.10/site-packages/cashare/minute_data.py:96: FutureWarning: The frame.append method is deprecated and will be removed from pandas in a future version. Use pandas.concat instead.\n",
      "  df = df.append(lsss, ignore_index=True)\n"
     ]
    }
   ],
   "source": [
    "from cashare.minute_data import m_data\n",
    "from cashare.day_data import daily_data\n",
    "from cashare.stock_list import stock_list\n",
    "#获取股票1分钟数据\n",
    "# df = stock_list(type='hk',token='z2c4291a77c3ea30e57b3c4328a9889248r4')\n",
    "# print(df)\n",
    "\n",
    "# df = m_data(sk_code='BABA',type='1min',token='z2c4291a77c3ea30e57b3c4328a9889248r4',start_date='2023-08-01',end_date='2023-09-01')\n",
    "# df = daily_data(sk_code='9896.HK',token='z2c4291a77c3ea30e57b3c4328a9889248r4',start_date='2023-05-20',end_date='2023-07-20')\n",
    "# df.to_csv('baba.csv',index=False)\n",
    "# df.to_csv('baba.csv',mode='a', header=False, index=False)\n",
    "\n",
    "df = m_data(sk_code='INDA',type='1min',token='z2c4291a77c3ea30e57b3c4328a9889248r4',start_date='2023-03-01',end_date='2023-05-01')\n",
    "# df.to_csv('INDA.csv',index=False)\n",
    "df.to_csv('INDA.csv',mode='a', header=False, index=False)\n",
    "\n",
    "     "
   ]
  }
 ],
 "metadata": {
  "kernelspec": {
   "display_name": "Python 3 (ipykernel)",
   "language": "python",
   "name": "python3"
  },
  "language_info": {
   "codemirror_mode": {
    "name": "ipython",
    "version": 3
   },
   "file_extension": ".py",
   "mimetype": "text/x-python",
   "name": "python",
   "nbconvert_exporter": "python",
   "pygments_lexer": "ipython3",
   "version": "3.10.10"
  }
 },
 "nbformat": 4,
 "nbformat_minor": 5
}
