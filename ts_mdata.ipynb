{
 "cells": [
  {
   "cell_type": "code",
   "execution_count": 1,
   "id": "7b5ac9f4",
   "metadata": {},
   "outputs": [
    {
     "ename": "ModuleNotFoundError",
     "evalue": "No module named 'cashare'",
     "output_type": "error",
     "traceback": [
      "\u001b[0;31m---------------------------------------------------------------------------\u001b[0m",
      "\u001b[0;31mModuleNotFoundError\u001b[0m                       Traceback (most recent call last)",
      "Cell \u001b[0;32mIn[1], line 1\u001b[0m\n\u001b[0;32m----> 1\u001b[0m \u001b[38;5;28;01mfrom\u001b[39;00m \u001b[38;5;21;01mcashare\u001b[39;00m\u001b[38;5;21;01m.\u001b[39;00m\u001b[38;5;21;01mminute_data\u001b[39;00m \u001b[38;5;28;01mimport\u001b[39;00m m_data\n\u001b[1;32m      2\u001b[0m \u001b[38;5;28;01mfrom\u001b[39;00m \u001b[38;5;21;01mcashare\u001b[39;00m\u001b[38;5;21;01m.\u001b[39;00m\u001b[38;5;21;01mday_data\u001b[39;00m \u001b[38;5;28;01mimport\u001b[39;00m daily_data\n\u001b[1;32m      3\u001b[0m \u001b[38;5;28;01mfrom\u001b[39;00m \u001b[38;5;21;01mcashare\u001b[39;00m\u001b[38;5;21;01m.\u001b[39;00m\u001b[38;5;21;01mstock_list\u001b[39;00m \u001b[38;5;28;01mimport\u001b[39;00m stock_list\n",
      "\u001b[0;31mModuleNotFoundError\u001b[0m: No module named 'cashare'"
     ]
    }
   ],
   "source": [
    "from cashare.minute_data import m_data\n",
    "from cashare.day_data import daily_data\n",
    "from cashare.stock_list import stock_list\n",
    "#获取股票1分钟数据\n",
    "# df = stock_list(type='hk',token='z2c4291a77c3ea30e57b3c4328a9889248r4')\n",
    "# print(df)\n",
    "\n",
    "# df = m_data(sk_code='BABA',type='1min',token='z2c4291a77c3ea30e57b3c4328a9889248r4',start_date='2023-08-01',end_date='2023-09-01')\n",
    "# df = daily_data(sk_code='9896.HK',token='z2c4291a77c3ea30e57b3c4328a9889248r4',start_date='2023-05-20',end_date='2023-07-20')\n",
    "# df.to_csv('baba.csv',index=False)\n",
    "# df.to_csv('baba.csv',mode='a', header=False, index=False)\n",
    "\n",
    "df = m_data(sk_code='INDA',type='1min',token='z2c4291a77c3ea30e57b3c4328a9889248r4',start_date='2023-03-01',end_date='2023-05-01')\n",
    "# df.to_csv('INDA.csv',index=False)\n",
    "df.to_csv('INDA.csv',mode='a', header=False, index=False)\n",
    "\n",
    "     "
   ]
  }
 ],
 "metadata": {
  "kernelspec": {
   "display_name": "futu",
   "language": "python",
   "name": "python3"
  },
  "language_info": {
   "codemirror_mode": {
    "name": "ipython",
    "version": 3
   },
   "file_extension": ".py",
   "mimetype": "text/x-python",
   "name": "python",
   "nbconvert_exporter": "python",
   "pygments_lexer": "ipython3",
   "version": "3.12.8"
  }
 },
 "nbformat": 4,
 "nbformat_minor": 5
}
