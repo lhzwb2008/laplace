{
 "cells": [
  {
   "cell_type": "code",
   "execution_count": 3,
   "metadata": {},
   "outputs": [
    {
     "name": "stdout",
     "output_type": "stream",
     "text": [
      "      symbol                             name   price  \\\n",
      "0          A       Agilent Technologies, Inc.  119.32   \n",
      "1         AA                Alcoa Corporation   34.27   \n",
      "2        AAC     Ares Acquisition Corporation   10.56   \n",
      "3     AAC-UN     Ares Acquisition Corporation   10.71   \n",
      "4     AAC-WT  Ares Acquisition Corporation Re  0.8375   \n",
      "...      ...                              ...     ...   \n",
      "9852      ZY                    Zymergen Inc.    2.43   \n",
      "9853    ZYME                   Zymeworks Inc.    8.58   \n",
      "9854    ZYNE    Zynerba Pharmaceuticals, Inc.  0.3359   \n",
      "9855    ZYXI                      Zynex, Inc.    9.44   \n",
      "9856     ZZZ                                     0.01   \n",
      "\n",
      "                     exchange exchangeShortName   type  \n",
      "0     New York Stock Exchange              NYSE  stock  \n",
      "1     New York Stock Exchange              NYSE  stock  \n",
      "2     New York Stock Exchange              NYSE  stock  \n",
      "3     New York Stock Exchange              NYSE  stock  \n",
      "4     New York Stock Exchange              NYSE  stock  \n",
      "...                       ...               ...    ...  \n",
      "9852     NASDAQ Global Select            NASDAQ  stock  \n",
      "9853  New York Stock Exchange              NYSE  stock  \n",
      "9854     NASDAQ Global Market            NASDAQ  stock  \n",
      "9855     NASDAQ Global Select            NASDAQ  stock  \n",
      "9856  New York Stock Exchange              NYSE  stock  \n",
      "\n",
      "[9857 rows x 6 columns]\n"
     ]
    },
    {
     "name": "stderr",
     "output_type": "stream",
     "text": [
      "/Users/zhangwenbo/miniforge3/lib/python3.10/site-packages/cashare/minute_data.py:96: FutureWarning: The frame.append method is deprecated and will be removed from pandas in a future version. Use pandas.concat instead.\n",
      "  df = df.append(lsss, ignore_index=True)\n",
      "/Users/zhangwenbo/miniforge3/lib/python3.10/site-packages/cashare/minute_data.py:96: FutureWarning: The frame.append method is deprecated and will be removed from pandas in a future version. Use pandas.concat instead.\n",
      "  df = df.append(lsss, ignore_index=True)\n"
     ]
    },
    {
     "name": "stdout",
     "output_type": "stream",
     "text": [
      "    stock_id                 date     open      low     high   close  volume\n",
      "0          A  2023-06-29 09:30:00  116.160  116.090  116.320  116.22   15365\n",
      "1          A  2023-06-29 09:31:00  116.230  116.230  116.370  116.35    3231\n",
      "2          A  2023-06-29 09:32:00  116.410  116.080  116.460  116.08    4635\n",
      "3          A  2023-06-29 09:33:00  116.080  116.070  116.300  116.23    1978\n",
      "4          A  2023-06-29 09:34:00  116.340  116.165  116.350  116.24    3608\n",
      "..       ...                  ...      ...      ...      ...     ...     ...\n",
      "986        A  2023-07-03 12:58:00  119.245  119.245  119.315  119.27    8790\n",
      "987        A  2023-07-03 12:59:00  119.280  119.220  119.400  119.24   42687\n",
      "988        A  2023-07-03 13:00:00  119.320  119.320  119.320  119.32  164467\n",
      "989        A  2023-07-03 13:10:00  119.320  119.320  119.320  119.32       0\n",
      "990        A  2023-07-03 15:30:00  119.320  119.320  119.320  119.32       0\n",
      "\n",
      "[991 rows x 7 columns]\n",
      "(991, 7)\n",
      "   percent name                     ts_code\n",
      "0        1    A  Agilent Technologies, Inc.\n"
     ]
    },
    {
     "name": "stderr",
     "output_type": "stream",
     "text": [
      "/Users/zhangwenbo/miniforge3/lib/python3.10/site-packages/cashare/minute_data.py:96: FutureWarning: The frame.append method is deprecated and will be removed from pandas in a future version. Use pandas.concat instead.\n",
      "  df = df.append(lsss, ignore_index=True)\n",
      "/Users/zhangwenbo/miniforge3/lib/python3.10/site-packages/cashare/minute_data.py:96: FutureWarning: The frame.append method is deprecated and will be removed from pandas in a future version. Use pandas.concat instead.\n",
      "  df = df.append(lsss, ignore_index=True)\n"
     ]
    },
    {
     "name": "stdout",
     "output_type": "stream",
     "text": [
      "    stock_id                 date    open     low     high    close  volume\n",
      "0         AA  2023-06-29 09:30:00  33.500  33.370  33.5000  33.3914   68210\n",
      "1         AA  2023-06-29 09:31:00  33.390  33.310  33.4200  33.3900   15672\n",
      "2         AA  2023-06-29 09:32:00  33.400  33.280  33.4000  33.3000   18793\n",
      "3         AA  2023-06-29 09:33:00  33.290  33.280  33.3600  33.3000   19072\n",
      "4         AA  2023-06-29 09:34:00  33.278  33.210  33.3637  33.3637   18269\n",
      "..       ...                  ...     ...     ...      ...      ...     ...\n",
      "990       AA  2023-07-03 12:58:00  34.230  34.225  34.2800  34.2750   26599\n",
      "991       AA  2023-07-03 12:59:00  34.270  34.270  34.3000  34.2800   80631\n",
      "992       AA  2023-07-03 13:00:00  34.270  34.270  34.2700  34.2700  124243\n",
      "993       AA  2023-07-03 13:10:00  34.270  34.270  34.2700  34.2700       0\n",
      "994       AA  2023-07-03 15:30:00  34.270  34.270  34.2700  34.2700       0\n",
      "\n",
      "[995 rows x 7 columns]\n",
      "(995, 7)\n",
      "WARNING:tensorflow:5 out of the last 5 calls to <function Model.make_predict_function.<locals>.predict_function at 0x28a656ef0> triggered tf.function retracing. Tracing is expensive and the excessive number of tracings could be due to (1) creating @tf.function repeatedly in a loop, (2) passing tensors with different shapes, (3) passing Python objects instead of tensors. For (1), please define your @tf.function outside of the loop. For (2), @tf.function has reduce_retracing=True option that can avoid unnecessary retracing. For (3), please refer to https://www.tensorflow.org/guide/function#controlling_retracing and https://www.tensorflow.org/api_docs/python/tf/function for  more details.\n",
      "   percent name            ts_code\n",
      "0        0   AA  Alcoa Corporation\n"
     ]
    },
    {
     "name": "stderr",
     "output_type": "stream",
     "text": [
      "/Users/zhangwenbo/miniforge3/lib/python3.10/site-packages/cashare/minute_data.py:96: FutureWarning: The frame.append method is deprecated and will be removed from pandas in a future version. Use pandas.concat instead.\n",
      "  df = df.append(lsss, ignore_index=True)\n",
      "/Users/zhangwenbo/miniforge3/lib/python3.10/site-packages/cashare/minute_data.py:96: FutureWarning: The frame.append method is deprecated and will be removed from pandas in a future version. Use pandas.concat instead.\n",
      "  df = df.append(lsss, ignore_index=True)\n"
     ]
    },
    {
     "name": "stdout",
     "output_type": "stream",
     "text": [
      "    stock_id                 date    open    low   high  close  volume\n",
      "0        AAC  2023-06-29 09:30:00  10.540  10.54  10.54  10.54    5703\n",
      "1        AAC  2023-06-29 09:32:00  10.540  10.54  10.54  10.54  400000\n",
      "2        AAC  2023-06-29 09:49:00  10.540  10.54  10.54  10.54     100\n",
      "3        AAC  2023-06-29 10:01:00  10.540  10.54  10.54  10.54     100\n",
      "4        AAC  2023-06-29 10:04:00  10.540  10.54  10.54  10.54     100\n",
      "..       ...                  ...     ...    ...    ...    ...     ...\n",
      "205      AAC  2023-07-03 12:56:00  10.570  10.57  10.57  10.57    2287\n",
      "206      AAC  2023-07-03 12:59:00  10.565  10.56  10.57  10.56    2066\n",
      "207      AAC  2023-07-03 13:00:00  10.560  10.56  10.56  10.56     392\n",
      "208      AAC  2023-07-03 13:10:00  10.560  10.56  10.56  10.56       0\n",
      "209      AAC  2023-07-03 15:30:00  10.560  10.56  10.56  10.56       0\n",
      "\n",
      "[210 rows x 7 columns]\n",
      "(210, 7)\n",
      "WARNING:tensorflow:6 out of the last 6 calls to <function Model.make_predict_function.<locals>.predict_function at 0x29990d630> triggered tf.function retracing. Tracing is expensive and the excessive number of tracings could be due to (1) creating @tf.function repeatedly in a loop, (2) passing tensors with different shapes, (3) passing Python objects instead of tensors. For (1), please define your @tf.function outside of the loop. For (2), @tf.function has reduce_retracing=True option that can avoid unnecessary retracing. For (3), please refer to https://www.tensorflow.org/guide/function#controlling_retracing and https://www.tensorflow.org/api_docs/python/tf/function for  more details.\n",
      "   percent name                       ts_code\n",
      "0        1  AAC  Ares Acquisition Corporation\n"
     ]
    },
    {
     "name": "stderr",
     "output_type": "stream",
     "text": [
      "/Users/zhangwenbo/miniforge3/lib/python3.10/site-packages/cashare/minute_data.py:96: FutureWarning: The frame.append method is deprecated and will be removed from pandas in a future version. Use pandas.concat instead.\n",
      "  df = df.append(lsss, ignore_index=True)\n",
      "/Users/zhangwenbo/miniforge3/lib/python3.10/site-packages/cashare/minute_data.py:96: FutureWarning: The frame.append method is deprecated and will be removed from pandas in a future version. Use pandas.concat instead.\n",
      "  df = df.append(lsss, ignore_index=True)\n"
     ]
    },
    {
     "name": "stdout",
     "output_type": "stream",
     "text": [
      "  stock_id                 date   open    low   high  close volume\n",
      "0   AAC-UN  2023-06-29 13:51:00  10.66  10.66  10.66  10.66    203\n",
      "1   AAC-UN  2023-06-30 10:24:00  10.68  10.68  10.68  10.68    700\n",
      "2   AAC-UN  2023-06-30 12:00:00  10.70  10.70  10.70  10.70    803\n",
      "3   AAC-UN  2023-06-30 12:24:00  10.68  10.68  10.68  10.68   1203\n",
      "4   AAC-UN  2023-06-30 12:30:00  10.70  10.70  10.70  10.70   1764\n",
      "5   AAC-UN  2023-07-03 11:56:00  10.71  10.71  10.71  10.71   5080\n",
      "(6, 7)\n"
     ]
    },
    {
     "name": "stderr",
     "output_type": "stream",
     "text": [
      "/Users/zhangwenbo/miniforge3/lib/python3.10/site-packages/cashare/minute_data.py:96: FutureWarning: The frame.append method is deprecated and will be removed from pandas in a future version. Use pandas.concat instead.\n",
      "  df = df.append(lsss, ignore_index=True)\n",
      "/Users/zhangwenbo/miniforge3/lib/python3.10/site-packages/cashare/minute_data.py:96: FutureWarning: The frame.append method is deprecated and will be removed from pandas in a future version. Use pandas.concat instead.\n",
      "  df = df.append(lsss, ignore_index=True)\n"
     ]
    },
    {
     "name": "stdout",
     "output_type": "stream",
     "text": [
      "   stock_id                 date    open     low    high   close volume\n",
      "0    AAC-WT  2023-06-29 09:56:00  0.7320  0.7320  0.7400  0.7400   1700\n",
      "1    AAC-WT  2023-06-29 09:57:00  0.7400  0.7400  0.7400  0.7400   3700\n",
      "2    AAC-WT  2023-06-29 10:47:00  0.7250  0.7250  0.7250  0.7250   6200\n",
      "3    AAC-WT  2023-06-29 12:46:00  0.7801  0.7801  0.7801  0.7801  15995\n",
      "4    AAC-WT  2023-06-29 14:11:00  0.7800  0.7800  0.7800  0.7800  17596\n",
      "5    AAC-WT  2023-06-29 14:13:00  0.7610  0.7610  0.7610  0.7610  18311\n",
      "6    AAC-WT  2023-06-29 15:24:00  0.7988  0.7988  0.7988  0.7988  25532\n",
      "7    AAC-WT  2023-07-03 10:00:00  0.8121  0.8121  0.8121  0.8121    246\n",
      "8    AAC-WT  2023-07-03 10:33:00  0.8084  0.8084  0.8084  0.8084   4140\n",
      "9    AAC-WT  2023-07-03 11:27:00  0.8250  0.8250  0.8250  0.8250   7140\n",
      "10   AAC-WT  2023-07-03 12:26:00  0.8375  0.8375  0.8375  0.8375   7840\n",
      "(11, 7)\n"
     ]
    },
    {
     "name": "stderr",
     "output_type": "stream",
     "text": [
      "/Users/zhangwenbo/miniforge3/lib/python3.10/site-packages/cashare/minute_data.py:96: FutureWarning: The frame.append method is deprecated and will be removed from pandas in a future version. Use pandas.concat instead.\n",
      "  df = df.append(lsss, ignore_index=True)\n",
      "/Users/zhangwenbo/miniforge3/lib/python3.10/site-packages/cashare/minute_data.py:96: FutureWarning: The frame.append method is deprecated and will be removed from pandas in a future version. Use pandas.concat instead.\n",
      "  df = df.append(lsss, ignore_index=True)\n"
     ]
    },
    {
     "name": "stdout",
     "output_type": "stream",
     "text": [
      "   stock_id                 date    open     low    high   close volume\n",
      "0      AACG  2023-06-29 09:30:00  1.4600  1.4600  1.4600  1.4600    393\n",
      "1      AACG  2023-06-29 09:52:00  1.4300  1.4300  1.4300  1.4300    230\n",
      "2      AACG  2023-06-29 15:21:00  1.4399  1.4399  1.4399  1.4399    200\n",
      "3      AACG  2023-06-29 15:27:00  1.4300  1.4300  1.4396  1.4396    400\n",
      "4      AACG  2023-06-29 15:53:00  1.4300  1.4300  1.4300  1.4300    384\n",
      "5      AACG  2023-06-29 15:58:00  1.4400  1.4400  1.4400  1.4400    153\n",
      "6      AACG  2023-06-30 09:35:00  1.4600  1.4600  1.4700  1.4700   1000\n",
      "7      AACG  2023-06-30 09:39:00  1.4701  1.4700  1.4701  1.4701   2400\n",
      "8      AACG  2023-06-30 10:11:00  1.4600  1.4599  1.4800  1.4800    425\n",
      "9      AACG  2023-06-30 10:12:00  1.4900  1.4900  1.4900  1.4900    100\n",
      "10     AACG  2023-06-30 10:14:00  1.4580  1.4580  1.4580  1.4580    200\n",
      "11     AACG  2023-06-30 10:36:00  1.4500  1.4500  1.4500  1.4500   2000\n",
      "12     AACG  2023-06-30 10:43:00  1.4400  1.4301  1.4400  1.4303   5000\n",
      "13     AACG  2023-06-30 11:49:00  1.4799  1.4797  1.4800  1.4800   1227\n",
      "14     AACG  2023-06-30 11:51:00  1.4723  1.4723  1.4723  1.4723    343\n",
      "15     AACG  2023-06-30 12:29:00  1.4840  1.4840  1.4840  1.4840   1096\n",
      "16     AACG  2023-06-30 12:40:00  1.4756  1.4756  1.4756  1.4756    300\n",
      "17     AACG  2023-06-30 15:23:00  1.4401  1.4400  1.4401  1.4400    790\n",
      "18     AACG  2023-06-30 15:58:00  1.4300  1.4300  1.4400  1.4400    600\n",
      "19     AACG  2023-06-30 15:59:00  1.4300  1.4300  1.4300  1.4300    459\n",
      "20     AACG  2023-07-03 09:30:00  1.4100  1.4100  1.4300  1.4300    640\n",
      "21     AACG  2023-07-03 10:22:00  1.4800  1.4800  1.4800  1.4800    400\n",
      "22     AACG  2023-07-03 12:32:00  1.4471  1.4471  1.4471  1.4471    360\n",
      "23     AACG  2023-07-03 12:58:00  1.4100  1.4100  1.4100  1.4100    400\n",
      "(24, 7)\n"
     ]
    },
    {
     "name": "stderr",
     "output_type": "stream",
     "text": [
      "/Users/zhangwenbo/miniforge3/lib/python3.10/site-packages/cashare/minute_data.py:96: FutureWarning: The frame.append method is deprecated and will be removed from pandas in a future version. Use pandas.concat instead.\n",
      "  df = df.append(lsss, ignore_index=True)\n"
     ]
    },
    {
     "name": "stdout",
     "output_type": "stream",
     "text": [
      "  stock_id                 date   open    low    high  close volume\n",
      "0     AACI  2023-06-29 15:53:00  10.45  10.44  10.475  10.44   5179\n",
      "1     AACI  2023-06-29 15:57:00  10.45  10.45  10.450  10.45    100\n",
      "2     AACI  2023-06-29 15:58:00  10.45  10.45  10.450  10.45    100\n",
      "(3, 7)\n",
      "Empty DataFrame\n",
      "Columns: []\n",
      "Index: []\n",
      "(0, 0)\n"
     ]
    },
    {
     "name": "stderr",
     "output_type": "stream",
     "text": [
      "/Users/zhangwenbo/miniforge3/lib/python3.10/site-packages/cashare/minute_data.py:96: FutureWarning: The frame.append method is deprecated and will be removed from pandas in a future version. Use pandas.concat instead.\n",
      "  df = df.append(lsss, ignore_index=True)\n",
      "/Users/zhangwenbo/miniforge3/lib/python3.10/site-packages/cashare/minute_data.py:96: FutureWarning: The frame.append method is deprecated and will be removed from pandas in a future version. Use pandas.concat instead.\n",
      "  df = df.append(lsss, ignore_index=True)\n"
     ]
    },
    {
     "name": "stdout",
     "output_type": "stream",
     "text": [
      "  stock_id                 date    open     low    high   close volume\n",
      "0    AACIW  2023-06-29 09:30:00  0.0972  0.0972  0.0972  0.0972    200\n",
      "1    AACIW  2023-06-29 10:22:00  0.1105  0.1105  0.1108  0.1108    415\n",
      "2    AACIW  2023-06-30 09:30:00  0.1021  0.1021  0.1021  0.1021    102\n",
      "3    AACIW  2023-06-30 11:43:00  0.0984  0.0983  0.1013  0.1002    800\n",
      "4    AACIW  2023-06-30 13:27:00  0.1108  0.1108  0.1108  0.1108    100\n",
      "(5, 7)\n",
      "Empty DataFrame\n",
      "Columns: []\n",
      "Index: []\n",
      "(0, 0)\n"
     ]
    },
    {
     "name": "stderr",
     "output_type": "stream",
     "text": [
      "/Users/zhangwenbo/miniforge3/lib/python3.10/site-packages/cashare/minute_data.py:96: FutureWarning: The frame.append method is deprecated and will be removed from pandas in a future version. Use pandas.concat instead.\n",
      "  df = df.append(lsss, ignore_index=True)\n",
      "/Users/zhangwenbo/miniforge3/lib/python3.10/site-packages/cashare/minute_data.py:96: FutureWarning: The frame.append method is deprecated and will be removed from pandas in a future version. Use pandas.concat instead.\n",
      "  df = df.append(lsss, ignore_index=True)\n"
     ]
    },
    {
     "name": "stdout",
     "output_type": "stream",
     "text": [
      "    stock_id                 date    open     low   high  close volume\n",
      "0       AADI  2023-06-29 09:30:00  7.3100  7.3100  7.310  7.310    433\n",
      "1       AADI  2023-06-29 09:31:00  7.2100  7.2100  7.210  7.210    111\n",
      "2       AADI  2023-06-29 09:34:00  7.1300  7.1300  7.130  7.130    100\n",
      "3       AADI  2023-06-29 09:36:00  7.3099  7.3099  7.345  7.345   2441\n",
      "4       AADI  2023-06-29 09:40:00  7.3700  7.3700  7.400  7.370   1279\n",
      "..       ...                  ...     ...     ...    ...    ...    ...\n",
      "388     AADI  2023-07-03 12:56:00  6.6500  6.6500  6.680  6.680    902\n",
      "389     AADI  2023-07-03 12:57:00  6.6600  6.6600  6.680  6.680    418\n",
      "390     AADI  2023-07-03 12:58:00  6.7000  6.6600  6.700  6.660    741\n",
      "391     AADI  2023-07-03 12:59:00  6.6800  6.6600  6.690  6.690   1365\n",
      "392     AADI  2023-07-03 13:00:00  6.6600  6.6600  6.660  6.660   2465\n",
      "\n",
      "[393 rows x 7 columns]\n",
      "(393, 7)\n",
      "   percent  name                ts_code\n",
      "0        1  AADI  Aadi Bioscience, Inc.\n"
     ]
    },
    {
     "name": "stderr",
     "output_type": "stream",
     "text": [
      "/Users/zhangwenbo/miniforge3/lib/python3.10/site-packages/cashare/minute_data.py:96: FutureWarning: The frame.append method is deprecated and will be removed from pandas in a future version. Use pandas.concat instead.\n",
      "  df = df.append(lsss, ignore_index=True)\n",
      "/Users/zhangwenbo/miniforge3/lib/python3.10/site-packages/cashare/minute_data.py:96: FutureWarning: The frame.append method is deprecated and will be removed from pandas in a future version. Use pandas.concat instead.\n",
      "  df = df.append(lsss, ignore_index=True)\n"
     ]
    },
    {
     "name": "stdout",
     "output_type": "stream",
     "text": [
      "    stock_id                 date    open     low    high   close volume\n",
      "0       AAIC  2023-06-29 09:30:00  4.5200  4.4300  4.5200  4.4300   1319\n",
      "1       AAIC  2023-06-29 09:31:00  4.4726  4.4726  4.4726  4.4726    112\n",
      "2       AAIC  2023-06-29 09:35:00  4.5200  4.5100  4.5200  4.5100   4439\n",
      "3       AAIC  2023-06-29 09:37:00  4.5000  4.5000  4.5000  4.5000    203\n",
      "4       AAIC  2023-06-29 09:39:00  4.5100  4.5100  4.5100  4.5100   2897\n",
      "..       ...                  ...     ...     ...     ...     ...    ...\n",
      "371     AAIC  2023-07-03 12:57:00  4.5550  4.5550  4.5550  4.5550    100\n",
      "372     AAIC  2023-07-03 12:59:00  4.5550  4.5400  4.5600  4.5450   7161\n",
      "373     AAIC  2023-07-03 13:00:00  4.5400  4.5400  4.5400  4.5400   1482\n",
      "374     AAIC  2023-07-03 13:10:00  4.5400  4.5400  4.5400  4.5400      0\n",
      "375     AAIC  2023-07-03 15:30:00  4.5400  4.5400  4.5400  4.5400      0\n",
      "\n",
      "[376 rows x 7 columns]\n",
      "(376, 7)\n",
      "   percent  name                           ts_code\n",
      "0        0  AAIC  Arlington Asset Investment Corp.\n"
     ]
    },
    {
     "name": "stderr",
     "output_type": "stream",
     "text": [
      "/Users/zhangwenbo/miniforge3/lib/python3.10/site-packages/cashare/minute_data.py:96: FutureWarning: The frame.append method is deprecated and will be removed from pandas in a future version. Use pandas.concat instead.\n",
      "  df = df.append(lsss, ignore_index=True)\n"
     ]
    },
    {
     "name": "stdout",
     "output_type": "stream",
     "text": [
      "  stock_id                 date  open   low  high  close volume\n",
      "0  AAIC-PB  2023-06-29 09:44:00  18.7  18.7  18.7   18.7    125\n",
      "(1, 7)\n"
     ]
    },
    {
     "name": "stderr",
     "output_type": "stream",
     "text": [
      "/Users/zhangwenbo/miniforge3/lib/python3.10/site-packages/cashare/minute_data.py:96: FutureWarning: The frame.append method is deprecated and will be removed from pandas in a future version. Use pandas.concat instead.\n",
      "  df = df.append(lsss, ignore_index=True)\n",
      "/Users/zhangwenbo/miniforge3/lib/python3.10/site-packages/cashare/minute_data.py:96: FutureWarning: The frame.append method is deprecated and will be removed from pandas in a future version. Use pandas.concat instead.\n",
      "  df = df.append(lsss, ignore_index=True)\n"
     ]
    },
    {
     "name": "stdout",
     "output_type": "stream",
     "text": [
      "   stock_id                 date     open      low     high    close volume\n",
      "0   AAIC-PC  2023-06-29 09:44:00  22.7000  22.7000  22.7000  22.7000    100\n",
      "1   AAIC-PC  2023-06-29 10:23:00  22.7700  22.7700  22.7700  22.7700    309\n",
      "2   AAIC-PC  2023-06-29 11:52:00  22.6601  22.6601  22.6601  22.6601    125\n",
      "3   AAIC-PC  2023-06-29 13:27:00  22.7345  22.7345  22.7350  22.7350    200\n",
      "4   AAIC-PC  2023-06-29 15:23:00  22.7200  22.7200  22.7200  22.7200    200\n",
      "5   AAIC-PC  2023-06-29 15:25:00  22.7500  22.7500  22.7500  22.7500    200\n",
      "6   AAIC-PC  2023-06-29 15:37:00  22.7200  22.7200  22.7799  22.7799    400\n",
      "7   AAIC-PC  2023-06-29 15:58:00  22.7200  22.7200  22.7200  22.7200    100\n",
      "8   AAIC-PC  2023-06-30 11:46:00  22.7200  22.7105  22.7200  22.7105   1000\n",
      "9   AAIC-PC  2023-06-30 12:51:00  22.7200  22.7105  22.7200  22.7105    308\n",
      "10  AAIC-PC  2023-06-30 12:56:00  22.7800  22.7800  22.7800  22.7800    529\n",
      "11  AAIC-PC  2023-06-30 15:46:00  22.7000  22.7000  22.7000  22.7000    117\n",
      "12  AAIC-PC  2023-07-03 10:38:00  22.8400  22.8400  22.9000  22.9000   1234\n",
      "13  AAIC-PC  2023-07-03 10:39:00  22.9500  22.9499  22.9500  22.9500   2983\n",
      "14  AAIC-PC  2023-07-03 12:49:00  23.0000  23.0000  23.0000  23.0000    100\n",
      "15  AAIC-PC  2023-07-03 12:55:00  23.0000  23.0000  23.0000  23.0000    200\n",
      "16  AAIC-PC  2023-07-03 13:10:00  23.0000  23.0000  23.0000  23.0000      0\n",
      "17  AAIC-PC  2023-07-03 15:30:00  23.0000  23.0000  23.0000  23.0000      0\n",
      "(18, 7)\n"
     ]
    },
    {
     "name": "stderr",
     "output_type": "stream",
     "text": [
      "/Users/zhangwenbo/miniforge3/lib/python3.10/site-packages/cashare/minute_data.py:96: FutureWarning: The frame.append method is deprecated and will be removed from pandas in a future version. Use pandas.concat instead.\n",
      "  df = df.append(lsss, ignore_index=True)\n",
      "/Users/zhangwenbo/miniforge3/lib/python3.10/site-packages/cashare/minute_data.py:96: FutureWarning: The frame.append method is deprecated and will be removed from pandas in a future version. Use pandas.concat instead.\n",
      "  df = df.append(lsss, ignore_index=True)\n"
     ]
    },
    {
     "name": "stdout",
     "output_type": "stream",
     "text": [
      "   stock_id                 date     open      low     high    close volume\n",
      "0      AAIN  2023-06-29 10:24:00  23.8300  23.8200  23.8400  23.8400    425\n",
      "1      AAIN  2023-06-29 11:18:00  23.5700  23.5700  23.5700  23.5700    140\n",
      "2      AAIN  2023-06-29 14:01:00  23.7002  23.7002  23.7002  23.7002    100\n",
      "3      AAIN  2023-06-29 15:06:00  23.7203  23.7203  23.7203  23.7203    200\n",
      "4      AAIN  2023-06-29 15:07:00  23.7300  23.7300  23.7300  23.7300    189\n",
      "5      AAIN  2023-06-29 15:09:00  23.7300  23.7300  23.7300  23.7300    100\n",
      "6      AAIN  2023-06-29 15:11:00  23.7200  23.7200  23.7200  23.7200    200\n",
      "7      AAIN  2023-06-30 10:56:00  23.7040  23.7040  23.7040  23.7040    400\n",
      "8      AAIN  2023-06-30 11:10:00  23.7400  23.7400  23.7400  23.7400    131\n",
      "9      AAIN  2023-06-30 13:14:00  23.7500  23.7500  23.7880  23.7880    200\n",
      "10     AAIN  2023-06-30 14:46:00  23.8300  23.8299  23.8300  23.8299   1000\n",
      "11     AAIN  2023-07-03 09:30:00  23.8500  23.8500  23.8500  23.8500    214\n",
      "12     AAIN  2023-07-03 12:43:00  23.8400  23.8400  23.8400  23.8400    100\n",
      "13     AAIN  2023-07-03 13:10:00  23.8400  23.8400  23.8400  23.8400      0\n",
      "14     AAIN  2023-07-03 15:30:00  23.8400  23.8400  23.8400  23.8400      0\n",
      "(15, 7)\n"
     ]
    },
    {
     "name": "stderr",
     "output_type": "stream",
     "text": [
      "/Users/zhangwenbo/miniforge3/lib/python3.10/site-packages/cashare/minute_data.py:96: FutureWarning: The frame.append method is deprecated and will be removed from pandas in a future version. Use pandas.concat instead.\n",
      "  df = df.append(lsss, ignore_index=True)\n",
      "/Users/zhangwenbo/miniforge3/lib/python3.10/site-packages/cashare/minute_data.py:96: FutureWarning: The frame.append method is deprecated and will be removed from pandas in a future version. Use pandas.concat instead.\n",
      "  df = df.append(lsss, ignore_index=True)\n"
     ]
    },
    {
     "name": "stdout",
     "output_type": "stream",
     "text": [
      "    stock_id                 date    open    low     high    close  volume\n",
      "0        AAL  2023-06-29 09:30:00  17.640  17.64  17.6900  17.6600  282228\n",
      "1        AAL  2023-06-29 09:31:00  17.660  17.65  17.7300  17.7150  154376\n",
      "2        AAL  2023-06-29 09:32:00  17.715  17.69  17.7479  17.7479  160724\n",
      "3        AAL  2023-06-29 09:33:00  17.745  17.74  17.7701  17.7701  166323\n",
      "4        AAL  2023-06-29 09:34:00  17.770  17.77  17.8400  17.8302  228317\n",
      "..       ...                  ...     ...    ...      ...      ...     ...\n",
      "988      AAL  2023-07-03 12:56:00  18.110  18.10  18.1100  18.1050   19421\n",
      "989      AAL  2023-07-03 12:57:00  18.110  18.09  18.1100  18.0900  108614\n",
      "990      AAL  2023-07-03 12:58:00  18.095  18.09  18.1000  18.1000   58865\n",
      "991      AAL  2023-07-03 12:59:00  18.100  18.09  18.1000  18.0900  223728\n",
      "992      AAL  2023-07-03 13:00:00  18.100  18.10  18.1000  18.1000  648998\n",
      "\n",
      "[993 rows x 7 columns]\n",
      "(993, 7)\n",
      "   percent name                       ts_code\n",
      "0        0  AAL  American Airlines Group Inc.\n"
     ]
    },
    {
     "name": "stderr",
     "output_type": "stream",
     "text": [
      "/Users/zhangwenbo/miniforge3/lib/python3.10/site-packages/cashare/minute_data.py:96: FutureWarning: The frame.append method is deprecated and will be removed from pandas in a future version. Use pandas.concat instead.\n",
      "  df = df.append(lsss, ignore_index=True)\n",
      "/Users/zhangwenbo/miniforge3/lib/python3.10/site-packages/cashare/minute_data.py:96: FutureWarning: The frame.append method is deprecated and will be removed from pandas in a future version. Use pandas.concat instead.\n",
      "  df = df.append(lsss, ignore_index=True)\n"
     ]
    },
    {
     "name": "stdout",
     "output_type": "stream",
     "text": [
      "    stock_id                 date   open    low   high  close volume\n",
      "0     AAM-PA  2023-06-29 09:30:00  23.23  23.23  23.23  23.23    103\n",
      "1     AAM-PA  2023-06-29 10:02:00  23.25  23.21  23.66  23.66   5649\n",
      "2     AAM-PA  2023-06-29 10:06:00  23.59  23.58  23.63  23.63    816\n",
      "3     AAM-PA  2023-06-29 10:11:00  23.60  23.60  23.64  23.61    768\n",
      "4     AAM-PA  2023-06-29 10:15:00  23.60  23.60  23.64  23.63    792\n",
      "..       ...                  ...    ...    ...    ...    ...    ...\n",
      "247   AAM-PA  2023-07-03 11:48:00  23.42  23.42  23.42  23.42    150\n",
      "248   AAM-PA  2023-07-03 12:00:00  23.42  23.35  23.42  23.35   1732\n",
      "249   AAM-PA  2023-07-03 12:33:00  23.33  23.33  23.45  23.45    406\n",
      "250   AAM-PA  2023-07-03 13:10:00  23.45  23.45  23.45  23.45      0\n",
      "251   AAM-PA  2023-07-03 15:30:00  23.45  23.45  23.45  23.45      0\n",
      "\n",
      "[252 rows x 7 columns]\n",
      "(252, 7)\n",
      "   percent    name                         ts_code\n",
      "0        1  AAM-PA  Apollo Global Management, Inc.\n"
     ]
    },
    {
     "name": "stderr",
     "output_type": "stream",
     "text": [
      "/Users/zhangwenbo/miniforge3/lib/python3.10/site-packages/cashare/minute_data.py:96: FutureWarning: The frame.append method is deprecated and will be removed from pandas in a future version. Use pandas.concat instead.\n",
      "  df = df.append(lsss, ignore_index=True)\n",
      "/Users/zhangwenbo/miniforge3/lib/python3.10/site-packages/cashare/minute_data.py:96: FutureWarning: The frame.append method is deprecated and will be removed from pandas in a future version. Use pandas.concat instead.\n",
      "  df = df.append(lsss, ignore_index=True)\n"
     ]
    },
    {
     "name": "stdout",
     "output_type": "stream",
     "text": [
      "    stock_id                 date     open      low     high    close volume\n",
      "0     AAM-PB  2023-06-29 09:30:00  22.4500  22.4500  22.4500  22.4500    403\n",
      "1     AAM-PB  2023-06-29 09:59:00  22.5200  22.5000  22.5200  22.5000    313\n",
      "2     AAM-PB  2023-06-29 10:01:00  22.5200  22.5000  22.5400  22.5400    525\n",
      "3     AAM-PB  2023-06-29 10:02:00  22.5000  22.5000  22.7499  22.6881   1359\n",
      "4     AAM-PB  2023-06-29 10:15:00  22.6799  22.6799  22.6799  22.6799    200\n",
      "..       ...                  ...      ...      ...      ...      ...    ...\n",
      "211   AAM-PB  2023-07-03 11:16:00  23.0000  23.0000  23.0000  23.0000    416\n",
      "212   AAM-PB  2023-07-03 11:17:00  23.0000  23.0000  23.0000  23.0000    300\n",
      "213   AAM-PB  2023-07-03 11:19:00  23.0000  23.0000  23.0000  23.0000    280\n",
      "214   AAM-PB  2023-07-03 13:10:00  23.0000  23.0000  23.0000  23.0000      0\n",
      "215   AAM-PB  2023-07-03 15:30:00  23.0000  23.0000  23.0000  23.0000      0\n",
      "\n",
      "[216 rows x 7 columns]\n",
      "(216, 7)\n",
      "   percent    name                         ts_code\n",
      "0        1  AAM-PB  Apollo Global Management, Inc.\n"
     ]
    },
    {
     "name": "stderr",
     "output_type": "stream",
     "text": [
      "/Users/zhangwenbo/miniforge3/lib/python3.10/site-packages/cashare/minute_data.py:96: FutureWarning: The frame.append method is deprecated and will be removed from pandas in a future version. Use pandas.concat instead.\n",
      "  df = df.append(lsss, ignore_index=True)\n",
      "/Users/zhangwenbo/miniforge3/lib/python3.10/site-packages/cashare/minute_data.py:96: FutureWarning: The frame.append method is deprecated and will be removed from pandas in a future version. Use pandas.concat instead.\n",
      "  df = df.append(lsss, ignore_index=True)\n"
     ]
    },
    {
     "name": "stdout",
     "output_type": "stream",
     "text": [
      "   stock_id                 date     open      low     high    close volume\n",
      "0      AAMC  2023-06-29 09:33:00  50.0000  50.0000  50.0000  50.0000    170\n",
      "1      AAMC  2023-06-29 09:36:00  50.5000  50.5000  50.5000  50.5000    100\n",
      "2      AAMC  2023-06-29 09:37:00  50.8600  50.8600  50.8600  50.8600    249\n",
      "3      AAMC  2023-06-29 09:48:00  50.7336  50.7336  50.7336  50.7336    207\n",
      "4      AAMC  2023-06-29 09:59:00  51.0900  51.0900  51.6000  51.6000    626\n",
      "..      ...                  ...      ...      ...      ...      ...    ...\n",
      "72     AAMC  2023-07-03 12:58:00  52.0000  52.0000  52.0000  52.0000    254\n",
      "73     AAMC  2023-07-03 12:59:00  52.0500  52.0500  52.0500  52.0500   4018\n",
      "74     AAMC  2023-07-03 13:00:00  51.3700  51.3700  51.3700  51.3700    222\n",
      "75     AAMC  2023-07-03 13:10:00  51.3700  51.3700  51.3700  51.3700      0\n",
      "76     AAMC  2023-07-03 15:30:00  51.3700  51.3700  51.3700  51.3700      0\n",
      "\n",
      "[77 rows x 7 columns]\n",
      "(77, 7)\n"
     ]
    },
    {
     "name": "stderr",
     "output_type": "stream",
     "text": [
      "/Users/zhangwenbo/miniforge3/lib/python3.10/site-packages/cashare/minute_data.py:96: FutureWarning: The frame.append method is deprecated and will be removed from pandas in a future version. Use pandas.concat instead.\n",
      "  df = df.append(lsss, ignore_index=True)\n",
      "/Users/zhangwenbo/miniforge3/lib/python3.10/site-packages/cashare/minute_data.py:96: FutureWarning: The frame.append method is deprecated and will be removed from pandas in a future version. Use pandas.concat instead.\n",
      "  df = df.append(lsss, ignore_index=True)\n"
     ]
    },
    {
     "name": "stdout",
     "output_type": "stream",
     "text": [
      "   stock_id                 date    open     low    high   close volume\n",
      "0      AAME  2023-06-29 13:35:00  1.9450  1.9400  1.9450  1.9400    686\n",
      "1      AAME  2023-06-29 13:50:00  2.0000  2.0000  2.0000  2.0000    490\n",
      "2      AAME  2023-06-29 13:51:00  1.9950  1.9950  1.9950  1.9950    190\n",
      "3      AAME  2023-06-29 13:52:00  1.9950  1.9950  1.9950  1.9950    235\n",
      "4      AAME  2023-06-29 13:53:00  2.0000  2.0000  2.0000  2.0000    100\n",
      "5      AAME  2023-06-29 13:54:00  1.9900  1.9800  1.9900  1.9800    200\n",
      "6      AAME  2023-06-29 13:55:00  1.9700  1.9700  1.9700  1.9700    100\n",
      "7      AAME  2023-06-29 13:56:00  1.9600  1.9500  1.9600  1.9500    200\n",
      "8      AAME  2023-06-29 13:57:00  1.9400  1.8500  1.9400  1.8500   2313\n",
      "9      AAME  2023-06-29 14:06:00  1.9000  1.9000  1.9000  1.9000    500\n",
      "10     AAME  2023-06-29 14:07:00  1.9300  1.9300  1.9399  1.9399    500\n",
      "11     AAME  2023-06-29 14:09:00  1.9299  1.9299  1.9299  1.9299    500\n",
      "12     AAME  2023-06-29 14:14:00  1.9000  1.9000  1.9000  1.9000   1400\n",
      "13     AAME  2023-06-29 14:15:00  1.9400  1.9250  1.9400  1.9250   2508\n",
      "14     AAME  2023-06-29 14:27:00  1.9187  1.9187  1.9187  1.9187    144\n",
      "15     AAME  2023-06-29 15:32:00  1.9100  1.9100  1.9100  1.9100    100\n",
      "16     AAME  2023-06-29 15:47:00  1.8900  1.8900  1.8900  1.8900    100\n",
      "17     AAME  2023-06-30 10:28:00  1.9100  1.9100  1.9100  1.9100    100\n",
      "18     AAME  2023-06-30 10:29:00  1.9200  1.9100  1.9800  1.9100    900\n",
      "19     AAME  2023-06-30 10:47:00  1.9300  1.9300  1.9300  1.9300    100\n",
      "20     AAME  2023-06-30 11:10:00  1.9500  1.9500  1.9500  1.9500    100\n",
      "21     AAME  2023-06-30 11:14:00  1.9500  1.9500  1.9500  1.9500    100\n",
      "22     AAME  2023-06-30 15:59:00  1.9300  1.9300  1.9650  1.9300   1309\n",
      "23     AAME  2023-07-03 09:51:00  2.0200  2.0100  2.0200  2.0100    300\n",
      "24     AAME  2023-07-03 10:09:00  2.0099  2.0099  2.0099  2.0099    101\n",
      "25     AAME  2023-07-03 12:06:00  1.9300  1.9300  1.9300  1.9300    485\n",
      "(26, 7)\n"
     ]
    },
    {
     "name": "stderr",
     "output_type": "stream",
     "text": [
      "/Users/zhangwenbo/miniforge3/lib/python3.10/site-packages/cashare/minute_data.py:96: FutureWarning: The frame.append method is deprecated and will be removed from pandas in a future version. Use pandas.concat instead.\n",
      "  df = df.append(lsss, ignore_index=True)\n",
      "/Users/zhangwenbo/miniforge3/lib/python3.10/site-packages/cashare/minute_data.py:96: FutureWarning: The frame.append method is deprecated and will be removed from pandas in a future version. Use pandas.concat instead.\n",
      "  df = df.append(lsss, ignore_index=True)\n"
     ]
    },
    {
     "name": "stdout",
     "output_type": "stream",
     "text": [
      "    stock_id                 date   open    low    high   close volume\n",
      "0        AAN  2023-06-29 09:30:00  14.12  14.12  14.120  14.120   1250\n",
      "1        AAN  2023-06-29 09:34:00  14.10  14.10  14.100  14.100   1171\n",
      "2        AAN  2023-06-29 09:38:00  14.21  14.21  14.230  14.230    425\n",
      "3        AAN  2023-06-29 09:50:00  14.23  14.23  14.280  14.280    610\n",
      "4        AAN  2023-06-29 09:52:00  14.30  14.30  14.305  14.305    826\n",
      "..       ...                  ...    ...    ...     ...     ...    ...\n",
      "422      AAN  2023-07-03 12:58:00  14.53  14.53  14.540  14.540    573\n",
      "423      AAN  2023-07-03 12:59:00  14.53  14.52  14.570  14.570   3453\n",
      "424      AAN  2023-07-03 13:00:00  14.56  14.56  14.560  14.560  26819\n",
      "425      AAN  2023-07-03 13:10:00  14.56  14.56  14.560  14.560      0\n",
      "426      AAN  2023-07-03 15:30:00  14.56  14.56  14.560  14.560      0\n",
      "\n",
      "[427 rows x 7 columns]\n",
      "(427, 7)\n",
      "   percent name                    ts_code\n",
      "0        1  AAN  The Aaron's Company, Inc.\n"
     ]
    },
    {
     "name": "stderr",
     "output_type": "stream",
     "text": [
      "/Users/zhangwenbo/miniforge3/lib/python3.10/site-packages/cashare/minute_data.py:96: FutureWarning: The frame.append method is deprecated and will be removed from pandas in a future version. Use pandas.concat instead.\n",
      "  df = df.append(lsss, ignore_index=True)\n",
      "/Users/zhangwenbo/miniforge3/lib/python3.10/site-packages/cashare/minute_data.py:96: FutureWarning: The frame.append method is deprecated and will be removed from pandas in a future version. Use pandas.concat instead.\n",
      "  df = df.append(lsss, ignore_index=True)\n"
     ]
    },
    {
     "name": "stdout",
     "output_type": "stream",
     "text": [
      "    stock_id                 date    open    low    high   close volume\n",
      "0       AAOI  2023-06-29 09:30:00  5.1300  5.100  5.1300  5.1180  13610\n",
      "1       AAOI  2023-06-29 09:31:00  5.0922  5.080  5.1600  5.1600  12274\n",
      "2       AAOI  2023-06-29 09:32:00  5.1699  5.166  5.1899  5.1899  13486\n",
      "3       AAOI  2023-06-29 09:33:00  5.1859  5.180  5.2685  5.2300   9891\n",
      "4       AAOI  2023-06-29 09:34:00  5.2350  5.235  5.2790  5.2600   3742\n",
      "..       ...                  ...     ...    ...     ...     ...    ...\n",
      "960     AAOI  2023-07-03 12:56:00  6.0000  5.990  6.0200  6.0100   8961\n",
      "961     AAOI  2023-07-03 12:57:00  6.0100  6.010  6.0150  6.0104   6129\n",
      "962     AAOI  2023-07-03 12:58:00  6.0200  6.020  6.0700  6.0686  17592\n",
      "963     AAOI  2023-07-03 12:59:00  6.0600  6.050  6.0700  6.0700  23056\n",
      "964     AAOI  2023-07-03 13:00:00  6.0700  6.070  6.0700  6.0700  25083\n",
      "\n",
      "[965 rows x 7 columns]\n",
      "(965, 7)\n",
      "   percent  name                        ts_code\n",
      "0        1  AAOI  Applied Optoelectronics, Inc.\n"
     ]
    },
    {
     "name": "stderr",
     "output_type": "stream",
     "text": [
      "/Users/zhangwenbo/miniforge3/lib/python3.10/site-packages/cashare/minute_data.py:96: FutureWarning: The frame.append method is deprecated and will be removed from pandas in a future version. Use pandas.concat instead.\n",
      "  df = df.append(lsss, ignore_index=True)\n",
      "/Users/zhangwenbo/miniforge3/lib/python3.10/site-packages/cashare/minute_data.py:96: FutureWarning: The frame.append method is deprecated and will be removed from pandas in a future version. Use pandas.concat instead.\n",
      "  df = df.append(lsss, ignore_index=True)\n"
     ]
    },
    {
     "name": "stdout",
     "output_type": "stream",
     "text": [
      "    stock_id                 date     open      low     high    close volume\n",
      "0       AAON  2023-06-29 09:30:00  95.2900  95.2900  95.2900  95.2900    957\n",
      "1       AAON  2023-06-29 09:39:00  95.3900  95.3900  95.3900  95.3900    272\n",
      "2       AAON  2023-06-29 09:45:00  95.9750  95.5400  95.9750  95.5400    358\n",
      "3       AAON  2023-06-29 09:47:00  95.4650  95.4500  95.4650  95.4500    278\n",
      "4       AAON  2023-06-29 09:48:00  95.8199  95.8199  95.8199  95.8199    543\n",
      "..       ...                  ...      ...      ...      ...      ...    ...\n",
      "399     AAON  2023-07-03 12:56:00  95.8400  95.8400  95.8700  95.8700    727\n",
      "400     AAON  2023-07-03 12:57:00  95.7800  95.7300  95.7800  95.7800    578\n",
      "401     AAON  2023-07-03 12:58:00  95.7900  95.7900  95.8700  95.8200   1783\n",
      "402     AAON  2023-07-03 12:59:00  95.8500  95.6900  95.9050  95.6900   3474\n",
      "403     AAON  2023-07-03 13:00:00  95.8200  95.8200  95.8200  95.8200   9675\n",
      "\n",
      "[404 rows x 7 columns]\n",
      "(404, 7)\n",
      "   percent  name     ts_code\n",
      "0        0  AAON  AAON, Inc.\n"
     ]
    },
    {
     "name": "stderr",
     "output_type": "stream",
     "text": [
      "/Users/zhangwenbo/miniforge3/lib/python3.10/site-packages/cashare/minute_data.py:96: FutureWarning: The frame.append method is deprecated and will be removed from pandas in a future version. Use pandas.concat instead.\n",
      "  df = df.append(lsss, ignore_index=True)\n",
      "/Users/zhangwenbo/miniforge3/lib/python3.10/site-packages/cashare/minute_data.py:96: FutureWarning: The frame.append method is deprecated and will be removed from pandas in a future version. Use pandas.concat instead.\n",
      "  df = df.append(lsss, ignore_index=True)\n"
     ]
    },
    {
     "name": "stdout",
     "output_type": "stream",
     "text": [
      "    stock_id                 date    open     low    high   close  volume\n",
      "0        AAP  2023-06-29 09:30:00  68.420  68.305  68.420  68.320   10363\n",
      "1        AAP  2023-06-29 09:31:00  68.220  68.080  68.230  68.200    4828\n",
      "2        AAP  2023-06-29 09:32:00  68.130  68.070  68.160  68.080    1130\n",
      "3        AAP  2023-06-29 09:33:00  68.070  68.070  68.155  68.155    1561\n",
      "4        AAP  2023-06-29 09:34:00  68.135  68.020  68.200  68.020    2299\n",
      "..       ...                  ...     ...     ...     ...     ...     ...\n",
      "980      AAP  2023-07-03 12:58:00  70.870  70.860  70.920  70.910   16165\n",
      "981      AAP  2023-07-03 12:59:00  70.940  70.920  71.005  70.920   28055\n",
      "982      AAP  2023-07-03 13:00:00  70.950  70.950  70.950  70.950  145848\n",
      "983      AAP  2023-07-03 13:10:00  70.950  70.950  70.950  70.950       0\n",
      "984      AAP  2023-07-03 15:30:00  70.950  70.950  70.950  70.950       0\n",
      "\n",
      "[985 rows x 7 columns]\n",
      "(985, 7)\n",
      "   percent name                   ts_code\n",
      "0        0  AAP  Advance Auto Parts, Inc.\n"
     ]
    },
    {
     "name": "stderr",
     "output_type": "stream",
     "text": [
      "/Users/zhangwenbo/miniforge3/lib/python3.10/site-packages/cashare/minute_data.py:96: FutureWarning: The frame.append method is deprecated and will be removed from pandas in a future version. Use pandas.concat instead.\n",
      "  df = df.append(lsss, ignore_index=True)\n",
      "/Users/zhangwenbo/miniforge3/lib/python3.10/site-packages/cashare/minute_data.py:96: FutureWarning: The frame.append method is deprecated and will be removed from pandas in a future version. Use pandas.concat instead.\n",
      "  df = df.append(lsss, ignore_index=True)\n"
     ]
    },
    {
     "name": "stdout",
     "output_type": "stream",
     "text": [
      "    stock_id                 date      open     low      high     close  \\\n",
      "0       AAPL  2023-06-29 09:30:00  189.0800  189.05  189.6900  189.6550   \n",
      "1       AAPL  2023-06-29 09:31:00  189.6550  189.25  189.7299  189.3300   \n",
      "2       AAPL  2023-06-29 09:32:00  189.3350  189.17  189.7882  189.7800   \n",
      "3       AAPL  2023-06-29 09:33:00  189.7800  189.58  189.9112  189.8234   \n",
      "4       AAPL  2023-06-29 09:34:00  189.8200  189.70  189.9500  189.8100   \n",
      "..       ...                  ...       ...     ...       ...       ...   \n",
      "989     AAPL  2023-07-03 12:57:00  192.4401  192.43  192.5000  192.4545   \n",
      "990     AAPL  2023-07-03 12:58:00  192.4600  192.42  192.5450  192.5450   \n",
      "991     AAPL  2023-07-03 12:59:00  192.5400  192.43  192.5500  192.4700   \n",
      "992     AAPL  2023-07-03 13:00:00  192.4600  192.46  192.4600  192.4600   \n",
      "993     AAPL  2023-07-03 16:00:00  192.3900  192.39  192.3900  192.3900   \n",
      "\n",
      "      volume  \n",
      "0     877780  \n",
      "1     366276  \n",
      "2     307994  \n",
      "3     395280  \n",
      "4     291551  \n",
      "..       ...  \n",
      "989   151180  \n",
      "990   214741  \n",
      "991   456284  \n",
      "992  2378042  \n",
      "993      925  \n",
      "\n",
      "[994 rows x 7 columns]\n",
      "(994, 7)\n",
      "   percent  name     ts_code\n",
      "0        1  AAPL  Apple Inc.\n",
      "Empty DataFrame\n",
      "Columns: []\n",
      "Index: []\n",
      "(0, 0)\n",
      "Empty DataFrame\n",
      "Columns: []\n",
      "Index: []\n",
      "(0, 0)\n",
      "Empty DataFrame\n",
      "Columns: []\n",
      "Index: []\n",
      "(0, 0)\n"
     ]
    },
    {
     "name": "stderr",
     "output_type": "stream",
     "text": [
      "/Users/zhangwenbo/miniforge3/lib/python3.10/site-packages/cashare/minute_data.py:96: FutureWarning: The frame.append method is deprecated and will be removed from pandas in a future version. Use pandas.concat instead.\n",
      "  df = df.append(lsss, ignore_index=True)\n",
      "/Users/zhangwenbo/miniforge3/lib/python3.10/site-packages/cashare/minute_data.py:96: FutureWarning: The frame.append method is deprecated and will be removed from pandas in a future version. Use pandas.concat instead.\n",
      "  df = df.append(lsss, ignore_index=True)\n"
     ]
    },
    {
     "name": "stdout",
     "output_type": "stream",
     "text": [
      "    stock_id                 date   open    low   high    close volume\n",
      "0        AAT  2023-06-29 09:30:00  18.64  18.41  18.64  18.4101  10392\n",
      "1        AAT  2023-06-29 09:31:00  18.47  18.47  18.48  18.4800    208\n",
      "2        AAT  2023-06-29 09:33:00  18.48  18.48  18.61  18.5900   2046\n",
      "3        AAT  2023-06-29 09:35:00  18.59  18.59  18.59  18.5900    102\n",
      "4        AAT  2023-06-29 09:36:00  18.60  18.60  18.65  18.6500    514\n",
      "..       ...                  ...    ...    ...    ...      ...    ...\n",
      "743      AAT  2023-07-03 12:58:00  19.67  19.67  19.68  19.6800   2380\n",
      "744      AAT  2023-07-03 12:59:00  19.68  19.64  19.69  19.6500   9346\n",
      "745      AAT  2023-07-03 13:00:00  19.68  19.68  19.68  19.6800  24054\n",
      "746      AAT  2023-07-03 13:10:00  19.68  19.68  19.68  19.6800      0\n",
      "747      AAT  2023-07-03 15:30:00  19.68  19.68  19.68  19.6800      0\n",
      "\n",
      "[748 rows x 7 columns]\n",
      "(748, 7)\n",
      "   percent name                      ts_code\n",
      "0        0  AAT  American Assets Trust, Inc.\n"
     ]
    },
    {
     "name": "stderr",
     "output_type": "stream",
     "text": [
      "/Users/zhangwenbo/miniforge3/lib/python3.10/site-packages/cashare/minute_data.py:96: FutureWarning: The frame.append method is deprecated and will be removed from pandas in a future version. Use pandas.concat instead.\n",
      "  df = df.append(lsss, ignore_index=True)\n",
      "/Users/zhangwenbo/miniforge3/lib/python3.10/site-packages/cashare/minute_data.py:96: FutureWarning: The frame.append method is deprecated and will be removed from pandas in a future version. Use pandas.concat instead.\n",
      "  df = df.append(lsss, ignore_index=True)\n"
     ]
    },
    {
     "name": "stdout",
     "output_type": "stream",
     "text": [
      "   stock_id                 date    open     low    high   close volume\n",
      "0      AATC  2023-06-29 10:00:00  4.3900  4.3900  4.3900  4.3900    490\n",
      "1      AATC  2023-06-29 10:29:00  4.4150  4.4150  4.4150  4.4150    100\n",
      "2      AATC  2023-06-29 10:43:00  4.3900  4.3900  4.3900  4.3900    100\n",
      "3      AATC  2023-06-29 10:49:00  4.3900  4.3600  4.3900  4.3600   1700\n",
      "4      AATC  2023-06-29 10:50:00  4.3500  4.3200  4.3500  4.3200    928\n",
      "5      AATC  2023-06-29 10:51:00  4.3600  4.3600  4.3600  4.3600   3421\n",
      "6      AATC  2023-06-29 12:00:00  4.3650  4.3650  4.3650  4.3650    400\n",
      "7      AATC  2023-06-29 12:31:00  4.3776  4.3776  4.3776  4.3776    100\n",
      "8      AATC  2023-06-29 12:38:00  4.3300  4.3300  4.3300  4.3300   1900\n",
      "9      AATC  2023-06-29 12:43:00  4.3524  4.3524  4.3524  4.3524    100\n",
      "10     AATC  2023-06-29 12:45:00  4.3650  4.3650  4.3650  4.3650    100\n",
      "11     AATC  2023-06-29 12:49:00  4.4000  4.3650  4.4000  4.3650    200\n",
      "12     AATC  2023-06-29 13:30:00  4.4000  4.4000  4.4000  4.4000    100\n",
      "13     AATC  2023-06-29 13:31:00  4.4300  4.4300  4.4300  4.4300    110\n",
      "14     AATC  2023-06-29 15:32:00  4.4000  4.4000  4.4000  4.4000    200\n",
      "15     AATC  2023-06-29 15:33:00  4.4700  4.4700  4.4700  4.4700    251\n",
      "16     AATC  2023-06-29 15:40:00  4.4000  4.4000  4.4000  4.4000    100\n",
      "17     AATC  2023-06-29 15:41:00  4.4000  4.4000  4.4000  4.4000    900\n",
      "18     AATC  2023-06-29 15:45:00  4.4400  4.4000  4.4400  4.4400    500\n",
      "19     AATC  2023-06-29 15:48:00  4.4400  4.4400  4.4400  4.4400    100\n",
      "20     AATC  2023-06-30 11:26:00  4.4400  4.4400  4.4400  4.4400    150\n",
      "21     AATC  2023-06-30 11:49:00  4.4000  4.4000  4.4000  4.4000    100\n",
      "22     AATC  2023-06-30 12:33:00  4.4128  4.4100  4.4128  4.4100    343\n",
      "23     AATC  2023-06-30 12:43:00  4.4400  4.4400  4.4400  4.4400   1000\n",
      "24     AATC  2023-06-30 12:47:00  4.4400  4.4400  4.4400  4.4400   1000\n",
      "25     AATC  2023-06-30 13:02:00  4.4400  4.4400  4.4400  4.4400    500\n",
      "26     AATC  2023-07-03 09:30:00  4.4400  4.4400  4.4400  4.4400   6750\n",
      "27     AATC  2023-07-03 09:53:00  4.4400  4.4400  4.4400  4.4400    400\n",
      "28     AATC  2023-07-03 10:09:00  4.4300  4.4300  4.4300  4.4300    556\n",
      "29     AATC  2023-07-03 10:50:00  4.4368  4.4368  4.4400  4.4400    540\n",
      "30     AATC  2023-07-03 11:00:00  4.4300  4.4300  4.4300  4.4300    500\n",
      "31     AATC  2023-07-03 11:22:00  4.4300  4.4300  4.4300  4.4300    225\n",
      "32     AATC  2023-07-03 12:28:00  4.4300  4.4300  4.4300  4.4300    275\n",
      "(33, 7)\n"
     ]
    },
    {
     "name": "stderr",
     "output_type": "stream",
     "text": [
      "/Users/zhangwenbo/miniforge3/lib/python3.10/site-packages/cashare/minute_data.py:96: FutureWarning: The frame.append method is deprecated and will be removed from pandas in a future version. Use pandas.concat instead.\n",
      "  df = df.append(lsss, ignore_index=True)\n",
      "/Users/zhangwenbo/miniforge3/lib/python3.10/site-packages/cashare/minute_data.py:96: FutureWarning: The frame.append method is deprecated and will be removed from pandas in a future version. Use pandas.concat instead.\n",
      "  df = df.append(lsss, ignore_index=True)\n"
     ]
    },
    {
     "name": "stdout",
     "output_type": "stream",
     "text": [
      "    stock_id                 date     open      low     high    close volume\n",
      "0        AAU  2023-06-29 09:30:00  0.12870  0.12810  0.12870  0.12810    988\n",
      "1        AAU  2023-06-29 09:36:00  0.12895  0.12895  0.12895  0.12895    150\n",
      "2        AAU  2023-06-29 09:39:00  0.12990  0.12990  0.12990  0.12990    800\n",
      "3        AAU  2023-06-29 09:49:00  0.12940  0.12940  0.12940  0.12940    114\n",
      "4        AAU  2023-06-29 10:06:00  0.12990  0.12990  0.12990  0.12990    100\n",
      "..       ...                  ...      ...      ...      ...      ...    ...\n",
      "190      AAU  2023-07-03 12:55:00  0.13000  0.13000  0.13000  0.13000    100\n",
      "191      AAU  2023-07-03 12:57:00  0.12910  0.12910  0.12920  0.12920   2000\n",
      "192      AAU  2023-07-03 13:00:00  0.12810  0.12810  0.12810  0.12810    243\n",
      "193      AAU  2023-07-03 13:10:00  0.12810  0.12810  0.12810  0.12810      0\n",
      "194      AAU  2023-07-03 15:30:00  0.12810  0.12810  0.12810  0.12810      0\n",
      "\n",
      "[195 rows x 7 columns]\n",
      "(195, 7)\n",
      "   percent name                ts_code\n",
      "0        1  AAU  Almaden Minerals Ltd.\n",
      "Empty DataFrame\n",
      "Columns: []\n",
      "Index: []\n",
      "(0, 0)\n"
     ]
    },
    {
     "name": "stderr",
     "output_type": "stream",
     "text": [
      "/Users/zhangwenbo/miniforge3/lib/python3.10/site-packages/cashare/minute_data.py:96: FutureWarning: The frame.append method is deprecated and will be removed from pandas in a future version. Use pandas.concat instead.\n",
      "  df = df.append(lsss, ignore_index=True)\n",
      "/Users/zhangwenbo/miniforge3/lib/python3.10/site-packages/cashare/minute_data.py:96: FutureWarning: The frame.append method is deprecated and will be removed from pandas in a future version. Use pandas.concat instead.\n",
      "  df = df.append(lsss, ignore_index=True)\n"
     ]
    },
    {
     "name": "stdout",
     "output_type": "stream",
     "text": [
      "    stock_id                 date    open     low     high    close volume\n",
      "0         AB  2023-06-29 09:30:00  31.500  31.480  31.5000  31.4800   4436\n",
      "1         AB  2023-06-29 09:31:00  31.580  31.580  31.6000  31.6000   1210\n",
      "2         AB  2023-06-29 09:35:00  31.585  31.585  31.6012  31.6012   1501\n",
      "3         AB  2023-06-29 09:36:00  31.585  31.585  31.7300  31.6230   1936\n",
      "4         AB  2023-06-29 09:37:00  31.640  31.600  31.6400  31.6000  11739\n",
      "..       ...                  ...     ...     ...      ...      ...    ...\n",
      "639       AB  2023-07-03 12:58:00  32.625  32.620  32.6300  32.6300   3911\n",
      "640       AB  2023-07-03 12:59:00  32.630  32.630  32.7100  32.7100  11242\n",
      "641       AB  2023-07-03 13:00:00  32.640  32.640  32.6400  32.6400    942\n",
      "642       AB  2023-07-03 13:10:00  32.640  32.640  32.6400  32.6400      0\n",
      "643       AB  2023-07-03 15:30:00  32.640  32.640  32.6400  32.6400      0\n",
      "\n",
      "[644 rows x 7 columns]\n",
      "(644, 7)\n",
      "   percent name                         ts_code\n",
      "0        0   AB  AllianceBernstein Holding L.P.\n",
      "Empty DataFrame\n",
      "Columns: []\n",
      "Index: []\n",
      "(0, 0)\n"
     ]
    },
    {
     "name": "stderr",
     "output_type": "stream",
     "text": [
      "/Users/zhangwenbo/miniforge3/lib/python3.10/site-packages/cashare/minute_data.py:96: FutureWarning: The frame.append method is deprecated and will be removed from pandas in a future version. Use pandas.concat instead.\n",
      "  df = df.append(lsss, ignore_index=True)\n",
      "/Users/zhangwenbo/miniforge3/lib/python3.10/site-packages/cashare/minute_data.py:96: FutureWarning: The frame.append method is deprecated and will be removed from pandas in a future version. Use pandas.concat instead.\n",
      "  df = df.append(lsss, ignore_index=True)\n"
     ]
    },
    {
     "name": "stdout",
     "output_type": "stream",
     "text": [
      "    stock_id                 date     open      low      high    close  volume\n",
      "0       ABBV  2023-06-29 09:30:00  132.370  132.370  132.6800  132.610   78872\n",
      "1       ABBV  2023-06-29 09:31:00  132.510  132.140  132.5100  132.200   11490\n",
      "2       ABBV  2023-06-29 09:32:00  132.330  132.210  132.4700  132.210    8625\n",
      "3       ABBV  2023-06-29 09:33:00  132.190  132.130  132.4898  132.385    8797\n",
      "4       ABBV  2023-06-29 09:34:00  132.425  132.400  132.5590  132.400   13455\n",
      "..       ...                  ...      ...      ...       ...      ...     ...\n",
      "988     ABBV  2023-07-03 12:58:00  135.100  135.095  135.2000  135.185   29813\n",
      "989     ABBV  2023-07-03 12:59:00  135.185  134.990  135.1850  135.100   67245\n",
      "990     ABBV  2023-07-03 13:00:00  135.010  135.010  135.0100  135.010  395951\n",
      "991     ABBV  2023-07-03 13:10:00  135.010  135.010  135.0100  135.010       0\n",
      "992     ABBV  2023-07-03 15:30:00  135.010  135.010  135.0100  135.010       0\n",
      "\n",
      "[993 rows x 7 columns]\n",
      "(993, 7)\n",
      "   percent  name      ts_code\n",
      "0        0  ABBV  AbbVie Inc.\n"
     ]
    },
    {
     "name": "stderr",
     "output_type": "stream",
     "text": [
      "/Users/zhangwenbo/miniforge3/lib/python3.10/site-packages/cashare/minute_data.py:96: FutureWarning: The frame.append method is deprecated and will be removed from pandas in a future version. Use pandas.concat instead.\n",
      "  df = df.append(lsss, ignore_index=True)\n",
      "/Users/zhangwenbo/miniforge3/lib/python3.10/site-packages/cashare/minute_data.py:96: FutureWarning: The frame.append method is deprecated and will be removed from pandas in a future version. Use pandas.concat instead.\n",
      "  df = df.append(lsss, ignore_index=True)\n"
     ]
    },
    {
     "name": "stdout",
     "output_type": "stream",
     "text": [
      "    stock_id                 date      open       low    high    close  volume\n",
      "0        ABC  2023-06-29 09:30:00  189.4800  189.4800  189.66  189.625    8646\n",
      "1        ABC  2023-06-29 09:33:00  189.3900  189.3200  189.39  189.375     803\n",
      "2        ABC  2023-06-29 09:34:00  189.6600  189.6600  189.66  189.660     257\n",
      "3        ABC  2023-06-29 09:35:00  189.5129  189.5129  189.78  189.780     771\n",
      "4        ABC  2023-06-29 09:36:00  189.8000  189.7500  189.93  189.885    3693\n",
      "..       ...                  ...       ...       ...     ...      ...     ...\n",
      "927      ABC  2023-07-03 12:58:00  190.7000  190.6800  190.75  190.730    7525\n",
      "928      ABC  2023-07-03 12:59:00  190.7200  190.7200  190.89  190.850   25069\n",
      "929      ABC  2023-07-03 13:00:00  190.9200  190.9200  190.92  190.920  112191\n",
      "930      ABC  2023-07-03 13:10:00  190.9200  190.9200  190.92  190.920       0\n",
      "931      ABC  2023-07-03 15:30:00  190.9200  190.9200  190.92  190.920       0\n",
      "\n",
      "[932 rows x 7 columns]\n",
      "(932, 7)\n",
      "   percent name                        ts_code\n",
      "0        0  ABC  AmerisourceBergen Corporation\n"
     ]
    },
    {
     "name": "stderr",
     "output_type": "stream",
     "text": [
      "/Users/zhangwenbo/miniforge3/lib/python3.10/site-packages/cashare/minute_data.py:96: FutureWarning: The frame.append method is deprecated and will be removed from pandas in a future version. Use pandas.concat instead.\n",
      "  df = df.append(lsss, ignore_index=True)\n",
      "/Users/zhangwenbo/miniforge3/lib/python3.10/site-packages/cashare/minute_data.py:96: FutureWarning: The frame.append method is deprecated and will be removed from pandas in a future version. Use pandas.concat instead.\n",
      "  df = df.append(lsss, ignore_index=True)\n"
     ]
    },
    {
     "name": "stdout",
     "output_type": "stream",
     "text": [
      "    stock_id                 date    open     low    high   close volume\n",
      "0       ABCB  2023-06-29 09:30:00  34.150  34.150  34.150  34.150   2911\n",
      "1       ABCB  2023-06-29 09:36:00  34.450  34.450  34.450  34.450    470\n",
      "2       ABCB  2023-06-29 09:38:00  34.555  34.555  34.555  34.555    100\n",
      "3       ABCB  2023-06-29 09:39:00  34.560  34.560  34.560  34.560    339\n",
      "4       ABCB  2023-06-29 09:40:00  34.505  34.505  34.670  34.545    601\n",
      "..       ...                  ...     ...     ...     ...     ...    ...\n",
      "600     ABCB  2023-07-03 12:56:00  34.940  34.930  34.960  34.930   2039\n",
      "601     ABCB  2023-07-03 12:57:00  34.930  34.930  34.930  34.930   1083\n",
      "602     ABCB  2023-07-03 12:58:00  34.980  34.980  35.010  35.010   1508\n",
      "603     ABCB  2023-07-03 12:59:00  35.000  34.945  35.020  34.950   6346\n",
      "604     ABCB  2023-07-03 13:00:00  35.000  35.000  35.000  35.000  42255\n",
      "\n",
      "[605 rows x 7 columns]\n",
      "(605, 7)\n",
      "   percent  name         ts_code\n",
      "0        0  ABCB  Ameris Bancorp\n"
     ]
    },
    {
     "name": "stderr",
     "output_type": "stream",
     "text": [
      "/Users/zhangwenbo/miniforge3/lib/python3.10/site-packages/cashare/minute_data.py:96: FutureWarning: The frame.append method is deprecated and will be removed from pandas in a future version. Use pandas.concat instead.\n",
      "  df = df.append(lsss, ignore_index=True)\n",
      "/Users/zhangwenbo/miniforge3/lib/python3.10/site-packages/cashare/minute_data.py:96: FutureWarning: The frame.append method is deprecated and will be removed from pandas in a future version. Use pandas.concat instead.\n",
      "  df = df.append(lsss, ignore_index=True)\n"
     ]
    },
    {
     "name": "stdout",
     "output_type": "stream",
     "text": [
      "    stock_id                 date   open    low  high   close  volume\n",
      "0       ABCL  2023-06-29 09:30:00  6.630  6.590  6.67  6.5900   31295\n",
      "1       ABCL  2023-06-29 09:31:00  6.590  6.585  6.60  6.6000    2677\n",
      "2       ABCL  2023-06-29 09:32:00  6.610  6.600  6.62  6.6150    5792\n",
      "3       ABCL  2023-06-29 09:33:00  6.615  6.605  6.65  6.6320    6263\n",
      "4       ABCL  2023-06-29 09:34:00  6.630  6.600  6.63  6.6000    3332\n",
      "..       ...                  ...    ...    ...   ...     ...     ...\n",
      "954     ABCL  2023-07-03 12:56:00  6.565  6.565  6.58  6.5800   13491\n",
      "955     ABCL  2023-07-03 12:57:00  6.580  6.575  6.59  6.5850    7900\n",
      "956     ABCL  2023-07-03 12:58:00  6.590  6.575  6.59  6.5773   13026\n",
      "957     ABCL  2023-07-03 12:59:00  6.575  6.575  6.59  6.5850   16823\n",
      "958     ABCL  2023-07-03 13:00:00  6.590  6.590  6.59  6.5900  113612\n",
      "\n",
      "[959 rows x 7 columns]\n",
      "(959, 7)\n",
      "   percent  name                   ts_code\n",
      "0        1  ABCL  AbCellera Biologics Inc.\n"
     ]
    },
    {
     "name": "stderr",
     "output_type": "stream",
     "text": [
      "/Users/zhangwenbo/miniforge3/lib/python3.10/site-packages/cashare/minute_data.py:96: FutureWarning: The frame.append method is deprecated and will be removed from pandas in a future version. Use pandas.concat instead.\n",
      "  df = df.append(lsss, ignore_index=True)\n",
      "/Users/zhangwenbo/miniforge3/lib/python3.10/site-packages/cashare/minute_data.py:96: FutureWarning: The frame.append method is deprecated and will be removed from pandas in a future version. Use pandas.concat instead.\n",
      "  df = df.append(lsss, ignore_index=True)\n"
     ]
    },
    {
     "name": "stdout",
     "output_type": "stream",
     "text": [
      "    stock_id                 date   open     low    high   close volume\n",
      "0       ABCM  2023-06-29 09:30:00  23.40  22.860  23.500  23.120  84487\n",
      "1       ABCM  2023-06-29 09:31:00  23.17  23.130  23.340  23.310  71575\n",
      "2       ABCM  2023-06-29 09:32:00  23.34  23.250  23.340  23.250   6563\n",
      "3       ABCM  2023-06-29 09:33:00  23.26  23.195  23.300  23.250  32352\n",
      "4       ABCM  2023-06-29 09:34:00  23.25  23.120  23.255  23.220  65511\n",
      "..       ...                  ...    ...     ...     ...     ...    ...\n",
      "947     ABCM  2023-07-03 12:56:00  24.20  24.160  24.205  24.165   3112\n",
      "948     ABCM  2023-07-03 12:57:00  24.17  24.170  24.180  24.170   1832\n",
      "949     ABCM  2023-07-03 12:58:00  24.17  24.170  24.190  24.190   3890\n",
      "950     ABCM  2023-07-03 12:59:00  24.20  24.180  24.200  24.200   8364\n",
      "951     ABCM  2023-07-03 13:00:00  24.20  24.200  24.200  24.200  27654\n",
      "\n",
      "[952 rows x 7 columns]\n",
      "(952, 7)\n",
      "   percent  name    ts_code\n",
      "0        0  ABCM  Abcam plc\n"
     ]
    },
    {
     "name": "stderr",
     "output_type": "stream",
     "text": [
      "/Users/zhangwenbo/miniforge3/lib/python3.10/site-packages/cashare/minute_data.py:96: FutureWarning: The frame.append method is deprecated and will be removed from pandas in a future version. Use pandas.concat instead.\n",
      "  df = df.append(lsss, ignore_index=True)\n",
      "/Users/zhangwenbo/miniforge3/lib/python3.10/site-packages/cashare/minute_data.py:96: FutureWarning: The frame.append method is deprecated and will be removed from pandas in a future version. Use pandas.concat instead.\n",
      "  df = df.append(lsss, ignore_index=True)\n"
     ]
    },
    {
     "name": "stdout",
     "output_type": "stream",
     "text": [
      "    stock_id                 date    open    low    high   close volume\n",
      "0       ABEO  2023-06-29 09:30:00  4.3600  4.360  4.3600  4.3600    285\n",
      "1       ABEO  2023-06-29 09:31:00  4.4150  4.415  4.4150  4.4150    500\n",
      "2       ABEO  2023-06-29 09:36:00  4.4900  4.410  4.4900  4.4100   2025\n",
      "3       ABEO  2023-06-29 09:37:00  4.4200  4.420  4.4200  4.4200   1600\n",
      "4       ABEO  2023-06-29 09:38:00  4.4216  4.420  4.4216  4.4201   1805\n",
      "..       ...                  ...     ...    ...     ...     ...    ...\n",
      "311     ABEO  2023-07-03 12:56:00  4.4000  4.390  4.4000  4.3900   2347\n",
      "312     ABEO  2023-07-03 12:57:00  4.3950  4.380  4.3950  4.3850   1026\n",
      "313     ABEO  2023-07-03 12:58:00  4.3700  4.350  4.3850  4.3800   2157\n",
      "314     ABEO  2023-07-03 12:59:00  4.3800  4.335  4.3800  4.3350   2341\n",
      "315     ABEO  2023-07-03 13:00:00  4.3100  4.310  4.3100  4.3100   1354\n",
      "\n",
      "[316 rows x 7 columns]\n",
      "(316, 7)\n",
      "   percent  name                   ts_code\n",
      "0        0  ABEO  Abeona Therapeutics Inc.\n"
     ]
    },
    {
     "name": "stderr",
     "output_type": "stream",
     "text": [
      "/Users/zhangwenbo/miniforge3/lib/python3.10/site-packages/cashare/minute_data.py:96: FutureWarning: The frame.append method is deprecated and will be removed from pandas in a future version. Use pandas.concat instead.\n",
      "  df = df.append(lsss, ignore_index=True)\n",
      "/Users/zhangwenbo/miniforge3/lib/python3.10/site-packages/cashare/minute_data.py:96: FutureWarning: The frame.append method is deprecated and will be removed from pandas in a future version. Use pandas.concat instead.\n",
      "  df = df.append(lsss, ignore_index=True)\n"
     ]
    },
    {
     "name": "stdout",
     "output_type": "stream",
     "text": [
      "    stock_id                 date    open     low  high   close  volume\n",
      "0       ABEV  2023-06-29 09:30:00  3.1000  3.1000  3.11  3.1100   64529\n",
      "1       ABEV  2023-06-29 09:31:00  3.1050  3.1025  3.11  3.1025    4962\n",
      "2       ABEV  2023-06-29 09:32:00  3.1100  3.1025  3.11  3.1025   28900\n",
      "3       ABEV  2023-06-29 09:33:00  3.1025  3.1025  3.11  3.1100   20700\n",
      "4       ABEV  2023-06-29 09:34:00  3.1025  3.1025  3.11  3.1100   39995\n",
      "..       ...                  ...     ...     ...   ...     ...     ...\n",
      "966     ABEV  2023-07-03 12:58:00  3.1800  3.1800  3.19  3.1800  140362\n",
      "967     ABEV  2023-07-03 12:59:00  3.1800  3.1800  3.19  3.1800  234124\n",
      "968     ABEV  2023-07-03 13:00:00  3.1800  3.1800  3.18  3.1800   77819\n",
      "969     ABEV  2023-07-03 13:10:00  3.1800  3.1800  3.18  3.1800       0\n",
      "970     ABEV  2023-07-03 15:30:00  3.1800  3.1800  3.18  3.1800       0\n",
      "\n",
      "[971 rows x 7 columns]\n",
      "(971, 7)\n",
      "   percent  name     ts_code\n",
      "0        0  ABEV  Ambev S.A.\n"
     ]
    },
    {
     "name": "stderr",
     "output_type": "stream",
     "text": [
      "/Users/zhangwenbo/miniforge3/lib/python3.10/site-packages/cashare/minute_data.py:96: FutureWarning: The frame.append method is deprecated and will be removed from pandas in a future version. Use pandas.concat instead.\n",
      "  df = df.append(lsss, ignore_index=True)\n",
      "/Users/zhangwenbo/miniforge3/lib/python3.10/site-packages/cashare/minute_data.py:96: FutureWarning: The frame.append method is deprecated and will be removed from pandas in a future version. Use pandas.concat instead.\n",
      "  df = df.append(lsss, ignore_index=True)\n"
     ]
    },
    {
     "name": "stdout",
     "output_type": "stream",
     "text": [
      "    stock_id                 date      open       low      high     close  \\\n",
      "0        ABG  2023-06-29 09:30:00  240.7600  240.7600  240.7600  240.7600   \n",
      "1        ABG  2023-06-29 09:34:00  241.7700  241.7700  241.7700  241.7700   \n",
      "2        ABG  2023-06-29 09:36:00  242.7300  242.7300  242.9800  242.9800   \n",
      "3        ABG  2023-06-29 09:37:00  243.2550  243.2550  243.2550  243.2550   \n",
      "4        ABG  2023-06-29 09:38:00  243.8799  243.8799  243.8799  243.8799   \n",
      "..       ...                  ...       ...       ...       ...       ...   \n",
      "475      ABG  2023-07-03 12:58:00  238.5150  238.4900  238.5600  238.5300   \n",
      "476      ABG  2023-07-03 12:59:00  238.5600  238.2900  238.9700  238.9700   \n",
      "477      ABG  2023-07-03 13:00:00  239.0900  239.0900  239.0900  239.0900   \n",
      "478      ABG  2023-07-03 13:10:00  239.0900  239.0900  239.0900  239.0900   \n",
      "479      ABG  2023-07-03 15:30:00  239.0900  239.0900  239.0900  239.0900   \n",
      "\n",
      "    volume  \n",
      "0      742  \n",
      "1      119  \n",
      "2      472  \n",
      "3      107  \n",
      "4      130  \n",
      "..     ...  \n",
      "475   2047  \n",
      "476   2779  \n",
      "477   7489  \n",
      "478      0  \n",
      "479      0  \n",
      "\n",
      "[480 rows x 7 columns]\n",
      "(480, 7)\n",
      "   percent name                        ts_code\n",
      "0        1  ABG  Asbury Automotive Group, Inc.\n",
      "Empty DataFrame\n",
      "Columns: []\n",
      "Index: []\n",
      "(0, 0)\n"
     ]
    },
    {
     "name": "stderr",
     "output_type": "stream",
     "text": [
      "/Users/zhangwenbo/miniforge3/lib/python3.10/site-packages/cashare/minute_data.py:96: FutureWarning: The frame.append method is deprecated and will be removed from pandas in a future version. Use pandas.concat instead.\n",
      "  df = df.append(lsss, ignore_index=True)\n",
      "/Users/zhangwenbo/miniforge3/lib/python3.10/site-packages/cashare/minute_data.py:96: FutureWarning: The frame.append method is deprecated and will be removed from pandas in a future version. Use pandas.concat instead.\n",
      "  df = df.append(lsss, ignore_index=True)\n"
     ]
    },
    {
     "name": "stdout",
     "output_type": "stream",
     "text": [
      "   stock_id                 date    open     low    high   close volume\n",
      "0      ABIO  2023-06-29 09:30:00  2.0100  2.0100  2.0100  2.0100    543\n",
      "1      ABIO  2023-06-29 09:34:00  2.0200  2.0200  2.0200  2.0200    100\n",
      "2      ABIO  2023-06-29 09:35:00  2.0200  2.0100  2.0200  2.0100    500\n",
      "3      ABIO  2023-06-29 10:22:00  2.0200  2.0200  2.0200  2.0200    200\n",
      "4      ABIO  2023-06-29 10:30:00  2.0200  2.0100  2.0200  2.0200   9997\n",
      "5      ABIO  2023-06-29 10:31:00  2.0200  2.0139  2.0200  2.0200    653\n",
      "6      ABIO  2023-06-29 10:34:00  2.0200  2.0200  2.0200  2.0200    100\n",
      "7      ABIO  2023-06-29 10:38:00  2.0200  2.0200  2.0200  2.0200    100\n",
      "8      ABIO  2023-06-29 10:39:00  2.0108  2.0108  2.0200  2.0200    300\n",
      "9      ABIO  2023-06-29 10:42:00  2.0200  2.0200  2.0200  2.0200    100\n",
      "10     ABIO  2023-06-29 10:51:00  2.0200  2.0200  2.0200  2.0200    100\n",
      "11     ABIO  2023-06-29 10:58:00  2.0200  2.0200  2.0200  2.0200    290\n",
      "12     ABIO  2023-06-29 12:32:00  2.0200  2.0200  2.0200  2.0200    125\n",
      "13     ABIO  2023-06-29 12:37:00  2.0149  2.0149  2.0149  2.0149   1160\n",
      "14     ABIO  2023-06-29 13:05:00  2.0200  2.0200  2.0200  2.0200    200\n",
      "15     ABIO  2023-06-29 13:34:00  2.0150  2.0150  2.0150  2.0150    200\n",
      "16     ABIO  2023-06-29 14:23:00  2.0200  2.0200  2.0200  2.0200    100\n",
      "17     ABIO  2023-06-29 14:24:00  2.0200  2.0200  2.0200  2.0200    400\n",
      "18     ABIO  2023-06-29 14:54:00  2.0200  2.0200  2.0200  2.0200    136\n",
      "19     ABIO  2023-06-29 15:36:00  2.0200  2.0200  2.0200  2.0200    100\n",
      "20     ABIO  2023-06-29 15:55:00  2.0150  2.0150  2.0150  2.0150    381\n",
      "21     ABIO  2023-06-29 15:56:00  2.0150  2.0150  2.0150  2.0150    155\n",
      "22     ABIO  2023-06-30 09:33:00  2.0300  2.0300  2.0300  2.0300    400\n",
      "23     ABIO  2023-06-30 09:47:00  2.0300  2.0300  2.0300  2.0300    300\n",
      "24     ABIO  2023-06-30 10:59:00  2.0300  2.0300  2.0300  2.0300    100\n",
      "25     ABIO  2023-06-30 11:01:00  2.0200  2.0200  2.0300  2.0300    460\n",
      "26     ABIO  2023-06-30 11:04:00  2.0300  2.0200  2.0300  2.0200    300\n",
      "27     ABIO  2023-06-30 11:32:00  2.0200  2.0200  2.0300  2.0300   2100\n",
      "28     ABIO  2023-06-30 11:38:00  2.0200  2.0200  2.0300  2.0200   3900\n",
      "29     ABIO  2023-06-30 11:46:00  2.0300  2.0300  2.0300  2.0300    100\n",
      "30     ABIO  2023-06-30 11:51:00  2.0100  2.0100  2.0100  2.0100    153\n",
      "31     ABIO  2023-06-30 11:54:00  2.0300  2.0300  2.0300  2.0300    100\n",
      "32     ABIO  2023-06-30 11:56:00  2.0125  2.0125  2.0125  2.0125    110\n",
      "33     ABIO  2023-06-30 12:08:00  2.0245  2.0245  2.0300  2.0300   3400\n",
      "34     ABIO  2023-06-30 12:16:00  2.0300  2.0300  2.0300  2.0300    100\n",
      "35     ABIO  2023-06-30 13:00:00  2.0300  2.0300  2.0300  2.0300    285\n",
      "36     ABIO  2023-06-30 13:43:00  2.0108  2.0108  2.0108  2.0108   1058\n",
      "37     ABIO  2023-06-30 15:03:00  2.0300  2.0300  2.0300  2.0300    100\n",
      "38     ABIO  2023-06-30 15:43:00  2.0250  2.0250  2.0300  2.0300   6390\n",
      "39     ABIO  2023-06-30 15:59:00  2.0250  2.0250  2.0250  2.0250    232\n",
      "40     ABIO  2023-07-03 09:30:00  2.0100  2.0100  2.0100  2.0100    919\n",
      "41     ABIO  2023-07-03 09:46:00  2.0280  2.0250  2.0300  2.0300   1108\n",
      "42     ABIO  2023-07-03 09:48:00  2.0350  2.0350  2.0350  2.0350    125\n",
      "43     ABIO  2023-07-03 10:00:00  2.0350  2.0300  2.0350  2.0300    825\n",
      "44     ABIO  2023-07-03 10:18:00  2.0392  2.0392  2.0392  2.0392    100\n",
      "45     ABIO  2023-07-03 10:34:00  2.0350  2.0350  2.0350  2.0350    114\n",
      "46     ABIO  2023-07-03 10:53:00  2.0400  2.0400  2.0400  2.0400    423\n",
      "47     ABIO  2023-07-03 10:54:00  2.0556  2.0556  2.0556  2.0556    100\n",
      "48     ABIO  2023-07-03 11:41:00  2.0500  2.0500  2.0500  2.0500   1000\n",
      "49     ABIO  2023-07-03 12:10:00  2.0500  2.0400  2.0500  2.0400    709\n",
      "50     ABIO  2023-07-03 12:56:00  2.0400  2.0400  2.0400  2.0400    240\n",
      "51     ABIO  2023-07-03 12:59:00  2.0400  2.0400  2.0400  2.0400    126\n",
      "(52, 7)\n"
     ]
    },
    {
     "name": "stderr",
     "output_type": "stream",
     "text": [
      "/Users/zhangwenbo/miniforge3/lib/python3.10/site-packages/cashare/minute_data.py:96: FutureWarning: The frame.append method is deprecated and will be removed from pandas in a future version. Use pandas.concat instead.\n",
      "  df = df.append(lsss, ignore_index=True)\n",
      "/Users/zhangwenbo/miniforge3/lib/python3.10/site-packages/cashare/minute_data.py:96: FutureWarning: The frame.append method is deprecated and will be removed from pandas in a future version. Use pandas.concat instead.\n",
      "  df = df.append(lsss, ignore_index=True)\n"
     ]
    },
    {
     "name": "stdout",
     "output_type": "stream",
     "text": [
      "    stock_id                 date     open      low     high    close volume\n",
      "0        ABM  2023-06-29 09:30:00  42.0400  42.0400  42.0400  42.0400   1259\n",
      "1        ABM  2023-06-29 09:36:00  42.1300  42.1300  42.1424  42.1424   1353\n",
      "2        ABM  2023-06-29 09:38:00  42.1675  42.1675  42.1675  42.1675    104\n",
      "3        ABM  2023-06-29 09:40:00  42.1900  42.1900  42.1900  42.1900    201\n",
      "4        ABM  2023-06-29 09:42:00  42.2734  42.2734  42.2734  42.2734    515\n",
      "..       ...                  ...      ...      ...      ...      ...    ...\n",
      "593      ABM  2023-07-03 12:58:00  42.5400  42.5400  42.5600  42.5600   2656\n",
      "594      ABM  2023-07-03 12:59:00  42.5600  42.5400  42.5800  42.5600   5046\n",
      "595      ABM  2023-07-03 13:00:00  42.5700  42.5700  42.5700  42.5700  23794\n",
      "596      ABM  2023-07-03 13:10:00  42.5700  42.5700  42.5700  42.5700      0\n",
      "597      ABM  2023-07-03 15:30:00  42.5700  42.5700  42.5700  42.5700      0\n",
      "\n",
      "[598 rows x 7 columns]\n",
      "(598, 7)\n",
      "   percent name                      ts_code\n",
      "0        1  ABM  ABM Industries Incorporated\n",
      "Empty DataFrame\n",
      "Columns: []\n",
      "Index: []\n",
      "(0, 0)\n"
     ]
    },
    {
     "name": "stderr",
     "output_type": "stream",
     "text": [
      "/Users/zhangwenbo/miniforge3/lib/python3.10/site-packages/cashare/minute_data.py:96: FutureWarning: The frame.append method is deprecated and will be removed from pandas in a future version. Use pandas.concat instead.\n",
      "  df = df.append(lsss, ignore_index=True)\n",
      "/Users/zhangwenbo/miniforge3/lib/python3.10/site-packages/cashare/minute_data.py:96: FutureWarning: The frame.append method is deprecated and will be removed from pandas in a future version. Use pandas.concat instead.\n",
      "  df = df.append(lsss, ignore_index=True)\n"
     ]
    },
    {
     "name": "stdout",
     "output_type": "stream",
     "text": [
      "    stock_id                 date      open       low    high     close  \\\n",
      "0       ABNB  2023-06-29 09:30:00  127.6400  127.3000  128.00  127.4672   \n",
      "1       ABNB  2023-06-29 09:31:00  127.4700  126.9200  127.47  127.1500   \n",
      "2       ABNB  2023-06-29 09:32:00  127.0377  126.7000  127.10  126.9699   \n",
      "3       ABNB  2023-06-29 09:33:00  126.9600  126.8211  127.21  127.2100   \n",
      "4       ABNB  2023-06-29 09:34:00  127.1780  127.1780  127.56  127.2450   \n",
      "..       ...                  ...       ...       ...     ...       ...   \n",
      "988     ABNB  2023-07-03 12:56:00  132.4400  132.1701  132.44  132.1900   \n",
      "989     ABNB  2023-07-03 12:57:00  132.1850  132.1850  132.27  132.2600   \n",
      "990     ABNB  2023-07-03 12:58:00  132.2800  132.2650  132.38  132.3750   \n",
      "991     ABNB  2023-07-03 12:59:00  132.3800  132.2800  132.46  132.3500   \n",
      "992     ABNB  2023-07-03 13:00:00  132.3500  132.3500  132.35  132.3500   \n",
      "\n",
      "     volume  \n",
      "0     59829  \n",
      "1      6484  \n",
      "2      8612  \n",
      "3     11424  \n",
      "4     11386  \n",
      "..      ...  \n",
      "988   34386  \n",
      "989   19642  \n",
      "990   26578  \n",
      "991   39620  \n",
      "992  165109  \n",
      "\n",
      "[993 rows x 7 columns]\n",
      "(993, 7)\n",
      "   percent  name       ts_code\n",
      "0        1  ABNB  Airbnb, Inc.\n"
     ]
    },
    {
     "name": "stderr",
     "output_type": "stream",
     "text": [
      "/Users/zhangwenbo/miniforge3/lib/python3.10/site-packages/cashare/minute_data.py:96: FutureWarning: The frame.append method is deprecated and will be removed from pandas in a future version. Use pandas.concat instead.\n",
      "  df = df.append(lsss, ignore_index=True)\n",
      "/Users/zhangwenbo/miniforge3/lib/python3.10/site-packages/cashare/minute_data.py:96: FutureWarning: The frame.append method is deprecated and will be removed from pandas in a future version. Use pandas.concat instead.\n",
      "  df = df.append(lsss, ignore_index=True)\n"
     ]
    },
    {
     "name": "stdout",
     "output_type": "stream",
     "text": [
      "    stock_id                 date    open     low    high   close volume\n",
      "0       ABOS  2023-06-29 09:30:00  4.9200  4.9200  4.9200  4.9200    909\n",
      "1       ABOS  2023-06-29 09:32:00  4.8300  4.8300  4.8300  4.8300    110\n",
      "2       ABOS  2023-06-29 09:43:00  4.8450  4.8450  4.8450  4.8450    124\n",
      "3       ABOS  2023-06-29 09:47:00  4.8401  4.8401  4.8401  4.8401    402\n",
      "4       ABOS  2023-06-29 09:50:00  4.8750  4.8750  4.8750  4.8750    263\n",
      "..       ...                  ...     ...     ...     ...     ...    ...\n",
      "313     ABOS  2023-07-03 12:54:00  4.9300  4.9300  4.9500  4.9500    305\n",
      "314     ABOS  2023-07-03 12:56:00  4.9300  4.9300  4.9300  4.9300    201\n",
      "315     ABOS  2023-07-03 12:58:00  4.9600  4.9600  4.9600  4.9600    665\n",
      "316     ABOS  2023-07-03 12:59:00  4.9800  4.9777  4.9800  4.9777    530\n",
      "317     ABOS  2023-07-03 13:00:00  4.9600  4.9600  4.9600  4.9600   3114\n",
      "\n",
      "[318 rows x 7 columns]\n",
      "(318, 7)\n",
      "   percent  name                       ts_code\n",
      "0        0  ABOS  Acumen Pharmaceuticals, Inc.\n"
     ]
    },
    {
     "name": "stderr",
     "output_type": "stream",
     "text": [
      "/Users/zhangwenbo/miniforge3/lib/python3.10/site-packages/cashare/minute_data.py:96: FutureWarning: The frame.append method is deprecated and will be removed from pandas in a future version. Use pandas.concat instead.\n",
      "  df = df.append(lsss, ignore_index=True)\n",
      "/Users/zhangwenbo/miniforge3/lib/python3.10/site-packages/cashare/minute_data.py:96: FutureWarning: The frame.append method is deprecated and will be removed from pandas in a future version. Use pandas.concat instead.\n",
      "  df = df.append(lsss, ignore_index=True)\n"
     ]
    },
    {
     "name": "stdout",
     "output_type": "stream",
     "text": [
      "    stock_id                 date     open      low   high   close  volume\n",
      "0        ABR  2023-06-29 09:30:00  14.3900  14.3700  14.40  14.390   27250\n",
      "1        ABR  2023-06-29 09:31:00  14.3988  14.3988  14.45  14.435   10883\n",
      "2        ABR  2023-06-29 09:32:00  14.4200  14.4050  14.43  14.418    6142\n",
      "3        ABR  2023-06-29 09:33:00  14.4100  14.4100  14.44  14.430    7745\n",
      "4        ABR  2023-06-29 09:34:00  14.4311  14.4200  14.45  14.420    7255\n",
      "..       ...                  ...      ...      ...    ...     ...     ...\n",
      "989      ABR  2023-07-03 12:58:00  15.0250  15.0200  15.04  15.030   19273\n",
      "990      ABR  2023-07-03 12:59:00  15.0300  15.0300  15.04  15.040   31133\n",
      "991      ABR  2023-07-03 13:00:00  15.0500  15.0500  15.05  15.050  154771\n",
      "992      ABR  2023-07-03 13:10:00  15.0500  15.0500  15.05  15.050       0\n",
      "993      ABR  2023-07-03 15:30:00  15.0500  15.0500  15.05  15.050       0\n",
      "\n",
      "[994 rows x 7 columns]\n",
      "(994, 7)\n",
      "   percent name                   ts_code\n",
      "0        1  ABR  Arbor Realty Trust, Inc.\n"
     ]
    },
    {
     "name": "stderr",
     "output_type": "stream",
     "text": [
      "/Users/zhangwenbo/miniforge3/lib/python3.10/site-packages/cashare/minute_data.py:96: FutureWarning: The frame.append method is deprecated and will be removed from pandas in a future version. Use pandas.concat instead.\n",
      "  df = df.append(lsss, ignore_index=True)\n",
      "/Users/zhangwenbo/miniforge3/lib/python3.10/site-packages/cashare/minute_data.py:96: FutureWarning: The frame.append method is deprecated and will be removed from pandas in a future version. Use pandas.concat instead.\n",
      "  df = df.append(lsss, ignore_index=True)\n"
     ]
    },
    {
     "name": "stdout",
     "output_type": "stream",
     "text": [
      "   stock_id                 date    open     low    high   close volume\n",
      "0    ABR-PD  2023-06-29 09:30:00  18.150  18.150  18.150  18.150    200\n",
      "1    ABR-PD  2023-06-29 09:43:00  18.250  18.250  18.250  18.250    293\n",
      "2    ABR-PD  2023-06-29 09:53:00  18.185  18.185  18.185  18.185    240\n",
      "3    ABR-PD  2023-06-29 11:11:00  18.250  18.250  18.250  18.250    281\n",
      "4    ABR-PD  2023-06-29 11:31:00  18.140  18.140  18.150  18.150   1387\n",
      "..      ...                  ...     ...     ...     ...     ...    ...\n",
      "69   ABR-PD  2023-07-03 12:56:00  18.400  18.400  18.400  18.400    211\n",
      "70   ABR-PD  2023-07-03 12:58:00  18.530  18.530  18.530  18.530    100\n",
      "71   ABR-PD  2023-07-03 13:00:00  18.550  18.550  18.550  18.550    199\n",
      "72   ABR-PD  2023-07-03 13:10:00  18.550  18.550  18.550  18.550      0\n",
      "73   ABR-PD  2023-07-03 15:30:00  18.550  18.550  18.550  18.550      0\n",
      "\n",
      "[74 rows x 7 columns]\n",
      "(74, 7)\n"
     ]
    },
    {
     "name": "stderr",
     "output_type": "stream",
     "text": [
      "/Users/zhangwenbo/miniforge3/lib/python3.10/site-packages/cashare/minute_data.py:96: FutureWarning: The frame.append method is deprecated and will be removed from pandas in a future version. Use pandas.concat instead.\n",
      "  df = df.append(lsss, ignore_index=True)\n",
      "/Users/zhangwenbo/miniforge3/lib/python3.10/site-packages/cashare/minute_data.py:96: FutureWarning: The frame.append method is deprecated and will be removed from pandas in a future version. Use pandas.concat instead.\n",
      "  df = df.append(lsss, ignore_index=True)\n"
     ]
    },
    {
     "name": "stdout",
     "output_type": "stream",
     "text": [
      "   stock_id                 date     open      low     high    close volume\n",
      "0    ABR-PE  2023-06-29 09:30:00  18.1600  18.1600  18.1600  18.1600    170\n",
      "1    ABR-PE  2023-06-29 09:36:00  18.1588  18.1588  18.1588  18.1588   1000\n",
      "2    ABR-PE  2023-06-29 10:11:00  18.0800  18.0800  18.0800  18.0800    100\n",
      "3    ABR-PE  2023-06-29 11:13:00  17.9678  17.9678  17.9678  17.9678    677\n",
      "4    ABR-PE  2023-06-29 11:41:00  17.9676  17.9676  17.9676  17.9676    310\n",
      "..      ...                  ...      ...      ...      ...      ...    ...\n",
      "71   ABR-PE  2023-07-03 12:36:00  18.1400  18.1400  18.1499  18.1400   1220\n",
      "72   ABR-PE  2023-07-03 12:50:00  18.1200  18.1200  18.1200  18.1200    100\n",
      "73   ABR-PE  2023-07-03 13:00:00  18.1500  18.1500  18.1500  18.1500    200\n",
      "74   ABR-PE  2023-07-03 13:10:00  18.1500  18.1500  18.1500  18.1500      0\n",
      "75   ABR-PE  2023-07-03 15:30:00  18.1500  18.1500  18.1500  18.1500      0\n",
      "\n",
      "[76 rows x 7 columns]\n",
      "(76, 7)\n"
     ]
    },
    {
     "name": "stderr",
     "output_type": "stream",
     "text": [
      "/Users/zhangwenbo/miniforge3/lib/python3.10/site-packages/cashare/minute_data.py:96: FutureWarning: The frame.append method is deprecated and will be removed from pandas in a future version. Use pandas.concat instead.\n",
      "  df = df.append(lsss, ignore_index=True)\n",
      "/Users/zhangwenbo/miniforge3/lib/python3.10/site-packages/cashare/minute_data.py:96: FutureWarning: The frame.append method is deprecated and will be removed from pandas in a future version. Use pandas.concat instead.\n",
      "  df = df.append(lsss, ignore_index=True)\n"
     ]
    },
    {
     "name": "stdout",
     "output_type": "stream",
     "text": [
      "    stock_id                 date     open      low     high    close volume\n",
      "0     ABR-PF  2023-06-29 09:30:00  19.6000  19.6000  19.6000  19.6000    103\n",
      "1     ABR-PF  2023-06-29 10:13:00  19.6000  19.6000  19.6000  19.6000    500\n",
      "2     ABR-PF  2023-06-29 10:20:00  19.6000  19.6000  19.6000  19.6000    100\n",
      "3     ABR-PF  2023-06-29 10:32:00  19.6450  19.6450  19.6450  19.6450    100\n",
      "4     ABR-PF  2023-06-29 10:56:00  19.6898  19.6898  19.6898  19.6898    189\n",
      "..       ...                  ...      ...      ...      ...      ...    ...\n",
      "167   ABR-PF  2023-07-03 12:49:00  20.5300  20.5300  20.5300  20.5300    200\n",
      "168   ABR-PF  2023-07-03 12:58:00  20.5400  20.5400  20.5400  20.5400    300\n",
      "169   ABR-PF  2023-07-03 13:00:00  20.4100  20.4100  20.4100  20.4100    332\n",
      "170   ABR-PF  2023-07-03 13:10:00  20.4100  20.4100  20.4100  20.4100      0\n",
      "171   ABR-PF  2023-07-03 15:30:00  20.4100  20.4100  20.4100  20.4100      0\n",
      "\n",
      "[172 rows x 7 columns]\n",
      "(172, 7)\n",
      "   percent    name                   ts_code\n",
      "0        0  ABR-PF  Arbor Realty Trust, Inc.\n"
     ]
    },
    {
     "name": "stderr",
     "output_type": "stream",
     "text": [
      "/Users/zhangwenbo/miniforge3/lib/python3.10/site-packages/cashare/minute_data.py:96: FutureWarning: The frame.append method is deprecated and will be removed from pandas in a future version. Use pandas.concat instead.\n",
      "  df = df.append(lsss, ignore_index=True)\n",
      "/Users/zhangwenbo/miniforge3/lib/python3.10/site-packages/cashare/minute_data.py:96: FutureWarning: The frame.append method is deprecated and will be removed from pandas in a future version. Use pandas.concat instead.\n",
      "  df = df.append(lsss, ignore_index=True)\n"
     ]
    },
    {
     "name": "stdout",
     "output_type": "stream",
     "text": [
      "    stock_id                 date   open    low   high  close volume\n",
      "0       ABSI  2023-06-29 09:30:00  1.630  1.600  1.630  1.610  32836\n",
      "1       ABSI  2023-06-29 09:31:00  1.610  1.585  1.610  1.585  22717\n",
      "2       ABSI  2023-06-29 09:32:00  1.600  1.580  1.601  1.580   4024\n",
      "3       ABSI  2023-06-29 09:34:00  1.590  1.590  1.590  1.590    119\n",
      "4       ABSI  2023-06-29 09:35:00  1.590  1.580  1.590  1.580    487\n",
      "..       ...                  ...    ...    ...    ...    ...    ...\n",
      "803     ABSI  2023-07-03 12:56:00  1.540  1.530  1.540  1.535   3310\n",
      "804     ABSI  2023-07-03 12:57:00  1.535  1.535  1.540  1.535    503\n",
      "805     ABSI  2023-07-03 12:58:00  1.535  1.535  1.540  1.535   1348\n",
      "806     ABSI  2023-07-03 12:59:00  1.540  1.530  1.540  1.540   6138\n",
      "807     ABSI  2023-07-03 13:00:00  1.530  1.530  1.530  1.530  16563\n",
      "\n",
      "[808 rows x 7 columns]\n",
      "(808, 7)\n",
      "   percent  name            ts_code\n",
      "0        0  ABSI  Absci Corporation\n"
     ]
    },
    {
     "name": "stderr",
     "output_type": "stream",
     "text": [
      "/Users/zhangwenbo/miniforge3/lib/python3.10/site-packages/cashare/minute_data.py:96: FutureWarning: The frame.append method is deprecated and will be removed from pandas in a future version. Use pandas.concat instead.\n",
      "  df = df.append(lsss, ignore_index=True)\n",
      "/Users/zhangwenbo/miniforge3/lib/python3.10/site-packages/cashare/minute_data.py:96: FutureWarning: The frame.append method is deprecated and will be removed from pandas in a future version. Use pandas.concat instead.\n",
      "  df = df.append(lsss, ignore_index=True)\n"
     ]
    },
    {
     "name": "stdout",
     "output_type": "stream",
     "text": [
      "    stock_id                 date    open      low    high    close volume\n",
      "0       ABST  2023-06-29 09:30:00  11.350  11.3500  11.350  11.3500   9121\n",
      "1       ABST  2023-06-29 09:32:00  11.360  11.3600  11.360  11.3600    100\n",
      "2       ABST  2023-06-29 09:36:00  11.355  11.3550  11.355  11.3550    225\n",
      "3       ABST  2023-06-29 09:38:00  11.360  11.3550  11.360  11.3550   1305\n",
      "4       ABST  2023-06-29 09:39:00  11.355  11.3550  11.355  11.3550   3529\n",
      "..       ...                  ...     ...      ...     ...      ...    ...\n",
      "817     ABST  2023-07-03 12:56:00  11.430  11.4225  11.430  11.4225   1043\n",
      "818     ABST  2023-07-03 12:57:00  11.425  11.4200  11.430  11.4250   1064\n",
      "819     ABST  2023-07-03 12:58:00  11.425  11.4200  11.430  11.4250   1020\n",
      "820     ABST  2023-07-03 12:59:00  11.425  11.4250  11.430  11.4300    527\n",
      "821     ABST  2023-07-03 13:00:00  11.430  11.4200  11.430  11.4200   8457\n",
      "\n",
      "[822 rows x 7 columns]\n",
      "(822, 7)\n",
      "   percent  name                        ts_code\n",
      "0        0  ABST  Absolute Software Corporation\n"
     ]
    },
    {
     "name": "stderr",
     "output_type": "stream",
     "text": [
      "/Users/zhangwenbo/miniforge3/lib/python3.10/site-packages/cashare/minute_data.py:96: FutureWarning: The frame.append method is deprecated and will be removed from pandas in a future version. Use pandas.concat instead.\n",
      "  df = df.append(lsss, ignore_index=True)\n",
      "/Users/zhangwenbo/miniforge3/lib/python3.10/site-packages/cashare/minute_data.py:96: FutureWarning: The frame.append method is deprecated and will be removed from pandas in a future version. Use pandas.concat instead.\n",
      "  df = df.append(lsss, ignore_index=True)\n"
     ]
    },
    {
     "name": "stdout",
     "output_type": "stream",
     "text": [
      "    stock_id                 date    open     low      high     close  volume\n",
      "0        ABT  2023-06-29 09:30:00  107.03  107.00  107.0900  107.0100   59571\n",
      "1        ABT  2023-06-29 09:31:00  107.00  106.97  107.0526  106.9900    6783\n",
      "2        ABT  2023-06-29 09:32:00  107.09  107.09  107.1700  107.1400    4214\n",
      "3        ABT  2023-06-29 09:33:00  107.16  107.16  107.4000  107.3824    7288\n",
      "4        ABT  2023-06-29 09:34:00  107.39  107.28  107.3900  107.2900    6687\n",
      "..       ...                  ...     ...     ...       ...       ...     ...\n",
      "988      ABT  2023-07-03 12:58:00  107.39  107.39  107.4700  107.4500   41509\n",
      "989      ABT  2023-07-03 12:59:00  107.45  107.22  107.4500  107.2400  105658\n",
      "990      ABT  2023-07-03 13:00:00  107.22  107.22  107.2200  107.2200  475753\n",
      "991      ABT  2023-07-03 13:10:00  107.22  107.22  107.2200  107.2200       0\n",
      "992      ABT  2023-07-03 15:30:00  107.22  107.22  107.2200  107.2200       0\n",
      "\n",
      "[993 rows x 7 columns]\n",
      "(993, 7)\n",
      "   percent name              ts_code\n",
      "0        1  ABT  Abbott Laboratories\n",
      "Empty DataFrame\n",
      "Columns: []\n",
      "Index: []\n",
      "(0, 0)\n"
     ]
    },
    {
     "name": "stderr",
     "output_type": "stream",
     "text": [
      "/Users/zhangwenbo/miniforge3/lib/python3.10/site-packages/cashare/minute_data.py:96: FutureWarning: The frame.append method is deprecated and will be removed from pandas in a future version. Use pandas.concat instead.\n",
      "  df = df.append(lsss, ignore_index=True)\n",
      "/Users/zhangwenbo/miniforge3/lib/python3.10/site-packages/cashare/minute_data.py:96: FutureWarning: The frame.append method is deprecated and will be removed from pandas in a future version. Use pandas.concat instead.\n",
      "  df = df.append(lsss, ignore_index=True)\n"
     ]
    },
    {
     "name": "stdout",
     "output_type": "stream",
     "text": [
      "    stock_id                 date    open     low   high   close volume\n",
      "0       ABUS  2023-06-29 09:30:00  2.2300  2.2300  2.230  2.2300   3713\n",
      "1       ABUS  2023-06-29 09:31:00  2.2300  2.2205  2.230  2.2205   1441\n",
      "2       ABUS  2023-06-29 09:32:00  2.2300  2.2200  2.230  2.2200   2433\n",
      "3       ABUS  2023-06-29 09:36:00  2.2300  2.2250  2.230  2.2250   2640\n",
      "4       ABUS  2023-06-29 09:38:00  2.2250  2.2250  2.225  2.2250    194\n",
      "..       ...                  ...     ...     ...    ...     ...    ...\n",
      "747     ABUS  2023-07-03 12:56:00  2.2650  2.2650  2.270  2.2695   1403\n",
      "748     ABUS  2023-07-03 12:57:00  2.2695  2.2650  2.270  2.2700   3773\n",
      "749     ABUS  2023-07-03 12:58:00  2.2600  2.2600  2.275  2.2750  18841\n",
      "750     ABUS  2023-07-03 12:59:00  2.2750  2.2700  2.280  2.2750  11174\n",
      "751     ABUS  2023-07-03 13:00:00  2.2700  2.2700  2.270  2.2700  44007\n",
      "\n",
      "[752 rows x 7 columns]\n",
      "(752, 7)\n",
      "   percent  name                        ts_code\n",
      "0        0  ABUS  Arbutus Biopharma Corporation\n"
     ]
    },
    {
     "name": "stderr",
     "output_type": "stream",
     "text": [
      "/Users/zhangwenbo/miniforge3/lib/python3.10/site-packages/cashare/minute_data.py:96: FutureWarning: The frame.append method is deprecated and will be removed from pandas in a future version. Use pandas.concat instead.\n",
      "  df = df.append(lsss, ignore_index=True)\n",
      "/Users/zhangwenbo/miniforge3/lib/python3.10/site-packages/cashare/minute_data.py:96: FutureWarning: The frame.append method is deprecated and will be removed from pandas in a future version. Use pandas.concat instead.\n",
      "  df = df.append(lsss, ignore_index=True)\n"
     ]
    },
    {
     "name": "stdout",
     "output_type": "stream",
     "text": [
      "   stock_id                 date    open     low    high   close volume\n",
      "0      ABVC  2023-06-29 09:30:00  0.5200  0.5200  0.5200  0.5200    406\n",
      "1      ABVC  2023-06-29 09:34:00  0.5100  0.5100  0.5100  0.5100   1000\n",
      "2      ABVC  2023-06-29 09:36:00  0.5100  0.5100  0.5100  0.5100   2622\n",
      "3      ABVC  2023-06-29 09:42:00  0.5200  0.5200  0.5200  0.5200    196\n",
      "4      ABVC  2023-06-29 09:44:00  0.5100  0.5020  0.5100  0.5020   2600\n",
      "..      ...                  ...     ...     ...     ...     ...    ...\n",
      "92     ABVC  2023-07-03 12:49:00  0.5157  0.5157  0.5160  0.5160    798\n",
      "93     ABVC  2023-07-03 12:50:00  0.5160  0.5160  0.5160  0.5160    368\n",
      "94     ABVC  2023-07-03 12:51:00  0.5159  0.5159  0.5160  0.5160   1416\n",
      "95     ABVC  2023-07-03 12:53:00  0.5160  0.5160  0.5200  0.5200   3607\n",
      "96     ABVC  2023-07-03 12:56:00  0.5299  0.5299  0.5299  0.5299    700\n",
      "\n",
      "[97 rows x 7 columns]\n",
      "(97, 7)\n"
     ]
    },
    {
     "name": "stderr",
     "output_type": "stream",
     "text": [
      "/Users/zhangwenbo/miniforge3/lib/python3.10/site-packages/cashare/minute_data.py:96: FutureWarning: The frame.append method is deprecated and will be removed from pandas in a future version. Use pandas.concat instead.\n",
      "  df = df.append(lsss, ignore_index=True)\n",
      "/Users/zhangwenbo/miniforge3/lib/python3.10/site-packages/cashare/minute_data.py:96: FutureWarning: The frame.append method is deprecated and will be removed from pandas in a future version. Use pandas.concat instead.\n",
      "  df = df.append(lsss, ignore_index=True)\n"
     ]
    },
    {
     "name": "stdout",
     "output_type": "stream",
     "text": [
      "   stock_id                 date     open      low     high    close volume\n",
      "0        AC  2023-06-29 09:30:00  35.3900  35.3900  35.3900  35.3900    193\n",
      "1        AC  2023-06-29 10:48:00  35.4231  35.4231  35.4231  35.4231    200\n",
      "2        AC  2023-06-29 14:12:00  35.5500  35.5500  35.5500  35.5500    540\n",
      "3        AC  2023-06-29 15:56:00  35.3700  35.2300  35.3700  35.2300    577\n",
      "4        AC  2023-06-30 09:30:00  35.4700  35.4700  35.4700  35.4700    100\n",
      "5        AC  2023-06-30 10:44:00  35.5500  35.5500  35.5500  35.5500    229\n",
      "6        AC  2023-06-30 13:06:00  35.7100  35.7100  35.7100  35.7100    125\n",
      "7        AC  2023-06-30 13:14:00  35.7100  35.7100  35.7100  35.7100    282\n",
      "8        AC  2023-06-30 14:00:00  35.7500  35.7500  35.7500  35.7500    298\n",
      "9        AC  2023-06-30 14:17:00  35.7350  35.7350  35.7350  35.7350    166\n",
      "10       AC  2023-06-30 14:58:00  35.7100  35.7100  35.7100  35.7100    317\n",
      "11       AC  2023-06-30 15:06:00  35.7100  35.6050  35.7100  35.6050    627\n",
      "12       AC  2023-06-30 15:19:00  35.4900  35.4900  35.4900  35.4900    111\n",
      "13       AC  2023-06-30 15:24:00  35.4900  35.4900  35.4900  35.4900    109\n",
      "14       AC  2023-06-30 15:28:00  35.4900  35.4900  35.4900  35.4900    225\n",
      "15       AC  2023-06-30 15:29:00  35.5100  35.5100  35.5100  35.5100    239\n",
      "16       AC  2023-06-30 15:30:00  35.4000  35.4000  35.4000  35.4000    105\n",
      "17       AC  2023-06-30 15:40:00  35.3600  35.3600  35.3600  35.3600    101\n",
      "18       AC  2023-06-30 15:46:00  35.4100  35.4100  35.4100  35.4100    110\n",
      "19       AC  2023-06-30 15:49:00  35.4000  35.4000  35.4000  35.4000    106\n",
      "20       AC  2023-06-30 15:54:00  35.6600  35.6600  35.6600  35.6600    208\n",
      "21       AC  2023-06-30 15:55:00  35.4000  35.4000  35.4000  35.4000    118\n",
      "22       AC  2023-06-30 15:58:00  35.4050  35.4050  35.4050  35.4050    130\n",
      "23       AC  2023-06-30 15:59:00  35.4750  35.4000  35.4750  35.4000    495\n",
      "24       AC  2023-07-03 09:30:00  35.6100  35.6100  35.6100  35.6100    177\n",
      "25       AC  2023-07-03 10:46:00  35.0700  35.0700  35.0700  35.0700    210\n",
      "26       AC  2023-07-03 12:16:00  35.3900  35.3900  35.3900  35.3900    113\n",
      "27       AC  2023-07-03 13:10:00  35.3900  35.3900  35.3900  35.3900      0\n",
      "28       AC  2023-07-03 15:30:00  35.3900  35.3900  35.3900  35.3900      0\n",
      "(29, 7)\n"
     ]
    },
    {
     "name": "stderr",
     "output_type": "stream",
     "text": [
      "/Users/zhangwenbo/miniforge3/lib/python3.10/site-packages/cashare/minute_data.py:96: FutureWarning: The frame.append method is deprecated and will be removed from pandas in a future version. Use pandas.concat instead.\n",
      "  df = df.append(lsss, ignore_index=True)\n",
      "/Users/zhangwenbo/miniforge3/lib/python3.10/site-packages/cashare/minute_data.py:96: FutureWarning: The frame.append method is deprecated and will be removed from pandas in a future version. Use pandas.concat instead.\n",
      "  df = df.append(lsss, ignore_index=True)\n"
     ]
    },
    {
     "name": "stdout",
     "output_type": "stream",
     "text": [
      "    stock_id                 date   open    low   high  close volume\n",
      "0        ACA  2023-06-29 09:30:00  74.07  74.07  74.07  74.07   1252\n",
      "1        ACA  2023-06-29 09:33:00  73.85  73.85  73.85  73.85    170\n",
      "2        ACA  2023-06-29 09:34:00  73.89  73.89  73.89  73.89    130\n",
      "3        ACA  2023-06-29 09:39:00  74.80  74.80  75.14  75.14   1501\n",
      "4        ACA  2023-06-29 09:47:00  74.64  74.64  74.92  74.92    232\n",
      "..       ...                  ...    ...    ...    ...    ...    ...\n",
      "430      ACA  2023-07-03 12:58:00  76.32  76.32  76.38  76.38   1585\n",
      "431      ACA  2023-07-03 12:59:00  76.41  76.31  76.44  76.39   6886\n",
      "432      ACA  2023-07-03 13:00:00  76.41  76.41  76.41  76.41  16491\n",
      "433      ACA  2023-07-03 13:10:00  76.41  76.41  76.41  76.41      0\n",
      "434      ACA  2023-07-03 15:30:00  76.41  76.41  76.41  76.41      0\n",
      "\n",
      "[435 rows x 7 columns]\n",
      "(435, 7)\n",
      "   percent name       ts_code\n",
      "0        0  ACA  Arcosa, Inc.\n"
     ]
    },
    {
     "name": "stderr",
     "output_type": "stream",
     "text": [
      "/Users/zhangwenbo/miniforge3/lib/python3.10/site-packages/cashare/minute_data.py:96: FutureWarning: The frame.append method is deprecated and will be removed from pandas in a future version. Use pandas.concat instead.\n",
      "  df = df.append(lsss, ignore_index=True)\n"
     ]
    },
    {
     "name": "stdout",
     "output_type": "stream",
     "text": [
      "  stock_id                 date  open   low  high  close volume\n",
      "0     ACAB  2023-07-03 12:59:00  10.4  10.4  10.4   10.4    100\n",
      "(1, 7)\n",
      "Empty DataFrame\n",
      "Columns: []\n",
      "Index: []\n",
      "(0, 0)\n"
     ]
    },
    {
     "name": "stderr",
     "output_type": "stream",
     "text": [
      "/Users/zhangwenbo/miniforge3/lib/python3.10/site-packages/cashare/minute_data.py:96: FutureWarning: The frame.append method is deprecated and will be removed from pandas in a future version. Use pandas.concat instead.\n",
      "  df = df.append(lsss, ignore_index=True)\n",
      "/Users/zhangwenbo/miniforge3/lib/python3.10/site-packages/cashare/minute_data.py:96: FutureWarning: The frame.append method is deprecated and will be removed from pandas in a future version. Use pandas.concat instead.\n",
      "  df = df.append(lsss, ignore_index=True)\n"
     ]
    },
    {
     "name": "stdout",
     "output_type": "stream",
     "text": [
      "   stock_id                 date      open       low      high     close  \\\n",
      "0     ACABW  2023-06-29 13:31:00  0.028301  0.028301  0.028301  0.028301   \n",
      "1     ACABW  2023-06-29 14:52:00  0.031200  0.025000  0.031200  0.025000   \n",
      "2     ACABW  2023-06-29 14:58:00  0.025000  0.025000  0.025000  0.025000   \n",
      "3     ACABW  2023-06-29 15:03:00  0.030000  0.025000  0.030000  0.030000   \n",
      "4     ACABW  2023-06-29 15:04:00  0.030500  0.025100  0.030500  0.025100   \n",
      "5     ACABW  2023-06-29 15:05:00  0.025000  0.025000  0.025000  0.025000   \n",
      "6     ACABW  2023-06-29 15:06:00  0.025000  0.025000  0.025000  0.025000   \n",
      "7     ACABW  2023-06-29 15:17:00  0.030000  0.030000  0.030400  0.030400   \n",
      "8     ACABW  2023-07-03 12:20:00  0.025800  0.025800  0.028300  0.028300   \n",
      "9     ACABW  2023-07-03 12:21:00  0.048400  0.042800  0.048400  0.048400   \n",
      "10    ACABW  2023-07-03 12:22:00  0.046400  0.042100  0.046400  0.042300   \n",
      "11    ACABW  2023-07-03 12:23:00  0.042100  0.025300  0.042300  0.030300   \n",
      "\n",
      "   volume  \n",
      "0     100  \n",
      "1   97905  \n",
      "2    6787  \n",
      "3   28600  \n",
      "4   41500  \n",
      "5   12000  \n",
      "6    3400  \n",
      "7    3800  \n",
      "8     701  \n",
      "9     889  \n",
      "10    900  \n",
      "11   1304  \n",
      "(12, 7)\n"
     ]
    },
    {
     "name": "stderr",
     "output_type": "stream",
     "text": [
      "/Users/zhangwenbo/miniforge3/lib/python3.10/site-packages/cashare/minute_data.py:96: FutureWarning: The frame.append method is deprecated and will be removed from pandas in a future version. Use pandas.concat instead.\n",
      "  df = df.append(lsss, ignore_index=True)\n",
      "/Users/zhangwenbo/miniforge3/lib/python3.10/site-packages/cashare/minute_data.py:96: FutureWarning: The frame.append method is deprecated and will be removed from pandas in a future version. Use pandas.concat instead.\n",
      "  df = df.append(lsss, ignore_index=True)\n"
     ]
    },
    {
     "name": "stdout",
     "output_type": "stream",
     "text": [
      "  stock_id                 date     open      low     high    close volume\n",
      "0     ACAC  2023-06-29 12:07:00  10.8000  10.8000  10.8200  10.8000   5129\n",
      "1     ACAC  2023-06-29 12:08:00  10.8100  10.8100  10.8100  10.8100    134\n",
      "2     ACAC  2023-06-29 12:32:00  10.8000  10.8000  10.8000  10.8000   2166\n",
      "3     ACAC  2023-06-29 15:54:00  10.8084  10.8084  10.8084  10.8084    100\n",
      "4     ACAC  2023-06-30 09:30:00  10.8000  10.8000  10.8000  10.8000    632\n",
      "5     ACAC  2023-06-30 15:53:00  10.8252  10.8252  10.8252  10.8252    100\n",
      "6     ACAC  2023-06-30 15:54:00  10.8252  10.8252  10.8252  10.8252    100\n",
      "(7, 7)\n"
     ]
    },
    {
     "name": "stderr",
     "output_type": "stream",
     "text": [
      "/Users/zhangwenbo/miniforge3/lib/python3.10/site-packages/cashare/minute_data.py:96: FutureWarning: The frame.append method is deprecated and will be removed from pandas in a future version. Use pandas.concat instead.\n",
      "  df = df.append(lsss, ignore_index=True)\n",
      "/Users/zhangwenbo/miniforge3/lib/python3.10/site-packages/cashare/minute_data.py:96: FutureWarning: The frame.append method is deprecated and will be removed from pandas in a future version. Use pandas.concat instead.\n",
      "  df = df.append(lsss, ignore_index=True)\n"
     ]
    },
    {
     "name": "stdout",
     "output_type": "stream",
     "text": [
      "  stock_id                 date     open      low     high    close volume\n",
      "0    ACACU  2023-06-30 09:30:00  10.8900  10.8900  10.8900  10.8900    100\n",
      "1    ACACU  2023-06-30 12:18:00  11.9164  11.9164  11.9164  11.9164    100\n",
      "(2, 7)\n"
     ]
    },
    {
     "name": "stderr",
     "output_type": "stream",
     "text": [
      "/Users/zhangwenbo/miniforge3/lib/python3.10/site-packages/cashare/minute_data.py:96: FutureWarning: The frame.append method is deprecated and will be removed from pandas in a future version. Use pandas.concat instead.\n",
      "  df = df.append(lsss, ignore_index=True)\n",
      "/Users/zhangwenbo/miniforge3/lib/python3.10/site-packages/cashare/minute_data.py:96: FutureWarning: The frame.append method is deprecated and will be removed from pandas in a future version. Use pandas.concat instead.\n",
      "  df = df.append(lsss, ignore_index=True)\n"
     ]
    },
    {
     "name": "stdout",
     "output_type": "stream",
     "text": [
      "  stock_id                 date    open     low    high   close volume\n",
      "0    ACACW  2023-06-29 15:58:00  0.0630  0.0630  0.0630  0.0630    216\n",
      "1    ACACW  2023-06-30 12:46:00  0.0532  0.0460  0.0532  0.0460   2240\n",
      "2    ACACW  2023-06-30 12:47:00  0.0456  0.0351  0.0501  0.0501   2310\n",
      "(3, 7)\n"
     ]
    },
    {
     "name": "stderr",
     "output_type": "stream",
     "text": [
      "/Users/zhangwenbo/miniforge3/lib/python3.10/site-packages/cashare/minute_data.py:96: FutureWarning: The frame.append method is deprecated and will be removed from pandas in a future version. Use pandas.concat instead.\n",
      "  df = df.append(lsss, ignore_index=True)\n",
      "/Users/zhangwenbo/miniforge3/lib/python3.10/site-packages/cashare/minute_data.py:96: FutureWarning: The frame.append method is deprecated and will be removed from pandas in a future version. Use pandas.concat instead.\n",
      "  df = df.append(lsss, ignore_index=True)\n"
     ]
    },
    {
     "name": "stdout",
     "output_type": "stream",
     "text": [
      "    stock_id                 date     open      low    high   close  volume\n",
      "0       ACAD  2023-06-29 09:30:00  24.1600  24.0400  24.255  24.070    7806\n",
      "1       ACAD  2023-06-29 09:32:00  24.1300  24.0800  24.160  24.140    2395\n",
      "2       ACAD  2023-06-29 09:33:00  24.0605  24.0605  24.120  24.100    1490\n",
      "3       ACAD  2023-06-29 09:34:00  24.1150  24.0350  24.115  24.035     923\n",
      "4       ACAD  2023-06-29 09:36:00  24.0200  24.0200  24.060  24.040    1782\n",
      "..       ...                  ...      ...      ...     ...     ...     ...\n",
      "911     ACAD  2023-07-03 12:56:00  24.0000  23.9600  24.000  23.960    2204\n",
      "912     ACAD  2023-07-03 12:57:00  23.9650  23.9600  23.970  23.970    1593\n",
      "913     ACAD  2023-07-03 12:58:00  23.9600  23.9600  23.970  23.960    1731\n",
      "914     ACAD  2023-07-03 12:59:00  23.9600  23.9600  24.010  23.980   12916\n",
      "915     ACAD  2023-07-03 13:00:00  24.0000  24.0000  24.000  24.000  165345\n",
      "\n",
      "[916 rows x 7 columns]\n",
      "(916, 7)\n",
      "   percent  name                      ts_code\n",
      "0        1  ACAD  ACADIA Pharmaceuticals Inc.\n",
      "Empty DataFrame\n",
      "Columns: []\n",
      "Index: []\n",
      "(0, 0)\n",
      "Empty DataFrame\n",
      "Columns: []\n",
      "Index: []\n",
      "(0, 0)\n"
     ]
    },
    {
     "name": "stderr",
     "output_type": "stream",
     "text": [
      "/Users/zhangwenbo/miniforge3/lib/python3.10/site-packages/cashare/minute_data.py:96: FutureWarning: The frame.append method is deprecated and will be removed from pandas in a future version. Use pandas.concat instead.\n",
      "  df = df.append(lsss, ignore_index=True)\n",
      "/Users/zhangwenbo/miniforge3/lib/python3.10/site-packages/cashare/minute_data.py:96: FutureWarning: The frame.append method is deprecated and will be removed from pandas in a future version. Use pandas.concat instead.\n",
      "  df = df.append(lsss, ignore_index=True)\n"
     ]
    },
    {
     "name": "stdout",
     "output_type": "stream",
     "text": [
      "   stock_id                 date    open     low    high   close volume\n",
      "0     ACAHW  2023-06-29 11:18:00  0.0460  0.0400  0.0460  0.0400    400\n",
      "1     ACAHW  2023-06-29 11:19:00  0.0400  0.0400  0.0400  0.0400    500\n",
      "2     ACAHW  2023-06-29 11:24:00  0.0399  0.0300  0.0399  0.0300   2900\n",
      "3     ACAHW  2023-06-29 11:47:00  0.0300  0.0300  0.0300  0.0300    100\n",
      "4     ACAHW  2023-06-29 12:13:00  0.0530  0.0300  0.0600  0.0319   5300\n",
      "5     ACAHW  2023-06-29 13:04:00  0.0255  0.0250  0.0255  0.0250    800\n",
      "6     ACAHW  2023-06-29 13:18:00  0.0225  0.0225  0.0225  0.0225    100\n",
      "7     ACAHW  2023-06-29 13:51:00  0.0184  0.0184  0.0241  0.0241    963\n",
      "8     ACAHW  2023-06-29 13:52:00  0.0184  0.0184  0.0231  0.0228   1670\n",
      "9     ACAHW  2023-06-29 13:53:00  0.0209  0.0209  0.0239  0.0239    806\n",
      "10    ACAHW  2023-06-29 13:54:00  0.0584  0.0257  0.0584  0.0257   2204\n",
      "11    ACAHW  2023-06-29 13:56:00  0.0430  0.0273  0.0589  0.0430   4000\n",
      "12    ACAHW  2023-06-29 13:57:00  0.0589  0.0251  0.0589  0.0255   7112\n",
      "13    ACAHW  2023-06-29 13:58:00  0.0161  0.0161  0.0245  0.0230   2816\n",
      "14    ACAHW  2023-06-29 13:59:00  0.0150  0.0150  0.0221  0.0187   3500\n",
      "15    ACAHW  2023-06-29 14:00:00  0.0150  0.0150  0.0220  0.0220   2621\n",
      "16    ACAHW  2023-06-29 14:01:00  0.0156  0.0156  0.0199  0.0199   1096\n",
      "17    ACAHW  2023-06-29 14:02:00  0.0576  0.0256  0.0576  0.0256   3001\n",
      "18    ACAHW  2023-06-29 14:03:00  0.0432  0.0250  0.0581  0.0254   8603\n",
      "19    ACAHW  2023-06-29 14:04:00  0.0432  0.0251  0.0586  0.0251   4301\n",
      "20    ACAHW  2023-06-29 14:05:00  0.0437  0.0254  0.0576  0.0254   7200\n",
      "21    ACAHW  2023-06-29 14:06:00  0.0251  0.0177  0.0251  0.0205   2910\n",
      "22    ACAHW  2023-06-29 14:07:00  0.0589  0.0250  0.0589  0.0254   7509\n",
      "23    ACAHW  2023-06-29 14:08:00  0.0254  0.0254  0.0254  0.0254    500\n",
      "24    ACAHW  2023-06-29 14:09:00  0.0287  0.0258  0.0300  0.0258   5400\n",
      "25    ACAHW  2023-06-29 14:15:00  0.0280  0.0252  0.0280  0.0252   5200\n",
      "26    ACAHW  2023-06-29 15:42:00  0.0234  0.0210  0.0234  0.0210    200\n",
      "27    ACAHW  2023-06-30 09:30:00  0.0313  0.0313  0.0313  0.0313   1000\n",
      "28    ACAHW  2023-06-30 09:45:00  0.0268  0.0268  0.0300  0.0287   5100\n",
      "29    ACAHW  2023-06-30 10:53:00  0.0190  0.0190  0.0250  0.0250   3547\n",
      "30    ACAHW  2023-06-30 10:54:00  0.0250  0.0250  0.0250  0.0250    266\n",
      "31    ACAHW  2023-06-30 11:36:00  0.0300  0.0300  0.0300  0.0300    687\n",
      "32    ACAHW  2023-06-30 11:37:00  0.0300  0.0300  0.0300  0.0300    405\n",
      "33    ACAHW  2023-06-30 11:41:00  0.0401  0.0401  0.0401  0.0401    200\n",
      "34    ACAHW  2023-06-30 15:50:00  0.0250  0.0250  0.0250  0.0250    700\n",
      "35    ACAHW  2023-06-30 15:59:00  0.0250  0.0226  0.0250  0.0226   1352\n",
      "36    ACAHW  2023-07-03 09:58:00  0.0280  0.0280  0.0280  0.0280    100\n",
      "37    ACAHW  2023-07-03 12:59:00  0.0280  0.0280  0.0280  0.0280   4855\n",
      "(38, 7)\n"
     ]
    },
    {
     "name": "stderr",
     "output_type": "stream",
     "text": [
      "/Users/zhangwenbo/miniforge3/lib/python3.10/site-packages/cashare/minute_data.py:96: FutureWarning: The frame.append method is deprecated and will be removed from pandas in a future version. Use pandas.concat instead.\n",
      "  df = df.append(lsss, ignore_index=True)\n",
      "/Users/zhangwenbo/miniforge3/lib/python3.10/site-packages/cashare/minute_data.py:96: FutureWarning: The frame.append method is deprecated and will be removed from pandas in a future version. Use pandas.concat instead.\n",
      "  df = df.append(lsss, ignore_index=True)\n"
     ]
    },
    {
     "name": "stdout",
     "output_type": "stream",
     "text": [
      "  stock_id                 date   open    low   high  close volume\n",
      "0     ACAQ  2023-06-29 11:01:00  10.82  10.82  10.82  10.82    300\n",
      "1     ACAQ  2023-06-29 11:37:00  10.82  10.82  10.82  10.82    300\n",
      "2     ACAQ  2023-06-30 09:32:00  10.83  10.83  10.83  10.83    100\n",
      "3     ACAQ  2023-06-30 09:50:00  10.83  10.83  10.83  10.83    200\n",
      "4     ACAQ  2023-07-03 10:55:00  10.85  10.85  10.85  10.85    300\n",
      "5     ACAQ  2023-07-03 13:10:00  10.85  10.85  10.85  10.85      0\n",
      "6     ACAQ  2023-07-03 15:30:00  10.85  10.85  10.85  10.85      0\n",
      "(7, 7)\n",
      "Empty DataFrame\n",
      "Columns: []\n",
      "Index: []\n",
      "(0, 0)\n"
     ]
    },
    {
     "name": "stderr",
     "output_type": "stream",
     "text": [
      "/Users/zhangwenbo/miniforge3/lib/python3.10/site-packages/cashare/minute_data.py:96: FutureWarning: The frame.append method is deprecated and will be removed from pandas in a future version. Use pandas.concat instead.\n",
      "  df = df.append(lsss, ignore_index=True)\n"
     ]
    },
    {
     "name": "stdout",
     "output_type": "stream",
     "text": [
      "  stock_id                 date    open     low    high   close volume\n",
      "0  ACAQ-WT  2023-06-29 11:19:00  0.0350  0.0350  0.0350  0.0350    200\n",
      "1  ACAQ-WT  2023-06-29 11:42:00  0.0594  0.0594  0.0594  0.0594   4300\n",
      "(2, 7)\n",
      "Empty DataFrame\n",
      "Columns: []\n",
      "Index: []\n",
      "(0, 0)\n"
     ]
    },
    {
     "name": "stderr",
     "output_type": "stream",
     "text": [
      "/Users/zhangwenbo/miniforge3/lib/python3.10/site-packages/cashare/minute_data.py:96: FutureWarning: The frame.append method is deprecated and will be removed from pandas in a future version. Use pandas.concat instead.\n",
      "  df = df.append(lsss, ignore_index=True)\n",
      "/Users/zhangwenbo/miniforge3/lib/python3.10/site-packages/cashare/minute_data.py:96: FutureWarning: The frame.append method is deprecated and will be removed from pandas in a future version. Use pandas.concat instead.\n",
      "  df = df.append(lsss, ignore_index=True)\n"
     ]
    },
    {
     "name": "stdout",
     "output_type": "stream",
     "text": [
      "  stock_id                 date      open       low      high     close volume\n",
      "0    ACAXR  2023-06-29 11:18:00  0.277700  0.277700  0.277700  0.277700   1000\n",
      "1    ACAXR  2023-06-29 12:44:00  0.244900  0.244900  0.250973  0.250973    400\n",
      "2    ACAXR  2023-06-29 12:54:00  0.244900  0.244900  0.244900  0.244900   4800\n",
      "3    ACAXR  2023-06-29 14:54:00  0.282800  0.282800  0.282800  0.282800   1151\n",
      "4    ACAXR  2023-06-30 13:22:00  0.282699  0.282699  0.282800  0.282800   5000\n",
      "5    ACAXR  2023-06-30 13:23:00  0.282800  0.282800  0.282800  0.282800   2000\n",
      "6    ACAXR  2023-06-30 14:32:00  0.282800  0.274460  0.282800  0.282800   5400\n",
      "7    ACAXR  2023-06-30 14:33:00  0.268900  0.268900  0.282800  0.282800   6641\n",
      "8    ACAXR  2023-06-30 15:59:00  0.315900  0.315800  0.315900  0.315800    400\n",
      "(9, 7)\n",
      "Empty DataFrame\n",
      "Columns: []\n",
      "Index: []\n",
      "(0, 0)\n"
     ]
    },
    {
     "name": "stderr",
     "output_type": "stream",
     "text": [
      "/Users/zhangwenbo/miniforge3/lib/python3.10/site-packages/cashare/minute_data.py:96: FutureWarning: The frame.append method is deprecated and will be removed from pandas in a future version. Use pandas.concat instead.\n",
      "  df = df.append(lsss, ignore_index=True)\n",
      "/Users/zhangwenbo/miniforge3/lib/python3.10/site-packages/cashare/minute_data.py:96: FutureWarning: The frame.append method is deprecated and will be removed from pandas in a future version. Use pandas.concat instead.\n",
      "  df = df.append(lsss, ignore_index=True)\n"
     ]
    },
    {
     "name": "stdout",
     "output_type": "stream",
     "text": [
      "  stock_id                 date    open     low    high   close volume\n",
      "0    ACAXW  2023-06-29 12:45:00  0.0325  0.0325  0.0325  0.0325   5000\n",
      "1    ACAXW  2023-06-29 12:46:00  0.0325  0.0325  0.0325  0.0325   5000\n",
      "2    ACAXW  2023-06-29 12:47:00  0.0325  0.0325  0.0339  0.0339    600\n",
      "3    ACAXW  2023-06-29 15:06:00  0.0400  0.0399  0.0400  0.0399   1000\n",
      "4    ACAXW  2023-06-30 15:27:00  0.0400  0.0400  0.0400  0.0400   1700\n",
      "5    ACAXW  2023-07-03 11:10:00  0.0329  0.0329  0.0329  0.0329    500\n",
      "6    ACAXW  2023-07-03 12:38:00  0.0400  0.0400  0.0400  0.0400    300\n",
      "(7, 7)\n"
     ]
    },
    {
     "name": "stderr",
     "output_type": "stream",
     "text": [
      "/Users/zhangwenbo/miniforge3/lib/python3.10/site-packages/cashare/minute_data.py:96: FutureWarning: The frame.append method is deprecated and will be removed from pandas in a future version. Use pandas.concat instead.\n",
      "  df = df.append(lsss, ignore_index=True)\n",
      "/Users/zhangwenbo/miniforge3/lib/python3.10/site-packages/cashare/minute_data.py:96: FutureWarning: The frame.append method is deprecated and will be removed from pandas in a future version. Use pandas.concat instead.\n",
      "  df = df.append(lsss, ignore_index=True)\n"
     ]
    },
    {
     "name": "stdout",
     "output_type": "stream",
     "text": [
      "    stock_id                 date      open       low      high     close  \\\n",
      "0        ACB  2023-06-29 09:30:00  0.530000  0.528200  0.530000  0.528522   \n",
      "1        ACB  2023-06-29 09:31:00  0.529051  0.529051  0.529051  0.529051   \n",
      "2        ACB  2023-06-29 09:32:00  0.529900  0.529100  0.529900  0.529100   \n",
      "3        ACB  2023-06-29 09:33:00  0.529999  0.529999  0.529999  0.529999   \n",
      "4        ACB  2023-06-29 09:34:00  0.529000  0.529000  0.530000  0.530000   \n",
      "..       ...                  ...       ...       ...       ...       ...   \n",
      "889      ACB  2023-07-03 12:57:00  0.582200  0.582100  0.582200  0.582200   \n",
      "890      ACB  2023-07-03 12:58:00  0.582200  0.580000  0.582200  0.580100   \n",
      "891      ACB  2023-07-03 12:59:00  0.580000  0.577000  0.580000  0.578900   \n",
      "892      ACB  2023-07-03 13:00:00  0.580100  0.580100  0.580100  0.580100   \n",
      "893      ACB  2023-07-03 16:00:00  0.586500  0.586500  0.594000  0.594000   \n",
      "\n",
      "    volume  \n",
      "0    48846  \n",
      "1      163  \n",
      "2     1197  \n",
      "3      542  \n",
      "4    30911  \n",
      "..     ...  \n",
      "889   6887  \n",
      "890  14786  \n",
      "891  19748  \n",
      "892   8189  \n",
      "893   1030  \n",
      "\n",
      "[894 rows x 7 columns]\n",
      "(894, 7)\n",
      "   percent name               ts_code\n",
      "0        0  ACB  Aurora Cannabis Inc.\n"
     ]
    },
    {
     "name": "stderr",
     "output_type": "stream",
     "text": [
      "/Users/zhangwenbo/miniforge3/lib/python3.10/site-packages/cashare/minute_data.py:96: FutureWarning: The frame.append method is deprecated and will be removed from pandas in a future version. Use pandas.concat instead.\n",
      "  df = df.append(lsss, ignore_index=True)\n",
      "/Users/zhangwenbo/miniforge3/lib/python3.10/site-packages/cashare/minute_data.py:96: FutureWarning: The frame.append method is deprecated and will be removed from pandas in a future version. Use pandas.concat instead.\n",
      "  df = df.append(lsss, ignore_index=True)\n"
     ]
    },
    {
     "name": "stdout",
     "output_type": "stream",
     "text": [
      "  stock_id                 date   open    low   high  close volume\n",
      "0     ACBA  2023-06-29 15:59:00  11.21  11.21  11.21  11.21    100\n",
      "1     ACBA  2023-06-30 15:59:00  11.21  11.21  11.21  11.21    100\n",
      "2     ACBA  2023-07-03 10:38:00  11.24  11.24  11.24  11.24    100\n",
      "3     ACBA  2023-07-03 12:59:00  11.21  11.21  11.21  11.21    100\n",
      "(4, 7)\n"
     ]
    },
    {
     "name": "stderr",
     "output_type": "stream",
     "text": [
      "/Users/zhangwenbo/miniforge3/lib/python3.10/site-packages/cashare/minute_data.py:96: FutureWarning: The frame.append method is deprecated and will be removed from pandas in a future version. Use pandas.concat instead.\n",
      "  df = df.append(lsss, ignore_index=True)\n",
      "/Users/zhangwenbo/miniforge3/lib/python3.10/site-packages/cashare/minute_data.py:96: FutureWarning: The frame.append method is deprecated and will be removed from pandas in a future version. Use pandas.concat instead.\n",
      "  df = df.append(lsss, ignore_index=True)\n"
     ]
    },
    {
     "name": "stdout",
     "output_type": "stream",
     "text": [
      "  stock_id                 date  open   low  high  close volume\n",
      "0    ACBAU  2023-06-29 15:59:00  10.9  10.9  10.9   10.9    100\n",
      "1    ACBAU  2023-06-30 15:59:00  10.9  10.9  10.9   10.9    100\n",
      "2    ACBAU  2023-07-03 12:59:00  10.9  10.9  10.9   10.9    100\n",
      "(3, 7)\n",
      "Empty DataFrame\n",
      "Columns: []\n",
      "Index: []\n",
      "(0, 0)\n",
      "Empty DataFrame\n",
      "Columns: []\n",
      "Index: []\n",
      "(0, 0)\n"
     ]
    },
    {
     "name": "stderr",
     "output_type": "stream",
     "text": [
      "/Users/zhangwenbo/miniforge3/lib/python3.10/site-packages/cashare/minute_data.py:96: FutureWarning: The frame.append method is deprecated and will be removed from pandas in a future version. Use pandas.concat instead.\n",
      "  df = df.append(lsss, ignore_index=True)\n",
      "/Users/zhangwenbo/miniforge3/lib/python3.10/site-packages/cashare/minute_data.py:96: FutureWarning: The frame.append method is deprecated and will be removed from pandas in a future version. Use pandas.concat instead.\n",
      "  df = df.append(lsss, ignore_index=True)\n"
     ]
    },
    {
     "name": "stdout",
     "output_type": "stream",
     "text": [
      "    stock_id                 date    open     low    high   close volume\n",
      "0       ACCD  2023-06-29 09:30:00  12.700  12.650  12.725  12.660   6729\n",
      "1       ACCD  2023-06-29 09:31:00  12.670  12.650  12.670  12.670    923\n",
      "2       ACCD  2023-06-29 09:32:00  12.685  12.685  12.810  12.810   1138\n",
      "3       ACCD  2023-06-29 09:33:00  12.810  12.810  12.845  12.845   2580\n",
      "4       ACCD  2023-06-29 09:34:00  12.832  12.830  12.855  12.855    774\n",
      "..       ...                  ...     ...     ...     ...     ...    ...\n",
      "914     ACCD  2023-07-03 12:56:00  13.120  13.120  13.130  13.120   4850\n",
      "915     ACCD  2023-07-03 12:57:00  13.120  13.115  13.135  13.135   3691\n",
      "916     ACCD  2023-07-03 12:58:00  13.130  13.120  13.130  13.130   6471\n",
      "917     ACCD  2023-07-03 12:59:00  13.130  13.130  13.190  13.190  14475\n",
      "918     ACCD  2023-07-03 13:00:00  13.190  13.190  13.190  13.190  46706\n",
      "\n",
      "[919 rows x 7 columns]\n",
      "(919, 7)\n",
      "   percent  name         ts_code\n",
      "0        0  ACCD  Accolade, Inc.\n"
     ]
    },
    {
     "name": "stderr",
     "output_type": "stream",
     "text": [
      "/Users/zhangwenbo/miniforge3/lib/python3.10/site-packages/cashare/minute_data.py:96: FutureWarning: The frame.append method is deprecated and will be removed from pandas in a future version. Use pandas.concat instead.\n",
      "  df = df.append(lsss, ignore_index=True)\n",
      "/Users/zhangwenbo/miniforge3/lib/python3.10/site-packages/cashare/minute_data.py:96: FutureWarning: The frame.append method is deprecated and will be removed from pandas in a future version. Use pandas.concat instead.\n",
      "  df = df.append(lsss, ignore_index=True)\n"
     ]
    },
    {
     "name": "stdout",
     "output_type": "stream",
     "text": [
      "    stock_id                 date   open    low  high  close volume\n",
      "0       ACCO  2023-06-29 09:30:00  5.180  5.180  5.19  5.190   3015\n",
      "1       ACCO  2023-06-29 09:32:00  5.190  5.190  5.20  5.200   1623\n",
      "2       ACCO  2023-06-29 09:34:00  5.200  5.200  5.20  5.200    403\n",
      "3       ACCO  2023-06-29 09:36:00  5.200  5.200  5.20  5.200   2367\n",
      "4       ACCO  2023-06-29 09:37:00  5.200  5.195  5.20  5.195    312\n",
      "..       ...                  ...    ...    ...   ...    ...    ...\n",
      "762     ACCO  2023-07-03 12:58:00  5.375  5.375  5.38  5.380   6001\n",
      "763     ACCO  2023-07-03 12:59:00  5.380  5.379  5.41  5.410  41143\n",
      "764     ACCO  2023-07-03 13:00:00  5.400  5.400  5.40  5.400  34972\n",
      "765     ACCO  2023-07-03 13:10:00  5.400  5.400  5.40  5.400      0\n",
      "766     ACCO  2023-07-03 15:30:00  5.400  5.400  5.40  5.400      0\n",
      "\n",
      "[767 rows x 7 columns]\n",
      "(767, 7)\n",
      "   percent  name                  ts_code\n",
      "0        1  ACCO  ACCO Brands Corporation\n"
     ]
    },
    {
     "name": "stderr",
     "output_type": "stream",
     "text": [
      "/Users/zhangwenbo/miniforge3/lib/python3.10/site-packages/cashare/minute_data.py:96: FutureWarning: The frame.append method is deprecated and will be removed from pandas in a future version. Use pandas.concat instead.\n",
      "  df = df.append(lsss, ignore_index=True)\n",
      "/Users/zhangwenbo/miniforge3/lib/python3.10/site-packages/cashare/minute_data.py:96: FutureWarning: The frame.append method is deprecated and will be removed from pandas in a future version. Use pandas.concat instead.\n",
      "  df = df.append(lsss, ignore_index=True)\n"
     ]
    },
    {
     "name": "stdout",
     "output_type": "stream",
     "text": [
      "    stock_id                 date    open     low    high    close volume\n",
      "0       ACDC  2023-06-29 09:30:00  11.840  11.840  11.990  11.8700   2007\n",
      "1       ACDC  2023-06-29 09:35:00  11.850  11.850  11.850  11.8500    116\n",
      "2       ACDC  2023-06-29 09:36:00  11.960  11.940  11.990  11.9550   1136\n",
      "3       ACDC  2023-06-29 09:37:00  11.990  11.960  12.020  12.0200   1856\n",
      "4       ACDC  2023-06-29 09:38:00  12.010  11.960  12.010  11.9738   6194\n",
      "..       ...                  ...     ...     ...     ...      ...    ...\n",
      "827     ACDC  2023-07-03 12:56:00  11.420  11.420  11.425  11.4250   1937\n",
      "828     ACDC  2023-07-03 12:57:00  11.420  11.420  11.420  11.4200   1305\n",
      "829     ACDC  2023-07-03 12:58:00  11.425  11.425  11.430  11.4300   2867\n",
      "830     ACDC  2023-07-03 12:59:00  11.440  11.410  11.440  11.4300   6237\n",
      "831     ACDC  2023-07-03 13:00:00  11.430  11.430  11.430  11.4300  27779\n",
      "\n",
      "[832 rows x 7 columns]\n",
      "(832, 7)\n",
      "   percent  name                ts_code\n",
      "0        0  ACDC  ProFrac Holding Corp.\n"
     ]
    },
    {
     "name": "stderr",
     "output_type": "stream",
     "text": [
      "/Users/zhangwenbo/miniforge3/lib/python3.10/site-packages/cashare/minute_data.py:96: FutureWarning: The frame.append method is deprecated and will be removed from pandas in a future version. Use pandas.concat instead.\n",
      "  df = df.append(lsss, ignore_index=True)\n",
      "/Users/zhangwenbo/miniforge3/lib/python3.10/site-packages/cashare/minute_data.py:96: FutureWarning: The frame.append method is deprecated and will be removed from pandas in a future version. Use pandas.concat instead.\n",
      "  df = df.append(lsss, ignore_index=True)\n"
     ]
    },
    {
     "name": "stdout",
     "output_type": "stream",
     "text": [
      "   stock_id                 date    open     low    high   close volume\n",
      "0     ACDCW  2023-06-29 09:44:00  0.0090  0.0090  0.0090  0.0090   1000\n",
      "1     ACDCW  2023-06-29 10:19:00  0.0090  0.0090  0.0090  0.0090   1000\n",
      "2     ACDCW  2023-06-29 13:55:00  0.0068  0.0068  0.0068  0.0068    750\n",
      "3     ACDCW  2023-06-29 15:46:00  0.0090  0.0090  0.0090  0.0090    200\n",
      "4     ACDCW  2023-06-29 15:58:00  0.0090  0.0090  0.0090  0.0090    221\n",
      "5     ACDCW  2023-06-30 09:30:00  0.0067  0.0067  0.0067  0.0067  10000\n",
      "6     ACDCW  2023-06-30 09:44:00  0.0090  0.0067  0.0090  0.0067   2000\n",
      "7     ACDCW  2023-06-30 11:43:00  0.0070  0.0070  0.0070  0.0070   5064\n",
      "8     ACDCW  2023-06-30 11:52:00  0.0070  0.0070  0.0070  0.0070   5100\n",
      "9     ACDCW  2023-06-30 11:57:00  0.0067  0.0067  0.0067  0.0067   8000\n",
      "10    ACDCW  2023-06-30 11:58:00  0.0068  0.0068  0.0068  0.0068    900\n",
      "11    ACDCW  2023-06-30 11:59:00  0.0070  0.0069  0.0070  0.0069   2000\n",
      "12    ACDCW  2023-07-03 12:50:00  0.0090  0.0090  0.0090  0.0090    200\n",
      "(13, 7)\n",
      "Empty DataFrame\n",
      "Columns: []\n",
      "Index: []\n",
      "(0, 0)\n",
      "Empty DataFrame\n",
      "Columns: []\n",
      "Index: []\n",
      "(0, 0)\n"
     ]
    },
    {
     "name": "stderr",
     "output_type": "stream",
     "text": [
      "/Users/zhangwenbo/miniforge3/lib/python3.10/site-packages/cashare/minute_data.py:96: FutureWarning: The frame.append method is deprecated and will be removed from pandas in a future version. Use pandas.concat instead.\n",
      "  df = df.append(lsss, ignore_index=True)\n",
      "/Users/zhangwenbo/miniforge3/lib/python3.10/site-packages/cashare/minute_data.py:96: FutureWarning: The frame.append method is deprecated and will be removed from pandas in a future version. Use pandas.concat instead.\n",
      "  df = df.append(lsss, ignore_index=True)\n"
     ]
    },
    {
     "name": "stdout",
     "output_type": "stream",
     "text": [
      "    stock_id                 date    open     low    high   close volume\n",
      "0       ACEL  2023-06-29 09:30:00  10.250  10.250  10.250  10.250   1817\n",
      "1       ACEL  2023-06-29 09:32:00  10.290  10.280  10.300  10.280    675\n",
      "2       ACEL  2023-06-29 09:34:00  10.270  10.260  10.270  10.260    254\n",
      "3       ACEL  2023-06-29 09:39:00  10.280  10.280  10.280  10.280    396\n",
      "4       ACEL  2023-06-29 09:44:00  10.290  10.290  10.290  10.290    447\n",
      "..       ...                  ...     ...     ...     ...     ...    ...\n",
      "611     ACEL  2023-07-03 12:58:00  10.645  10.645  10.645  10.645    544\n",
      "612     ACEL  2023-07-03 12:59:00  10.645  10.640  10.660  10.660   3844\n",
      "613     ACEL  2023-07-03 13:00:00  10.650  10.640  10.650  10.640  13130\n",
      "614     ACEL  2023-07-03 13:10:00  10.640  10.640  10.640  10.640      0\n",
      "615     ACEL  2023-07-03 15:30:00  10.640  10.640  10.640  10.640      0\n",
      "\n",
      "[616 rows x 7 columns]\n",
      "(616, 7)\n",
      "   percent  name                    ts_code\n",
      "0        0  ACEL  Accel Entertainment, Inc.\n"
     ]
    },
    {
     "name": "stderr",
     "output_type": "stream",
     "text": [
      "/Users/zhangwenbo/miniforge3/lib/python3.10/site-packages/cashare/minute_data.py:96: FutureWarning: The frame.append method is deprecated and will be removed from pandas in a future version. Use pandas.concat instead.\n",
      "  df = df.append(lsss, ignore_index=True)\n",
      "/Users/zhangwenbo/miniforge3/lib/python3.10/site-packages/cashare/minute_data.py:96: FutureWarning: The frame.append method is deprecated and will be removed from pandas in a future version. Use pandas.concat instead.\n",
      "  df = df.append(lsss, ignore_index=True)\n"
     ]
    },
    {
     "name": "stdout",
     "output_type": "stream",
     "text": [
      "    stock_id                 date      open       low      high     close  \\\n",
      "0       ACER  2023-06-29 09:30:00  0.835000  0.835000  0.835000  0.835000   \n",
      "1       ACER  2023-06-29 09:43:00  0.840000  0.840000  0.840000  0.840000   \n",
      "2       ACER  2023-06-29 09:44:00  0.846600  0.846600  0.846600  0.846600   \n",
      "3       ACER  2023-06-29 09:45:00  0.844701  0.844701  0.844701  0.844701   \n",
      "4       ACER  2023-06-29 09:56:00  0.839900  0.839900  0.849700  0.849700   \n",
      "..       ...                  ...       ...       ...       ...       ...   \n",
      "129     ACER  2023-07-03 12:22:00  0.959900  0.959900  0.959900  0.959900   \n",
      "130     ACER  2023-07-03 12:40:00  0.959899  0.959899  0.959899  0.959899   \n",
      "131     ACER  2023-07-03 12:41:00  0.930600  0.930600  0.951700  0.951700   \n",
      "132     ACER  2023-07-03 12:51:00  0.930700  0.930700  0.930700  0.930700   \n",
      "133     ACER  2023-07-03 13:00:00  0.940700  0.940700  0.940700  0.940700   \n",
      "\n",
      "    volume  \n",
      "0     1028  \n",
      "1     1000  \n",
      "2      100  \n",
      "3     2528  \n",
      "4      750  \n",
      "..     ...  \n",
      "129    250  \n",
      "130    400  \n",
      "131   6448  \n",
      "132    250  \n",
      "133    104  \n",
      "\n",
      "[134 rows x 7 columns]\n",
      "(134, 7)\n",
      "   percent  name                 ts_code\n",
      "0        1  ACER  Acer Therapeutics Inc.\n"
     ]
    },
    {
     "name": "stderr",
     "output_type": "stream",
     "text": [
      "/Users/zhangwenbo/miniforge3/lib/python3.10/site-packages/cashare/minute_data.py:96: FutureWarning: The frame.append method is deprecated and will be removed from pandas in a future version. Use pandas.concat instead.\n",
      "  df = df.append(lsss, ignore_index=True)\n",
      "/Users/zhangwenbo/miniforge3/lib/python3.10/site-packages/cashare/minute_data.py:96: FutureWarning: The frame.append method is deprecated and will be removed from pandas in a future version. Use pandas.concat instead.\n",
      "  df = df.append(lsss, ignore_index=True)\n"
     ]
    },
    {
     "name": "stdout",
     "output_type": "stream",
     "text": [
      "    stock_id                 date    open     low   high   close volume\n",
      "0       ACET  2023-06-29 09:30:00  2.5700  2.5300  2.600  2.5300  47469\n",
      "1       ACET  2023-06-29 09:31:00  2.5200  2.4500  2.520  2.4515  22978\n",
      "2       ACET  2023-06-29 09:32:00  2.4500  2.4500  2.470  2.4520   4566\n",
      "3       ACET  2023-06-29 09:33:00  2.4600  2.4500  2.490  2.4600  33393\n",
      "4       ACET  2023-06-29 09:34:00  2.4600  2.4401  2.460  2.4401   1899\n",
      "..       ...                  ...     ...     ...    ...     ...    ...\n",
      "950     ACET  2023-07-03 12:56:00  2.7600  2.7600  2.785  2.7800  10919\n",
      "951     ACET  2023-07-03 12:57:00  2.7800  2.7100  2.780  2.7100  22827\n",
      "952     ACET  2023-07-03 12:58:00  2.7100  2.7100  2.730  2.7200  26839\n",
      "953     ACET  2023-07-03 12:59:00  2.7211  2.7000  2.725  2.7200  42102\n",
      "954     ACET  2023-07-03 13:00:00  2.7300  2.7300  2.730  2.7300  54884\n",
      "\n",
      "[955 rows x 7 columns]\n",
      "(955, 7)\n",
      "   percent  name           ts_code\n",
      "0        1  ACET  Adicet Bio, Inc.\n",
      "Empty DataFrame\n",
      "Columns: []\n",
      "Index: []\n",
      "(0, 0)\n",
      "Empty DataFrame\n",
      "Columns: []\n",
      "Index: []\n",
      "(0, 0)\n"
     ]
    },
    {
     "name": "stderr",
     "output_type": "stream",
     "text": [
      "/Users/zhangwenbo/miniforge3/lib/python3.10/site-packages/cashare/minute_data.py:96: FutureWarning: The frame.append method is deprecated and will be removed from pandas in a future version. Use pandas.concat instead.\n",
      "  df = df.append(lsss, ignore_index=True)\n",
      "/Users/zhangwenbo/miniforge3/lib/python3.10/site-packages/cashare/minute_data.py:96: FutureWarning: The frame.append method is deprecated and will be removed from pandas in a future version. Use pandas.concat instead.\n",
      "  df = df.append(lsss, ignore_index=True)\n"
     ]
    },
    {
     "name": "stdout",
     "output_type": "stream",
     "text": [
      "    stock_id                 date    open     low    high   close  volume\n",
      "0       ACGL  2023-06-29 09:30:00  72.060  71.790  72.060  71.790   13821\n",
      "1       ACGL  2023-06-29 09:31:00  71.720  71.690  71.930  71.930    2691\n",
      "2       ACGL  2023-06-29 09:32:00  71.960  71.750  71.960  71.750    1813\n",
      "3       ACGL  2023-06-29 09:33:00  71.770  71.770  71.770  71.770     345\n",
      "4       ACGL  2023-06-29 09:34:00  71.860  71.790  71.860  71.790    1182\n",
      "..       ...                  ...     ...     ...     ...     ...     ...\n",
      "969     ACGL  2023-07-03 12:56:00  74.060  73.981  74.060  73.985    7536\n",
      "970     ACGL  2023-07-03 12:57:00  73.985  73.960  73.985  73.965    7809\n",
      "971     ACGL  2023-07-03 12:58:00  73.970  73.970  74.010  74.010    9300\n",
      "972     ACGL  2023-07-03 12:59:00  74.000  73.980  74.020  73.980   27667\n",
      "973     ACGL  2023-07-03 13:00:00  73.990  73.990  73.990  73.990  147711\n",
      "\n",
      "[974 rows x 7 columns]\n",
      "(974, 7)\n",
      "   percent  name                  ts_code\n",
      "0        1  ACGL  Arch Capital Group Ltd.\n"
     ]
    },
    {
     "name": "stderr",
     "output_type": "stream",
     "text": [
      "/Users/zhangwenbo/miniforge3/lib/python3.10/site-packages/cashare/minute_data.py:96: FutureWarning: The frame.append method is deprecated and will be removed from pandas in a future version. Use pandas.concat instead.\n",
      "  df = df.append(lsss, ignore_index=True)\n",
      "/Users/zhangwenbo/miniforge3/lib/python3.10/site-packages/cashare/minute_data.py:96: FutureWarning: The frame.append method is deprecated and will be removed from pandas in a future version. Use pandas.concat instead.\n",
      "  df = df.append(lsss, ignore_index=True)\n"
     ]
    },
    {
     "name": "stdout",
     "output_type": "stream",
     "text": [
      "    stock_id                 date    open     low    high   close volume\n",
      "0      ACGLN  2023-06-29 09:30:00  18.950  18.950  18.950  18.950   1473\n",
      "1      ACGLN  2023-06-29 09:59:00  19.155  19.155  19.155  19.155    144\n",
      "2      ACGLN  2023-06-29 10:01:00  19.000  18.870  19.000  18.870    375\n",
      "3      ACGLN  2023-06-29 10:07:00  18.860  18.830  18.860  18.830    786\n",
      "4      ACGLN  2023-06-29 10:08:00  18.830  18.830  18.830  18.830   2301\n",
      "..       ...                  ...     ...     ...     ...     ...    ...\n",
      "124    ACGLN  2023-07-03 12:55:00  19.240  19.230  19.240  19.230    612\n",
      "125    ACGLN  2023-07-03 12:56:00  19.230  19.230  19.230  19.230    270\n",
      "126    ACGLN  2023-07-03 12:58:00  19.100  19.080  19.100  19.080    400\n",
      "127    ACGLN  2023-07-03 12:59:00  19.130  19.130  19.130  19.130    361\n",
      "128    ACGLN  2023-07-03 13:00:00  19.110  19.110  19.110  19.110    278\n",
      "\n",
      "[129 rows x 7 columns]\n",
      "(129, 7)\n",
      "   percent   name                  ts_code\n",
      "0        1  ACGLN  Arch Capital Group Ltd.\n"
     ]
    },
    {
     "name": "stderr",
     "output_type": "stream",
     "text": [
      "/Users/zhangwenbo/miniforge3/lib/python3.10/site-packages/cashare/minute_data.py:96: FutureWarning: The frame.append method is deprecated and will be removed from pandas in a future version. Use pandas.concat instead.\n",
      "  df = df.append(lsss, ignore_index=True)\n",
      "/Users/zhangwenbo/miniforge3/lib/python3.10/site-packages/cashare/minute_data.py:96: FutureWarning: The frame.append method is deprecated and will be removed from pandas in a future version. Use pandas.concat instead.\n",
      "  df = df.append(lsss, ignore_index=True)\n"
     ]
    },
    {
     "name": "stdout",
     "output_type": "stream",
     "text": [
      "   stock_id                 date     open      low     high    close volume\n",
      "0     ACGLO  2023-06-29 09:47:00  22.6400  22.6400  22.6400  22.6400    107\n",
      "1     ACGLO  2023-06-29 10:48:00  22.5711  22.5711  22.5711  22.5711    193\n",
      "2     ACGLO  2023-06-29 10:50:00  22.5110  22.5110  22.5110  22.5110    400\n",
      "3     ACGLO  2023-06-29 11:23:00  22.6284  22.6284  22.6284  22.6284    103\n",
      "4     ACGLO  2023-06-29 12:05:00  22.5000  22.5000  22.5000  22.5000    318\n",
      "..      ...                  ...      ...      ...      ...      ...    ...\n",
      "91    ACGLO  2023-07-03 11:50:00  22.6700  22.6700  22.6700  22.6700    205\n",
      "92    ACGLO  2023-07-03 12:00:00  22.5200  22.5200  22.5200  22.5200    112\n",
      "93    ACGLO  2023-07-03 12:32:00  22.8300  22.8300  22.8300  22.8300    100\n",
      "94    ACGLO  2023-07-03 12:48:00  22.9000  22.9000  22.9000  22.9000    131\n",
      "95    ACGLO  2023-07-03 12:50:00  22.9285  22.9285  22.9285  22.9285    157\n",
      "\n",
      "[96 rows x 7 columns]\n",
      "(96, 7)\n",
      "Empty DataFrame\n",
      "Columns: []\n",
      "Index: []\n",
      "(0, 0)\n"
     ]
    },
    {
     "name": "stderr",
     "output_type": "stream",
     "text": [
      "/Users/zhangwenbo/miniforge3/lib/python3.10/site-packages/cashare/minute_data.py:96: FutureWarning: The frame.append method is deprecated and will be removed from pandas in a future version. Use pandas.concat instead.\n",
      "  df = df.append(lsss, ignore_index=True)\n",
      "/Users/zhangwenbo/miniforge3/lib/python3.10/site-packages/cashare/minute_data.py:96: FutureWarning: The frame.append method is deprecated and will be removed from pandas in a future version. Use pandas.concat instead.\n",
      "  df = df.append(lsss, ignore_index=True)\n"
     ]
    },
    {
     "name": "stdout",
     "output_type": "stream",
     "text": [
      "   stock_id                 date    open     low    high   close volume\n",
      "0      ACGN  2023-06-29 10:14:00  1.5450  1.5450  1.5450  1.5450    136\n",
      "1      ACGN  2023-06-29 10:55:00  1.5300  1.5300  1.5300  1.5300    100\n",
      "2      ACGN  2023-06-29 11:33:00  1.5248  1.5248  1.5248  1.5248    100\n",
      "3      ACGN  2023-06-29 11:56:00  1.5700  1.5700  1.5700  1.5700    100\n",
      "4      ACGN  2023-06-29 12:02:00  1.5700  1.5700  1.5700  1.5700    100\n",
      "5      ACGN  2023-06-29 12:08:00  1.5800  1.5800  1.5800  1.5800    100\n",
      "6      ACGN  2023-06-29 12:20:00  1.5700  1.5700  1.5700  1.5700    240\n",
      "7      ACGN  2023-06-29 12:26:00  1.5800  1.5800  1.5800  1.5800    690\n",
      "8      ACGN  2023-06-29 12:28:00  1.6000  1.6000  1.6000  1.6000   1050\n",
      "9      ACGN  2023-06-29 12:41:00  1.5900  1.5900  1.5900  1.5900    100\n",
      "10     ACGN  2023-06-29 13:02:00  1.5900  1.5900  1.5900  1.5900    203\n",
      "11     ACGN  2023-06-29 13:08:00  1.6000  1.6000  1.6000  1.6000   1414\n",
      "12     ACGN  2023-06-29 14:24:00  1.6200  1.5800  1.6200  1.5900   1236\n",
      "13     ACGN  2023-06-29 15:19:00  1.6000  1.6000  1.6000  1.6000    270\n",
      "14     ACGN  2023-06-29 15:20:00  1.6000  1.6000  1.6000  1.6000   1292\n",
      "15     ACGN  2023-06-29 15:56:00  1.6400  1.6400  1.6400  1.6400    100\n",
      "16     ACGN  2023-06-29 15:58:00  1.5800  1.5800  1.5800  1.5800    251\n",
      "17     ACGN  2023-06-29 15:59:00  1.5900  1.5800  1.5900  1.5800   1461\n",
      "18     ACGN  2023-06-30 09:30:00  1.6000  1.6000  1.6000  1.6000   1121\n",
      "19     ACGN  2023-06-30 09:57:00  1.5208  1.5200  1.5208  1.5200    437\n",
      "20     ACGN  2023-06-30 10:41:00  1.5600  1.5600  1.5600  1.5600    100\n",
      "21     ACGN  2023-06-30 10:49:00  1.5600  1.5600  1.5600  1.5600    100\n",
      "22     ACGN  2023-06-30 10:57:00  1.5500  1.5500  1.5500  1.5500    100\n",
      "23     ACGN  2023-06-30 10:59:00  1.5600  1.5600  1.5600  1.5600    120\n",
      "24     ACGN  2023-06-30 11:20:00  1.5500  1.5500  1.5500  1.5500    430\n",
      "25     ACGN  2023-06-30 11:33:00  1.5550  1.5550  1.5550  1.5550    100\n",
      "26     ACGN  2023-06-30 12:46:00  1.5620  1.5500  1.5620  1.5500   4041\n",
      "27     ACGN  2023-06-30 13:36:00  1.5500  1.5500  1.5500  1.5500    100\n",
      "28     ACGN  2023-06-30 13:56:00  1.5600  1.5600  1.5700  1.5700    222\n",
      "29     ACGN  2023-06-30 14:02:00  1.6200  1.6200  1.6200  1.6200    300\n",
      "30     ACGN  2023-06-30 15:31:00  1.6200  1.6200  1.6200  1.6200    100\n",
      "31     ACGN  2023-06-30 15:33:00  1.5900  1.5500  1.5900  1.5500    800\n",
      "32     ACGN  2023-06-30 15:58:00  1.6300  1.6300  1.6300  1.6300    101\n",
      "33     ACGN  2023-06-30 15:59:00  1.6300  1.6300  1.6300  1.6300    298\n",
      "34     ACGN  2023-07-03 09:30:00  1.6000  1.6000  1.6000  1.6000    115\n",
      "35     ACGN  2023-07-03 09:59:00  1.6400  1.6400  1.6400  1.6400    101\n",
      "36     ACGN  2023-07-03 10:23:00  1.5950  1.5950  1.5950  1.5950    101\n",
      "37     ACGN  2023-07-03 10:39:00  1.6200  1.6200  1.6200  1.6200    100\n",
      "38     ACGN  2023-07-03 11:04:00  1.6200  1.6200  1.6200  1.6200    100\n",
      "39     ACGN  2023-07-03 11:08:00  1.5570  1.5570  1.5900  1.5900    225\n",
      "40     ACGN  2023-07-03 11:10:00  1.5564  1.5564  1.5564  1.5564    525\n",
      "41     ACGN  2023-07-03 11:13:00  1.6200  1.6200  1.6200  1.6200    180\n",
      "42     ACGN  2023-07-03 11:16:00  1.6200  1.6200  1.6300  1.6300    800\n",
      "43     ACGN  2023-07-03 11:31:00  1.6400  1.6400  1.6400  1.6400    100\n",
      "44     ACGN  2023-07-03 11:38:00  1.5200  1.5200  1.6500  1.6500    847\n",
      "45     ACGN  2023-07-03 11:39:00  1.5950  1.5950  1.6500  1.6500    690\n",
      "46     ACGN  2023-07-03 12:12:00  1.6500  1.6500  1.6600  1.6600    201\n",
      "47     ACGN  2023-07-03 12:28:00  1.6600  1.6600  1.6600  1.6600    191\n",
      "48     ACGN  2023-07-03 12:55:00  1.6600  1.6600  1.6600  1.6600    100\n",
      "49     ACGN  2023-07-03 12:56:00  1.6600  1.6600  1.6600  1.6600    106\n",
      "(50, 7)\n",
      "Empty DataFrame\n",
      "Columns: []\n",
      "Index: []\n",
      "(0, 0)\n"
     ]
    },
    {
     "name": "stderr",
     "output_type": "stream",
     "text": [
      "/Users/zhangwenbo/miniforge3/lib/python3.10/site-packages/cashare/minute_data.py:96: FutureWarning: The frame.append method is deprecated and will be removed from pandas in a future version. Use pandas.concat instead.\n",
      "  df = df.append(lsss, ignore_index=True)\n",
      "/Users/zhangwenbo/miniforge3/lib/python3.10/site-packages/cashare/minute_data.py:96: FutureWarning: The frame.append method is deprecated and will be removed from pandas in a future version. Use pandas.concat instead.\n",
      "  df = df.append(lsss, ignore_index=True)\n"
     ]
    },
    {
     "name": "stdout",
     "output_type": "stream",
     "text": [
      "    stock_id                 date     open     low    high  close volume\n",
      "0       ACHC  2023-06-29 09:30:00  79.4300  79.430  79.430  79.43   3636\n",
      "1       ACHC  2023-06-29 09:31:00  79.3000  79.290  79.460  79.30   3421\n",
      "2       ACHC  2023-06-29 09:32:00  79.3200  79.300  79.490  79.34   1217\n",
      "3       ACHC  2023-06-29 09:35:00  79.7600  79.760  79.760  79.76    160\n",
      "4       ACHC  2023-06-29 09:39:00  79.5850  79.520  79.585  79.58    458\n",
      "..       ...                  ...      ...     ...     ...    ...    ...\n",
      "775     ACHC  2023-07-03 12:56:00  79.3300  79.295  79.330  79.30   2769\n",
      "776     ACHC  2023-07-03 12:57:00  79.3000  79.260  79.310  79.26   2555\n",
      "777     ACHC  2023-07-03 12:58:00  79.2825  79.275  79.300  79.29   4120\n",
      "778     ACHC  2023-07-03 12:59:00  79.3000  79.170  79.310  79.17   4705\n",
      "779     ACHC  2023-07-03 13:00:00  79.1900  79.190  79.190  79.19  27616\n",
      "\n",
      "[780 rows x 7 columns]\n",
      "(780, 7)\n",
      "   percent  name                          ts_code\n",
      "0        1  ACHC  Acadia Healthcare Company, Inc.\n"
     ]
    },
    {
     "name": "stderr",
     "output_type": "stream",
     "text": [
      "/Users/zhangwenbo/miniforge3/lib/python3.10/site-packages/cashare/minute_data.py:96: FutureWarning: The frame.append method is deprecated and will be removed from pandas in a future version. Use pandas.concat instead.\n",
      "  df = df.append(lsss, ignore_index=True)\n",
      "/Users/zhangwenbo/miniforge3/lib/python3.10/site-packages/cashare/minute_data.py:96: FutureWarning: The frame.append method is deprecated and will be removed from pandas in a future version. Use pandas.concat instead.\n",
      "  df = df.append(lsss, ignore_index=True)\n"
     ]
    },
    {
     "name": "stdout",
     "output_type": "stream",
     "text": [
      "    stock_id                 date      open     low      high   close volume\n",
      "0       ACHL  2023-06-29 09:30:00  0.965000  0.9500  0.965000  0.9650  16266\n",
      "1       ACHL  2023-06-29 09:31:00  0.965000  0.9650  0.965000  0.9650    500\n",
      "2       ACHL  2023-06-29 09:41:00  0.950000  0.9500  0.980000  0.9800   3300\n",
      "3       ACHL  2023-06-29 09:58:00  0.979999  0.9501  0.979999  0.9651   3607\n",
      "4       ACHL  2023-06-29 10:03:00  0.980000  0.9800  0.980000  0.9800    110\n",
      "..       ...                  ...       ...     ...       ...     ...    ...\n",
      "394     ACHL  2023-07-03 12:54:00  0.940000  0.9400  0.940000  0.9400    777\n",
      "395     ACHL  2023-07-03 12:56:00  0.940000  0.9400  0.940000  0.9400   2027\n",
      "396     ACHL  2023-07-03 12:57:00  0.940000  0.9400  0.940000  0.9400   4429\n",
      "397     ACHL  2023-07-03 12:58:00  0.940000  0.9400  0.940000  0.9400   5024\n",
      "398     ACHL  2023-07-03 12:59:00  0.940000  0.9400  0.940000  0.9400   2153\n",
      "\n",
      "[399 rows x 7 columns]\n",
      "(399, 7)\n",
      "   percent  name                    ts_code\n",
      "0        1  ACHL  Achilles Therapeutics plc\n"
     ]
    },
    {
     "name": "stderr",
     "output_type": "stream",
     "text": [
      "/Users/zhangwenbo/miniforge3/lib/python3.10/site-packages/cashare/minute_data.py:96: FutureWarning: The frame.append method is deprecated and will be removed from pandas in a future version. Use pandas.concat instead.\n",
      "  df = df.append(lsss, ignore_index=True)\n",
      "/Users/zhangwenbo/miniforge3/lib/python3.10/site-packages/cashare/minute_data.py:96: FutureWarning: The frame.append method is deprecated and will be removed from pandas in a future version. Use pandas.concat instead.\n",
      "  df = df.append(lsss, ignore_index=True)\n"
     ]
    },
    {
     "name": "stdout",
     "output_type": "stream",
     "text": [
      "    stock_id                 date    open     low    high   close  volume\n",
      "0       ACHR  2023-06-29 09:30:00  4.3500  4.2800  4.3550  4.2800   18722\n",
      "1       ACHR  2023-06-29 09:31:00  4.2800  4.2800  4.3400  4.3000   18756\n",
      "2       ACHR  2023-06-29 09:32:00  4.3000  4.1800  4.3410  4.3100  475684\n",
      "3       ACHR  2023-06-29 09:33:00  4.3100  4.2200  4.3400  4.2800  131790\n",
      "4       ACHR  2023-06-29 09:34:00  4.2700  4.2400  4.3100  4.2800  115345\n",
      "..       ...                  ...     ...     ...     ...     ...     ...\n",
      "988     ACHR  2023-07-03 12:59:00  4.1987  4.1900  4.2000  4.1900   16711\n",
      "989     ACHR  2023-07-03 13:00:00  4.2300  4.2300  4.2300  4.2300  113027\n",
      "990     ACHR  2023-07-03 13:10:00  4.2300  4.2300  4.2300  4.2300       0\n",
      "991     ACHR  2023-07-03 15:30:00  4.2300  4.2300  4.2300  4.2300       0\n",
      "992     ACHR  2023-07-03 16:00:00  4.2694  4.2694  4.2694  4.2694     250\n",
      "\n",
      "[993 rows x 7 columns]\n",
      "(993, 7)\n",
      "   percent  name               ts_code\n",
      "0        1  ACHR  Archer Aviation Inc.\n"
     ]
    },
    {
     "name": "stderr",
     "output_type": "stream",
     "text": [
      "/Users/zhangwenbo/miniforge3/lib/python3.10/site-packages/cashare/minute_data.py:96: FutureWarning: The frame.append method is deprecated and will be removed from pandas in a future version. Use pandas.concat instead.\n",
      "  df = df.append(lsss, ignore_index=True)\n",
      "/Users/zhangwenbo/miniforge3/lib/python3.10/site-packages/cashare/minute_data.py:96: FutureWarning: The frame.append method is deprecated and will be removed from pandas in a future version. Use pandas.concat instead.\n",
      "  df = df.append(lsss, ignore_index=True)\n"
     ]
    },
    {
     "name": "stdout",
     "output_type": "stream",
     "text": [
      "    stock_id                 date    open     low    high   close volume\n",
      "0    ACHR-WT  2023-06-29 09:30:00  0.7602  0.7602  0.7602  0.7602  26590\n",
      "1    ACHR-WT  2023-06-29 09:33:00  0.9200  0.9200  0.9200  0.9200  37270\n",
      "2    ACHR-WT  2023-06-29 09:36:00  0.9350  0.9200  0.9387  0.9387  44570\n",
      "3    ACHR-WT  2023-06-29 09:37:00  0.9500  0.9440  0.9500  0.9440  52670\n",
      "4    ACHR-WT  2023-06-29 09:38:00  0.9499  0.9130  0.9499  0.9130  57970\n",
      "..       ...                  ...     ...     ...     ...     ...    ...\n",
      "115  ACHR-WT  2023-07-03 10:47:00  0.9090  0.9090  0.9090  0.9090  34538\n",
      "116  ACHR-WT  2023-07-03 10:51:00  0.9000  0.9000  0.9000  0.9000  33558\n",
      "117  ACHR-WT  2023-07-03 10:59:00  0.8800  0.8800  0.8800  0.8800  34538\n",
      "118  ACHR-WT  2023-07-03 11:20:00  0.8800  0.8800  0.8800  0.8800  34648\n",
      "119  ACHR-WT  2023-07-03 11:53:00  0.8500  0.8500  0.8500  0.8500  34825\n",
      "\n",
      "[120 rows x 7 columns]\n",
      "(120, 7)\n",
      "   percent     name ts_code\n",
      "0        1  ACHR-WT        \n"
     ]
    },
    {
     "name": "stderr",
     "output_type": "stream",
     "text": [
      "/Users/zhangwenbo/miniforge3/lib/python3.10/site-packages/cashare/minute_data.py:96: FutureWarning: The frame.append method is deprecated and will be removed from pandas in a future version. Use pandas.concat instead.\n",
      "  df = df.append(lsss, ignore_index=True)\n",
      "/Users/zhangwenbo/miniforge3/lib/python3.10/site-packages/cashare/minute_data.py:96: FutureWarning: The frame.append method is deprecated and will be removed from pandas in a future version. Use pandas.concat instead.\n",
      "  df = df.append(lsss, ignore_index=True)\n"
     ]
    },
    {
     "name": "stdout",
     "output_type": "stream",
     "text": [
      "    stock_id                 date    open     low    high   close volume\n",
      "0       ACHV  2023-06-29 09:30:00  5.4200  5.4200  5.4200  5.4200    357\n",
      "1       ACHV  2023-06-29 09:31:00  5.4200  5.4200  5.4200  5.4200    375\n",
      "2       ACHV  2023-06-29 09:32:00  5.5450  5.5450  5.5450  5.5450    151\n",
      "3       ACHV  2023-06-29 09:33:00  5.4386  5.4386  5.4386  5.4386    200\n",
      "4       ACHV  2023-06-29 09:34:00  5.4200  5.4200  5.4400  5.4400    749\n",
      "..       ...                  ...     ...     ...     ...     ...    ...\n",
      "312     ACHV  2023-07-03 12:54:00  5.0550  5.0550  5.0550  5.0550    176\n",
      "313     ACHV  2023-07-03 12:55:00  5.0550  5.0550  5.0900  5.0900   1771\n",
      "314     ACHV  2023-07-03 12:56:00  5.0600  5.0600  5.0800  5.0800    477\n",
      "315     ACHV  2023-07-03 12:57:00  5.0650  5.0650  5.0900  5.0900    392\n",
      "316     ACHV  2023-07-03 13:00:00  5.0400  5.0400  5.0400  5.0400    249\n",
      "\n",
      "[317 rows x 7 columns]\n",
      "(317, 7)\n",
      "   percent  name                      ts_code\n",
      "0        1  ACHV  Achieve Life Sciences, Inc.\n"
     ]
    },
    {
     "name": "stderr",
     "output_type": "stream",
     "text": [
      "/Users/zhangwenbo/miniforge3/lib/python3.10/site-packages/cashare/minute_data.py:96: FutureWarning: The frame.append method is deprecated and will be removed from pandas in a future version. Use pandas.concat instead.\n",
      "  df = df.append(lsss, ignore_index=True)\n",
      "/Users/zhangwenbo/miniforge3/lib/python3.10/site-packages/cashare/minute_data.py:96: FutureWarning: The frame.append method is deprecated and will be removed from pandas in a future version. Use pandas.concat instead.\n",
      "  df = df.append(lsss, ignore_index=True)\n"
     ]
    },
    {
     "name": "stdout",
     "output_type": "stream",
     "text": [
      "    stock_id                 date    open    low   high   close  volume\n",
      "0        ACI  2023-06-29 09:30:00  21.700  21.66  21.72  21.670    9709\n",
      "1        ACI  2023-06-29 09:31:00  21.670  21.67  21.70  21.680    8584\n",
      "2        ACI  2023-06-29 09:32:00  21.680  21.68  21.68  21.680    4565\n",
      "3        ACI  2023-06-29 09:33:00  21.680  21.68  21.69  21.680     401\n",
      "4        ACI  2023-06-29 09:34:00  21.685  21.68  21.69  21.685    1172\n",
      "..       ...                  ...     ...    ...    ...     ...     ...\n",
      "964      ACI  2023-07-03 12:58:00  21.930  21.93  21.94  21.940    3441\n",
      "965      ACI  2023-07-03 12:59:00  21.930  21.93  21.94  21.940    9695\n",
      "966      ACI  2023-07-03 13:00:00  21.910  21.91  21.91  21.910  111568\n",
      "967      ACI  2023-07-03 13:10:00  21.910  21.91  21.91  21.910       0\n",
      "968      ACI  2023-07-03 15:30:00  21.910  21.91  21.91  21.910       0\n",
      "\n",
      "[969 rows x 7 columns]\n",
      "(969, 7)\n",
      "   percent name                     ts_code\n",
      "0        1  ACI  Albertsons Companies, Inc.\n",
      "Empty DataFrame\n",
      "Columns: []\n",
      "Index: []\n",
      "(0, 0)\n",
      "Empty DataFrame\n",
      "Columns: []\n",
      "Index: []\n",
      "(0, 0)\n",
      "Empty DataFrame\n",
      "Columns: []\n",
      "Index: []\n",
      "(0, 0)\n",
      "Empty DataFrame\n",
      "Columns: []\n",
      "Index: []\n",
      "(0, 0)\n"
     ]
    },
    {
     "name": "stderr",
     "output_type": "stream",
     "text": [
      "/Users/zhangwenbo/miniforge3/lib/python3.10/site-packages/cashare/minute_data.py:96: FutureWarning: The frame.append method is deprecated and will be removed from pandas in a future version. Use pandas.concat instead.\n",
      "  df = df.append(lsss, ignore_index=True)\n",
      "/Users/zhangwenbo/miniforge3/lib/python3.10/site-packages/cashare/minute_data.py:96: FutureWarning: The frame.append method is deprecated and will be removed from pandas in a future version. Use pandas.concat instead.\n",
      "  df = df.append(lsss, ignore_index=True)\n"
     ]
    },
    {
     "name": "stdout",
     "output_type": "stream",
     "text": [
      "    stock_id                 date    open     low  high   close volume\n",
      "0       ACIU  2023-06-29 09:30:00  3.2480  3.2000  3.26  3.2591  28858\n",
      "1       ACIU  2023-06-29 09:31:00  3.2600  3.2500  3.45  3.2550  83267\n",
      "2       ACIU  2023-06-29 09:32:00  3.2575  3.2533  3.32  3.2899  21880\n",
      "3       ACIU  2023-06-29 09:33:00  3.2850  3.1500  3.29  3.1691  51359\n",
      "4       ACIU  2023-06-29 09:34:00  3.1650  3.1650  3.22  3.2200   8856\n",
      "..       ...                  ...     ...     ...   ...     ...    ...\n",
      "852     ACIU  2023-07-03 12:56:00  2.8900  2.8900  2.94  2.9400  19754\n",
      "853     ACIU  2023-07-03 12:57:00  2.9400  2.9385  2.94  2.9400   6193\n",
      "854     ACIU  2023-07-03 12:58:00  2.9400  2.8901  2.94  2.9300  13706\n",
      "855     ACIU  2023-07-03 12:59:00  2.9300  2.9250  2.94  2.9400   8068\n",
      "856     ACIU  2023-07-03 13:00:00  2.9100  2.9100  2.91  2.9100   3251\n",
      "\n",
      "[857 rows x 7 columns]\n",
      "(857, 7)\n",
      "   percent  name       ts_code\n",
      "0        1  ACIU  AC Immune SA\n"
     ]
    },
    {
     "name": "stderr",
     "output_type": "stream",
     "text": [
      "/Users/zhangwenbo/miniforge3/lib/python3.10/site-packages/cashare/minute_data.py:96: FutureWarning: The frame.append method is deprecated and will be removed from pandas in a future version. Use pandas.concat instead.\n",
      "  df = df.append(lsss, ignore_index=True)\n",
      "/Users/zhangwenbo/miniforge3/lib/python3.10/site-packages/cashare/minute_data.py:96: FutureWarning: The frame.append method is deprecated and will be removed from pandas in a future version. Use pandas.concat instead.\n",
      "  df = df.append(lsss, ignore_index=True)\n"
     ]
    },
    {
     "name": "stdout",
     "output_type": "stream",
     "text": [
      "    stock_id                 date    open    low    high   close volume\n",
      "0       ACIW  2023-06-29 09:30:00  22.470  22.47  22.470  22.470   1972\n",
      "1       ACIW  2023-06-29 09:31:00  22.480  22.48  22.480  22.480    120\n",
      "2       ACIW  2023-06-29 09:33:00  22.460  22.46  22.460  22.460   1017\n",
      "3       ACIW  2023-06-29 09:34:00  22.500  22.50  22.500  22.500    685\n",
      "4       ACIW  2023-06-29 09:36:00  22.510  22.50  22.510  22.500    578\n",
      "..       ...                  ...     ...    ...     ...     ...    ...\n",
      "703     ACIW  2023-07-03 12:56:00  23.310  23.29  23.310  23.290   1469\n",
      "704     ACIW  2023-07-03 12:57:00  23.280  23.28  23.285  23.285   1606\n",
      "705     ACIW  2023-07-03 12:58:00  23.290  23.29  23.295  23.295   2951\n",
      "706     ACIW  2023-07-03 12:59:00  23.295  23.29  23.330  23.310   8040\n",
      "707     ACIW  2023-07-03 13:00:00  23.300  23.30  23.300  23.300  39963\n",
      "\n",
      "[708 rows x 7 columns]\n",
      "(708, 7)\n",
      "   percent  name              ts_code\n",
      "0        0  ACIW  ACI Worldwide, Inc.\n",
      "Empty DataFrame\n",
      "Columns: []\n",
      "Index: []\n",
      "(0, 0)\n",
      "Empty DataFrame\n",
      "Columns: []\n",
      "Index: []\n",
      "(0, 0)\n",
      "Empty DataFrame\n",
      "Columns: []\n",
      "Index: []\n",
      "(0, 0)\n"
     ]
    },
    {
     "name": "stderr",
     "output_type": "stream",
     "text": [
      "/Users/zhangwenbo/miniforge3/lib/python3.10/site-packages/cashare/minute_data.py:96: FutureWarning: The frame.append method is deprecated and will be removed from pandas in a future version. Use pandas.concat instead.\n",
      "  df = df.append(lsss, ignore_index=True)\n",
      "/Users/zhangwenbo/miniforge3/lib/python3.10/site-packages/cashare/minute_data.py:96: FutureWarning: The frame.append method is deprecated and will be removed from pandas in a future version. Use pandas.concat instead.\n",
      "  df = df.append(lsss, ignore_index=True)\n"
     ]
    },
    {
     "name": "stdout",
     "output_type": "stream",
     "text": [
      "    stock_id                 date      open       low      high     close  \\\n",
      "0       ACLS  2023-06-29 09:30:00  176.6800  176.4650  176.6800  176.4650   \n",
      "1       ACLS  2023-06-29 09:32:00  175.8200  175.8200  175.8200  175.8200   \n",
      "2       ACLS  2023-06-29 09:33:00  176.4189  175.3797  176.4189  175.3797   \n",
      "3       ACLS  2023-06-29 09:34:00  176.6589  176.6589  177.0700  177.0700   \n",
      "4       ACLS  2023-06-29 09:35:00  177.0800  176.4800  177.0800  177.0700   \n",
      "..       ...                  ...       ...       ...       ...       ...   \n",
      "796     ACLS  2023-07-03 12:56:00  181.8100  181.7100  181.8100  181.7500   \n",
      "797     ACLS  2023-07-03 12:57:00  181.7700  181.6900  181.7700  181.6900   \n",
      "798     ACLS  2023-07-03 12:58:00  181.7400  181.6700  181.7574  181.6700   \n",
      "799     ACLS  2023-07-03 12:59:00  181.6700  181.6700  181.8900  181.6900   \n",
      "800     ACLS  2023-07-03 13:00:00  181.7400  181.7400  181.7400  181.7400   \n",
      "\n",
      "    volume  \n",
      "0     4273  \n",
      "1      359  \n",
      "2      512  \n",
      "3      730  \n",
      "4     2803  \n",
      "..     ...  \n",
      "796   1616  \n",
      "797   1303  \n",
      "798   1766  \n",
      "799   4742  \n",
      "800  17350  \n",
      "\n",
      "[801 rows x 7 columns]\n",
      "(801, 7)\n",
      "   percent  name                     ts_code\n",
      "0        1  ACLS  Axcelis Technologies, Inc.\n"
     ]
    },
    {
     "name": "stderr",
     "output_type": "stream",
     "text": [
      "/Users/zhangwenbo/miniforge3/lib/python3.10/site-packages/cashare/minute_data.py:96: FutureWarning: The frame.append method is deprecated and will be removed from pandas in a future version. Use pandas.concat instead.\n",
      "  df = df.append(lsss, ignore_index=True)\n",
      "/Users/zhangwenbo/miniforge3/lib/python3.10/site-packages/cashare/minute_data.py:96: FutureWarning: The frame.append method is deprecated and will be removed from pandas in a future version. Use pandas.concat instead.\n",
      "  df = df.append(lsss, ignore_index=True)\n"
     ]
    },
    {
     "name": "stdout",
     "output_type": "stream",
     "text": [
      "    stock_id                 date     open      low     high    close volume\n",
      "0       ACLX  2023-06-29 09:30:00  31.1600  31.1600  31.1600  31.1600   4904\n",
      "1       ACLX  2023-06-29 09:31:00  31.5787  31.5787  31.5787  31.5787    118\n",
      "2       ACLX  2023-06-29 09:32:00  31.1450  30.9000  31.1800  30.9200   4286\n",
      "3       ACLX  2023-06-29 09:35:00  31.0650  31.0650  31.0650  31.0650    201\n",
      "4       ACLX  2023-06-29 09:36:00  31.0800  31.0800  31.0900  31.0900    859\n",
      "..       ...                  ...      ...      ...      ...      ...    ...\n",
      "733     ACLX  2023-07-03 12:56:00  31.4300  31.3700  31.4300  31.3800   2126\n",
      "734     ACLX  2023-07-03 12:57:00  31.3600  31.3300  31.3900  31.3500   3105\n",
      "735     ACLX  2023-07-03 12:58:00  31.3200  31.3200  31.3200  31.3200   1805\n",
      "736     ACLX  2023-07-03 12:59:00  31.3600  31.3350  31.5000  31.4500   7842\n",
      "737     ACLX  2023-07-03 13:00:00  31.5100  31.5100  31.5100  31.5100  43277\n",
      "\n",
      "[738 rows x 7 columns]\n",
      "(738, 7)\n",
      "   percent  name        ts_code\n",
      "0        1  ACLX  Arcellx, Inc.\n"
     ]
    },
    {
     "name": "stderr",
     "output_type": "stream",
     "text": [
      "/Users/zhangwenbo/miniforge3/lib/python3.10/site-packages/cashare/minute_data.py:96: FutureWarning: The frame.append method is deprecated and will be removed from pandas in a future version. Use pandas.concat instead.\n",
      "  df = df.append(lsss, ignore_index=True)\n",
      "/Users/zhangwenbo/miniforge3/lib/python3.10/site-packages/cashare/minute_data.py:96: FutureWarning: The frame.append method is deprecated and will be removed from pandas in a future version. Use pandas.concat instead.\n",
      "  df = df.append(lsss, ignore_index=True)\n"
     ]
    },
    {
     "name": "stdout",
     "output_type": "stream",
     "text": [
      "    stock_id                 date   open    low    high   close volume\n",
      "0        ACM  2023-06-29 09:30:00  82.94  82.94  83.245  83.200   4887\n",
      "1        ACM  2023-06-29 09:33:00  83.32  83.04  83.320  83.040    632\n",
      "2        ACM  2023-06-29 09:34:00  82.90  82.90  82.900  82.900    133\n",
      "3        ACM  2023-06-29 09:36:00  83.22  83.22  83.350  83.345   1503\n",
      "4        ACM  2023-06-29 09:38:00  83.42  83.37  83.420  83.370   1060\n",
      "..       ...                  ...    ...    ...     ...     ...    ...\n",
      "815      ACM  2023-07-03 12:58:00  85.59  85.59  85.730  85.730   6146\n",
      "816      ACM  2023-07-03 12:59:00  85.73  85.71  85.770  85.735  17483\n",
      "817      ACM  2023-07-03 13:00:00  85.72  85.72  85.720  85.720  77828\n",
      "818      ACM  2023-07-03 13:10:00  85.72  85.72  85.720  85.720      0\n",
      "819      ACM  2023-07-03 15:30:00  85.72  85.72  85.720  85.720      0\n",
      "\n",
      "[820 rows x 7 columns]\n",
      "(820, 7)\n",
      "   percent name ts_code\n",
      "0        0  ACM   AECOM\n"
     ]
    },
    {
     "name": "stderr",
     "output_type": "stream",
     "text": [
      "/Users/zhangwenbo/miniforge3/lib/python3.10/site-packages/cashare/minute_data.py:96: FutureWarning: The frame.append method is deprecated and will be removed from pandas in a future version. Use pandas.concat instead.\n",
      "  df = df.append(lsss, ignore_index=True)\n",
      "/Users/zhangwenbo/miniforge3/lib/python3.10/site-packages/cashare/minute_data.py:96: FutureWarning: The frame.append method is deprecated and will be removed from pandas in a future version. Use pandas.concat instead.\n",
      "  df = df.append(lsss, ignore_index=True)\n"
     ]
    },
    {
     "name": "stdout",
     "output_type": "stream",
     "text": [
      "    stock_id                 date     open      low     high    close volume\n",
      "0       ACMR  2023-06-29 09:30:00  12.9700  12.8500  12.9700  12.8600  13221\n",
      "1       ACMR  2023-06-29 09:31:00  12.8699  12.8699  12.8850  12.8850    523\n",
      "2       ACMR  2023-06-29 09:33:00  12.8600  12.8600  12.8878  12.8700    392\n",
      "3       ACMR  2023-06-29 09:34:00  12.8650  12.8400  12.8650  12.8500   3049\n",
      "4       ACMR  2023-06-29 09:35:00  12.8300  12.8300  12.8399  12.8399    560\n",
      "..       ...                  ...      ...      ...      ...      ...    ...\n",
      "850     ACMR  2023-07-03 12:56:00  14.8300  14.7600  14.8300  14.7700   7634\n",
      "851     ACMR  2023-07-03 12:57:00  14.7699  14.7699  14.7900  14.7850   3241\n",
      "852     ACMR  2023-07-03 12:58:00  14.7900  14.7900  14.8300  14.8300   6013\n",
      "853     ACMR  2023-07-03 12:59:00  14.8300  14.8052  14.8300  14.8300  12580\n",
      "854     ACMR  2023-07-03 13:00:00  14.8300  14.8300  14.8300  14.8300  70282\n",
      "\n",
      "[855 rows x 7 columns]\n",
      "(855, 7)\n",
      "   percent  name             ts_code\n",
      "0        1  ACMR  ACM Research, Inc.\n"
     ]
    },
    {
     "name": "stderr",
     "output_type": "stream",
     "text": [
      "/Users/zhangwenbo/miniforge3/lib/python3.10/site-packages/cashare/minute_data.py:96: FutureWarning: The frame.append method is deprecated and will be removed from pandas in a future version. Use pandas.concat instead.\n",
      "  df = df.append(lsss, ignore_index=True)\n",
      "/Users/zhangwenbo/miniforge3/lib/python3.10/site-packages/cashare/minute_data.py:96: FutureWarning: The frame.append method is deprecated and will be removed from pandas in a future version. Use pandas.concat instead.\n",
      "  df = df.append(lsss, ignore_index=True)\n"
     ]
    },
    {
     "name": "stdout",
     "output_type": "stream",
     "text": [
      "    stock_id                 date     open      low     high    close  volume\n",
      "0        ACN  2023-06-29 09:30:00  301.400  301.335  302.520  302.040   52823\n",
      "1        ACN  2023-06-29 09:31:00  302.150  300.570  302.150  300.570    8149\n",
      "2        ACN  2023-06-29 09:32:00  300.410  300.100  300.780  300.620    6924\n",
      "3        ACN  2023-06-29 09:33:00  300.605  300.340  300.760  300.380    2287\n",
      "4        ACN  2023-06-29 09:34:00  300.380  300.380  301.027  300.965    4266\n",
      "..       ...                  ...      ...      ...      ...      ...     ...\n",
      "982      ACN  2023-07-03 12:58:00  311.000  310.990  311.240  311.190   18685\n",
      "983      ACN  2023-07-03 12:59:00  311.090  310.740  311.270  310.880   23590\n",
      "984      ACN  2023-07-03 13:00:00  310.970  310.970  310.970  310.970  202425\n",
      "985      ACN  2023-07-03 13:10:00  310.970  310.970  310.970  310.970       0\n",
      "986      ACN  2023-07-03 15:30:00  310.970  310.970  310.970  310.970       0\n",
      "\n",
      "[987 rows x 7 columns]\n",
      "(987, 7)\n",
      "   percent name        ts_code\n",
      "0        0  ACN  Accenture plc\n"
     ]
    },
    {
     "name": "stderr",
     "output_type": "stream",
     "text": [
      "/Users/zhangwenbo/miniforge3/lib/python3.10/site-packages/cashare/minute_data.py:96: FutureWarning: The frame.append method is deprecated and will be removed from pandas in a future version. Use pandas.concat instead.\n",
      "  df = df.append(lsss, ignore_index=True)\n",
      "/Users/zhangwenbo/miniforge3/lib/python3.10/site-packages/cashare/minute_data.py:96: FutureWarning: The frame.append method is deprecated and will be removed from pandas in a future version. Use pandas.concat instead.\n",
      "  df = df.append(lsss, ignore_index=True)\n"
     ]
    },
    {
     "name": "stdout",
     "output_type": "stream",
     "text": [
      "   stock_id                 date    open      low     high    close volume\n",
      "0      ACNB  2023-06-29 09:30:00  32.580  32.5800  32.5800  32.5800    103\n",
      "1      ACNB  2023-06-29 09:56:00  33.300  33.2006  33.3000  33.2006    452\n",
      "2      ACNB  2023-06-29 09:57:00  33.200  33.1300  33.2000  33.1300    320\n",
      "3      ACNB  2023-06-29 09:58:00  33.100  33.1000  33.1400  33.1400    684\n",
      "4      ACNB  2023-06-29 09:59:00  33.010  33.0100  33.1300  33.1300    656\n",
      "5      ACNB  2023-06-29 10:01:00  33.020  33.0200  33.0200  33.0200   1067\n",
      "6      ACNB  2023-06-29 10:05:00  33.060  33.0600  33.0600  33.0600    390\n",
      "7      ACNB  2023-06-29 10:10:00  33.200  33.2000  33.2300  33.2300    228\n",
      "8      ACNB  2023-06-29 10:56:00  33.200  33.2000  33.2000  33.2000    100\n",
      "9      ACNB  2023-06-29 11:16:00  33.330  33.3300  33.3300  33.3300    184\n",
      "10     ACNB  2023-06-29 11:35:00  33.529  33.4700  33.5290  33.4700    208\n",
      "11     ACNB  2023-06-29 11:36:00  33.490  33.4900  33.4900  33.4900    488\n",
      "12     ACNB  2023-06-29 12:05:00  33.510  33.5100  33.5100  33.5100    100\n",
      "13     ACNB  2023-06-29 13:13:00  33.330  33.3300  33.3300  33.3300    130\n",
      "14     ACNB  2023-06-29 13:14:00  33.320  33.3200  33.3200  33.3200    426\n",
      "15     ACNB  2023-06-29 13:34:00  33.360  33.3600  33.3600  33.3600    100\n",
      "16     ACNB  2023-06-29 14:40:00  33.190  33.1900  33.2800  33.2800    324\n",
      "17     ACNB  2023-06-29 15:04:00  33.020  33.0200  33.0200  33.0200    487\n",
      "18     ACNB  2023-06-29 15:09:00  33.100  33.1000  33.1000  33.1000    521\n",
      "19     ACNB  2023-06-29 15:12:00  33.290  33.1500  33.2900  33.1500    365\n",
      "20     ACNB  2023-06-29 15:28:00  33.200  33.2000  33.2000  33.2000    100\n",
      "21     ACNB  2023-06-29 15:29:00  33.200  33.2000  33.2000  33.2000    421\n",
      "22     ACNB  2023-06-29 15:36:00  32.872  32.7090  32.8720  32.7090   1369\n",
      "23     ACNB  2023-06-29 15:47:00  33.173  33.1730  33.1730  33.1730    100\n",
      "24     ACNB  2023-06-29 16:00:00  32.950  32.9500  32.9500  32.9500    242\n",
      "25     ACNB  2023-06-30 09:30:00  33.300  33.3000  33.3000  33.3000    325\n",
      "26     ACNB  2023-06-30 10:06:00  33.240  33.2400  33.2400  33.2400    244\n",
      "27     ACNB  2023-06-30 10:08:00  33.160  33.1600  33.1600  33.1600    386\n",
      "28     ACNB  2023-06-30 10:10:00  33.200  33.2000  33.2800  33.2800    227\n",
      "29     ACNB  2023-06-30 10:11:00  33.390  33.3900  33.3900  33.3900    191\n",
      "30     ACNB  2023-06-30 10:15:00  33.240  33.2300  33.2400  33.2300    468\n",
      "31     ACNB  2023-06-30 11:57:00  32.950  32.9500  32.9500  32.9500    409\n",
      "32     ACNB  2023-06-30 11:58:00  32.950  32.9500  33.0000  33.0000    320\n",
      "33     ACNB  2023-06-30 15:57:00  33.000  33.0000  33.0000  33.0000    375\n",
      "34     ACNB  2023-07-03 09:30:00  32.810  32.8100  32.8100  32.8100    701\n",
      "35     ACNB  2023-07-03 09:33:00  32.720  32.6700  32.7200  32.6700    517\n",
      "36     ACNB  2023-07-03 09:34:00  32.830  32.8300  32.9394  32.9394    561\n",
      "37     ACNB  2023-07-03 10:24:00  33.150  33.1500  33.1900  33.1900    875\n",
      "38     ACNB  2023-07-03 11:35:00  33.180  33.1800  33.1800  33.1800    198\n",
      "39     ACNB  2023-07-03 11:36:00  33.190  33.1900  33.1900  33.1900    270\n",
      "40     ACNB  2023-07-03 11:54:00  33.100  33.1000  33.1000  33.1000   1030\n",
      "41     ACNB  2023-07-03 13:00:00  33.380  33.3800  33.3800  33.3800    612\n",
      "(42, 7)\n"
     ]
    },
    {
     "name": "stderr",
     "output_type": "stream",
     "text": [
      "/Users/zhangwenbo/miniforge3/lib/python3.10/site-packages/cashare/minute_data.py:96: FutureWarning: The frame.append method is deprecated and will be removed from pandas in a future version. Use pandas.concat instead.\n",
      "  df = df.append(lsss, ignore_index=True)\n",
      "/Users/zhangwenbo/miniforge3/lib/python3.10/site-packages/cashare/minute_data.py:96: FutureWarning: The frame.append method is deprecated and will be removed from pandas in a future version. Use pandas.concat instead.\n",
      "  df = df.append(lsss, ignore_index=True)\n"
     ]
    },
    {
     "name": "stdout",
     "output_type": "stream",
     "text": [
      "   stock_id                 date    open     low    high   close volume\n",
      "0      ACNT  2023-06-29 09:47:00  9.2485  9.2485  9.2485  9.2485    555\n",
      "1      ACNT  2023-06-29 09:54:00  9.2400  9.2400  9.2400  9.2400    400\n",
      "2      ACNT  2023-06-29 11:35:00  9.0000  9.0000  9.0000  9.0000   1000\n",
      "3      ACNT  2023-06-29 11:37:00  9.2400  9.2400  9.2400  9.2400    401\n",
      "4      ACNT  2023-06-29 13:10:00  9.1550  9.0600  9.1550  9.0600    500\n",
      "5      ACNT  2023-06-29 13:36:00  9.1650  9.1650  9.1650  9.1650    200\n",
      "6      ACNT  2023-06-29 13:37:00  9.1600  9.1600  9.1600  9.1600    100\n",
      "7      ACNT  2023-06-29 14:20:00  9.1600  9.1500  9.1600  9.1500   1422\n",
      "8      ACNT  2023-06-29 14:21:00  9.2000  9.2000  9.2000  9.2000    185\n",
      "9      ACNT  2023-06-29 14:38:00  9.1500  9.1500  9.1500  9.1500    100\n",
      "10     ACNT  2023-06-29 14:39:00  9.0428  9.0428  9.0428  9.0428    100\n",
      "11     ACNT  2023-06-30 09:30:00  9.0700  9.0700  9.0700  9.0700    201\n",
      "12     ACNT  2023-06-30 09:59:00  9.0700  9.0700  9.0700  9.0700    200\n",
      "13     ACNT  2023-06-30 10:44:00  9.0650  9.0600  9.0650  9.0600    305\n",
      "14     ACNT  2023-06-30 11:08:00  9.0950  9.0900  9.0950  9.0950   1432\n",
      "15     ACNT  2023-06-30 11:13:00  9.1000  9.1000  9.1000  9.1000    916\n",
      "16     ACNT  2023-06-30 11:31:00  9.0900  9.0900  9.0900  9.0900    100\n",
      "17     ACNT  2023-06-30 13:18:00  9.0850  9.0850  9.0850  9.0850    100\n",
      "18     ACNT  2023-06-30 14:37:00  9.0700  9.0700  9.0700  9.0700    275\n",
      "19     ACNT  2023-06-30 14:45:00  9.0500  9.0500  9.0500  9.0500    100\n",
      "20     ACNT  2023-07-03 12:59:00  9.0480  9.0212  9.0500  9.0500    742\n",
      "21     ACNT  2023-07-03 13:00:00  9.0400  9.0400  9.0400  9.0400   1004\n",
      "(22, 7)\n"
     ]
    },
    {
     "name": "stderr",
     "output_type": "stream",
     "text": [
      "/Users/zhangwenbo/miniforge3/lib/python3.10/site-packages/cashare/minute_data.py:96: FutureWarning: The frame.append method is deprecated and will be removed from pandas in a future version. Use pandas.concat instead.\n",
      "  df = df.append(lsss, ignore_index=True)\n",
      "/Users/zhangwenbo/miniforge3/lib/python3.10/site-packages/cashare/minute_data.py:96: FutureWarning: The frame.append method is deprecated and will be removed from pandas in a future version. Use pandas.concat instead.\n",
      "  df = df.append(lsss, ignore_index=True)\n"
     ]
    },
    {
     "name": "stdout",
     "output_type": "stream",
     "text": [
      "    stock_id                 date     open      low     high    close volume\n",
      "0       ACON  2023-06-29 09:35:00  0.69495  0.69495  0.69495  0.69495   1069\n",
      "1       ACON  2023-06-29 09:36:00  0.69000  0.69000  0.69000  0.69000    784\n",
      "2       ACON  2023-06-29 09:41:00  0.68810  0.68620  0.71610  0.69620   3400\n",
      "3       ACON  2023-06-29 09:42:00  0.68620  0.68620  0.69620  0.68980    710\n",
      "4       ACON  2023-06-29 09:43:00  0.69980  0.69980  0.69980  0.69980    200\n",
      "..       ...                  ...      ...      ...      ...      ...    ...\n",
      "99      ACON  2023-07-03 11:57:00  0.69000  0.69000  0.69000  0.69000    100\n",
      "100     ACON  2023-07-03 12:00:00  0.72980  0.72980  0.72980  0.72980   1000\n",
      "101     ACON  2023-07-03 12:11:00  0.72990  0.72990  0.72990  0.72990    400\n",
      "102     ACON  2023-07-03 12:45:00  0.69798  0.69798  0.69798  0.69798   1500\n",
      "103     ACON  2023-07-03 13:00:00  0.70680  0.70680  0.70680  0.70680    100\n",
      "\n",
      "[104 rows x 7 columns]\n",
      "(104, 7)\n",
      "   percent  name         ts_code\n",
      "0        1  ACON  Aclarion, Inc.\n"
     ]
    },
    {
     "name": "stderr",
     "output_type": "stream",
     "text": [
      "/Users/zhangwenbo/miniforge3/lib/python3.10/site-packages/cashare/minute_data.py:96: FutureWarning: The frame.append method is deprecated and will be removed from pandas in a future version. Use pandas.concat instead.\n",
      "  df = df.append(lsss, ignore_index=True)\n",
      "/Users/zhangwenbo/miniforge3/lib/python3.10/site-packages/cashare/minute_data.py:96: FutureWarning: The frame.append method is deprecated and will be removed from pandas in a future version. Use pandas.concat instead.\n",
      "  df = df.append(lsss, ignore_index=True)\n"
     ]
    },
    {
     "name": "stdout",
     "output_type": "stream",
     "text": [
      "   stock_id                 date    open     low    high   close volume\n",
      "0     ACONW  2023-06-29 09:49:00  0.0800  0.0800  0.0800  0.0800    100\n",
      "1     ACONW  2023-06-29 09:50:00  0.0800  0.0800  0.0800  0.0800    259\n",
      "2     ACONW  2023-06-29 10:33:00  0.0710  0.0611  0.0710  0.0611   2000\n",
      "3     ACONW  2023-06-30 11:20:00  0.0650  0.0650  0.0650  0.0650    501\n",
      "4     ACONW  2023-06-30 11:21:00  0.0775  0.0775  0.0775  0.0775   2000\n",
      "5     ACONW  2023-06-30 11:31:00  0.0620  0.0612  0.0620  0.0612   3100\n",
      "6     ACONW  2023-06-30 11:46:00  0.0610  0.0580  0.0610  0.0580   1500\n",
      "7     ACONW  2023-06-30 11:47:00  0.0549  0.0516  0.0549  0.0516   4080\n",
      "8     ACONW  2023-06-30 11:48:00  0.0500  0.0500  0.0500  0.0500   4691\n",
      "9     ACONW  2023-06-30 11:52:00  0.0410  0.0410  0.0410  0.0410   1000\n",
      "10    ACONW  2023-06-30 11:53:00  0.0400  0.0350  0.0400  0.0350   7000\n",
      "11    ACONW  2023-06-30 11:58:00  0.0600  0.0600  0.0840  0.0840   5688\n",
      "12    ACONW  2023-06-30 12:09:00  0.0253  0.0253  0.0435  0.0435   1335\n",
      "13    ACONW  2023-06-30 12:10:00  0.0253  0.0253  0.0431  0.0431   1217\n",
      "14    ACONW  2023-06-30 12:11:00  0.1350  0.1350  0.1350  0.1350    100\n",
      "15    ACONW  2023-06-30 12:12:00  0.1324  0.0264  0.1324  0.0430   3206\n",
      "16    ACONW  2023-06-30 12:13:00  0.0979  0.0600  0.0979  0.0600   1202\n",
      "17    ACONW  2023-06-30 12:14:00  0.0665  0.0594  0.1084  0.0624   2493\n",
      "18    ACONW  2023-06-30 12:35:00  0.0450  0.0450  0.0450  0.0450    100\n",
      "19    ACONW  2023-06-30 12:36:00  0.0570  0.0570  0.0570  0.0570    100\n",
      "20    ACONW  2023-06-30 12:37:00  0.0570  0.0570  0.0570  0.0570    300\n",
      "21    ACONW  2023-06-30 12:38:00  0.0790  0.0790  0.0790  0.0790    250\n",
      "22    ACONW  2023-07-03 10:50:00  0.0784  0.0645  0.0784  0.0645    304\n",
      "23    ACONW  2023-07-03 11:07:00  0.0645  0.0645  0.0645  0.0645    300\n",
      "(24, 7)\n"
     ]
    },
    {
     "name": "stderr",
     "output_type": "stream",
     "text": [
      "/Users/zhangwenbo/miniforge3/lib/python3.10/site-packages/cashare/minute_data.py:96: FutureWarning: The frame.append method is deprecated and will be removed from pandas in a future version. Use pandas.concat instead.\n",
      "  df = df.append(lsss, ignore_index=True)\n",
      "/Users/zhangwenbo/miniforge3/lib/python3.10/site-packages/cashare/minute_data.py:96: FutureWarning: The frame.append method is deprecated and will be removed from pandas in a future version. Use pandas.concat instead.\n",
      "  df = df.append(lsss, ignore_index=True)\n"
     ]
    },
    {
     "name": "stdout",
     "output_type": "stream",
     "text": [
      "   stock_id                 date     open      low     high    close volume\n",
      "0      ACOR  2023-06-29 09:30:00  12.6200  12.6200  12.6200  12.6200    349\n",
      "1      ACOR  2023-06-29 09:57:00  12.1600  12.1600  12.1600  12.1600    162\n",
      "2      ACOR  2023-06-29 10:03:00  12.9300  12.9300  12.9800  12.9800    300\n",
      "3      ACOR  2023-06-29 10:27:00  12.9300  12.9300  12.9650  12.9650    393\n",
      "4      ACOR  2023-06-29 10:57:00  12.8639  12.8639  12.8639  12.8639    100\n",
      "5      ACOR  2023-06-29 13:23:00  12.8950  12.8900  12.9000  12.9000    400\n",
      "6      ACOR  2023-06-29 14:06:00  12.8890  12.8890  12.8890  12.8890    309\n",
      "7      ACOR  2023-06-29 14:15:00  12.8890  12.8890  12.8890  12.8890    150\n",
      "8      ACOR  2023-06-29 14:46:00  12.8500  12.8500  12.8500  12.8500    527\n",
      "9      ACOR  2023-06-29 15:49:00  12.8100  12.8100  12.8100  12.8100    120\n",
      "10     ACOR  2023-06-30 09:30:00  12.5400  12.5400  12.5400  12.5400    381\n",
      "11     ACOR  2023-06-30 09:35:00  13.0900  13.0900  13.0900  13.0900    200\n",
      "12     ACOR  2023-06-30 10:09:00  12.8000  12.8000  13.0000  13.0000    611\n",
      "13     ACOR  2023-06-30 10:11:00  13.2000  13.2000  13.2000  13.2000    382\n",
      "14     ACOR  2023-06-30 10:13:00  13.4890  13.4890  13.5000  13.5000    361\n",
      "15     ACOR  2023-06-30 11:26:00  13.0200  13.0200  13.0200  13.0200    500\n",
      "16     ACOR  2023-06-30 11:45:00  13.0200  13.0100  13.0200  13.0100    547\n",
      "17     ACOR  2023-06-30 12:14:00  13.0100  13.0100  13.0100  13.0100    330\n",
      "18     ACOR  2023-06-30 12:30:00  13.4000  13.4000  13.4000  13.4000    301\n",
      "19     ACOR  2023-06-30 12:50:00  13.1548  13.1548  13.1548  13.1548    750\n",
      "20     ACOR  2023-06-30 13:13:00  13.1551  13.1551  13.1551  13.1551    300\n",
      "21     ACOR  2023-06-30 13:44:00  13.3500  13.3500  13.3500  13.3500    110\n",
      "22     ACOR  2023-06-30 13:55:00  13.3961  13.3961  13.3961  13.3961    299\n",
      "23     ACOR  2023-06-30 14:00:00  13.2050  13.1500  13.2050  13.1500    416\n",
      "24     ACOR  2023-06-30 14:02:00  13.1500  13.1500  13.1500  13.1500    544\n",
      "25     ACOR  2023-06-30 14:09:00  13.1500  13.1500  13.1500  13.1500    200\n",
      "26     ACOR  2023-06-30 15:58:00  13.0300  13.0300  13.0300  13.0300    138\n",
      "27     ACOR  2023-07-03 09:30:00  13.0700  13.0700  13.0700  13.0700    275\n",
      "28     ACOR  2023-07-03 09:40:00  11.8900  11.8900  11.8900  11.8900   2026\n",
      "29     ACOR  2023-07-03 12:11:00  12.4210  12.4210  12.4400  12.4220    305\n",
      "30     ACOR  2023-07-03 12:44:00  12.7900  12.4500  12.7900  12.4500    490\n",
      "(31, 7)\n",
      "Empty DataFrame\n",
      "Columns: []\n",
      "Index: []\n",
      "(0, 0)\n",
      "Empty DataFrame\n",
      "Columns: []\n",
      "Index: []\n",
      "(0, 0)\n",
      "Empty DataFrame\n",
      "Columns: []\n",
      "Index: []\n",
      "(0, 0)\n"
     ]
    },
    {
     "name": "stderr",
     "output_type": "stream",
     "text": [
      "/Users/zhangwenbo/miniforge3/lib/python3.10/site-packages/cashare/minute_data.py:96: FutureWarning: The frame.append method is deprecated and will be removed from pandas in a future version. Use pandas.concat instead.\n",
      "  df = df.append(lsss, ignore_index=True)\n",
      "/Users/zhangwenbo/miniforge3/lib/python3.10/site-packages/cashare/minute_data.py:96: FutureWarning: The frame.append method is deprecated and will be removed from pandas in a future version. Use pandas.concat instead.\n",
      "  df = df.append(lsss, ignore_index=True)\n"
     ]
    },
    {
     "name": "stdout",
     "output_type": "stream",
     "text": [
      "   stock_id                 date    open     low    high   close volume\n",
      "0       ACR  2023-06-29 09:39:00  8.4989  8.4989  8.5000  8.5000   1000\n",
      "1       ACR  2023-06-29 09:42:00  8.4800  8.4700  8.4999  8.4999   1501\n",
      "2       ACR  2023-06-29 09:43:00  8.5000  8.4900  8.5100  8.5100    756\n",
      "3       ACR  2023-06-29 09:47:00  8.4900  8.4415  8.5200  8.4415   1500\n",
      "4       ACR  2023-06-29 09:48:00  8.3600  8.3600  8.4500  8.4500    700\n",
      "..      ...                  ...     ...     ...     ...     ...    ...\n",
      "91      ACR  2023-07-03 12:13:00  8.7500  8.7500  8.7500  8.7500    706\n",
      "92      ACR  2023-07-03 12:23:00  8.7500  8.7000  8.7500  8.7000    799\n",
      "93      ACR  2023-07-03 12:35:00  8.7800  8.7800  8.7800  8.7800    394\n",
      "94      ACR  2023-07-03 13:10:00  8.7800  8.7800  8.7800  8.7800      0\n",
      "95      ACR  2023-07-03 15:30:00  8.7800  8.7800  8.7800  8.7800      0\n",
      "\n",
      "[96 rows x 7 columns]\n",
      "(96, 7)\n"
     ]
    },
    {
     "name": "stderr",
     "output_type": "stream",
     "text": [
      "/Users/zhangwenbo/miniforge3/lib/python3.10/site-packages/cashare/minute_data.py:96: FutureWarning: The frame.append method is deprecated and will be removed from pandas in a future version. Use pandas.concat instead.\n",
      "  df = df.append(lsss, ignore_index=True)\n",
      "/Users/zhangwenbo/miniforge3/lib/python3.10/site-packages/cashare/minute_data.py:96: FutureWarning: The frame.append method is deprecated and will be removed from pandas in a future version. Use pandas.concat instead.\n",
      "  df = df.append(lsss, ignore_index=True)\n"
     ]
    },
    {
     "name": "stdout",
     "output_type": "stream",
     "text": [
      "   stock_id                 date     open      low     high    close volume\n",
      "0    ACR-PC  2023-06-29 10:39:00  21.1787  21.1787  21.1787  21.1787    242\n",
      "1    ACR-PC  2023-06-29 10:40:00  21.1700  21.1700  21.1787  21.1787   1695\n",
      "2    ACR-PC  2023-06-29 11:13:00  21.1000  21.1000  21.1000  21.1000    147\n",
      "3    ACR-PC  2023-06-29 12:01:00  21.0700  21.0700  21.0700  21.0700    112\n",
      "4    ACR-PC  2023-06-29 12:04:00  21.2000  21.2000  21.2000  21.2000    100\n",
      "..      ...                  ...      ...      ...      ...      ...    ...\n",
      "91   ACR-PC  2023-07-03 12:44:00  22.2000  22.2000  22.2000  22.2000    100\n",
      "92   ACR-PC  2023-07-03 12:55:00  22.2300  22.2300  22.2300  22.2300    200\n",
      "93   ACR-PC  2023-07-03 12:59:00  22.3500  22.3500  22.3500  22.3500    400\n",
      "94   ACR-PC  2023-07-03 13:10:00  22.3500  22.3500  22.3500  22.3500      0\n",
      "95   ACR-PC  2023-07-03 15:30:00  22.3500  22.3500  22.3500  22.3500      0\n",
      "\n",
      "[96 rows x 7 columns]\n",
      "(96, 7)\n"
     ]
    },
    {
     "name": "stderr",
     "output_type": "stream",
     "text": [
      "/Users/zhangwenbo/miniforge3/lib/python3.10/site-packages/cashare/minute_data.py:96: FutureWarning: The frame.append method is deprecated and will be removed from pandas in a future version. Use pandas.concat instead.\n",
      "  df = df.append(lsss, ignore_index=True)\n",
      "/Users/zhangwenbo/miniforge3/lib/python3.10/site-packages/cashare/minute_data.py:96: FutureWarning: The frame.append method is deprecated and will be removed from pandas in a future version. Use pandas.concat instead.\n",
      "  df = df.append(lsss, ignore_index=True)\n"
     ]
    },
    {
     "name": "stdout",
     "output_type": "stream",
     "text": [
      "   stock_id                 date    open     low    high   close volume\n",
      "0    ACR-PD  2023-06-29 09:30:00  19.540  19.540  19.540  19.540    100\n",
      "1    ACR-PD  2023-06-29 10:52:00  19.720  19.720  19.720  19.720    200\n",
      "2    ACR-PD  2023-06-29 10:53:00  19.750  19.700  19.750  19.700    200\n",
      "3    ACR-PD  2023-06-29 11:21:00  19.710  19.710  19.710  19.710    200\n",
      "4    ACR-PD  2023-06-29 11:38:00  19.780  19.780  19.780  19.780    144\n",
      "..      ...                  ...     ...     ...     ...     ...    ...\n",
      "60   ACR-PD  2023-07-03 12:47:00  20.870  20.870  20.900  20.900   1485\n",
      "61   ACR-PD  2023-07-03 12:49:00  20.925  20.925  20.925  20.925    100\n",
      "62   ACR-PD  2023-07-03 12:59:00  20.880  20.800  20.950  20.950    900\n",
      "63   ACR-PD  2023-07-03 13:10:00  20.950  20.950  20.950  20.950      0\n",
      "64   ACR-PD  2023-07-03 15:30:00  20.950  20.950  20.950  20.950      0\n",
      "\n",
      "[65 rows x 7 columns]\n",
      "(65, 7)\n"
     ]
    },
    {
     "name": "stderr",
     "output_type": "stream",
     "text": [
      "/Users/zhangwenbo/miniforge3/lib/python3.10/site-packages/cashare/minute_data.py:96: FutureWarning: The frame.append method is deprecated and will be removed from pandas in a future version. Use pandas.concat instead.\n",
      "  df = df.append(lsss, ignore_index=True)\n",
      "/Users/zhangwenbo/miniforge3/lib/python3.10/site-packages/cashare/minute_data.py:96: FutureWarning: The frame.append method is deprecated and will be removed from pandas in a future version. Use pandas.concat instead.\n",
      "  df = df.append(lsss, ignore_index=True)\n"
     ]
    },
    {
     "name": "stdout",
     "output_type": "stream",
     "text": [
      "    stock_id                 date    open      low     high    close volume\n",
      "0       ACRE  2023-06-29 09:30:00  10.080   9.9700  10.0800  10.0000  35060\n",
      "1       ACRE  2023-06-29 09:31:00  10.010  10.0099  10.0450  10.0200   3924\n",
      "2       ACRE  2023-06-29 09:32:00  10.030  10.0300  10.0594  10.0594   3763\n",
      "3       ACRE  2023-06-29 09:33:00  10.050  10.0200  10.0501  10.0300   6238\n",
      "4       ACRE  2023-06-29 09:34:00  10.030  10.0300  10.0400  10.0400   1632\n",
      "..       ...                  ...     ...      ...      ...      ...    ...\n",
      "767     ACRE  2023-07-03 12:58:00  10.109  10.1050  10.1100  10.1100   3011\n",
      "768     ACRE  2023-07-03 12:59:00  10.120  10.1150  10.1300  10.1250   5637\n",
      "769     ACRE  2023-07-03 13:00:00  10.120  10.1200  10.1300  10.1300  24987\n",
      "770     ACRE  2023-07-03 13:10:00  10.130  10.1300  10.1300  10.1300      0\n",
      "771     ACRE  2023-07-03 15:30:00  10.130  10.1300  10.1300  10.1300      0\n",
      "\n",
      "[772 rows x 7 columns]\n",
      "(772, 7)\n",
      "   percent  name                                  ts_code\n",
      "0        0  ACRE  Ares Commercial Real Estate Corporation\n"
     ]
    },
    {
     "name": "stderr",
     "output_type": "stream",
     "text": [
      "/Users/zhangwenbo/miniforge3/lib/python3.10/site-packages/cashare/minute_data.py:96: FutureWarning: The frame.append method is deprecated and will be removed from pandas in a future version. Use pandas.concat instead.\n",
      "  df = df.append(lsss, ignore_index=True)\n",
      "/Users/zhangwenbo/miniforge3/lib/python3.10/site-packages/cashare/minute_data.py:96: FutureWarning: The frame.append method is deprecated and will be removed from pandas in a future version. Use pandas.concat instead.\n",
      "  df = df.append(lsss, ignore_index=True)\n"
     ]
    },
    {
     "name": "stdout",
     "output_type": "stream",
     "text": [
      "   stock_id                 date    open     low     high    close  volume\n",
      "0      ACRO  2023-06-29 09:30:00  10.140  10.140  10.1400  10.1400     100\n",
      "1      ACRO  2023-06-29 09:33:00  10.150  10.150  10.1500  10.1500     200\n",
      "2      ACRO  2023-06-29 10:09:00  10.150  10.140  10.1500  10.1400    8993\n",
      "3      ACRO  2023-06-29 10:59:00  10.150  10.150  10.1500  10.1500   10000\n",
      "4      ACRO  2023-06-29 12:03:00  10.150  10.150  10.1666  10.1666   25593\n",
      "5      ACRO  2023-06-29 12:07:00  10.160  10.150  10.1600  10.1500   70000\n",
      "6      ACRO  2023-06-29 12:14:00  10.150  10.150  10.1500  10.1500     400\n",
      "7      ACRO  2023-06-29 13:03:00  10.150  10.150  10.1600  10.1600     833\n",
      "8      ACRO  2023-06-29 13:05:00  10.160  10.160  10.1600  10.1600    3700\n",
      "9      ACRO  2023-06-29 13:06:00  10.160  10.160  10.1600  10.1600   42800\n",
      "10     ACRO  2023-06-29 13:09:00  10.160  10.160  10.1600  10.1600  100100\n",
      "11     ACRO  2023-06-29 13:10:00  10.160  10.160  10.1600  10.1600   21400\n",
      "12     ACRO  2023-06-29 13:34:00  10.160  10.160  10.1600  10.1600     700\n",
      "13     ACRO  2023-06-29 13:40:00  10.160  10.160  10.1600  10.1600   50000\n",
      "14     ACRO  2023-06-29 13:43:00  10.160  10.160  10.1600  10.1600     100\n",
      "15     ACRO  2023-06-29 13:54:00  10.160  10.160  10.1600  10.1600    2700\n",
      "16     ACRO  2023-06-29 14:13:00  10.160  10.160  10.1600  10.1600    5500\n",
      "17     ACRO  2023-06-29 14:59:00  10.160  10.160  10.1600  10.1600    2173\n",
      "18     ACRO  2023-06-29 15:53:00  10.160  10.160  10.1600  10.1600   50000\n",
      "19     ACRO  2023-06-29 15:57:00  10.160  10.160  10.1600  10.1600   97227\n",
      "20     ACRO  2023-06-30 09:30:00  10.160  10.160  10.1600  10.1600    5400\n",
      "21     ACRO  2023-06-30 09:40:00  10.150  10.150  10.1500  10.1500     305\n",
      "22     ACRO  2023-06-30 09:42:00  10.140  10.140  10.1400  10.1400     300\n",
      "23     ACRO  2023-06-30 09:46:00  10.150  10.150  10.1500  10.1500    1030\n",
      "24     ACRO  2023-06-30 11:37:00  10.150  10.150  10.1600  10.1600    7244\n",
      "25     ACRO  2023-06-30 11:54:00  10.160  10.160  10.1600  10.1600   12500\n",
      "26     ACRO  2023-06-30 11:55:00  10.160  10.160  10.1600  10.1600   18750\n",
      "27     ACRO  2023-06-30 11:56:00  10.160  10.150  10.1600  10.1600   19050\n",
      "28     ACRO  2023-06-30 12:09:00  10.150  10.150  10.1500  10.1500     100\n",
      "29     ACRO  2023-06-30 13:53:00  10.150  10.150  10.1500  10.1500     200\n",
      "30     ACRO  2023-06-30 14:37:00  10.150  10.150  10.1500  10.1500     300\n",
      "31     ACRO  2023-06-30 14:38:00  10.150  10.150  10.1500  10.1500    2990\n",
      "32     ACRO  2023-06-30 15:50:00  10.150  10.150  10.1500  10.1500     204\n",
      "33     ACRO  2023-06-30 15:58:00  10.150  10.150  10.1500  10.1500  100000\n",
      "34     ACRO  2023-07-03 09:33:00  10.175  10.175  10.1750  10.1750     300\n",
      "35     ACRO  2023-07-03 09:40:00  10.165  10.165  10.1650  10.1650     300\n",
      "36     ACRO  2023-07-03 09:41:00  10.160  10.160  10.1600  10.1600  168990\n",
      "37     ACRO  2023-07-03 09:42:00  10.160  10.160  10.1600  10.1600   21300\n",
      "38     ACRO  2023-07-03 09:43:00  10.160  10.150  10.1600  10.1500  150700\n",
      "39     ACRO  2023-07-03 10:00:00  10.160  10.160  10.1600  10.1600     600\n",
      "40     ACRO  2023-07-03 10:01:00  10.160  10.160  10.1600  10.1600     100\n",
      "41     ACRO  2023-07-03 10:15:00  10.160  10.160  10.1600  10.1600     700\n",
      "42     ACRO  2023-07-03 10:33:00  10.160  10.160  10.1600  10.1600     700\n",
      "43     ACRO  2023-07-03 10:53:00  10.160  10.160  10.1600  10.1600     600\n",
      "44     ACRO  2023-07-03 11:08:00  10.160  10.150  10.1600  10.1500     700\n",
      "45     ACRO  2023-07-03 11:22:00  10.160  10.160  10.1600  10.1600     500\n",
      "46     ACRO  2023-07-03 11:32:00  10.160  10.160  10.1600  10.1600     400\n",
      "47     ACRO  2023-07-03 11:42:00  10.160  10.160  10.1600  10.1600     300\n",
      "48     ACRO  2023-07-03 11:47:00  10.160  10.160  10.1600  10.1600     300\n",
      "49     ACRO  2023-07-03 11:54:00  10.160  10.150  10.1600  10.1500     300\n",
      "50     ACRO  2023-07-03 11:59:00  10.160  10.160  10.1600  10.1600     180\n",
      "51     ACRO  2023-07-03 12:05:00  10.150  10.150  10.1500  10.1500     100\n",
      "52     ACRO  2023-07-03 12:20:00  10.150  10.150  10.1500  10.1500    1740\n",
      "53     ACRO  2023-07-03 12:24:00  10.140  10.140  10.1400  10.1400     100\n",
      "54     ACRO  2023-07-03 12:51:00  10.140  10.140  10.1400  10.1400     633\n",
      "55     ACRO  2023-07-03 13:10:00  10.140  10.140  10.1400  10.1400       0\n",
      "56     ACRO  2023-07-03 15:30:00  10.140  10.140  10.1400  10.1400       0\n",
      "(57, 7)\n"
     ]
    },
    {
     "name": "stderr",
     "output_type": "stream",
     "text": [
      "/Users/zhangwenbo/miniforge3/lib/python3.10/site-packages/cashare/minute_data.py:96: FutureWarning: The frame.append method is deprecated and will be removed from pandas in a future version. Use pandas.concat instead.\n",
      "  df = df.append(lsss, ignore_index=True)\n"
     ]
    },
    {
     "name": "stdout",
     "output_type": "stream",
     "text": [
      "  stock_id                 date   open    low   high  close volume\n",
      "0  ACRO-UN  2023-07-03 12:19:00  10.21  10.21  10.21  10.21    465\n",
      "(1, 7)\n"
     ]
    },
    {
     "name": "stderr",
     "output_type": "stream",
     "text": [
      "/Users/zhangwenbo/miniforge3/lib/python3.10/site-packages/cashare/minute_data.py:96: FutureWarning: The frame.append method is deprecated and will be removed from pandas in a future version. Use pandas.concat instead.\n",
      "  df = df.append(lsss, ignore_index=True)\n",
      "/Users/zhangwenbo/miniforge3/lib/python3.10/site-packages/cashare/minute_data.py:96: FutureWarning: The frame.append method is deprecated and will be removed from pandas in a future version. Use pandas.concat instead.\n",
      "  df = df.append(lsss, ignore_index=True)\n"
     ]
    },
    {
     "name": "stdout",
     "output_type": "stream",
     "text": [
      "  stock_id                 date    open     low    high   close volume\n",
      "0  ACRO-WT  2023-06-29 13:44:00  0.0950  0.0950  0.0950  0.0950    750\n",
      "1  ACRO-WT  2023-06-29 15:59:00  0.0900  0.0900  0.0900  0.0900    850\n",
      "2  ACRO-WT  2023-06-30 09:51:00  0.0884  0.0884  0.0884  0.0884    400\n",
      "3  ACRO-WT  2023-07-03 11:30:00  0.0979  0.0979  0.0979  0.0979    200\n",
      "(4, 7)\n"
     ]
    },
    {
     "name": "stderr",
     "output_type": "stream",
     "text": [
      "/Users/zhangwenbo/miniforge3/lib/python3.10/site-packages/cashare/minute_data.py:96: FutureWarning: The frame.append method is deprecated and will be removed from pandas in a future version. Use pandas.concat instead.\n",
      "  df = df.append(lsss, ignore_index=True)\n",
      "/Users/zhangwenbo/miniforge3/lib/python3.10/site-packages/cashare/minute_data.py:96: FutureWarning: The frame.append method is deprecated and will be removed from pandas in a future version. Use pandas.concat instead.\n",
      "  df = df.append(lsss, ignore_index=True)\n"
     ]
    },
    {
     "name": "stdout",
     "output_type": "stream",
     "text": [
      "    stock_id                 date    open     low    high   close volume\n",
      "0       ACRS  2023-06-29 09:30:00  10.240  10.120  10.240  10.130   4092\n",
      "1       ACRS  2023-06-29 09:32:00  10.210  10.190  10.230  10.190    717\n",
      "2       ACRS  2023-06-29 09:33:00  10.215  10.215  10.215  10.215    169\n",
      "3       ACRS  2023-06-29 09:34:00  10.215  10.180  10.215  10.180    218\n",
      "4       ACRS  2023-06-29 09:35:00  10.180  10.150  10.180  10.150    602\n",
      "..       ...                  ...     ...     ...     ...     ...    ...\n",
      "842     ACRS  2023-07-03 12:56:00  10.410  10.405  10.420  10.420   3952\n",
      "843     ACRS  2023-07-03 12:57:00  10.415  10.415  10.450  10.435   5669\n",
      "844     ACRS  2023-07-03 12:58:00  10.450  10.450  10.450  10.450   1141\n",
      "845     ACRS  2023-07-03 12:59:00  10.460  10.450  10.490  10.480  26278\n",
      "846     ACRS  2023-07-03 13:00:00  10.470  10.470  10.470  10.470  30763\n",
      "\n",
      "[847 rows x 7 columns]\n",
      "(847, 7)\n",
      "   percent  name                     ts_code\n",
      "0        1  ACRS  Aclaris Therapeutics, Inc.\n"
     ]
    },
    {
     "name": "stderr",
     "output_type": "stream",
     "text": [
      "/Users/zhangwenbo/miniforge3/lib/python3.10/site-packages/cashare/minute_data.py:96: FutureWarning: The frame.append method is deprecated and will be removed from pandas in a future version. Use pandas.concat instead.\n",
      "  df = df.append(lsss, ignore_index=True)\n",
      "/Users/zhangwenbo/miniforge3/lib/python3.10/site-packages/cashare/minute_data.py:96: FutureWarning: The frame.append method is deprecated and will be removed from pandas in a future version. Use pandas.concat instead.\n",
      "  df = df.append(lsss, ignore_index=True)\n"
     ]
    },
    {
     "name": "stdout",
     "output_type": "stream",
     "text": [
      "   stock_id                 date     open      low     high    close volume\n",
      "0      ACRV  2023-06-29 09:30:00  13.3800  13.3800  13.3800  13.3800    327\n",
      "1      ACRV  2023-06-29 09:32:00  13.1640  13.1640  13.2500  13.2500    358\n",
      "2      ACRV  2023-06-29 14:32:00  13.4000  13.4000  13.4000  13.4000    446\n",
      "3      ACRV  2023-06-29 14:33:00  13.4000  13.4000  13.4000  13.4000    191\n",
      "4      ACRV  2023-06-29 14:40:00  13.1600  13.1600  13.1600  13.1600    105\n",
      "5      ACRV  2023-06-29 15:41:00  13.4500  13.4500  13.4500  13.4500    100\n",
      "6      ACRV  2023-06-29 15:42:00  13.3100  13.3100  13.3200  13.3100   2025\n",
      "7      ACRV  2023-06-29 15:56:00  13.2300  13.2000  13.3200  13.3200   1539\n",
      "8      ACRV  2023-06-29 15:57:00  13.3200  13.3200  13.3200  13.3200    140\n",
      "9      ACRV  2023-06-29 15:59:00  13.2300  13.2300  13.2300  13.2300    398\n",
      "10     ACRV  2023-06-29 16:00:00  13.3200  13.3200  13.3200  13.3200    231\n",
      "11     ACRV  2023-06-30 10:13:00  13.4150  13.4150  13.4150  13.4150    101\n",
      "12     ACRV  2023-06-30 12:12:00  13.0550  13.0550  13.0550  13.0550    420\n",
      "13     ACRV  2023-06-30 13:48:00  12.9750  12.9750  12.9750  12.9750    211\n",
      "14     ACRV  2023-06-30 14:52:00  13.1500  13.1500  13.1500  13.1500    109\n",
      "15     ACRV  2023-06-30 15:04:00  13.3300  13.3300  13.3918  13.3918    660\n",
      "16     ACRV  2023-06-30 15:05:00  13.3300  13.3300  13.3870  13.3870    251\n",
      "17     ACRV  2023-06-30 15:10:00  13.3300  13.3300  13.3300  13.3300    304\n",
      "18     ACRV  2023-06-30 15:22:00  13.3400  13.3400  13.3400  13.3400    178\n",
      "19     ACRV  2023-06-30 15:24:00  13.4000  13.4000  13.4000  13.4000    399\n",
      "20     ACRV  2023-06-30 15:28:00  13.4000  13.4000  13.4475  13.4475    212\n",
      "21     ACRV  2023-06-30 15:37:00  13.3700  13.3700  13.3700  13.3700    516\n",
      "22     ACRV  2023-06-30 15:38:00  13.3300  13.3300  13.3300  13.3300    112\n",
      "23     ACRV  2023-06-30 15:40:00  13.3300  13.3300  13.3300  13.3300    135\n",
      "24     ACRV  2023-06-30 15:41:00  13.3300  13.3050  13.3300  13.3050    333\n",
      "25     ACRV  2023-06-30 15:54:00  13.2450  13.2450  13.2450  13.2450    369\n",
      "26     ACRV  2023-06-30 15:59:00  12.7700  12.7650  12.9100  12.9100   1492\n",
      "27     ACRV  2023-07-03 09:30:00  12.8500  12.8500  12.8500  12.8500    162\n",
      "28     ACRV  2023-07-03 11:18:00  13.4025  13.4025  13.4025  13.4025    262\n",
      "29     ACRV  2023-07-03 12:52:00  12.8400  12.8400  13.4025  13.4025    271\n",
      "30     ACRV  2023-07-03 13:00:00  13.1500  13.1500  13.1500  13.1500    677\n",
      "(31, 7)\n"
     ]
    },
    {
     "name": "stderr",
     "output_type": "stream",
     "text": [
      "/Users/zhangwenbo/miniforge3/lib/python3.10/site-packages/cashare/minute_data.py:96: FutureWarning: The frame.append method is deprecated and will be removed from pandas in a future version. Use pandas.concat instead.\n",
      "  df = df.append(lsss, ignore_index=True)\n",
      "/Users/zhangwenbo/miniforge3/lib/python3.10/site-packages/cashare/minute_data.py:96: FutureWarning: The frame.append method is deprecated and will be removed from pandas in a future version. Use pandas.concat instead.\n",
      "  df = df.append(lsss, ignore_index=True)\n"
     ]
    },
    {
     "name": "stdout",
     "output_type": "stream",
     "text": [
      "    stock_id                 date    open     low    high   close volume\n",
      "0       ACRX  2023-06-29 09:30:00  1.0600  1.0600  1.0600  1.0600    308\n",
      "1       ACRX  2023-06-29 09:36:00  1.0985  1.0985  1.0985  1.0985   1001\n",
      "2       ACRX  2023-06-29 09:46:00  1.0800  1.0800  1.0800  1.0800    500\n",
      "3       ACRX  2023-06-29 09:59:00  1.0850  1.0850  1.0850  1.0850   1010\n",
      "4       ACRX  2023-06-29 10:04:00  1.0850  1.0800  1.0850  1.0800   2251\n",
      "..       ...                  ...     ...     ...     ...     ...    ...\n",
      "146     ACRX  2023-07-03 12:42:00  1.1000  1.1000  1.1000  1.1000    330\n",
      "147     ACRX  2023-07-03 12:55:00  1.1000  1.1000  1.1000  1.1000    100\n",
      "148     ACRX  2023-07-03 12:56:00  1.0920  1.0920  1.0936  1.0927    635\n",
      "149     ACRX  2023-07-03 12:59:00  1.1100  1.1024  1.1100  1.1024    630\n",
      "150     ACRX  2023-07-03 13:00:00  1.0900  1.0900  1.0900  1.0900   1713\n",
      "\n",
      "[151 rows x 7 columns]\n",
      "(151, 7)\n",
      "   percent  name                       ts_code\n",
      "0        1  ACRX  AcelRx Pharmaceuticals, Inc.\n"
     ]
    },
    {
     "name": "stderr",
     "output_type": "stream",
     "text": [
      "/Users/zhangwenbo/miniforge3/lib/python3.10/site-packages/cashare/minute_data.py:96: FutureWarning: The frame.append method is deprecated and will be removed from pandas in a future version. Use pandas.concat instead.\n",
      "  df = df.append(lsss, ignore_index=True)\n",
      "/Users/zhangwenbo/miniforge3/lib/python3.10/site-packages/cashare/minute_data.py:96: FutureWarning: The frame.append method is deprecated and will be removed from pandas in a future version. Use pandas.concat instead.\n",
      "  df = df.append(lsss, ignore_index=True)\n"
     ]
    },
    {
     "name": "stdout",
     "output_type": "stream",
     "text": [
      "    stock_id                 date      open       low      high     close  \\\n",
      "0       ACST  2023-06-29 09:30:00  0.520000  0.510000  0.520000  0.510000   \n",
      "1       ACST  2023-06-29 09:31:00  0.519900  0.519900  0.519900  0.519900   \n",
      "2       ACST  2023-06-29 09:47:00  0.510201  0.510201  0.510201  0.510201   \n",
      "3       ACST  2023-06-29 09:53:00  0.510300  0.510300  0.510300  0.510300   \n",
      "4       ACST  2023-06-29 09:55:00  0.510300  0.510300  0.510300  0.510300   \n",
      "..       ...                  ...       ...       ...       ...       ...   \n",
      "114     ACST  2023-07-03 12:50:00  0.520700  0.520700  0.520700  0.520700   \n",
      "115     ACST  2023-07-03 12:51:00  0.522000  0.522000  0.522000  0.522000   \n",
      "116     ACST  2023-07-03 12:57:00  0.521400  0.521400  0.522000  0.522000   \n",
      "117     ACST  2023-07-03 12:58:00  0.522000  0.522000  0.522000  0.522000   \n",
      "118     ACST  2023-07-03 13:00:00  0.522000  0.522000  0.522000  0.522000   \n",
      "\n",
      "    volume  \n",
      "0     1587  \n",
      "1      200  \n",
      "2      140  \n",
      "3     1137  \n",
      "4      600  \n",
      "..     ...  \n",
      "114    523  \n",
      "115    400  \n",
      "116    702  \n",
      "117    175  \n",
      "118    104  \n",
      "\n",
      "[119 rows x 7 columns]\n",
      "(119, 7)\n",
      "   percent  name             ts_code\n",
      "0        0  ACST  Acasti Pharma Inc.\n"
     ]
    },
    {
     "name": "stderr",
     "output_type": "stream",
     "text": [
      "/Users/zhangwenbo/miniforge3/lib/python3.10/site-packages/cashare/minute_data.py:96: FutureWarning: The frame.append method is deprecated and will be removed from pandas in a future version. Use pandas.concat instead.\n",
      "  df = df.append(lsss, ignore_index=True)\n",
      "/Users/zhangwenbo/miniforge3/lib/python3.10/site-packages/cashare/minute_data.py:96: FutureWarning: The frame.append method is deprecated and will be removed from pandas in a future version. Use pandas.concat instead.\n",
      "  df = df.append(lsss, ignore_index=True)\n"
     ]
    },
    {
     "name": "stdout",
     "output_type": "stream",
     "text": [
      "    stock_id                 date   open     low    high   close volume\n",
      "0        ACT  2023-06-29 09:30:00  24.74  24.740  24.765  24.765   4168\n",
      "1        ACT  2023-06-29 09:31:00  24.70  24.700  24.700  24.700   3007\n",
      "2        ACT  2023-06-29 09:32:00  24.70  24.700  24.700  24.700   4830\n",
      "3        ACT  2023-06-29 09:33:00  24.70  24.700  24.700  24.700   3192\n",
      "4        ACT  2023-06-29 09:35:00  24.77  24.750  24.770  24.750    478\n",
      "..       ...                  ...    ...     ...     ...     ...    ...\n",
      "435      ACT  2023-07-03 12:55:00  25.79  25.745  25.790  25.745   1678\n",
      "436      ACT  2023-07-03 12:56:00  25.75  25.740  25.750  25.750   1738\n",
      "437      ACT  2023-07-03 12:57:00  25.75  25.750  25.760  25.760    787\n",
      "438      ACT  2023-07-03 12:59:00  25.77  25.720  25.770  25.720   2580\n",
      "439      ACT  2023-07-03 13:00:00  25.72  25.720  25.720  25.720  15566\n",
      "\n",
      "[440 rows x 7 columns]\n",
      "(440, 7)\n",
      "   percent name               ts_code\n",
      "0        0  ACT  Enact Holdings, Inc.\n",
      "Empty DataFrame\n",
      "Columns: []\n",
      "Index: []\n",
      "(0, 0)\n",
      "Empty DataFrame\n",
      "Columns: []\n",
      "Index: []\n",
      "(0, 0)\n",
      "Empty DataFrame\n",
      "Columns: []\n",
      "Index: []\n",
      "(0, 0)\n"
     ]
    },
    {
     "name": "stderr",
     "output_type": "stream",
     "text": [
      "/Users/zhangwenbo/miniforge3/lib/python3.10/site-packages/cashare/minute_data.py:96: FutureWarning: The frame.append method is deprecated and will be removed from pandas in a future version. Use pandas.concat instead.\n",
      "  df = df.append(lsss, ignore_index=True)\n",
      "/Users/zhangwenbo/miniforge3/lib/python3.10/site-packages/cashare/minute_data.py:96: FutureWarning: The frame.append method is deprecated and will be removed from pandas in a future version. Use pandas.concat instead.\n",
      "  df = df.append(lsss, ignore_index=True)\n"
     ]
    },
    {
     "name": "stdout",
     "output_type": "stream",
     "text": [
      "    stock_id                 date   open    low    high  close volume\n",
      "0       ACTG  2023-06-29 09:30:00  4.030  4.030  4.0700  4.060   3384\n",
      "1       ACTG  2023-06-29 09:36:00  4.050  4.050  4.0600  4.060   1271\n",
      "2       ACTG  2023-06-29 09:37:00  4.070  4.070  4.0900  4.090   1032\n",
      "3       ACTG  2023-06-29 09:38:00  4.090  4.070  4.0901  4.070   1999\n",
      "4       ACTG  2023-06-29 09:45:00  4.060  4.060  4.0600  4.060    116\n",
      "..       ...                  ...    ...    ...     ...    ...    ...\n",
      "410     ACTG  2023-07-03 12:56:00  4.090  4.075  4.0900  4.075   2252\n",
      "411     ACTG  2023-07-03 12:57:00  4.075  4.075  4.0800  4.080   1763\n",
      "412     ACTG  2023-07-03 12:58:00  4.080  4.080  4.1000  4.100   2520\n",
      "413     ACTG  2023-07-03 12:59:00  4.100  4.095  4.1000  4.095   3346\n",
      "414     ACTG  2023-07-03 13:00:00  4.100  4.100  4.1000  4.100   6346\n",
      "\n",
      "[415 rows x 7 columns]\n",
      "(415, 7)\n",
      "   percent  name                      ts_code\n",
      "0        0  ACTG  Acacia Research Corporation\n"
     ]
    },
    {
     "name": "stderr",
     "output_type": "stream",
     "text": [
      "/Users/zhangwenbo/miniforge3/lib/python3.10/site-packages/cashare/minute_data.py:96: FutureWarning: The frame.append method is deprecated and will be removed from pandas in a future version. Use pandas.concat instead.\n",
      "  df = df.append(lsss, ignore_index=True)\n",
      "/Users/zhangwenbo/miniforge3/lib/python3.10/site-packages/cashare/minute_data.py:96: FutureWarning: The frame.append method is deprecated and will be removed from pandas in a future version. Use pandas.concat instead.\n",
      "  df = df.append(lsss, ignore_index=True)\n"
     ]
    },
    {
     "name": "stdout",
     "output_type": "stream",
     "text": [
      "   stock_id                 date     open      low     high    close volume\n",
      "0       ACU  2023-06-29 09:40:00  24.5000  24.5000  24.5000  24.5000    220\n",
      "1       ACU  2023-06-29 10:23:00  25.0000  25.0000  25.0000  25.0000    124\n",
      "2       ACU  2023-06-29 10:27:00  24.7766  24.7766  24.7766  24.7766    179\n",
      "3       ACU  2023-06-29 10:43:00  24.7200  24.7200  24.7200  24.7200    200\n",
      "4       ACU  2023-06-29 11:04:00  24.7905  24.7905  24.7905  24.7905    240\n",
      "5       ACU  2023-06-29 11:12:00  24.8500  24.8440  24.8500  24.8440    534\n",
      "6       ACU  2023-06-29 11:20:00  25.0000  25.0000  25.0000  25.0000    765\n",
      "7       ACU  2023-06-29 12:51:00  24.9050  24.9050  24.9050  24.9050    452\n",
      "8       ACU  2023-06-29 12:54:00  24.9050  24.9050  25.1000  25.1000   1100\n",
      "9       ACU  2023-06-29 13:04:00  25.1000  25.1000  25.1000  25.1000    220\n",
      "10      ACU  2023-06-29 14:46:00  25.0100  25.0100  25.0100  25.0100    404\n",
      "11      ACU  2023-06-29 15:27:00  25.0150  25.0150  25.0150  25.0150    560\n",
      "12      ACU  2023-06-30 11:16:00  24.7600  24.7600  24.7601  24.7601    529\n",
      "13      ACU  2023-06-30 11:48:00  24.5100  24.4676  24.5100  24.4676    240\n",
      "14      ACU  2023-06-30 14:27:00  24.8000  24.8000  24.8000  24.8000    660\n",
      "15      ACU  2023-07-03 09:30:00  24.8700  24.8700  24.8700  24.8700    306\n",
      "16      ACU  2023-07-03 09:46:00  24.4423  24.4423  24.4423  24.4423    142\n",
      "17      ACU  2023-07-03 10:13:00  25.0000  25.0000  25.0000  25.0000    200\n",
      "18      ACU  2023-07-03 11:26:00  24.5000  24.5000  24.5000  24.5000    278\n",
      "19      ACU  2023-07-03 11:48:00  25.2500  25.2500  25.3900  25.3900    808\n",
      "20      ACU  2023-07-03 12:02:00  25.8100  25.8100  25.8100  25.8100    178\n",
      "21      ACU  2023-07-03 12:23:00  25.7500  25.7500  25.7500  25.7500    108\n",
      "22      ACU  2023-07-03 12:34:00  25.6821  25.6821  25.6821  25.6821    120\n",
      "23      ACU  2023-07-03 12:36:00  25.7046  25.7046  25.7046  25.7046    100\n",
      "24      ACU  2023-07-03 12:37:00  25.7500  25.7500  25.7500  25.7500    421\n",
      "25      ACU  2023-07-03 12:39:00  25.7500  25.7300  25.7500  25.7500    645\n",
      "26      ACU  2023-07-03 12:40:00  25.9700  25.9700  25.9800  25.9800    260\n",
      "27      ACU  2023-07-03 12:51:00  25.9010  25.9010  25.9010  25.9010    120\n",
      "28      ACU  2023-07-03 12:56:00  26.0300  26.0300  26.0300  26.0300    100\n",
      "29      ACU  2023-07-03 12:59:00  25.9150  25.0000  25.9150  25.0000   5913\n",
      "30      ACU  2023-07-03 13:10:00  25.0000  25.0000  25.0000  25.0000      0\n",
      "31      ACU  2023-07-03 15:30:00  25.0000  25.0000  25.0000  25.0000      0\n",
      "(32, 7)\n"
     ]
    },
    {
     "name": "stderr",
     "output_type": "stream",
     "text": [
      "/Users/zhangwenbo/miniforge3/lib/python3.10/site-packages/cashare/minute_data.py:96: FutureWarning: The frame.append method is deprecated and will be removed from pandas in a future version. Use pandas.concat instead.\n",
      "  df = df.append(lsss, ignore_index=True)\n",
      "/Users/zhangwenbo/miniforge3/lib/python3.10/site-packages/cashare/minute_data.py:96: FutureWarning: The frame.append method is deprecated and will be removed from pandas in a future version. Use pandas.concat instead.\n",
      "  df = df.append(lsss, ignore_index=True)\n"
     ]
    },
    {
     "name": "stdout",
     "output_type": "stream",
     "text": [
      "    stock_id                 date   open     low   high   close volume\n",
      "0       ACVA  2023-06-29 09:30:00  17.11  17.100  17.14  17.135  18346\n",
      "1       ACVA  2023-06-29 09:31:00  17.14  17.140  17.14  17.140    208\n",
      "2       ACVA  2023-06-29 09:32:00  17.20  17.145  17.20  17.170   1228\n",
      "3       ACVA  2023-06-29 09:33:00  17.20  17.200  17.31  17.310   1679\n",
      "4       ACVA  2023-06-29 09:34:00  17.34  17.340  17.36  17.360    332\n",
      "..       ...                  ...    ...     ...    ...     ...    ...\n",
      "899     ACVA  2023-07-03 12:56:00  16.61  16.605  16.65  16.630  14517\n",
      "900     ACVA  2023-07-03 12:57:00  16.63  16.615  16.65  16.635  23037\n",
      "901     ACVA  2023-07-03 12:58:00  16.65  16.650  16.67  16.670  15754\n",
      "902     ACVA  2023-07-03 12:59:00  16.67  16.620  16.67  16.620  21742\n",
      "903     ACVA  2023-07-03 13:00:00  16.63  16.630  16.64  16.640  54515\n",
      "\n",
      "[904 rows x 7 columns]\n",
      "(904, 7)\n",
      "   percent  name            ts_code\n",
      "0        0  ACVA  ACV Auctions Inc.\n"
     ]
    },
    {
     "name": "stderr",
     "output_type": "stream",
     "text": [
      "/Users/zhangwenbo/miniforge3/lib/python3.10/site-packages/cashare/minute_data.py:96: FutureWarning: The frame.append method is deprecated and will be removed from pandas in a future version. Use pandas.concat instead.\n",
      "  df = df.append(lsss, ignore_index=True)\n",
      "/Users/zhangwenbo/miniforge3/lib/python3.10/site-packages/cashare/minute_data.py:96: FutureWarning: The frame.append method is deprecated and will be removed from pandas in a future version. Use pandas.concat instead.\n",
      "  df = df.append(lsss, ignore_index=True)\n"
     ]
    },
    {
     "name": "stdout",
     "output_type": "stream",
     "text": [
      "   stock_id                 date    open     low    high   close volume\n",
      "0      ACXP  2023-06-29 09:30:00  2.6200  2.6200  2.6200  2.6200   1000\n",
      "1      ACXP  2023-06-29 11:51:00  2.6200  2.6200  2.6200  2.6200    100\n",
      "2      ACXP  2023-06-29 12:19:00  2.5688  2.5688  2.5688  2.5688    235\n",
      "3      ACXP  2023-06-29 12:56:00  2.6500  2.6500  2.6500  2.6500   1500\n",
      "4      ACXP  2023-06-29 13:30:00  2.6100  2.6100  2.6100  2.6100    200\n",
      "5      ACXP  2023-06-29 14:10:00  2.6423  2.6423  2.6423  2.6423   1150\n",
      "6      ACXP  2023-06-29 14:43:00  2.6500  2.6500  2.6600  2.6600    632\n",
      "7      ACXP  2023-06-29 14:46:00  2.6700  2.6700  2.6700  2.6700    100\n",
      "8      ACXP  2023-06-29 14:48:00  2.7000  2.7000  2.7000  2.7000   2200\n",
      "9      ACXP  2023-06-29 14:49:00  2.6900  2.6900  2.6900  2.6900    351\n",
      "10     ACXP  2023-06-29 15:04:00  2.6800  2.6800  2.6800  2.6800    336\n",
      "11     ACXP  2023-06-29 15:55:00  2.6200  2.6200  2.6200  2.6200    176\n",
      "12     ACXP  2023-06-29 15:58:00  2.6900  2.6900  2.6900  2.6900    145\n",
      "13     ACXP  2023-06-30 09:30:00  2.6600  2.6600  2.6600  2.6600    660\n",
      "14     ACXP  2023-06-30 09:50:00  2.7300  2.7300  2.7300  2.7300    820\n",
      "15     ACXP  2023-06-30 10:19:00  2.7000  2.7000  2.7000  2.7000   1000\n",
      "16     ACXP  2023-06-30 10:21:00  2.6900  2.6900  2.6900  2.6900    100\n",
      "17     ACXP  2023-06-30 10:35:00  2.6800  2.6800  2.6800  2.6800   1416\n",
      "18     ACXP  2023-06-30 11:20:00  2.6899  2.6600  2.6900  2.6900   1247\n",
      "19     ACXP  2023-06-30 11:31:00  2.6600  2.6600  2.6600  2.6600    800\n",
      "20     ACXP  2023-06-30 11:37:00  2.6750  2.6750  2.6750  2.6750   1500\n",
      "21     ACXP  2023-06-30 11:43:00  2.6610  2.6600  2.6621  2.6600   1305\n",
      "22     ACXP  2023-06-30 14:39:00  2.6899  2.6899  2.6899  2.6899    101\n",
      "23     ACXP  2023-06-30 15:59:00  2.6500  2.6500  2.6500  2.6500    139\n",
      "24     ACXP  2023-07-03 09:30:00  2.7400  2.7375  2.7400  2.7375   6284\n",
      "25     ACXP  2023-07-03 09:40:00  2.6500  2.6500  2.6500  2.6500   2082\n",
      "26     ACXP  2023-07-03 09:41:00  2.6000  2.6000  2.6000  2.6000    500\n",
      "27     ACXP  2023-07-03 10:12:00  2.5950  2.5950  2.5950  2.5950    500\n",
      "28     ACXP  2023-07-03 10:28:00  2.5950  2.5900  2.5950  2.5900    572\n",
      "29     ACXP  2023-07-03 10:40:00  2.6150  2.6000  2.6150  2.6000    701\n",
      "30     ACXP  2023-07-03 11:26:00  2.6000  2.6000  2.6000  2.6000    425\n",
      "31     ACXP  2023-07-03 11:41:00  2.5800  2.5800  2.5800  2.5800   1699\n",
      "32     ACXP  2023-07-03 11:42:00  2.6000  2.6000  2.6000  2.6000    879\n",
      "33     ACXP  2023-07-03 12:22:00  2.6050  2.5200  2.6050  2.5200   3501\n",
      "34     ACXP  2023-07-03 12:35:00  2.5950  2.5950  2.5950  2.5950   2000\n",
      "35     ACXP  2023-07-03 12:45:00  2.6450  2.6450  2.6500  2.6500    411\n",
      "36     ACXP  2023-07-03 12:56:00  2.6000  2.5500  2.6000  2.5500    555\n",
      "(37, 7)\n",
      "Empty DataFrame\n",
      "Columns: []\n",
      "Index: []\n",
      "(0, 0)\n"
     ]
    },
    {
     "name": "stderr",
     "output_type": "stream",
     "text": [
      "/Users/zhangwenbo/miniforge3/lib/python3.10/site-packages/cashare/minute_data.py:96: FutureWarning: The frame.append method is deprecated and will be removed from pandas in a future version. Use pandas.concat instead.\n",
      "  df = df.append(lsss, ignore_index=True)\n",
      "/Users/zhangwenbo/miniforge3/lib/python3.10/site-packages/cashare/minute_data.py:96: FutureWarning: The frame.append method is deprecated and will be removed from pandas in a future version. Use pandas.concat instead.\n",
      "  df = df.append(lsss, ignore_index=True)\n"
     ]
    },
    {
     "name": "stdout",
     "output_type": "stream",
     "text": [
      "    stock_id                 date   open   low    high  close volume\n",
      "0       ADAG  2023-06-29 09:30:00  1.410  1.41  1.4100   1.41    346\n",
      "1       ADAG  2023-06-29 09:45:00  1.420  1.42  1.4200   1.42   1139\n",
      "2       ADAG  2023-06-29 09:46:00  1.480  1.48  1.4800   1.48    100\n",
      "3       ADAG  2023-06-29 09:48:00  1.480  1.48  1.4800   1.48    417\n",
      "4       ADAG  2023-06-29 09:50:00  1.480  1.46  1.4899   1.46    655\n",
      "..       ...                  ...    ...   ...     ...    ...    ...\n",
      "130     ADAG  2023-07-03 10:16:00  1.441  1.43  1.4410   1.43   2500\n",
      "131     ADAG  2023-07-03 10:34:00  1.480  1.44  1.4800   1.44    237\n",
      "132     ADAG  2023-07-03 11:51:00  1.480  1.45  1.4800   1.45   1070\n",
      "133     ADAG  2023-07-03 12:48:00  1.520  1.47  1.5200   1.49    628\n",
      "134     ADAG  2023-07-03 12:49:00  1.470  1.47  1.4700   1.47    100\n",
      "\n",
      "[135 rows x 7 columns]\n",
      "(135, 7)\n",
      "   percent  name       ts_code\n",
      "0        1  ADAG  Adagene Inc.\n",
      "Empty DataFrame\n",
      "Columns: []\n",
      "Index: []\n",
      "(0, 0)\n",
      "Empty DataFrame\n",
      "Columns: []\n",
      "Index: []\n",
      "(0, 0)\n",
      "Empty DataFrame\n",
      "Columns: []\n",
      "Index: []\n",
      "(0, 0)\n"
     ]
    },
    {
     "name": "stderr",
     "output_type": "stream",
     "text": [
      "/Users/zhangwenbo/miniforge3/lib/python3.10/site-packages/cashare/minute_data.py:96: FutureWarning: The frame.append method is deprecated and will be removed from pandas in a future version. Use pandas.concat instead.\n",
      "  df = df.append(lsss, ignore_index=True)\n",
      "/Users/zhangwenbo/miniforge3/lib/python3.10/site-packages/cashare/minute_data.py:96: FutureWarning: The frame.append method is deprecated and will be removed from pandas in a future version. Use pandas.concat instead.\n",
      "  df = df.append(lsss, ignore_index=True)\n"
     ]
    },
    {
     "name": "stdout",
     "output_type": "stream",
     "text": [
      "    stock_id                 date      open       low      high     close  \\\n",
      "0       ADAP  2023-06-29 09:30:00  0.900000  0.900000  0.931200  0.931200   \n",
      "1       ADAP  2023-06-29 09:31:00  0.901832  0.901832  0.901832  0.901832   \n",
      "2       ADAP  2023-06-29 09:32:00  0.910000  0.910000  0.910000  0.910000   \n",
      "3       ADAP  2023-06-29 09:37:00  0.910000  0.910000  0.910000  0.910000   \n",
      "4       ADAP  2023-06-29 09:38:00  0.916900  0.916900  0.916900  0.916900   \n",
      "..       ...                  ...       ...       ...       ...       ...   \n",
      "707     ADAP  2023-07-03 12:56:00  0.935000  0.934400  0.935600  0.934500   \n",
      "708     ADAP  2023-07-03 12:57:00  0.939950  0.934400  0.940000  0.939950   \n",
      "709     ADAP  2023-07-03 12:58:00  0.940000  0.934400  0.940000  0.934400   \n",
      "710     ADAP  2023-07-03 12:59:00  0.939950  0.933000  0.940000  0.938050   \n",
      "711     ADAP  2023-07-03 13:00:00  0.932600  0.932600  0.932600  0.932600   \n",
      "\n",
      "    volume  \n",
      "0    11530  \n",
      "1      218  \n",
      "2      329  \n",
      "3      844  \n",
      "4     1069  \n",
      "..     ...  \n",
      "707    951  \n",
      "708    931  \n",
      "709    953  \n",
      "710   1170  \n",
      "711  16009  \n",
      "\n",
      "[712 rows x 7 columns]\n",
      "(712, 7)\n",
      "   percent  name                       ts_code\n",
      "0        1  ADAP  Adaptimmune Therapeutics plc\n"
     ]
    },
    {
     "name": "stderr",
     "output_type": "stream",
     "text": [
      "/Users/zhangwenbo/miniforge3/lib/python3.10/site-packages/cashare/minute_data.py:96: FutureWarning: The frame.append method is deprecated and will be removed from pandas in a future version. Use pandas.concat instead.\n",
      "  df = df.append(lsss, ignore_index=True)\n",
      "/Users/zhangwenbo/miniforge3/lib/python3.10/site-packages/cashare/minute_data.py:96: FutureWarning: The frame.append method is deprecated and will be removed from pandas in a future version. Use pandas.concat instead.\n",
      "  df = df.append(lsss, ignore_index=True)\n"
     ]
    },
    {
     "name": "stdout",
     "output_type": "stream",
     "text": [
      "    stock_id                 date     open      low     high     close  volume\n",
      "0       ADBE  2023-06-29 09:30:00  484.470  483.420  485.830  483.7500   59892\n",
      "1       ADBE  2023-06-29 09:31:00  483.635  482.000  484.685  482.1051   26730\n",
      "2       ADBE  2023-06-29 09:32:00  481.160  481.160  482.920  482.4900    8736\n",
      "3       ADBE  2023-06-29 09:33:00  482.590  481.940  483.060  482.4000    7001\n",
      "4       ADBE  2023-06-29 09:34:00  482.990  482.405  483.480  483.1000    5506\n",
      "..       ...                  ...      ...      ...      ...       ...     ...\n",
      "985     ADBE  2023-07-03 12:56:00  485.280  485.110  485.390  485.1100    7739\n",
      "986     ADBE  2023-07-03 12:57:00  485.150  485.140  485.320  485.2500    7204\n",
      "987     ADBE  2023-07-03 12:58:00  485.260  485.220  485.580  485.5300   14118\n",
      "988     ADBE  2023-07-03 12:59:00  485.530  485.150  485.710  485.2100   23711\n",
      "989     ADBE  2023-07-03 13:00:00  485.210  485.210  485.210  485.2100  103611\n",
      "\n",
      "[990 rows x 7 columns]\n",
      "(990, 7)\n",
      "   percent  name     ts_code\n",
      "0        1  ADBE  Adobe Inc.\n"
     ]
    },
    {
     "name": "stderr",
     "output_type": "stream",
     "text": [
      "/Users/zhangwenbo/miniforge3/lib/python3.10/site-packages/cashare/minute_data.py:96: FutureWarning: The frame.append method is deprecated and will be removed from pandas in a future version. Use pandas.concat instead.\n",
      "  df = df.append(lsss, ignore_index=True)\n",
      "/Users/zhangwenbo/miniforge3/lib/python3.10/site-packages/cashare/minute_data.py:96: FutureWarning: The frame.append method is deprecated and will be removed from pandas in a future version. Use pandas.concat instead.\n",
      "  df = df.append(lsss, ignore_index=True)\n"
     ]
    },
    {
     "name": "stdout",
     "output_type": "stream",
     "text": [
      "    stock_id                 date    open     low    high  close volume\n",
      "0        ADC  2023-06-29 09:30:00  64.520  64.450  64.590  64.59   6728\n",
      "1        ADC  2023-06-29 09:31:00  64.525  64.525  64.640  64.61    685\n",
      "2        ADC  2023-06-29 09:32:00  64.540  64.540  64.630  64.54   1337\n",
      "3        ADC  2023-06-29 09:33:00  64.500  64.500  64.610  64.61   1151\n",
      "4        ADC  2023-06-29 09:34:00  64.660  64.660  64.660  64.66    325\n",
      "..       ...                  ...     ...     ...     ...    ...    ...\n",
      "890      ADC  2023-07-03 12:58:00  65.965  65.910  65.965  65.93   5671\n",
      "891      ADC  2023-07-03 12:59:00  65.930  65.820  65.930  65.82  10103\n",
      "892      ADC  2023-07-03 13:00:00  65.860  65.860  65.860  65.86  47531\n",
      "893      ADC  2023-07-03 13:10:00  65.860  65.860  65.860  65.86      0\n",
      "894      ADC  2023-07-03 15:30:00  65.860  65.860  65.860  65.86      0\n",
      "\n",
      "[895 rows x 7 columns]\n",
      "(895, 7)\n",
      "   percent name                   ts_code\n",
      "0        1  ADC  Agree Realty Corporation\n"
     ]
    },
    {
     "name": "stderr",
     "output_type": "stream",
     "text": [
      "/Users/zhangwenbo/miniforge3/lib/python3.10/site-packages/cashare/minute_data.py:96: FutureWarning: The frame.append method is deprecated and will be removed from pandas in a future version. Use pandas.concat instead.\n",
      "  df = df.append(lsss, ignore_index=True)\n",
      "/Users/zhangwenbo/miniforge3/lib/python3.10/site-packages/cashare/minute_data.py:96: FutureWarning: The frame.append method is deprecated and will be removed from pandas in a future version. Use pandas.concat instead.\n",
      "  df = df.append(lsss, ignore_index=True)\n"
     ]
    },
    {
     "name": "stdout",
     "output_type": "stream",
     "text": [
      "   stock_id                 date     open      low     high    close volume\n",
      "0    ADC-PA  2023-06-29 09:30:00  17.9900  17.9900  17.9900  17.9900    100\n",
      "1    ADC-PA  2023-06-29 10:05:00  17.9227  17.9227  17.9227  17.9227    539\n",
      "2    ADC-PA  2023-06-29 11:50:00  17.7408  17.7408  17.7408  17.7408    100\n",
      "3    ADC-PA  2023-06-29 15:01:00  17.8100  17.8100  17.8100  17.8100    250\n",
      "4    ADC-PA  2023-06-29 15:54:00  17.9200  17.9200  17.9200  17.9200    900\n",
      "..      ...                  ...      ...      ...      ...      ...    ...\n",
      "68   ADC-PA  2023-07-03 12:48:00  18.4100  18.4100  18.4100  18.4100    100\n",
      "69   ADC-PA  2023-07-03 12:49:00  18.4100  18.4100  18.4100  18.4100    100\n",
      "70   ADC-PA  2023-07-03 12:50:00  18.4100  18.4100  18.4355  18.4355    500\n",
      "71   ADC-PA  2023-07-03 13:10:00  18.4355  18.4355  18.4355  18.4355      0\n",
      "72   ADC-PA  2023-07-03 15:30:00  18.4355  18.4355  18.4355  18.4355      0\n",
      "\n",
      "[73 rows x 7 columns]\n",
      "(73, 7)\n"
     ]
    },
    {
     "name": "stderr",
     "output_type": "stream",
     "text": [
      "/Users/zhangwenbo/miniforge3/lib/python3.10/site-packages/cashare/minute_data.py:96: FutureWarning: The frame.append method is deprecated and will be removed from pandas in a future version. Use pandas.concat instead.\n",
      "  df = df.append(lsss, ignore_index=True)\n",
      "/Users/zhangwenbo/miniforge3/lib/python3.10/site-packages/cashare/minute_data.py:96: FutureWarning: The frame.append method is deprecated and will be removed from pandas in a future version. Use pandas.concat instead.\n",
      "  df = df.append(lsss, ignore_index=True)\n"
     ]
    },
    {
     "name": "stdout",
     "output_type": "stream",
     "text": [
      "    stock_id                 date   open   low   high  close volume\n",
      "0       ADCT  2023-06-29 09:30:00  2.080  2.05  2.100   2.08   3248\n",
      "1       ADCT  2023-06-29 09:31:00  2.080  2.07  2.080   2.07   1630\n",
      "2       ADCT  2023-06-29 09:32:00  2.065  2.06  2.065   2.06    238\n",
      "3       ADCT  2023-06-29 09:33:00  2.050  2.05  2.050   2.05    175\n",
      "4       ADCT  2023-06-29 09:34:00  2.040  2.04  2.040   2.04    700\n",
      "..       ...                  ...    ...   ...    ...    ...    ...\n",
      "681     ADCT  2023-07-03 12:58:00  2.160  2.15  2.160   2.16   4156\n",
      "682     ADCT  2023-07-03 12:59:00  2.160  2.15  2.160   2.15   3798\n",
      "683     ADCT  2023-07-03 13:00:00  2.150  2.15  2.150   2.15   1939\n",
      "684     ADCT  2023-07-03 13:10:00  2.150  2.15  2.150   2.15      0\n",
      "685     ADCT  2023-07-03 15:30:00  2.150  2.15  2.150   2.15      0\n",
      "\n",
      "[686 rows x 7 columns]\n",
      "(686, 7)\n",
      "   percent  name              ts_code\n",
      "0        0  ADCT  ADC Therapeutics SA\n"
     ]
    },
    {
     "name": "stderr",
     "output_type": "stream",
     "text": [
      "/Users/zhangwenbo/miniforge3/lib/python3.10/site-packages/cashare/minute_data.py:96: FutureWarning: The frame.append method is deprecated and will be removed from pandas in a future version. Use pandas.concat instead.\n",
      "  df = df.append(lsss, ignore_index=True)\n",
      "/Users/zhangwenbo/miniforge3/lib/python3.10/site-packages/cashare/minute_data.py:96: FutureWarning: The frame.append method is deprecated and will be removed from pandas in a future version. Use pandas.concat instead.\n",
      "  df = df.append(lsss, ignore_index=True)\n"
     ]
    },
    {
     "name": "stdout",
     "output_type": "stream",
     "text": [
      "    stock_id                 date    open     low    high   close volume\n",
      "0        ADD  2023-06-29 09:36:00  1.1551  1.1551  1.1600  1.1600   4207\n",
      "1        ADD  2023-06-29 09:48:00  1.1545  1.1545  1.1545  1.1545    111\n",
      "2        ADD  2023-06-29 09:52:00  1.2289  1.1546  1.2289  1.1546   2400\n",
      "3        ADD  2023-06-29 09:53:00  1.1700  1.1700  1.1700  1.1700   2100\n",
      "4        ADD  2023-06-29 09:54:00  1.2175  1.2175  1.2175  1.2175    100\n",
      "..       ...                  ...     ...     ...     ...     ...    ...\n",
      "96       ADD  2023-07-03 12:07:00  1.4000  1.4000  1.4000  1.4000   1127\n",
      "97       ADD  2023-07-03 12:27:00  1.3300  1.3100  1.3300  1.3100    600\n",
      "98       ADD  2023-07-03 12:50:00  1.3822  1.3822  1.3822  1.3822    201\n",
      "99       ADD  2023-07-03 12:54:00  1.3450  1.3450  1.3450  1.3450    154\n",
      "100      ADD  2023-07-03 12:56:00  1.3900  1.3770  1.3900  1.3770    601\n",
      "\n",
      "[101 rows x 7 columns]\n",
      "(101, 7)\n",
      "   percent name                          ts_code\n",
      "0        0  ADD  Color Star Technology Co., Ltd.\n"
     ]
    },
    {
     "name": "stderr",
     "output_type": "stream",
     "text": [
      "/Users/zhangwenbo/miniforge3/lib/python3.10/site-packages/cashare/minute_data.py:96: FutureWarning: The frame.append method is deprecated and will be removed from pandas in a future version. Use pandas.concat instead.\n",
      "  df = df.append(lsss, ignore_index=True)\n",
      "/Users/zhangwenbo/miniforge3/lib/python3.10/site-packages/cashare/minute_data.py:96: FutureWarning: The frame.append method is deprecated and will be removed from pandas in a future version. Use pandas.concat instead.\n",
      "  df = df.append(lsss, ignore_index=True)\n"
     ]
    },
    {
     "name": "stdout",
     "output_type": "stream",
     "text": [
      "    stock_id                 date    open     low     high   close volume\n",
      "0       ADEA  2023-06-29 09:30:00  10.550  10.550  10.5500  10.550   5558\n",
      "1       ADEA  2023-06-29 09:31:00  10.600  10.560  10.6100  10.560   2157\n",
      "2       ADEA  2023-06-29 09:36:00  10.650  10.650  10.6500  10.650   2817\n",
      "3       ADEA  2023-06-29 09:37:00  10.640  10.640  10.6400  10.640    716\n",
      "4       ADEA  2023-06-29 09:38:00  10.650  10.650  10.6500  10.650    444\n",
      "..       ...                  ...     ...     ...      ...     ...    ...\n",
      "775     ADEA  2023-07-03 12:56:00  10.935  10.935  10.9400  10.940   1380\n",
      "776     ADEA  2023-07-03 12:57:00  10.935  10.935  10.9369  10.935    954\n",
      "777     ADEA  2023-07-03 12:58:00  10.940  10.930  10.9500  10.945   2268\n",
      "778     ADEA  2023-07-03 12:59:00  10.950  10.945  10.9600  10.960   2779\n",
      "779     ADEA  2023-07-03 13:00:00  10.950  10.950  10.9500  10.950  33197\n",
      "\n",
      "[780 rows x 7 columns]\n",
      "(780, 7)\n",
      "   percent  name     ts_code\n",
      "0        1  ADEA  Adeia Inc.\n"
     ]
    },
    {
     "name": "stderr",
     "output_type": "stream",
     "text": [
      "/Users/zhangwenbo/miniforge3/lib/python3.10/site-packages/cashare/minute_data.py:96: FutureWarning: The frame.append method is deprecated and will be removed from pandas in a future version. Use pandas.concat instead.\n",
      "  df = df.append(lsss, ignore_index=True)\n",
      "/Users/zhangwenbo/miniforge3/lib/python3.10/site-packages/cashare/minute_data.py:96: FutureWarning: The frame.append method is deprecated and will be removed from pandas in a future version. Use pandas.concat instead.\n",
      "  df = df.append(lsss, ignore_index=True)\n"
     ]
    },
    {
     "name": "stdout",
     "output_type": "stream",
     "text": [
      "  stock_id                 date     open      low     high    close volume\n",
      "0     ADER  2023-06-30 10:27:00  10.7600  10.7600  10.7601  10.7600   2300\n",
      "1     ADER  2023-06-30 10:28:00  10.7600  10.7600  10.7600  10.7600   1200\n",
      "2     ADER  2023-06-30 11:29:00  10.7600  10.7600  10.7601  10.7600   3600\n",
      "3     ADER  2023-06-30 11:30:00  10.7600  10.7600  10.7600  10.7600   1200\n",
      "4     ADER  2023-07-03 11:23:00  10.7601  10.7600  10.7601  10.7600    312\n",
      "5     ADER  2023-07-03 11:24:00  10.7601  10.7601  10.7601  10.7601    300\n",
      "6     ADER  2023-07-03 11:25:00  10.7600  10.7600  10.7618  10.7618   6500\n",
      "(7, 7)\n",
      "Empty DataFrame\n",
      "Columns: []\n",
      "Index: []\n",
      "(0, 0)\n"
     ]
    },
    {
     "name": "stderr",
     "output_type": "stream",
     "text": [
      "/Users/zhangwenbo/miniforge3/lib/python3.10/site-packages/cashare/minute_data.py:96: FutureWarning: The frame.append method is deprecated and will be removed from pandas in a future version. Use pandas.concat instead.\n",
      "  df = df.append(lsss, ignore_index=True)\n",
      "/Users/zhangwenbo/miniforge3/lib/python3.10/site-packages/cashare/minute_data.py:96: FutureWarning: The frame.append method is deprecated and will be removed from pandas in a future version. Use pandas.concat instead.\n",
      "  df = df.append(lsss, ignore_index=True)\n"
     ]
    },
    {
     "name": "stdout",
     "output_type": "stream",
     "text": [
      "   stock_id                 date      open       low      high     close  \\\n",
      "0     ADERW  2023-06-29 15:26:00  0.074300  0.074300  0.074400  0.074300   \n",
      "1     ADERW  2023-06-29 15:27:00  0.075500  0.075500  0.075600  0.075600   \n",
      "2     ADERW  2023-06-30 10:52:00  0.066000  0.066000  0.066000  0.066000   \n",
      "3     ADERW  2023-06-30 10:53:00  0.066000  0.066000  0.068600  0.066000   \n",
      "4     ADERW  2023-07-03 10:20:00  0.068400  0.068400  0.068400  0.068400   \n",
      "5     ADERW  2023-07-03 10:21:00  0.068400  0.068400  0.068400  0.068400   \n",
      "6     ADERW  2023-07-03 10:39:00  0.040100  0.039800  0.047400  0.047400   \n",
      "7     ADERW  2023-07-03 10:54:00  0.052200  0.052200  0.052200  0.052200   \n",
      "8     ADERW  2023-07-03 11:12:00  0.057600  0.057600  0.057600  0.057600   \n",
      "9     ADERW  2023-07-03 11:27:00  0.057600  0.057600  0.057600  0.057600   \n",
      "10    ADERW  2023-07-03 12:04:00  0.067428  0.067428  0.067428  0.067428   \n",
      "11    ADERW  2023-07-03 12:05:00  0.067428  0.067428  0.067428  0.067428   \n",
      "12    ADERW  2023-07-03 12:07:00  0.067100  0.067100  0.067100  0.067100   \n",
      "13    ADERW  2023-07-03 12:50:00  0.067100  0.067100  0.067100  0.067100   \n",
      "\n",
      "   volume  \n",
      "0     500  \n",
      "1     200  \n",
      "2     100  \n",
      "3     800  \n",
      "4     101  \n",
      "5     100  \n",
      "6    4501  \n",
      "7     100  \n",
      "8     100  \n",
      "9     100  \n",
      "10    200  \n",
      "11    200  \n",
      "12    100  \n",
      "13    200  \n",
      "(14, 7)\n"
     ]
    },
    {
     "name": "stderr",
     "output_type": "stream",
     "text": [
      "/Users/zhangwenbo/miniforge3/lib/python3.10/site-packages/cashare/minute_data.py:96: FutureWarning: The frame.append method is deprecated and will be removed from pandas in a future version. Use pandas.concat instead.\n",
      "  df = df.append(lsss, ignore_index=True)\n",
      "/Users/zhangwenbo/miniforge3/lib/python3.10/site-packages/cashare/minute_data.py:96: FutureWarning: The frame.append method is deprecated and will be removed from pandas in a future version. Use pandas.concat instead.\n",
      "  df = df.append(lsss, ignore_index=True)\n"
     ]
    },
    {
     "name": "stdout",
     "output_type": "stream",
     "text": [
      "    stock_id                 date    open     low    high   close volume\n",
      "0       ADES  2023-06-29 09:30:00  1.6600  1.6600  1.6600  1.6600    757\n",
      "1       ADES  2023-06-29 09:39:00  1.6698  1.6698  1.6700  1.6700    350\n",
      "2       ADES  2023-06-29 09:40:00  1.6500  1.6500  1.6500  1.6500   1000\n",
      "3       ADES  2023-06-29 09:41:00  1.6540  1.6540  1.6540  1.6540   2000\n",
      "4       ADES  2023-06-29 09:55:00  1.6601  1.6600  1.6601  1.6600   6918\n",
      "..       ...                  ...     ...     ...     ...     ...    ...\n",
      "170     ADES  2023-07-03 12:27:00  1.8100  1.7900  1.8140  1.7900    600\n",
      "171     ADES  2023-07-03 12:31:00  1.7900  1.7900  1.7900  1.7900    200\n",
      "172     ADES  2023-07-03 12:44:00  1.8400  1.8001  1.8400  1.8001   3325\n",
      "173     ADES  2023-07-03 12:56:00  1.8100  1.8100  1.8100  1.8100    166\n",
      "174     ADES  2023-07-03 13:00:00  1.8600  1.8600  1.8600  1.8600    100\n",
      "\n",
      "[175 rows x 7 columns]\n",
      "(175, 7)\n",
      "   percent  name                             ts_code\n",
      "0        1  ADES  Advanced Emissions Solutions, Inc.\n"
     ]
    },
    {
     "name": "stderr",
     "output_type": "stream",
     "text": [
      "/Users/zhangwenbo/miniforge3/lib/python3.10/site-packages/cashare/minute_data.py:96: FutureWarning: The frame.append method is deprecated and will be removed from pandas in a future version. Use pandas.concat instead.\n",
      "  df = df.append(lsss, ignore_index=True)\n",
      "/Users/zhangwenbo/miniforge3/lib/python3.10/site-packages/cashare/minute_data.py:96: FutureWarning: The frame.append method is deprecated and will be removed from pandas in a future version. Use pandas.concat instead.\n",
      "  df = df.append(lsss, ignore_index=True)\n"
     ]
    },
    {
     "name": "stdout",
     "output_type": "stream",
     "text": [
      "   stock_id                 date     open      low     high    close volume\n",
      "0      ADEX  2023-06-29 10:55:00  10.6300  10.6300  10.6400  10.6400    768\n",
      "1      ADEX  2023-06-29 11:24:00  10.6400  10.6400  10.6400  10.6400    200\n",
      "2      ADEX  2023-06-29 12:02:00  10.7000  10.7000  10.7000  10.7000    100\n",
      "3      ADEX  2023-06-30 09:30:00  10.7000  10.7000  10.7000  10.7000    302\n",
      "4      ADEX  2023-06-30 09:58:00  10.7000  10.6200  10.7000  10.6200    206\n",
      "5      ADEX  2023-06-30 09:59:00  10.5900  10.5900  10.7700  10.5900    514\n",
      "6      ADEX  2023-06-30 10:00:00  10.7000  10.7000  10.7000  10.7000    409\n",
      "7      ADEX  2023-06-30 10:01:00  10.7000  10.6500  10.7000  10.6500    707\n",
      "8      ADEX  2023-06-30 10:02:00  10.6401  10.6400  10.6900  10.6900    393\n",
      "9      ADEX  2023-06-30 12:14:00  10.6000  10.6000  10.6000  10.6000    300\n",
      "10     ADEX  2023-06-30 13:36:00  10.6300  10.6300  10.6300  10.6300    176\n",
      "11     ADEX  2023-06-30 13:42:00  10.4400  10.4300  10.4400  10.4300    507\n",
      "12     ADEX  2023-06-30 14:39:00  10.5601  10.5601  10.5670  10.5601    464\n",
      "13     ADEX  2023-06-30 14:52:00  10.6000  10.6000  10.6000  10.6000    215\n",
      "14     ADEX  2023-06-30 15:22:00  10.5600  10.5600  10.5600  10.5600    100\n",
      "15     ADEX  2023-07-03 10:10:00  10.5000  10.5000  10.5000  10.5000    100\n",
      "16     ADEX  2023-07-03 11:14:00  10.5000  10.4300  10.5000  10.4300    600\n",
      "17     ADEX  2023-07-03 11:18:00  10.4800  10.4800  10.4800  10.4800    300\n",
      "18     ADEX  2023-07-03 11:19:00  10.4700  10.4700  10.4700  10.4700    200\n",
      "19     ADEX  2023-07-03 11:28:00  10.4300  10.4300  10.4700  10.4600   1200\n",
      "20     ADEX  2023-07-03 11:42:00  10.4800  10.4500  10.4800  10.4500   1925\n",
      "21     ADEX  2023-07-03 11:51:00  10.4500  10.4500  10.4500  10.4500    200\n",
      "22     ADEX  2023-07-03 11:54:00  10.4500  10.4500  10.4500  10.4500    100\n",
      "23     ADEX  2023-07-03 12:03:00  10.4600  10.4600  10.4600  10.4600    500\n",
      "24     ADEX  2023-07-03 12:04:00  10.4700  10.4700  10.4887  10.4887    574\n",
      "25     ADEX  2023-07-03 13:10:00  10.4887  10.4887  10.4887  10.4887      0\n",
      "26     ADEX  2023-07-03 15:30:00  10.4887  10.4887  10.4887  10.4887      0\n",
      "(27, 7)\n"
     ]
    },
    {
     "name": "stderr",
     "output_type": "stream",
     "text": [
      "/Users/zhangwenbo/miniforge3/lib/python3.10/site-packages/cashare/minute_data.py:96: FutureWarning: The frame.append method is deprecated and will be removed from pandas in a future version. Use pandas.concat instead.\n",
      "  df = df.append(lsss, ignore_index=True)\n",
      "/Users/zhangwenbo/miniforge3/lib/python3.10/site-packages/cashare/minute_data.py:96: FutureWarning: The frame.append method is deprecated and will be removed from pandas in a future version. Use pandas.concat instead.\n",
      "  df = df.append(lsss, ignore_index=True)\n"
     ]
    },
    {
     "name": "stdout",
     "output_type": "stream",
     "text": [
      "  stock_id                 date   open    low   high  close volume\n",
      "0  ADEX-UN  2023-06-30 10:03:00  10.57  10.57  10.57  10.57    800\n",
      "1  ADEX-UN  2023-06-30 13:33:00  10.65  10.65  10.65  10.65   3534\n",
      "2  ADEX-UN  2023-06-30 13:34:00  10.64  10.64  10.64  10.64   5534\n",
      "(3, 7)\n"
     ]
    },
    {
     "name": "stderr",
     "output_type": "stream",
     "text": [
      "/Users/zhangwenbo/miniforge3/lib/python3.10/site-packages/cashare/minute_data.py:96: FutureWarning: The frame.append method is deprecated and will be removed from pandas in a future version. Use pandas.concat instead.\n",
      "  df = df.append(lsss, ignore_index=True)\n",
      "/Users/zhangwenbo/miniforge3/lib/python3.10/site-packages/cashare/minute_data.py:96: FutureWarning: The frame.append method is deprecated and will be removed from pandas in a future version. Use pandas.concat instead.\n",
      "  df = df.append(lsss, ignore_index=True)\n"
     ]
    },
    {
     "name": "stdout",
     "output_type": "stream",
     "text": [
      "  stock_id                 date    open     low    high   close volume\n",
      "0  ADEX-WT  2023-06-29 11:09:00  0.0790  0.0790  0.0790  0.0790    233\n",
      "1  ADEX-WT  2023-06-30 09:38:00  0.0902  0.0902  0.0902  0.0902   1504\n",
      "2  ADEX-WT  2023-06-30 09:39:00  0.1000  0.1000  0.1000  0.1000   7604\n",
      "3  ADEX-WT  2023-06-30 10:32:00  0.0884  0.0884  0.0884  0.0884  13604\n",
      "4  ADEX-WT  2023-06-30 12:14:00  0.0536  0.0536  0.0536  0.0536  13759\n",
      "5  ADEX-WT  2023-06-30 12:30:00  0.0912  0.0912  0.0912  0.0912  13859\n",
      "6  ADEX-WT  2023-06-30 15:48:00  0.0800  0.0800  0.0800  0.0800  14359\n",
      "7  ADEX-WT  2023-06-30 15:50:00  0.0800  0.0800  0.0800  0.0800  14659\n",
      "8  ADEX-WT  2023-07-03 11:40:00  0.0894  0.0894  0.0894  0.0894    701\n",
      "9  ADEX-WT  2023-07-03 11:59:00  0.0906  0.0906  0.0906  0.0906    801\n",
      "(10, 7)\n",
      "Empty DataFrame\n",
      "Columns: []\n",
      "Index: []\n",
      "(0, 0)\n",
      "Empty DataFrame\n",
      "Columns: []\n",
      "Index: []\n",
      "(0, 0)\n"
     ]
    },
    {
     "name": "stderr",
     "output_type": "stream",
     "text": [
      "/Users/zhangwenbo/miniforge3/lib/python3.10/site-packages/cashare/minute_data.py:96: FutureWarning: The frame.append method is deprecated and will be removed from pandas in a future version. Use pandas.concat instead.\n",
      "  df = df.append(lsss, ignore_index=True)\n",
      "/Users/zhangwenbo/miniforge3/lib/python3.10/site-packages/cashare/minute_data.py:96: FutureWarning: The frame.append method is deprecated and will be removed from pandas in a future version. Use pandas.concat instead.\n",
      "  df = df.append(lsss, ignore_index=True)\n"
     ]
    },
    {
     "name": "stdout",
     "output_type": "stream",
     "text": [
      "    stock_id                 date    open      low     high    close  volume\n",
      "0        ADI  2023-06-29 09:30:00  189.80  189.780  190.235  189.870   51797\n",
      "1        ADI  2023-06-29 09:31:00  189.87  189.830  190.660  189.925   10750\n",
      "2        ADI  2023-06-29 09:32:00  189.99  189.040  189.990  189.045    8016\n",
      "3        ADI  2023-06-29 09:33:00  189.12  189.060  189.450  189.155    3354\n",
      "4        ADI  2023-06-29 09:34:00  189.06  188.865  189.350  189.350    6345\n",
      "..       ...                  ...     ...      ...      ...      ...     ...\n",
      "985      ADI  2023-07-03 12:56:00  193.55  193.545  193.650  193.640    9288\n",
      "986      ADI  2023-07-03 12:57:00  193.64  193.600  193.670  193.650   17195\n",
      "987      ADI  2023-07-03 12:58:00  193.65  193.650  193.980  193.970   23871\n",
      "988      ADI  2023-07-03 12:59:00  193.98  193.950  194.350  194.330   96943\n",
      "989      ADI  2023-07-03 13:00:00  194.33  194.330  194.330  194.330  180290\n",
      "\n",
      "[990 rows x 7 columns]\n",
      "(990, 7)\n",
      "   percent name               ts_code\n",
      "0        1  ADI  Analog Devices, Inc.\n"
     ]
    },
    {
     "name": "stderr",
     "output_type": "stream",
     "text": [
      "/Users/zhangwenbo/miniforge3/lib/python3.10/site-packages/cashare/minute_data.py:96: FutureWarning: The frame.append method is deprecated and will be removed from pandas in a future version. Use pandas.concat instead.\n",
      "  df = df.append(lsss, ignore_index=True)\n",
      "/Users/zhangwenbo/miniforge3/lib/python3.10/site-packages/cashare/minute_data.py:96: FutureWarning: The frame.append method is deprecated and will be removed from pandas in a future version. Use pandas.concat instead.\n",
      "  df = df.append(lsss, ignore_index=True)\n"
     ]
    },
    {
     "name": "stdout",
     "output_type": "stream",
     "text": [
      "   stock_id                 date    open     low    high   close volume\n",
      "0      ADIL  2023-06-29 10:10:00  0.2190  0.2190  0.2190  0.2190    500\n",
      "1      ADIL  2023-06-29 10:32:00  0.2199  0.2198  0.2199  0.2198   1300\n",
      "2      ADIL  2023-06-29 10:33:00  0.2199  0.2199  0.2199  0.2199   6939\n",
      "3      ADIL  2023-06-29 10:41:00  0.2190  0.2190  0.2190  0.2190    500\n",
      "4      ADIL  2023-06-29 10:44:00  0.2190  0.2190  0.2190  0.2190    100\n",
      "..      ...                  ...     ...     ...     ...     ...    ...\n",
      "94     ADIL  2023-07-03 11:37:00  0.2049  0.2049  0.2074  0.2049   2600\n",
      "95     ADIL  2023-07-03 11:45:00  0.2089  0.2089  0.2100  0.2100    360\n",
      "96     ADIL  2023-07-03 11:50:00  0.2089  0.2089  0.2100  0.2100    200\n",
      "97     ADIL  2023-07-03 12:22:00  0.2010  0.2010  0.2010  0.2010   3000\n",
      "98     ADIL  2023-07-03 12:48:00  0.2068  0.2068  0.2068  0.2068    172\n",
      "\n",
      "[99 rows x 7 columns]\n",
      "(99, 7)\n"
     ]
    },
    {
     "name": "stderr",
     "output_type": "stream",
     "text": [
      "/Users/zhangwenbo/miniforge3/lib/python3.10/site-packages/cashare/minute_data.py:96: FutureWarning: The frame.append method is deprecated and will be removed from pandas in a future version. Use pandas.concat instead.\n",
      "  df = df.append(lsss, ignore_index=True)\n",
      "/Users/zhangwenbo/miniforge3/lib/python3.10/site-packages/cashare/minute_data.py:96: FutureWarning: The frame.append method is deprecated and will be removed from pandas in a future version. Use pandas.concat instead.\n",
      "  df = df.append(lsss, ignore_index=True)\n"
     ]
    },
    {
     "name": "stdout",
     "output_type": "stream",
     "text": [
      "  stock_id                 date    open     low    high   close volume\n",
      "0    ADILW  2023-06-29 15:24:00  0.0058  0.0058  0.0058  0.0058    699\n",
      "1    ADILW  2023-06-29 15:25:00  0.0058  0.0058  0.0058  0.0058    100\n",
      "2    ADILW  2023-06-29 15:58:00  0.0058  0.0058  0.0058  0.0058    166\n",
      "3    ADILW  2023-06-30 10:22:00  0.0057  0.0057  0.0057  0.0057   1020\n",
      "4    ADILW  2023-06-30 11:39:00  0.0057  0.0057  0.0057  0.0057   1085\n",
      "5    ADILW  2023-06-30 15:25:00  0.0057  0.0057  0.0057  0.0057    100\n",
      "(6, 7)\n"
     ]
    },
    {
     "name": "stderr",
     "output_type": "stream",
     "text": [
      "/Users/zhangwenbo/miniforge3/lib/python3.10/site-packages/cashare/minute_data.py:96: FutureWarning: The frame.append method is deprecated and will be removed from pandas in a future version. Use pandas.concat instead.\n",
      "  df = df.append(lsss, ignore_index=True)\n",
      "/Users/zhangwenbo/miniforge3/lib/python3.10/site-packages/cashare/minute_data.py:96: FutureWarning: The frame.append method is deprecated and will be removed from pandas in a future version. Use pandas.concat instead.\n",
      "  df = df.append(lsss, ignore_index=True)\n"
     ]
    },
    {
     "name": "stdout",
     "output_type": "stream",
     "text": [
      "    stock_id                 date   open     low    high    close  volume\n",
      "0        ADM  2023-06-29 09:30:00  73.96  73.960  74.190  74.1700   36111\n",
      "1        ADM  2023-06-29 09:31:00  74.16  74.150  74.460  74.4500   14375\n",
      "2        ADM  2023-06-29 09:32:00  74.48  74.420  74.575  74.4525   12406\n",
      "3        ADM  2023-06-29 09:33:00  74.40  74.345  74.515  74.4600    6441\n",
      "4        ADM  2023-06-29 09:34:00  74.46  74.460  74.590  74.5900   10569\n",
      "..       ...                  ...    ...     ...     ...      ...     ...\n",
      "989      ADM  2023-07-03 12:58:00  76.71  76.710  76.750  76.7500   10868\n",
      "990      ADM  2023-07-03 12:59:00  76.75  76.720  76.780  76.7700   27332\n",
      "991      ADM  2023-07-03 13:00:00  76.73  76.730  76.730  76.7300  340347\n",
      "992      ADM  2023-07-03 13:10:00  76.73  76.730  76.730  76.7300       0\n",
      "993      ADM  2023-07-03 15:30:00  76.73  76.730  76.730  76.7300       0\n",
      "\n",
      "[994 rows x 7 columns]\n",
      "(994, 7)\n",
      "   percent name                         ts_code\n",
      "0        1  ADM  Archer-Daniels-Midland Company\n"
     ]
    },
    {
     "name": "stderr",
     "output_type": "stream",
     "text": [
      "/Users/zhangwenbo/miniforge3/lib/python3.10/site-packages/cashare/minute_data.py:96: FutureWarning: The frame.append method is deprecated and will be removed from pandas in a future version. Use pandas.concat instead.\n",
      "  df = df.append(lsss, ignore_index=True)\n",
      "/Users/zhangwenbo/miniforge3/lib/python3.10/site-packages/cashare/minute_data.py:96: FutureWarning: The frame.append method is deprecated and will be removed from pandas in a future version. Use pandas.concat instead.\n",
      "  df = df.append(lsss, ignore_index=True)\n"
     ]
    },
    {
     "name": "stdout",
     "output_type": "stream",
     "text": [
      "    stock_id                 date   open    low   high  close  volume\n",
      "0       ADMA  2023-06-29 09:30:00  3.810  3.800  3.825  3.800   12666\n",
      "1       ADMA  2023-06-29 09:31:00  3.810  3.795  3.810  3.800    4149\n",
      "2       ADMA  2023-06-29 09:32:00  3.805  3.770  3.805  3.790   58441\n",
      "3       ADMA  2023-06-29 09:33:00  3.790  3.790  3.790  3.790     100\n",
      "4       ADMA  2023-06-29 09:35:00  3.790  3.770  3.790  3.775   38633\n",
      "..       ...                  ...    ...    ...    ...    ...     ...\n",
      "923     ADMA  2023-07-03 12:56:00  3.660  3.655  3.660  3.655    3068\n",
      "924     ADMA  2023-07-03 12:57:00  3.660  3.655  3.660  3.660    3362\n",
      "925     ADMA  2023-07-03 12:58:00  3.660  3.655  3.660  3.660    6287\n",
      "926     ADMA  2023-07-03 12:59:00  3.660  3.650  3.670  3.650   33087\n",
      "927     ADMA  2023-07-03 13:00:00  3.660  3.660  3.670  3.670  150055\n",
      "\n",
      "[928 rows x 7 columns]\n",
      "(928, 7)\n",
      "   percent  name               ts_code\n",
      "0        0  ADMA  ADMA Biologics, Inc.\n"
     ]
    },
    {
     "name": "stderr",
     "output_type": "stream",
     "text": [
      "/Users/zhangwenbo/miniforge3/lib/python3.10/site-packages/cashare/minute_data.py:96: FutureWarning: The frame.append method is deprecated and will be removed from pandas in a future version. Use pandas.concat instead.\n",
      "  df = df.append(lsss, ignore_index=True)\n",
      "/Users/zhangwenbo/miniforge3/lib/python3.10/site-packages/cashare/minute_data.py:96: FutureWarning: The frame.append method is deprecated and will be removed from pandas in a future version. Use pandas.concat instead.\n",
      "  df = df.append(lsss, ignore_index=True)\n"
     ]
    },
    {
     "name": "stdout",
     "output_type": "stream",
     "text": [
      "    stock_id                 date    open     low  high   close volume\n",
      "0       ADMP  2023-06-29 09:30:00  2.0900  2.0900  2.09  2.0900    136\n",
      "1       ADMP  2023-06-29 09:32:00  2.1400  2.1400  2.14  2.1400    221\n",
      "2       ADMP  2023-06-29 09:35:00  2.1600  2.1600  2.16  2.1600    405\n",
      "3       ADMP  2023-06-29 09:36:00  2.1300  2.1300  2.13  2.1300    100\n",
      "4       ADMP  2023-06-29 09:38:00  2.1600  2.1600  2.16  2.1600    242\n",
      "..       ...                  ...     ...     ...   ...     ...    ...\n",
      "390     ADMP  2023-07-03 12:56:00  2.3300  2.3300  2.33  2.3300    100\n",
      "391     ADMP  2023-07-03 12:57:00  2.3300  2.3300  2.33  2.3300    100\n",
      "392     ADMP  2023-07-03 12:58:00  2.3203  2.3203  2.33  2.3269    593\n",
      "393     ADMP  2023-07-03 12:59:00  2.3300  2.3100  2.33  2.3100    474\n",
      "394     ADMP  2023-07-03 13:00:00  2.3600  2.3600  2.36  2.3600    111\n",
      "\n",
      "[395 rows x 7 columns]\n",
      "(395, 7)\n",
      "   percent  name                             ts_code\n",
      "0        0  ADMP  Adamis Pharmaceuticals Corporation\n",
      "Empty DataFrame\n",
      "Columns: []\n",
      "Index: []\n",
      "(0, 0)\n"
     ]
    },
    {
     "name": "stderr",
     "output_type": "stream",
     "text": [
      "/Users/zhangwenbo/miniforge3/lib/python3.10/site-packages/cashare/minute_data.py:96: FutureWarning: The frame.append method is deprecated and will be removed from pandas in a future version. Use pandas.concat instead.\n",
      "  df = df.append(lsss, ignore_index=True)\n",
      "/Users/zhangwenbo/miniforge3/lib/python3.10/site-packages/cashare/minute_data.py:96: FutureWarning: The frame.append method is deprecated and will be removed from pandas in a future version. Use pandas.concat instead.\n",
      "  df = df.append(lsss, ignore_index=True)\n"
     ]
    },
    {
     "name": "stdout",
     "output_type": "stream",
     "text": [
      "    stock_id                 date     open       low    high   close volume\n",
      "0        ADN  2023-06-29 09:30:00  0.60000  0.589901  0.6000  0.5900  10395\n",
      "1        ADN  2023-06-29 09:35:00  0.59010  0.590100  0.5999  0.5999   3174\n",
      "2        ADN  2023-06-29 09:38:00  0.59500  0.595000  0.5999  0.5999   4000\n",
      "3        ADN  2023-06-29 09:39:00  0.59990  0.595000  0.5999  0.5950   8105\n",
      "4        ADN  2023-06-29 09:43:00  0.59755  0.595000  0.5999  0.5999  13620\n",
      "..       ...                  ...      ...       ...     ...     ...    ...\n",
      "465      ADN  2023-07-03 12:56:00  0.58900  0.589000  0.5890  0.5890    100\n",
      "466      ADN  2023-07-03 12:57:00  0.58900  0.589000  0.5890  0.5890    109\n",
      "467      ADN  2023-07-03 12:58:00  0.58900  0.589000  0.5932  0.5932    627\n",
      "468      ADN  2023-07-03 12:59:00  0.58900  0.589000  0.5890  0.5890    208\n",
      "469      ADN  2023-07-03 13:00:00  0.60000  0.600000  0.6000  0.6000    993\n",
      "\n",
      "[470 rows x 7 columns]\n",
      "(470, 7)\n",
      "   percent name                             ts_code\n",
      "0        0  ADN  Advent Technologies Holdings, Inc.\n"
     ]
    },
    {
     "name": "stderr",
     "output_type": "stream",
     "text": [
      "/Users/zhangwenbo/miniforge3/lib/python3.10/site-packages/cashare/minute_data.py:96: FutureWarning: The frame.append method is deprecated and will be removed from pandas in a future version. Use pandas.concat instead.\n",
      "  df = df.append(lsss, ignore_index=True)\n",
      "/Users/zhangwenbo/miniforge3/lib/python3.10/site-packages/cashare/minute_data.py:96: FutureWarning: The frame.append method is deprecated and will be removed from pandas in a future version. Use pandas.concat instead.\n",
      "  df = df.append(lsss, ignore_index=True)\n"
     ]
    },
    {
     "name": "stdout",
     "output_type": "stream",
     "text": [
      "    stock_id                 date   open    low    high   close volume\n",
      "0       ADNT  2023-06-29 09:30:00  38.05  38.05  38.140  38.140   3222\n",
      "1       ADNT  2023-06-29 09:32:00  38.17  38.14  38.250  38.250   1927\n",
      "2       ADNT  2023-06-29 09:33:00  38.25  38.25  38.250  38.250    199\n",
      "3       ADNT  2023-06-29 09:34:00  38.28  38.25  38.280  38.280   2255\n",
      "4       ADNT  2023-06-29 09:35:00  38.30  38.30  38.385  38.345   2067\n",
      "..       ...                  ...    ...    ...     ...     ...    ...\n",
      "876     ADNT  2023-07-03 12:58:00  38.96  38.96  39.020  39.010   3886\n",
      "877     ADNT  2023-07-03 12:59:00  39.01  38.98  39.020  39.010   7638\n",
      "878     ADNT  2023-07-03 13:00:00  39.00  39.00  39.020  39.020  53251\n",
      "879     ADNT  2023-07-03 13:10:00  39.02  39.02  39.020  39.020      0\n",
      "880     ADNT  2023-07-03 15:30:00  39.02  39.02  39.020  39.020      0\n",
      "\n",
      "[881 rows x 7 columns]\n",
      "(881, 7)\n",
      "   percent  name     ts_code\n",
      "0        0  ADNT  Adient plc\n"
     ]
    },
    {
     "name": "stderr",
     "output_type": "stream",
     "text": [
      "/Users/zhangwenbo/miniforge3/lib/python3.10/site-packages/cashare/minute_data.py:96: FutureWarning: The frame.append method is deprecated and will be removed from pandas in a future version. Use pandas.concat instead.\n",
      "  df = df.append(lsss, ignore_index=True)\n",
      "/Users/zhangwenbo/miniforge3/lib/python3.10/site-packages/cashare/minute_data.py:96: FutureWarning: The frame.append method is deprecated and will be removed from pandas in a future version. Use pandas.concat instead.\n",
      "  df = df.append(lsss, ignore_index=True)\n"
     ]
    },
    {
     "name": "stdout",
     "output_type": "stream",
     "text": [
      "   stock_id                 date      open       low      high     close  \\\n",
      "0     ADNWW  2023-06-29 09:30:00  0.065900  0.065300  0.065900  0.065300   \n",
      "1     ADNWW  2023-06-29 11:31:00  0.071700  0.071700  0.071700  0.071700   \n",
      "2     ADNWW  2023-06-29 11:59:00  0.084000  0.084000  0.084000  0.084000   \n",
      "3     ADNWW  2023-06-29 13:05:00  0.071500  0.071100  0.071500  0.071100   \n",
      "4     ADNWW  2023-06-29 13:21:00  0.071101  0.071000  0.071101  0.071000   \n",
      "5     ADNWW  2023-06-29 13:49:00  0.079200  0.079200  0.079200  0.079200   \n",
      "6     ADNWW  2023-06-29 13:51:00  0.075500  0.075500  0.075500  0.075500   \n",
      "7     ADNWW  2023-06-29 13:55:00  0.075499  0.075499  0.075499  0.075499   \n",
      "8     ADNWW  2023-06-29 13:59:00  0.079999  0.079999  0.079999  0.079999   \n",
      "9     ADNWW  2023-06-29 15:55:00  0.080000  0.080000  0.080000  0.080000   \n",
      "10    ADNWW  2023-06-29 15:56:00  0.080000  0.080000  0.080000  0.080000   \n",
      "11    ADNWW  2023-06-29 15:57:00  0.080000  0.080000  0.084000  0.084000   \n",
      "12    ADNWW  2023-06-29 15:58:00  0.083200  0.083200  0.084000  0.084000   \n",
      "13    ADNWW  2023-06-30 09:30:00  0.084000  0.065500  0.084000  0.065500   \n",
      "14    ADNWW  2023-06-30 09:31:00  0.066600  0.066000  0.066600  0.066300   \n",
      "15    ADNWW  2023-06-30 09:32:00  0.066100  0.066100  0.075000  0.075000   \n",
      "16    ADNWW  2023-06-30 09:33:00  0.083200  0.083200  0.084000  0.084000   \n",
      "17    ADNWW  2023-06-30 09:34:00  0.084000  0.084000  0.084000  0.084000   \n",
      "18    ADNWW  2023-06-30 09:35:00  0.084000  0.084000  0.084000  0.084000   \n",
      "19    ADNWW  2023-06-30 09:37:00  0.084000  0.084000  0.084000  0.084000   \n",
      "20    ADNWW  2023-06-30 09:38:00  0.084000  0.084000  0.084000  0.084000   \n",
      "21    ADNWW  2023-06-30 09:57:00  0.083800  0.083700  0.083800  0.083700   \n",
      "22    ADNWW  2023-06-30 10:01:00  0.084400  0.084400  0.084400  0.084400   \n",
      "23    ADNWW  2023-06-30 10:04:00  0.077200  0.077200  0.077200  0.077200   \n",
      "24    ADNWW  2023-06-30 14:44:00  0.077200  0.077200  0.077900  0.077200   \n",
      "25    ADNWW  2023-06-30 15:47:00  0.077200  0.076100  0.077200  0.076100   \n",
      "26    ADNWW  2023-06-30 15:48:00  0.080000  0.080000  0.080000  0.080000   \n",
      "27    ADNWW  2023-06-30 15:57:00  0.080000  0.080000  0.080000  0.080000   \n",
      "28    ADNWW  2023-06-30 15:58:00  0.080000  0.080000  0.080000  0.080000   \n",
      "29    ADNWW  2023-06-30 15:59:00  0.080000  0.079650  0.084200  0.084200   \n",
      "30    ADNWW  2023-07-03 09:30:00  0.063000  0.063000  0.066700  0.064100   \n",
      "31    ADNWW  2023-07-03 09:54:00  0.087800  0.087800  0.087800  0.087800   \n",
      "32    ADNWW  2023-07-03 10:32:00  0.079901  0.079901  0.079901  0.079901   \n",
      "33    ADNWW  2023-07-03 10:37:00  0.072000  0.065000  0.072000  0.065000   \n",
      "34    ADNWW  2023-07-03 10:49:00  0.087699  0.087699  0.087699  0.087699   \n",
      "35    ADNWW  2023-07-03 11:54:00  0.079900  0.079900  0.079900  0.079900   \n",
      "36    ADNWW  2023-07-03 12:28:00  0.079900  0.079900  0.079900  0.079900   \n",
      "\n",
      "   volume  \n",
      "0     800  \n",
      "1     100  \n",
      "2     100  \n",
      "3     200  \n",
      "4     800  \n",
      "5     100  \n",
      "6     100  \n",
      "7     100  \n",
      "8    1000  \n",
      "9     150  \n",
      "10    200  \n",
      "11    300  \n",
      "12    205  \n",
      "13    640  \n",
      "14    300  \n",
      "15    200  \n",
      "16    760  \n",
      "17    250  \n",
      "18    500  \n",
      "19    505  \n",
      "20   1900  \n",
      "21   1800  \n",
      "22    481  \n",
      "23   1200  \n",
      "24   2200  \n",
      "25    383  \n",
      "26   4490  \n",
      "27    100  \n",
      "28    100  \n",
      "29    513  \n",
      "30  12068  \n",
      "31    100  \n",
      "32    150  \n",
      "33   3000  \n",
      "34    100  \n",
      "35    430  \n",
      "36    600  \n",
      "(37, 7)\n"
     ]
    },
    {
     "name": "stderr",
     "output_type": "stream",
     "text": [
      "/Users/zhangwenbo/miniforge3/lib/python3.10/site-packages/cashare/minute_data.py:96: FutureWarning: The frame.append method is deprecated and will be removed from pandas in a future version. Use pandas.concat instead.\n",
      "  df = df.append(lsss, ignore_index=True)\n",
      "/Users/zhangwenbo/miniforge3/lib/python3.10/site-packages/cashare/minute_data.py:96: FutureWarning: The frame.append method is deprecated and will be removed from pandas in a future version. Use pandas.concat instead.\n",
      "  df = df.append(lsss, ignore_index=True)\n"
     ]
    },
    {
     "name": "stdout",
     "output_type": "stream",
     "text": [
      "  stock_id                 date   open    low   high  close volume\n",
      "0     ADOC  2023-06-29 15:59:00  11.01  11.01  11.01  11.01    100\n",
      "1     ADOC  2023-06-30 15:27:00  11.07  11.07  11.07  11.07    100\n",
      "(2, 7)\n"
     ]
    },
    {
     "name": "stderr",
     "output_type": "stream",
     "text": [
      "/Users/zhangwenbo/miniforge3/lib/python3.10/site-packages/cashare/minute_data.py:96: FutureWarning: The frame.append method is deprecated and will be removed from pandas in a future version. Use pandas.concat instead.\n",
      "  df = df.append(lsss, ignore_index=True)\n"
     ]
    },
    {
     "name": "stdout",
     "output_type": "stream",
     "text": [
      "  stock_id                 date    open     low    high   close volume\n",
      "0    ADOCR  2023-06-29 13:02:00  0.1251  0.1251  0.1251  0.1251  10200\n",
      "1    ADOCR  2023-06-29 13:06:00  0.1251  0.1251  0.1251  0.1251   1943\n",
      "(2, 7)\n"
     ]
    },
    {
     "name": "stderr",
     "output_type": "stream",
     "text": [
      "/Users/zhangwenbo/miniforge3/lib/python3.10/site-packages/cashare/minute_data.py:96: FutureWarning: The frame.append method is deprecated and will be removed from pandas in a future version. Use pandas.concat instead.\n",
      "  df = df.append(lsss, ignore_index=True)\n",
      "/Users/zhangwenbo/miniforge3/lib/python3.10/site-packages/cashare/minute_data.py:96: FutureWarning: The frame.append method is deprecated and will be removed from pandas in a future version. Use pandas.concat instead.\n",
      "  df = df.append(lsss, ignore_index=True)\n"
     ]
    },
    {
     "name": "stdout",
     "output_type": "stream",
     "text": [
      "  stock_id                 date    open       low    high   close volume\n",
      "0    ADOCW  2023-06-29 11:46:00  0.0110  0.011000  0.0110  0.0110    700\n",
      "1    ADOCW  2023-06-30 10:29:00  0.0150  0.015000  0.0150  0.0150    200\n",
      "2    ADOCW  2023-06-30 10:31:00  0.0150  0.007400  0.0150  0.0074    200\n",
      "3    ADOCW  2023-06-30 10:33:00  0.0150  0.015000  0.0150  0.0150    100\n",
      "4    ADOCW  2023-06-30 10:34:00  0.0150  0.015000  0.0150  0.0150    100\n",
      "5    ADOCW  2023-06-30 10:36:00  0.0150  0.015000  0.0150  0.0150    400\n",
      "6    ADOCW  2023-06-30 11:09:00  0.0140  0.012376  0.0140  0.0140   1559\n",
      "7    ADOCW  2023-06-30 13:01:00  0.0141  0.014000  0.0141  0.0140    500\n",
      "(8, 7)\n",
      "Empty DataFrame\n",
      "Columns: []\n",
      "Index: []\n",
      "(0, 0)\n"
     ]
    },
    {
     "name": "stderr",
     "output_type": "stream",
     "text": [
      "/Users/zhangwenbo/miniforge3/lib/python3.10/site-packages/cashare/minute_data.py:96: FutureWarning: The frame.append method is deprecated and will be removed from pandas in a future version. Use pandas.concat instead.\n",
      "  df = df.append(lsss, ignore_index=True)\n",
      "/Users/zhangwenbo/miniforge3/lib/python3.10/site-packages/cashare/minute_data.py:96: FutureWarning: The frame.append method is deprecated and will be removed from pandas in a future version. Use pandas.concat instead.\n",
      "  df = df.append(lsss, ignore_index=True)\n"
     ]
    },
    {
     "name": "stdout",
     "output_type": "stream",
     "text": [
      "    stock_id                 date      open       low      high     close  \\\n",
      "0        ADP  2023-06-29 09:30:00  216.1000  216.1000  217.8500  217.8500   \n",
      "1        ADP  2023-06-29 09:31:00  217.6628  217.0000  217.6628  217.2950   \n",
      "2        ADP  2023-06-29 09:32:00  217.2950  216.5365  217.2950  216.6675   \n",
      "3        ADP  2023-06-29 09:33:00  217.0300  216.8850  217.8900  217.7600   \n",
      "4        ADP  2023-06-29 09:34:00  218.1700  217.7950  218.6800  218.5350   \n",
      "..       ...                  ...       ...       ...       ...       ...   \n",
      "958      ADP  2023-07-03 12:56:00  218.6200  218.5600  218.6500  218.6100   \n",
      "959      ADP  2023-07-03 12:57:00  218.6200  218.6200  218.7200  218.7200   \n",
      "960      ADP  2023-07-03 12:58:00  218.7200  218.7050  218.8300  218.8100   \n",
      "961      ADP  2023-07-03 12:59:00  218.8000  218.6400  218.8300  218.7200   \n",
      "962      ADP  2023-07-03 13:00:00  218.7300  218.7300  218.7300  218.7300   \n",
      "\n",
      "     volume  \n",
      "0     26413  \n",
      "1      3139  \n",
      "2      5643  \n",
      "3     13635  \n",
      "4      5448  \n",
      "..      ...  \n",
      "958    5919  \n",
      "959    4946  \n",
      "960    8879  \n",
      "961   19343  \n",
      "962  127412  \n",
      "\n",
      "[963 rows x 7 columns]\n",
      "(963, 7)\n",
      "   percent name                          ts_code\n",
      "0        0  ADP  Automatic Data Processing, Inc.\n"
     ]
    },
    {
     "name": "stderr",
     "output_type": "stream",
     "text": [
      "/Users/zhangwenbo/miniforge3/lib/python3.10/site-packages/cashare/minute_data.py:96: FutureWarning: The frame.append method is deprecated and will be removed from pandas in a future version. Use pandas.concat instead.\n",
      "  df = df.append(lsss, ignore_index=True)\n",
      "/Users/zhangwenbo/miniforge3/lib/python3.10/site-packages/cashare/minute_data.py:96: FutureWarning: The frame.append method is deprecated and will be removed from pandas in a future version. Use pandas.concat instead.\n",
      "  df = df.append(lsss, ignore_index=True)\n"
     ]
    },
    {
     "name": "stdout",
     "output_type": "stream",
     "text": [
      "    stock_id                 date    open   low    high   close volume\n",
      "0       ADPT  2023-06-29 09:30:00  6.8400  6.81  6.8450  6.8184   7357\n",
      "1       ADPT  2023-06-29 09:31:00  6.8125  6.80  6.8129  6.8011   1935\n",
      "2       ADPT  2023-06-29 09:32:00  6.7629  6.76  6.7744  6.7744   1086\n",
      "3       ADPT  2023-06-29 09:33:00  6.7500  6.75  6.7800  6.7800    956\n",
      "4       ADPT  2023-06-29 09:34:00  6.7700  6.77  6.7700  6.7700    514\n",
      "..       ...                  ...     ...   ...     ...     ...    ...\n",
      "826     ADPT  2023-07-03 12:56:00  6.6600  6.66  6.6650  6.6650   2501\n",
      "827     ADPT  2023-07-03 12:57:00  6.6600  6.66  6.6700  6.6700  13612\n",
      "828     ADPT  2023-07-03 12:58:00  6.6700  6.67  6.6900  6.6900   8638\n",
      "829     ADPT  2023-07-03 12:59:00  6.6900  6.68  6.7000  6.6800   9482\n",
      "830     ADPT  2023-07-03 13:00:00  6.6800  6.68  6.6800  6.6800  64525\n",
      "\n",
      "[831 rows x 7 columns]\n",
      "(831, 7)\n",
      "   percent  name                               ts_code\n",
      "0        1  ADPT  Adaptive Biotechnologies Corporation\n",
      "Empty DataFrame\n",
      "Columns: []\n",
      "Index: []\n",
      "(0, 0)\n",
      "Empty DataFrame\n",
      "Columns: []\n",
      "Index: []\n",
      "(0, 0)\n",
      "Empty DataFrame\n",
      "Columns: []\n",
      "Index: []\n",
      "(0, 0)\n"
     ]
    },
    {
     "name": "stderr",
     "output_type": "stream",
     "text": [
      "/Users/zhangwenbo/miniforge3/lib/python3.10/site-packages/cashare/minute_data.py:96: FutureWarning: The frame.append method is deprecated and will be removed from pandas in a future version. Use pandas.concat instead.\n",
      "  df = df.append(lsss, ignore_index=True)\n",
      "/Users/zhangwenbo/miniforge3/lib/python3.10/site-packages/cashare/minute_data.py:96: FutureWarning: The frame.append method is deprecated and will be removed from pandas in a future version. Use pandas.concat instead.\n",
      "  df = df.append(lsss, ignore_index=True)\n"
     ]
    },
    {
     "name": "stdout",
     "output_type": "stream",
     "text": [
      "   stock_id                 date    open     low    high   close volume\n",
      "0      ADRT  2023-06-29 09:37:00  11.375  11.375  11.375  11.375    700\n",
      "1      ADRT  2023-06-29 09:39:00  11.260  11.260  11.260  11.260    100\n",
      "2      ADRT  2023-06-29 09:47:00  11.260  11.170  11.280  11.170   1294\n",
      "3      ADRT  2023-06-29 09:48:00  11.130  11.130  11.130  11.130    506\n",
      "4      ADRT  2023-06-29 09:51:00  11.110  11.110  11.150  11.150    300\n",
      "..      ...                  ...     ...     ...     ...     ...    ...\n",
      "61     ADRT  2023-07-03 11:05:00  10.960  10.960  10.960  10.960    100\n",
      "62     ADRT  2023-07-03 12:38:00  10.950  10.950  10.950  10.950    180\n",
      "63     ADRT  2023-07-03 12:58:00  10.890  10.890  10.890  10.890    223\n",
      "64     ADRT  2023-07-03 13:10:00  10.890  10.890  10.890  10.890      0\n",
      "65     ADRT  2023-07-03 15:30:00  10.890  10.890  10.890  10.890      0\n",
      "\n",
      "[66 rows x 7 columns]\n",
      "(66, 7)\n"
     ]
    },
    {
     "name": "stderr",
     "output_type": "stream",
     "text": [
      "/Users/zhangwenbo/miniforge3/lib/python3.10/site-packages/cashare/minute_data.py:96: FutureWarning: The frame.append method is deprecated and will be removed from pandas in a future version. Use pandas.concat instead.\n",
      "  df = df.append(lsss, ignore_index=True)\n"
     ]
    },
    {
     "name": "stdout",
     "output_type": "stream",
     "text": [
      "  stock_id                 date   open    low   high  close volume\n",
      "0  ADRT-UN  2023-06-29 11:09:00  11.68  11.19  11.68  11.19    529\n",
      "1  ADRT-UN  2023-06-29 11:10:00  11.49  11.49  11.49  11.49    735\n",
      "2  ADRT-UN  2023-06-29 15:07:00  11.46  11.46  11.46  11.46    835\n",
      "3  ADRT-UN  2023-06-29 15:08:00  11.46  11.46  11.46  11.46   1035\n",
      "(4, 7)\n",
      "Empty DataFrame\n",
      "Columns: []\n",
      "Index: []\n",
      "(0, 0)\n",
      "Empty DataFrame\n",
      "Columns: []\n",
      "Index: []\n",
      "(0, 0)\n"
     ]
    },
    {
     "name": "stderr",
     "output_type": "stream",
     "text": [
      "/Users/zhangwenbo/miniforge3/lib/python3.10/site-packages/cashare/minute_data.py:96: FutureWarning: The frame.append method is deprecated and will be removed from pandas in a future version. Use pandas.concat instead.\n",
      "  df = df.append(lsss, ignore_index=True)\n",
      "/Users/zhangwenbo/miniforge3/lib/python3.10/site-packages/cashare/minute_data.py:96: FutureWarning: The frame.append method is deprecated and will be removed from pandas in a future version. Use pandas.concat instead.\n",
      "  df = df.append(lsss, ignore_index=True)\n"
     ]
    },
    {
     "name": "stdout",
     "output_type": "stream",
     "text": [
      "    stock_id                 date    open     low    high  close volume\n",
      "0       ADSE  2023-06-29 09:47:00  6.3000  6.3000  6.3000   6.30    675\n",
      "1       ADSE  2023-06-29 09:51:00  6.2600  6.2600  6.5000   6.50   5455\n",
      "2       ADSE  2023-06-29 09:52:00  6.5000  6.5000  6.5000   6.50    443\n",
      "3       ADSE  2023-06-29 09:58:00  6.5501  6.5501  6.5908   6.56    800\n",
      "4       ADSE  2023-06-29 09:59:00  6.5908  6.4500  6.5908   6.53   2901\n",
      "..       ...                  ...     ...     ...     ...    ...    ...\n",
      "96      ADSE  2023-07-03 12:55:00  6.3000  6.3000  6.3000   6.30    600\n",
      "97      ADSE  2023-07-03 12:56:00  6.3000  6.3000  6.3000   6.30    909\n",
      "98      ADSE  2023-07-03 12:58:00  6.3000  6.3000  6.3000   6.30   1369\n",
      "99      ADSE  2023-07-03 12:59:00  6.3050  6.3000  6.5300   6.53   5421\n",
      "100     ADSE  2023-07-03 13:00:00  6.5000  6.5000  6.5000   6.50    386\n",
      "\n",
      "[101 rows x 7 columns]\n",
      "(101, 7)\n",
      "   percent  name             ts_code\n",
      "0        0  ADSE  ADS-TEC Energy PLC\n"
     ]
    },
    {
     "name": "stderr",
     "output_type": "stream",
     "text": [
      "/Users/zhangwenbo/miniforge3/lib/python3.10/site-packages/cashare/minute_data.py:96: FutureWarning: The frame.append method is deprecated and will be removed from pandas in a future version. Use pandas.concat instead.\n",
      "  df = df.append(lsss, ignore_index=True)\n",
      "/Users/zhangwenbo/miniforge3/lib/python3.10/site-packages/cashare/minute_data.py:96: FutureWarning: The frame.append method is deprecated and will be removed from pandas in a future version. Use pandas.concat instead.\n",
      "  df = df.append(lsss, ignore_index=True)\n"
     ]
    },
    {
     "name": "stdout",
     "output_type": "stream",
     "text": [
      "  stock_id                 date    open     low    high   close volume\n",
      "0    ADSEW  2023-06-29 11:25:00  0.6200  0.6200  0.6200  0.6200    650\n",
      "1    ADSEW  2023-06-29 13:38:00  0.6800  0.6200  0.6800  0.6200   1960\n",
      "2    ADSEW  2023-06-30 11:10:00  0.6700  0.6700  0.6700  0.6700    500\n",
      "3    ADSEW  2023-06-30 15:55:00  0.6500  0.6500  0.6600  0.6600    700\n",
      "4    ADSEW  2023-07-03 11:17:00  0.6325  0.6000  0.6425  0.6000   3200\n",
      "5    ADSEW  2023-07-03 11:18:00  0.6000  0.6000  0.6000  0.6000    900\n",
      "6    ADSEW  2023-07-03 11:31:00  0.6000  0.6000  0.6000  0.6000   1464\n",
      "7    ADSEW  2023-07-03 12:59:00  0.6361  0.6361  0.6425  0.6425   1730\n",
      "(8, 7)\n"
     ]
    },
    {
     "name": "stderr",
     "output_type": "stream",
     "text": [
      "/Users/zhangwenbo/miniforge3/lib/python3.10/site-packages/cashare/minute_data.py:96: FutureWarning: The frame.append method is deprecated and will be removed from pandas in a future version. Use pandas.concat instead.\n",
      "  df = df.append(lsss, ignore_index=True)\n",
      "/Users/zhangwenbo/miniforge3/lib/python3.10/site-packages/cashare/minute_data.py:96: FutureWarning: The frame.append method is deprecated and will be removed from pandas in a future version. Use pandas.concat instead.\n",
      "  df = df.append(lsss, ignore_index=True)\n"
     ]
    },
    {
     "name": "stdout",
     "output_type": "stream",
     "text": [
      "    stock_id                 date     open       low    high    close volume\n",
      "0       ADSK  2023-06-29 09:30:00  207.020  206.7200  207.47  207.090  16735\n",
      "1       ADSK  2023-06-29 09:31:00  206.960  206.6300  206.99  206.720   2921\n",
      "2       ADSK  2023-06-29 09:32:00  206.720  206.3550  206.79  206.446   3708\n",
      "3       ADSK  2023-06-29 09:34:00  207.270  207.2700  207.63  207.400   2631\n",
      "4       ADSK  2023-06-29 09:35:00  207.440  207.0500  207.54  207.170   2594\n",
      "..       ...                  ...      ...       ...     ...      ...    ...\n",
      "961     ADSK  2023-07-03 12:56:00  203.545  203.4700  203.56  203.470   7005\n",
      "962     ADSK  2023-07-03 12:57:00  203.485  203.3286  203.50  203.470   7371\n",
      "963     ADSK  2023-07-03 12:58:00  203.485  203.4800  203.62  203.595   7395\n",
      "964     ADSK  2023-07-03 12:59:00  203.650  203.5100  203.66  203.600  14738\n",
      "965     ADSK  2023-07-03 13:00:00  203.700  203.7000  203.70  203.700  67182\n",
      "\n",
      "[966 rows x 7 columns]\n",
      "(966, 7)\n",
      "   percent  name         ts_code\n",
      "0        1  ADSK  Autodesk, Inc.\n"
     ]
    },
    {
     "name": "stderr",
     "output_type": "stream",
     "text": [
      "/Users/zhangwenbo/miniforge3/lib/python3.10/site-packages/cashare/minute_data.py:96: FutureWarning: The frame.append method is deprecated and will be removed from pandas in a future version. Use pandas.concat instead.\n",
      "  df = df.append(lsss, ignore_index=True)\n",
      "/Users/zhangwenbo/miniforge3/lib/python3.10/site-packages/cashare/minute_data.py:96: FutureWarning: The frame.append method is deprecated and will be removed from pandas in a future version. Use pandas.concat instead.\n",
      "  df = df.append(lsss, ignore_index=True)\n"
     ]
    },
    {
     "name": "stdout",
     "output_type": "stream",
     "text": [
      "    stock_id                 date    open     low    high  close  volume\n",
      "0        ADT  2023-06-29 09:30:00  5.9600  5.9600  5.9600  5.960   40001\n",
      "1        ADT  2023-06-29 09:31:00  5.9600  5.9600  5.9600  5.960     162\n",
      "2        ADT  2023-06-29 09:33:00  5.9500  5.9500  5.9500  5.950     101\n",
      "3        ADT  2023-06-29 09:35:00  5.9425  5.9425  5.9550  5.955   68016\n",
      "4        ADT  2023-06-29 09:36:00  5.9500  5.9500  5.9700  5.965   11114\n",
      "..       ...                  ...     ...     ...     ...    ...     ...\n",
      "935      ADT  2023-07-03 12:58:00  6.1550  6.1500  6.1775  6.175   66860\n",
      "936      ADT  2023-07-03 12:59:00  6.1700  6.1500  6.1750  6.160   77175\n",
      "937      ADT  2023-07-03 13:00:00  6.1500  6.1500  6.1500  6.150  283651\n",
      "938      ADT  2023-07-03 13:10:00  6.1500  6.1500  6.1500  6.150       0\n",
      "939      ADT  2023-07-03 15:30:00  6.1500  6.1500  6.1500  6.150       0\n",
      "\n",
      "[940 rows x 7 columns]\n",
      "(940, 7)\n",
      "   percent name   ts_code\n",
      "0        1  ADT  ADT Inc.\n"
     ]
    },
    {
     "name": "stderr",
     "output_type": "stream",
     "text": [
      "/Users/zhangwenbo/miniforge3/lib/python3.10/site-packages/cashare/minute_data.py:96: FutureWarning: The frame.append method is deprecated and will be removed from pandas in a future version. Use pandas.concat instead.\n",
      "  df = df.append(lsss, ignore_index=True)\n",
      "/Users/zhangwenbo/miniforge3/lib/python3.10/site-packages/cashare/minute_data.py:96: FutureWarning: The frame.append method is deprecated and will be removed from pandas in a future version. Use pandas.concat instead.\n",
      "  df = df.append(lsss, ignore_index=True)\n"
     ]
    },
    {
     "name": "stdout",
     "output_type": "stream",
     "text": [
      "    stock_id                 date   open   low   high   close volume\n",
      "0       ADTH  2023-06-29 09:30:00  1.410  1.37  1.410  1.3700  60338\n",
      "1       ADTH  2023-06-29 09:32:00  1.390  1.39  1.390  1.3900    200\n",
      "2       ADTH  2023-06-29 09:35:00  1.400  1.40  1.400  1.4000    705\n",
      "3       ADTH  2023-06-29 09:40:00  1.430  1.42  1.430  1.4200   3652\n",
      "4       ADTH  2023-06-29 09:41:00  1.430  1.43  1.430  1.4300   1198\n",
      "..       ...                  ...    ...   ...    ...     ...    ...\n",
      "291     ADTH  2023-07-03 12:56:00  1.375  1.37  1.375  1.3700   2146\n",
      "292     ADTH  2023-07-03 12:57:00  1.370  1.37  1.380  1.3800    422\n",
      "293     ADTH  2023-07-03 12:58:00  1.375  1.37  1.375  1.3700    219\n",
      "294     ADTH  2023-07-03 12:59:00  1.375  1.37  1.380  1.3727   1124\n",
      "295     ADTH  2023-07-03 13:00:00  1.370  1.37  1.370  1.3700   2500\n",
      "\n",
      "[296 rows x 7 columns]\n",
      "(296, 7)\n",
      "   percent  name                           ts_code\n",
      "0        1  ADTH  AdTheorent Holding Company, Inc.\n"
     ]
    },
    {
     "name": "stderr",
     "output_type": "stream",
     "text": [
      "/Users/zhangwenbo/miniforge3/lib/python3.10/site-packages/cashare/minute_data.py:96: FutureWarning: The frame.append method is deprecated and will be removed from pandas in a future version. Use pandas.concat instead.\n",
      "  df = df.append(lsss, ignore_index=True)\n"
     ]
    },
    {
     "name": "stdout",
     "output_type": "stream",
     "text": [
      "  stock_id                 date      open       low      high     close volume\n",
      "0    ADTHW  2023-06-29 10:35:00  0.102449  0.102449  0.102449  0.102449    500\n",
      "1    ADTHW  2023-06-29 10:36:00  0.113800  0.113800  0.113800  0.113800    200\n",
      "(2, 7)\n"
     ]
    },
    {
     "name": "stderr",
     "output_type": "stream",
     "text": [
      "/Users/zhangwenbo/miniforge3/lib/python3.10/site-packages/cashare/minute_data.py:96: FutureWarning: The frame.append method is deprecated and will be removed from pandas in a future version. Use pandas.concat instead.\n",
      "  df = df.append(lsss, ignore_index=True)\n",
      "/Users/zhangwenbo/miniforge3/lib/python3.10/site-packages/cashare/minute_data.py:96: FutureWarning: The frame.append method is deprecated and will be removed from pandas in a future version. Use pandas.concat instead.\n",
      "  df = df.append(lsss, ignore_index=True)\n"
     ]
    },
    {
     "name": "stdout",
     "output_type": "stream",
     "text": [
      "    stock_id                 date    open      low    high   close volume\n",
      "0       ADTN  2023-06-29 09:30:00  10.500  10.4900  10.500  10.490   8755\n",
      "1       ADTN  2023-06-29 09:31:00  10.470  10.4600  10.470  10.460   1266\n",
      "2       ADTN  2023-06-29 09:33:00  10.440  10.4400  10.470  10.450   1964\n",
      "3       ADTN  2023-06-29 09:35:00  10.475  10.4700  10.475  10.470    367\n",
      "4       ADTN  2023-06-29 09:36:00  10.490  10.4800  10.490  10.480    911\n",
      "..       ...                  ...     ...      ...     ...     ...    ...\n",
      "787     ADTN  2023-07-03 12:56:00  10.600  10.5905  10.600  10.595   1038\n",
      "788     ADTN  2023-07-03 12:57:00  10.600  10.6000  10.605  10.605   5790\n",
      "789     ADTN  2023-07-03 12:58:00  10.605  10.6000  10.610  10.605   3615\n",
      "790     ADTN  2023-07-03 12:59:00  10.600  10.5900  10.610  10.595  12278\n",
      "791     ADTN  2023-07-03 13:00:00  10.590  10.5900  10.590  10.590  57739\n",
      "\n",
      "[792 rows x 7 columns]\n",
      "(792, 7)\n",
      "   percent  name                ts_code\n",
      "0        1  ADTN  ADTRAN Holdings, Inc.\n"
     ]
    },
    {
     "name": "stderr",
     "output_type": "stream",
     "text": [
      "/Users/zhangwenbo/miniforge3/lib/python3.10/site-packages/cashare/minute_data.py:96: FutureWarning: The frame.append method is deprecated and will be removed from pandas in a future version. Use pandas.concat instead.\n",
      "  df = df.append(lsss, ignore_index=True)\n",
      "/Users/zhangwenbo/miniforge3/lib/python3.10/site-packages/cashare/minute_data.py:96: FutureWarning: The frame.append method is deprecated and will be removed from pandas in a future version. Use pandas.concat instead.\n",
      "  df = df.append(lsss, ignore_index=True)\n"
     ]
    },
    {
     "name": "stdout",
     "output_type": "stream",
     "text": [
      "    stock_id                 date      open     low      high     close volume\n",
      "0       ADTX  2023-06-29 09:30:00  0.443300  0.4433  0.443300  0.443300    136\n",
      "1       ADTX  2023-06-29 09:38:00  0.440000  0.4400  0.440000  0.440000    817\n",
      "2       ADTX  2023-06-29 09:40:00  0.449899  0.4400  0.449899  0.440001   4450\n",
      "3       ADTX  2023-06-29 09:43:00  0.440100  0.4401  0.440100  0.440100    203\n",
      "4       ADTX  2023-06-29 09:45:00  0.440000  0.4400  0.440000  0.440000    500\n",
      "..       ...                  ...       ...     ...       ...       ...    ...\n",
      "110     ADTX  2023-07-03 10:28:00  0.431200  0.4312  0.431200  0.431200    930\n",
      "111     ADTX  2023-07-03 10:44:00  0.440000  0.4400  0.440000  0.440000    550\n",
      "112     ADTX  2023-07-03 11:24:00  0.440100  0.4401  0.440100  0.440100   1000\n",
      "113     ADTX  2023-07-03 12:38:00  0.450000  0.4500  0.450000  0.450000    300\n",
      "114     ADTX  2023-07-03 12:39:00  0.450000  0.4500  0.450000  0.450000   1126\n",
      "\n",
      "[115 rows x 7 columns]\n",
      "(115, 7)\n",
      "   percent  name       ts_code\n",
      "0        1  ADTX  Aditxt, Inc.\n"
     ]
    },
    {
     "name": "stderr",
     "output_type": "stream",
     "text": [
      "/Users/zhangwenbo/miniforge3/lib/python3.10/site-packages/cashare/minute_data.py:96: FutureWarning: The frame.append method is deprecated and will be removed from pandas in a future version. Use pandas.concat instead.\n",
      "  df = df.append(lsss, ignore_index=True)\n",
      "/Users/zhangwenbo/miniforge3/lib/python3.10/site-packages/cashare/minute_data.py:96: FutureWarning: The frame.append method is deprecated and will be removed from pandas in a future version. Use pandas.concat instead.\n",
      "  df = df.append(lsss, ignore_index=True)\n"
     ]
    },
    {
     "name": "stdout",
     "output_type": "stream",
     "text": [
      "    stock_id                 date    open     low    high   close volume\n",
      "0       ADUS  2023-06-29 09:30:00  92.400  92.400  92.400  92.400   1033\n",
      "1       ADUS  2023-06-29 09:43:00  92.525  92.525  92.525  92.525    100\n",
      "2       ADUS  2023-06-29 09:48:00  92.660  92.590  92.660  92.590    223\n",
      "3       ADUS  2023-06-29 09:51:00  93.030  93.030  93.030  93.030    113\n",
      "4       ADUS  2023-06-29 09:56:00  92.900  92.900  92.910  92.900    387\n",
      "..       ...                  ...     ...     ...     ...     ...    ...\n",
      "300     ADUS  2023-07-03 12:56:00  90.780  90.780  90.780  90.780   1086\n",
      "301     ADUS  2023-07-03 12:57:00  90.955  90.955  90.955  90.955    288\n",
      "302     ADUS  2023-07-03 12:58:00  90.930  90.870  90.930  90.880    822\n",
      "303     ADUS  2023-07-03 12:59:00  90.910  90.880  90.910  90.880   2398\n",
      "304     ADUS  2023-07-03 13:00:00  90.700  90.700  90.700  90.700   7783\n",
      "\n",
      "[305 rows x 7 columns]\n",
      "(305, 7)\n",
      "   percent  name                     ts_code\n",
      "0        1  ADUS  Addus HomeCare Corporation\n"
     ]
    },
    {
     "name": "stderr",
     "output_type": "stream",
     "text": [
      "/Users/zhangwenbo/miniforge3/lib/python3.10/site-packages/cashare/minute_data.py:96: FutureWarning: The frame.append method is deprecated and will be removed from pandas in a future version. Use pandas.concat instead.\n",
      "  df = df.append(lsss, ignore_index=True)\n",
      "/Users/zhangwenbo/miniforge3/lib/python3.10/site-packages/cashare/minute_data.py:96: FutureWarning: The frame.append method is deprecated and will be removed from pandas in a future version. Use pandas.concat instead.\n",
      "  df = df.append(lsss, ignore_index=True)\n"
     ]
    },
    {
     "name": "stdout",
     "output_type": "stream",
     "text": [
      "    stock_id                 date    open     low    high   close volume\n",
      "0        ADV  2023-06-29 09:30:00  2.3400  2.3370  2.3400  2.3370   1630\n",
      "1        ADV  2023-06-29 09:35:00  2.3600  2.3600  2.3600  2.3600    110\n",
      "2        ADV  2023-06-29 09:36:00  2.3599  2.3599  2.3599  2.3599    210\n",
      "3        ADV  2023-06-29 09:39:00  2.3700  2.3700  2.3700  2.3700   2731\n",
      "4        ADV  2023-06-29 09:40:00  2.3800  2.3700  2.3800  2.3700    874\n",
      "..       ...                  ...     ...     ...     ...     ...    ...\n",
      "492      ADV  2023-07-03 12:56:00  2.3550  2.3500  2.3600  2.3550   5283\n",
      "493      ADV  2023-07-03 12:57:00  2.3500  2.3500  2.3600  2.3550   1243\n",
      "494      ADV  2023-07-03 12:58:00  2.3550  2.3550  2.3600  2.3550   2833\n",
      "495      ADV  2023-07-03 12:59:00  2.3550  2.3500  2.3600  2.3500   5314\n",
      "496      ADV  2023-07-03 13:00:00  2.3600  2.3600  2.3600  2.3600  19597\n",
      "\n",
      "[497 rows x 7 columns]\n",
      "(497, 7)\n",
      "   percent name                   ts_code\n",
      "0        0  ADV  Advantage Solutions Inc.\n"
     ]
    },
    {
     "name": "stderr",
     "output_type": "stream",
     "text": [
      "/Users/zhangwenbo/miniforge3/lib/python3.10/site-packages/cashare/minute_data.py:96: FutureWarning: The frame.append method is deprecated and will be removed from pandas in a future version. Use pandas.concat instead.\n",
      "  df = df.append(lsss, ignore_index=True)\n",
      "/Users/zhangwenbo/miniforge3/lib/python3.10/site-packages/cashare/minute_data.py:96: FutureWarning: The frame.append method is deprecated and will be removed from pandas in a future version. Use pandas.concat instead.\n",
      "  df = df.append(lsss, ignore_index=True)\n"
     ]
    },
    {
     "name": "stdout",
     "output_type": "stream",
     "text": [
      "    stock_id                 date    open     low  high  close volume\n",
      "0       ADVM  2023-06-29 09:30:00  1.5400  1.5100  1.55  1.510   7625\n",
      "1       ADVM  2023-06-29 09:31:00  1.5101  1.5101  1.54  1.540   8150\n",
      "2       ADVM  2023-06-29 09:32:00  1.5500  1.5100  1.55  1.510   9331\n",
      "3       ADVM  2023-06-29 09:33:00  1.5100  1.5000  1.52  1.520    968\n",
      "4       ADVM  2023-06-29 09:34:00  1.5100  1.4900  1.51  1.510    900\n",
      "..       ...                  ...     ...     ...   ...    ...    ...\n",
      "598     ADVM  2023-07-03 12:56:00  1.5700  1.5700  1.57  1.570    627\n",
      "599     ADVM  2023-07-03 12:57:00  1.5700  1.5600  1.57  1.565   3443\n",
      "600     ADVM  2023-07-03 12:58:00  1.5650  1.5650  1.57  1.570   2159\n",
      "601     ADVM  2023-07-03 12:59:00  1.5700  1.5600  1.57  1.560   2938\n",
      "602     ADVM  2023-07-03 13:00:00  1.5600  1.5600  1.56  1.560   2370\n",
      "\n",
      "[603 rows x 7 columns]\n",
      "(603, 7)\n",
      "   percent  name                        ts_code\n",
      "0        0  ADVM  Adverum Biotechnologies, Inc.\n"
     ]
    },
    {
     "name": "stderr",
     "output_type": "stream",
     "text": [
      "/Users/zhangwenbo/miniforge3/lib/python3.10/site-packages/cashare/minute_data.py:96: FutureWarning: The frame.append method is deprecated and will be removed from pandas in a future version. Use pandas.concat instead.\n",
      "  df = df.append(lsss, ignore_index=True)\n",
      "/Users/zhangwenbo/miniforge3/lib/python3.10/site-packages/cashare/minute_data.py:96: FutureWarning: The frame.append method is deprecated and will be removed from pandas in a future version. Use pandas.concat instead.\n",
      "  df = df.append(lsss, ignore_index=True)\n"
     ]
    },
    {
     "name": "stdout",
     "output_type": "stream",
     "text": [
      "  stock_id                 date    open     low    high   close volume\n",
      "0    ADVWW  2023-06-29 09:30:00  0.1200  0.1200  0.1200  0.1200    236\n",
      "1    ADVWW  2023-06-29 15:52:00  0.1274  0.1274  0.1275  0.1275   2341\n",
      "2    ADVWW  2023-06-29 15:56:00  0.1250  0.1250  0.1250  0.1250    100\n",
      "3    ADVWW  2023-06-29 15:58:00  0.1274  0.1274  0.1274  0.1274    500\n",
      "4    ADVWW  2023-06-30 09:51:00  0.1300  0.1300  0.1300  0.1300    100\n",
      "5    ADVWW  2023-07-03 09:39:00  0.1250  0.1250  0.1250  0.1250   1559\n",
      "6    ADVWW  2023-07-03 09:42:00  0.1238  0.1238  0.1250  0.1250   2047\n",
      "7    ADVWW  2023-07-03 10:25:00  0.1300  0.1300  0.1300  0.1300    100\n",
      "8    ADVWW  2023-07-03 12:31:00  0.1363  0.1363  0.1363  0.1363    100\n",
      "(9, 7)\n"
     ]
    },
    {
     "name": "stderr",
     "output_type": "stream",
     "text": [
      "/Users/zhangwenbo/miniforge3/lib/python3.10/site-packages/cashare/minute_data.py:96: FutureWarning: The frame.append method is deprecated and will be removed from pandas in a future version. Use pandas.concat instead.\n",
      "  df = df.append(lsss, ignore_index=True)\n",
      "/Users/zhangwenbo/miniforge3/lib/python3.10/site-packages/cashare/minute_data.py:96: FutureWarning: The frame.append method is deprecated and will be removed from pandas in a future version. Use pandas.concat instead.\n",
      "  df = df.append(lsss, ignore_index=True)\n"
     ]
    },
    {
     "name": "stdout",
     "output_type": "stream",
     "text": [
      "    stock_id                 date     open      low   high   close volume\n",
      "0        ADX  2023-06-29 09:30:00  16.5800  16.5800  16.58  16.580   1054\n",
      "1        ADX  2023-06-29 09:40:00  16.6000  16.5850  16.60  16.585    200\n",
      "2        ADX  2023-06-29 09:54:00  16.5837  16.5837  16.59  16.590    270\n",
      "3        ADX  2023-06-29 10:07:00  16.5800  16.5800  16.58  16.580    208\n",
      "4        ADX  2023-06-29 10:11:00  16.6000  16.6000  16.60  16.600    405\n",
      "..       ...                  ...      ...      ...    ...     ...    ...\n",
      "212      ADX  2023-07-03 12:58:00  16.9100  16.9100  16.92  16.915    400\n",
      "213      ADX  2023-07-03 12:59:00  16.9150  16.9100  16.92  16.910    454\n",
      "214      ADX  2023-07-03 13:00:00  16.9200  16.9200  16.92  16.920   1671\n",
      "215      ADX  2023-07-03 13:10:00  16.9200  16.9200  16.92  16.920      0\n",
      "216      ADX  2023-07-03 15:30:00  16.9200  16.9200  16.92  16.920      0\n",
      "\n",
      "[217 rows x 7 columns]\n",
      "(217, 7)\n",
      "   percent name                              ts_code\n",
      "0        0  ADX  Adams Diversified Equity Fund, Inc.\n"
     ]
    },
    {
     "name": "stderr",
     "output_type": "stream",
     "text": [
      "/Users/zhangwenbo/miniforge3/lib/python3.10/site-packages/cashare/minute_data.py:96: FutureWarning: The frame.append method is deprecated and will be removed from pandas in a future version. Use pandas.concat instead.\n",
      "  df = df.append(lsss, ignore_index=True)\n",
      "/Users/zhangwenbo/miniforge3/lib/python3.10/site-packages/cashare/minute_data.py:96: FutureWarning: The frame.append method is deprecated and will be removed from pandas in a future version. Use pandas.concat instead.\n",
      "  df = df.append(lsss, ignore_index=True)\n"
     ]
    },
    {
     "name": "stdout",
     "output_type": "stream",
     "text": [
      "    stock_id                 date     open      low     high    close volume\n",
      "0       ADXN  2023-06-29 09:33:00  0.62480  0.62480  0.62480  0.62480    321\n",
      "1       ADXN  2023-06-29 10:25:00  0.65990  0.65990  0.65990  0.65990    100\n",
      "2       ADXN  2023-06-29 10:26:00  0.64000  0.64000  0.64000  0.64000    100\n",
      "3       ADXN  2023-06-29 10:29:00  0.62200  0.61710  0.62200  0.61710   2000\n",
      "4       ADXN  2023-06-29 10:30:00  0.63310  0.63310  0.63310  0.63310   1005\n",
      "..       ...                  ...      ...      ...      ...      ...    ...\n",
      "261     ADXN  2023-07-03 12:39:00  0.58125  0.58125  0.58125  0.58125    100\n",
      "262     ADXN  2023-07-03 12:41:00  0.58000  0.58000  0.58000  0.58000    100\n",
      "263     ADXN  2023-07-03 12:44:00  0.57050  0.56000  0.57650  0.56000   8036\n",
      "264     ADXN  2023-07-03 12:49:00  0.56000  0.56000  0.56000  0.56000   1000\n",
      "265     ADXN  2023-07-03 12:59:00  0.58000  0.58000  0.58100  0.58050    600\n",
      "\n",
      "[266 rows x 7 columns]\n",
      "(266, 7)\n",
      "   percent  name                 ts_code\n",
      "0        1  ADXN  Addex Therapeutics Ltd\n"
     ]
    },
    {
     "name": "stderr",
     "output_type": "stream",
     "text": [
      "/Users/zhangwenbo/miniforge3/lib/python3.10/site-packages/cashare/minute_data.py:96: FutureWarning: The frame.append method is deprecated and will be removed from pandas in a future version. Use pandas.concat instead.\n",
      "  df = df.append(lsss, ignore_index=True)\n",
      "/Users/zhangwenbo/miniforge3/lib/python3.10/site-packages/cashare/minute_data.py:96: FutureWarning: The frame.append method is deprecated and will be removed from pandas in a future version. Use pandas.concat instead.\n",
      "  df = df.append(lsss, ignore_index=True)\n"
     ]
    },
    {
     "name": "stdout",
     "output_type": "stream",
     "text": [
      "   stock_id                 date     open      low     high    close volume\n",
      "0        AE  2023-06-29 10:46:00  34.9500  34.9500  34.9500  34.9500    115\n",
      "1        AE  2023-06-29 10:53:00  35.1600  35.1600  35.1600  35.1600    302\n",
      "2        AE  2023-06-29 11:40:00  35.1700  35.1700  35.1700  35.1700    105\n",
      "3        AE  2023-06-29 13:02:00  35.3999  35.3999  35.3999  35.3999    100\n",
      "4        AE  2023-06-29 13:32:00  35.6680  35.5600  35.6690  35.6690    714\n",
      "5        AE  2023-06-29 13:34:00  35.4000  35.4000  35.5000  35.5000    451\n",
      "6        AE  2023-06-29 13:35:00  35.5100  34.2500  35.5290  34.2500   3304\n",
      "7        AE  2023-06-29 13:51:00  34.0000  34.0000  34.0000  34.0000    551\n",
      "8        AE  2023-06-29 15:23:00  34.4800  34.4800  34.4800  34.4800    171\n",
      "9        AE  2023-06-29 15:50:00  34.3742  34.3742  34.3742  34.3742    153\n",
      "10       AE  2023-06-30 10:14:00  34.3800  34.3800  34.3800  34.3800    568\n",
      "11       AE  2023-06-30 10:15:00  34.3700  34.3700  34.3701  34.3701    652\n",
      "12       AE  2023-06-30 10:16:00  34.4100  34.4100  34.4300  34.4100    698\n",
      "13       AE  2023-06-30 10:21:00  34.7800  34.7100  34.7800  34.7100    213\n",
      "14       AE  2023-06-30 10:26:00  34.9200  34.9200  34.9200  34.9200    160\n",
      "15       AE  2023-06-30 10:27:00  35.4888  35.4888  35.4888  35.4888    501\n",
      "16       AE  2023-06-30 10:34:00  34.4500  34.4250  34.4500  34.4250    570\n",
      "17       AE  2023-06-30 13:11:00  34.5800  34.5800  34.5800  34.5800    433\n",
      "18       AE  2023-06-30 13:53:00  34.5800  34.5800  34.5800  34.5800    525\n",
      "19       AE  2023-06-30 13:54:00  34.5400  34.5000  34.5400  34.5000    707\n",
      "20       AE  2023-06-30 13:55:00  34.5000  34.5000  34.5000  34.5000    572\n",
      "21       AE  2023-06-30 14:00:00  34.5000  34.5000  34.5000  34.5000    454\n",
      "22       AE  2023-06-30 14:34:00  34.5000  34.5000  34.5000  34.5000    365\n",
      "23       AE  2023-06-30 15:06:00  34.5000  34.5000  34.5000  34.5000   1359\n",
      "24       AE  2023-06-30 15:07:00  34.5000  34.5000  34.5000  34.5000    200\n",
      "25       AE  2023-06-30 15:11:00  34.5000  34.4900  34.5000  34.4900   1042\n",
      "26       AE  2023-06-30 15:12:00  34.5000  34.5000  34.5000  34.5000    223\n",
      "27       AE  2023-06-30 15:29:00  34.6912  34.6912  34.6912  34.6912    258\n",
      "28       AE  2023-06-30 15:43:00  34.7200  34.7200  34.7200  34.7200    364\n",
      "29       AE  2023-06-30 15:50:00  34.8800  34.8800  34.8800  34.8800    142\n",
      "30       AE  2023-06-30 15:52:00  35.0000  35.0000  35.0000  35.0000    159\n",
      "31       AE  2023-07-03 10:03:00  35.0350  35.0350  35.0350  35.0350    176\n",
      "32       AE  2023-07-03 10:19:00  34.6600  34.6600  34.6600  34.6600    108\n",
      "33       AE  2023-07-03 12:55:00  34.9900  34.9900  34.9900  34.9900    118\n",
      "34       AE  2023-07-03 13:10:00  34.9900  34.9900  34.9900  34.9900      0\n",
      "35       AE  2023-07-03 15:30:00  34.9900  34.9900  34.9900  34.9900      0\n",
      "(36, 7)\n",
      "Empty DataFrame\n",
      "Columns: []\n",
      "Index: []\n",
      "(0, 0)\n",
      "Empty DataFrame\n",
      "Columns: []\n",
      "Index: []\n",
      "(0, 0)\n",
      "Empty DataFrame\n",
      "Columns: []\n",
      "Index: []\n",
      "(0, 0)\n"
     ]
    },
    {
     "name": "stderr",
     "output_type": "stream",
     "text": [
      "/Users/zhangwenbo/miniforge3/lib/python3.10/site-packages/cashare/minute_data.py:96: FutureWarning: The frame.append method is deprecated and will be removed from pandas in a future version. Use pandas.concat instead.\n",
      "  df = df.append(lsss, ignore_index=True)\n"
     ]
    },
    {
     "name": "stdout",
     "output_type": "stream",
     "text": [
      "  stock_id                 date  open   low  high  close volume\n",
      "0     AEAE  2023-07-03 10:11:00  10.4  10.4  10.4   10.4    100\n",
      "(1, 7)\n"
     ]
    },
    {
     "name": "stderr",
     "output_type": "stream",
     "text": [
      "/Users/zhangwenbo/miniforge3/lib/python3.10/site-packages/cashare/minute_data.py:96: FutureWarning: The frame.append method is deprecated and will be removed from pandas in a future version. Use pandas.concat instead.\n",
      "  df = df.append(lsss, ignore_index=True)\n"
     ]
    },
    {
     "name": "stdout",
     "output_type": "stream",
     "text": [
      "  stock_id                 date   open    low   high  close volume\n",
      "0    AEAEU  2023-06-29 15:01:00  10.42  10.42  10.42  10.42    200\n",
      "(1, 7)\n"
     ]
    },
    {
     "name": "stderr",
     "output_type": "stream",
     "text": [
      "/Users/zhangwenbo/miniforge3/lib/python3.10/site-packages/cashare/minute_data.py:96: FutureWarning: The frame.append method is deprecated and will be removed from pandas in a future version. Use pandas.concat instead.\n",
      "  df = df.append(lsss, ignore_index=True)\n",
      "/Users/zhangwenbo/miniforge3/lib/python3.10/site-packages/cashare/minute_data.py:96: FutureWarning: The frame.append method is deprecated and will be removed from pandas in a future version. Use pandas.concat instead.\n",
      "  df = df.append(lsss, ignore_index=True)\n"
     ]
    },
    {
     "name": "stdout",
     "output_type": "stream",
     "text": [
      "   stock_id                 date    open     low    high     close volume\n",
      "0     AEAEW  2023-06-29 10:34:00  0.0503  0.0400  0.0503  0.040100   8000\n",
      "1     AEAEW  2023-06-29 10:44:00  0.0370  0.0370  0.0370  0.037000    100\n",
      "2     AEAEW  2023-06-29 10:47:00  0.0370  0.0370  0.0370  0.037000   4200\n",
      "3     AEAEW  2023-06-29 10:54:00  0.0357  0.0310  0.0357  0.031000   2480\n",
      "4     AEAEW  2023-06-29 10:58:00  0.0280  0.0203  0.0284  0.020500   7190\n",
      "..      ...                  ...     ...     ...     ...       ...    ...\n",
      "65    AEAEW  2023-07-03 10:44:00  0.0510  0.0510  0.0510  0.051000    200\n",
      "66    AEAEW  2023-07-03 11:23:00  0.0520  0.0520  0.0520  0.052000    100\n",
      "67    AEAEW  2023-07-03 11:24:00  0.0530  0.0530  0.0530  0.053000    100\n",
      "68    AEAEW  2023-07-03 11:59:00  0.0530  0.0530  0.0530  0.053000    100\n",
      "69    AEAEW  2023-07-03 12:49:00  0.0640  0.0612  0.0750  0.070051   4776\n",
      "\n",
      "[70 rows x 7 columns]\n",
      "(70, 7)\n"
     ]
    },
    {
     "name": "stderr",
     "output_type": "stream",
     "text": [
      "/Users/zhangwenbo/miniforge3/lib/python3.10/site-packages/cashare/minute_data.py:96: FutureWarning: The frame.append method is deprecated and will be removed from pandas in a future version. Use pandas.concat instead.\n",
      "  df = df.append(lsss, ignore_index=True)\n",
      "/Users/zhangwenbo/miniforge3/lib/python3.10/site-packages/cashare/minute_data.py:96: FutureWarning: The frame.append method is deprecated and will be removed from pandas in a future version. Use pandas.concat instead.\n",
      "  df = df.append(lsss, ignore_index=True)\n"
     ]
    },
    {
     "name": "stdout",
     "output_type": "stream",
     "text": [
      "    stock_id                 date   open    low   high    close volume\n",
      "0        AEE  2023-06-29 09:30:00  80.21  79.94  80.29  80.1700   9809\n",
      "1        AEE  2023-06-29 09:31:00  80.09  80.01  80.14  80.1012   1971\n",
      "2        AEE  2023-06-29 09:32:00  80.22  80.16  80.30  80.1700    744\n",
      "3        AEE  2023-06-29 09:33:00  80.12  80.12  80.31  80.3100    675\n",
      "4        AEE  2023-06-29 09:34:00  80.32  80.32  80.32  80.3200    421\n",
      "..       ...                  ...    ...    ...    ...      ...    ...\n",
      "934      AEE  2023-07-03 12:58:00  82.78  82.78  82.82  82.8200   4473\n",
      "935      AEE  2023-07-03 12:59:00  82.83  82.77  82.85  82.8100  16235\n",
      "936      AEE  2023-07-03 13:00:00  82.85  82.85  82.85  82.8500  91716\n",
      "937      AEE  2023-07-03 13:10:00  82.85  82.85  82.85  82.8500      0\n",
      "938      AEE  2023-07-03 15:30:00  82.85  82.85  82.85  82.8500      0\n",
      "\n",
      "[939 rows x 7 columns]\n",
      "(939, 7)\n",
      "   percent name             ts_code\n",
      "0        1  AEE  Ameren Corporation\n"
     ]
    },
    {
     "name": "stderr",
     "output_type": "stream",
     "text": [
      "/Users/zhangwenbo/miniforge3/lib/python3.10/site-packages/cashare/minute_data.py:96: FutureWarning: The frame.append method is deprecated and will be removed from pandas in a future version. Use pandas.concat instead.\n",
      "  df = df.append(lsss, ignore_index=True)\n",
      "/Users/zhangwenbo/miniforge3/lib/python3.10/site-packages/cashare/minute_data.py:96: FutureWarning: The frame.append method is deprecated and will be removed from pandas in a future version. Use pandas.concat instead.\n",
      "  df = df.append(lsss, ignore_index=True)\n"
     ]
    },
    {
     "name": "stdout",
     "output_type": "stream",
     "text": [
      "    stock_id                 date     open      low     high    close volume\n",
      "0       AEFC  2023-06-29 09:30:00  21.2800  21.2200  21.2800  21.2200   1391\n",
      "1       AEFC  2023-06-29 09:32:00  21.2450  21.2450  21.2450  21.2450    100\n",
      "2       AEFC  2023-06-29 09:43:00  21.2600  21.1800  21.2600  21.2100    441\n",
      "3       AEFC  2023-06-29 09:47:00  21.2800  21.1000  21.2800  21.1000   2965\n",
      "4       AEFC  2023-06-29 09:57:00  21.2800  21.2800  21.2800  21.2800    300\n",
      "..       ...                  ...      ...      ...      ...      ...    ...\n",
      "99      AEFC  2023-07-03 12:49:00  21.4399  21.4399  21.4399  21.4399    240\n",
      "100     AEFC  2023-07-03 12:56:00  21.3900  21.3805  21.3900  21.3805    200\n",
      "101     AEFC  2023-07-03 13:00:00  21.3700  21.3700  21.3700  21.3700    119\n",
      "102     AEFC  2023-07-03 13:10:00  21.3700  21.3700  21.3700  21.3700      0\n",
      "103     AEFC  2023-07-03 15:30:00  21.3700  21.3700  21.3700  21.3700      0\n",
      "\n",
      "[104 rows x 7 columns]\n",
      "(104, 7)\n",
      "   percent  name                    ts_code\n",
      "0        0  AEFC  Aegon Funding Company LLC\n"
     ]
    },
    {
     "name": "stderr",
     "output_type": "stream",
     "text": [
      "/Users/zhangwenbo/miniforge3/lib/python3.10/site-packages/cashare/minute_data.py:96: FutureWarning: The frame.append method is deprecated and will be removed from pandas in a future version. Use pandas.concat instead.\n",
      "  df = df.append(lsss, ignore_index=True)\n",
      "/Users/zhangwenbo/miniforge3/lib/python3.10/site-packages/cashare/minute_data.py:96: FutureWarning: The frame.append method is deprecated and will be removed from pandas in a future version. Use pandas.concat instead.\n",
      "  df = df.append(lsss, ignore_index=True)\n"
     ]
    },
    {
     "name": "stdout",
     "output_type": "stream",
     "text": [
      "    stock_id                 date    open     low   high   close  volume\n",
      "0        AEG  2023-06-29 09:30:00  4.9600  4.9500  4.960  4.9600   23511\n",
      "1        AEG  2023-06-29 09:31:00  4.9550  4.9550  4.965  4.9650    3517\n",
      "2        AEG  2023-06-29 09:32:00  4.9650  4.9650  4.965  4.9650    2706\n",
      "3        AEG  2023-06-29 09:35:00  4.9628  4.9628  4.970  4.9650    8625\n",
      "4        AEG  2023-06-29 09:36:00  4.9700  4.9700  4.990  4.9900  102067\n",
      "..       ...                  ...     ...     ...    ...     ...     ...\n",
      "842      AEG  2023-07-03 12:58:00  5.1200  5.1100  5.120  5.1125    1763\n",
      "843      AEG  2023-07-03 12:59:00  5.1200  5.1100  5.120  5.1200   72087\n",
      "844      AEG  2023-07-03 13:00:00  5.1100  5.1100  5.110  5.1100   35095\n",
      "845      AEG  2023-07-03 13:10:00  5.1100  5.1100  5.110  5.1100       0\n",
      "846      AEG  2023-07-03 15:30:00  5.1100  5.1100  5.110  5.1100       0\n",
      "\n",
      "[847 rows x 7 columns]\n",
      "(847, 7)\n",
      "   percent name     ts_code\n",
      "0        0  AEG  Aegon N.V.\n",
      "Empty DataFrame\n",
      "Columns: []\n",
      "Index: []\n",
      "(0, 0)\n",
      "Empty DataFrame\n",
      "Columns: []\n",
      "Index: []\n",
      "(0, 0)\n",
      "Empty DataFrame\n",
      "Columns: []\n",
      "Index: []\n",
      "(0, 0)\n"
     ]
    },
    {
     "name": "stderr",
     "output_type": "stream",
     "text": [
      "/Users/zhangwenbo/miniforge3/lib/python3.10/site-packages/cashare/minute_data.py:96: FutureWarning: The frame.append method is deprecated and will be removed from pandas in a future version. Use pandas.concat instead.\n",
      "  df = df.append(lsss, ignore_index=True)\n",
      "/Users/zhangwenbo/miniforge3/lib/python3.10/site-packages/cashare/minute_data.py:96: FutureWarning: The frame.append method is deprecated and will be removed from pandas in a future version. Use pandas.concat instead.\n",
      "  df = df.append(lsss, ignore_index=True)\n"
     ]
    },
    {
     "name": "stdout",
     "output_type": "stream",
     "text": [
      "    stock_id                 date    open     low    high   close volume\n",
      "0       AEHL  2023-06-29 09:30:00  0.9200  0.9200  0.9200  0.9200    228\n",
      "1       AEHL  2023-06-29 09:34:00  0.9000  0.9000  0.9200  0.9200    400\n",
      "2       AEHL  2023-06-29 09:35:00  0.8803  0.8803  0.8803  0.8803   3000\n",
      "3       AEHL  2023-06-29 09:36:00  0.8800  0.8800  0.9200  0.9200   3100\n",
      "4       AEHL  2023-06-29 09:37:00  0.8801  0.8801  0.9200  0.9198   8405\n",
      "..       ...                  ...     ...     ...     ...     ...    ...\n",
      "159     AEHL  2023-07-03 12:55:00  0.8450  0.8450  0.8598  0.8598    420\n",
      "160     AEHL  2023-07-03 12:56:00  0.8300  0.8300  0.8300  0.8300    131\n",
      "161     AEHL  2023-07-03 12:57:00  0.8598  0.8598  0.8598  0.8598    140\n",
      "162     AEHL  2023-07-03 12:58:00  0.8445  0.8445  0.8598  0.8598    389\n",
      "163     AEHL  2023-07-03 12:59:00  0.8598  0.8445  0.8598  0.8597   1714\n",
      "\n",
      "[164 rows x 7 columns]\n",
      "(164, 7)\n",
      "   percent  name                               ts_code\n",
      "0        1  AEHL  Antelope Enterprise Holdings Limited\n"
     ]
    },
    {
     "name": "stderr",
     "output_type": "stream",
     "text": [
      "/Users/zhangwenbo/miniforge3/lib/python3.10/site-packages/cashare/minute_data.py:96: FutureWarning: The frame.append method is deprecated and will be removed from pandas in a future version. Use pandas.concat instead.\n",
      "  df = df.append(lsss, ignore_index=True)\n",
      "/Users/zhangwenbo/miniforge3/lib/python3.10/site-packages/cashare/minute_data.py:96: FutureWarning: The frame.append method is deprecated and will be removed from pandas in a future version. Use pandas.concat instead.\n",
      "  df = df.append(lsss, ignore_index=True)\n"
     ]
    },
    {
     "name": "stdout",
     "output_type": "stream",
     "text": [
      "    stock_id                 date     open      low    high   close volume\n",
      "0       AEHR  2023-06-29 09:30:00  39.9100  39.9100  40.085  40.050   6167\n",
      "1       AEHR  2023-06-29 09:31:00  39.8553  39.8553  40.060  40.050    985\n",
      "2       AEHR  2023-06-29 09:32:00  39.8850  39.8850  39.895  39.895    970\n",
      "3       AEHR  2023-06-29 09:33:00  39.9850  39.9850  39.985  39.985    153\n",
      "4       AEHR  2023-06-29 09:34:00  39.9500  39.9500  40.580  40.570   7468\n",
      "..       ...                  ...      ...      ...     ...     ...    ...\n",
      "928     AEHR  2023-07-03 12:56:00  43.9100  43.9100  44.080  44.050  19584\n",
      "929     AEHR  2023-07-03 12:57:00  44.0500  44.0500  44.140  44.100  12250\n",
      "930     AEHR  2023-07-03 12:58:00  44.1100  44.0800  44.180  44.170  19571\n",
      "931     AEHR  2023-07-03 12:59:00  44.1700  44.1500  44.240  44.240  27066\n",
      "932     AEHR  2023-07-03 13:00:00  44.2400  44.2400  44.240  44.240  48731\n",
      "\n",
      "[933 rows x 7 columns]\n",
      "(933, 7)\n",
      "   percent  name            ts_code\n",
      "0        1  AEHR  Aehr Test Systems\n"
     ]
    },
    {
     "name": "stderr",
     "output_type": "stream",
     "text": [
      "/Users/zhangwenbo/miniforge3/lib/python3.10/site-packages/cashare/minute_data.py:96: FutureWarning: The frame.append method is deprecated and will be removed from pandas in a future version. Use pandas.concat instead.\n",
      "  df = df.append(lsss, ignore_index=True)\n",
      "/Users/zhangwenbo/miniforge3/lib/python3.10/site-packages/cashare/minute_data.py:96: FutureWarning: The frame.append method is deprecated and will be removed from pandas in a future version. Use pandas.concat instead.\n",
      "  df = df.append(lsss, ignore_index=True)\n"
     ]
    },
    {
     "name": "stdout",
     "output_type": "stream",
     "text": [
      "    stock_id                 date    open     low    high   close volume\n",
      "0        AEI  2023-06-29 09:30:00  1.7200  1.6500  1.7200  1.6500   7248\n",
      "1        AEI  2023-06-29 09:35:00  1.6650  1.6500  1.6700  1.6700    545\n",
      "2        AEI  2023-06-29 09:42:00  1.6500  1.6500  1.6500  1.6500    200\n",
      "3        AEI  2023-06-29 09:46:00  1.6700  1.6699  1.6800  1.6699   3581\n",
      "4        AEI  2023-06-29 09:47:00  1.6950  1.6950  1.6950  1.6950    371\n",
      "..       ...                  ...     ...     ...     ...     ...    ...\n",
      "189      AEI  2023-07-03 12:39:00  1.6801  1.6801  1.6801  1.6801    692\n",
      "190      AEI  2023-07-03 12:45:00  1.6800  1.6800  1.6800  1.6800    392\n",
      "191      AEI  2023-07-03 12:46:00  1.6700  1.6700  1.6700  1.6700    337\n",
      "192      AEI  2023-07-03 12:58:00  1.6800  1.6800  1.6850  1.6850    600\n",
      "193      AEI  2023-07-03 12:59:00  1.6800  1.6800  1.6800  1.6800    154\n",
      "\n",
      "[194 rows x 7 columns]\n",
      "(194, 7)\n",
      "   percent name                         ts_code\n",
      "0        0  AEI  Alset EHome International Inc.\n"
     ]
    },
    {
     "name": "stderr",
     "output_type": "stream",
     "text": [
      "/Users/zhangwenbo/miniforge3/lib/python3.10/site-packages/cashare/minute_data.py:96: FutureWarning: The frame.append method is deprecated and will be removed from pandas in a future version. Use pandas.concat instead.\n",
      "  df = df.append(lsss, ignore_index=True)\n",
      "/Users/zhangwenbo/miniforge3/lib/python3.10/site-packages/cashare/minute_data.py:96: FutureWarning: The frame.append method is deprecated and will be removed from pandas in a future version. Use pandas.concat instead.\n",
      "  df = df.append(lsss, ignore_index=True)\n"
     ]
    },
    {
     "name": "stdout",
     "output_type": "stream",
     "text": [
      "    stock_id                 date     open      low     high    close volume\n",
      "0       AEIS  2023-06-29 09:30:00  109.790  109.790  109.790  109.790   2953\n",
      "1       AEIS  2023-06-29 09:31:00  109.040  109.040  109.040  109.040    101\n",
      "2       AEIS  2023-06-29 09:33:00  108.650  108.600  108.650  108.600    211\n",
      "3       AEIS  2023-06-29 09:36:00  108.510  108.470  108.510  108.470    207\n",
      "4       AEIS  2023-06-29 09:38:00  109.125  109.125  109.125  109.125    115\n",
      "..       ...                  ...      ...      ...      ...      ...    ...\n",
      "272     AEIS  2023-07-03 12:55:00  111.340  111.290  111.340  111.315    980\n",
      "273     AEIS  2023-07-03 12:56:00  111.270  111.270  111.270  111.270    665\n",
      "274     AEIS  2023-07-03 12:58:00  111.340  111.340  111.340  111.340   1241\n",
      "275     AEIS  2023-07-03 12:59:00  111.380  111.350  111.380  111.350   2049\n",
      "276     AEIS  2023-07-03 13:00:00  111.370  111.370  111.370  111.370   8527\n",
      "\n",
      "[277 rows x 7 columns]\n",
      "(277, 7)\n",
      "   percent  name                           ts_code\n",
      "0        1  AEIS  Advanced Energy Industries, Inc.\n"
     ]
    },
    {
     "name": "stderr",
     "output_type": "stream",
     "text": [
      "/Users/zhangwenbo/miniforge3/lib/python3.10/site-packages/cashare/minute_data.py:96: FutureWarning: The frame.append method is deprecated and will be removed from pandas in a future version. Use pandas.concat instead.\n",
      "  df = df.append(lsss, ignore_index=True)\n",
      "/Users/zhangwenbo/miniforge3/lib/python3.10/site-packages/cashare/minute_data.py:96: FutureWarning: The frame.append method is deprecated and will be removed from pandas in a future version. Use pandas.concat instead.\n",
      "  df = df.append(lsss, ignore_index=True)\n"
     ]
    },
    {
     "name": "stdout",
     "output_type": "stream",
     "text": [
      "    stock_id                 date   open    low   high    close volume\n",
      "0        AEL  2023-06-29 09:30:00  52.55  52.55  52.81  52.7900  21117\n",
      "1        AEL  2023-06-29 09:31:00  52.72  52.69  52.79  52.7700   3806\n",
      "2        AEL  2023-06-29 09:32:00  52.76  52.72  52.76  52.7200   1001\n",
      "3        AEL  2023-06-29 09:33:00  52.74  52.74  52.78  52.7800    729\n",
      "4        AEL  2023-06-29 09:34:00  52.71  52.71  52.75  52.7500   1637\n",
      "..       ...                  ...    ...    ...    ...      ...    ...\n",
      "936      AEL  2023-07-03 12:58:00  51.77  51.75  51.78  51.7536  28790\n",
      "937      AEL  2023-07-03 12:59:00  51.76  51.73  51.79  51.7900  10148\n",
      "938      AEL  2023-07-03 13:00:00  51.75  51.75  51.75  51.7500  41985\n",
      "939      AEL  2023-07-03 13:10:00  51.75  51.75  51.75  51.7500      0\n",
      "940      AEL  2023-07-03 15:30:00  51.75  51.75  51.75  51.7500      0\n",
      "\n",
      "[941 rows x 7 columns]\n",
      "(941, 7)\n",
      "   percent name                                          ts_code\n",
      "0        1  AEL  American Equity Investment Life Holding Company\n"
     ]
    },
    {
     "name": "stderr",
     "output_type": "stream",
     "text": [
      "/Users/zhangwenbo/miniforge3/lib/python3.10/site-packages/cashare/minute_data.py:96: FutureWarning: The frame.append method is deprecated and will be removed from pandas in a future version. Use pandas.concat instead.\n",
      "  df = df.append(lsss, ignore_index=True)\n",
      "/Users/zhangwenbo/miniforge3/lib/python3.10/site-packages/cashare/minute_data.py:96: FutureWarning: The frame.append method is deprecated and will be removed from pandas in a future version. Use pandas.concat instead.\n",
      "  df = df.append(lsss, ignore_index=True)\n"
     ]
    },
    {
     "name": "stdout",
     "output_type": "stream",
     "text": [
      "    stock_id                 date     open     low     high   close volume\n",
      "0     AEL-PA  2023-06-29 09:30:00  22.2400  22.240  22.2400  22.240    272\n",
      "1     AEL-PA  2023-06-29 11:41:00  22.2799  22.125  22.2799  22.125   1731\n",
      "2     AEL-PA  2023-06-29 11:42:00  22.1600  22.060  22.1600  22.060   1358\n",
      "3     AEL-PA  2023-06-29 11:43:00  22.0600  21.970  22.0600  21.970   2398\n",
      "4     AEL-PA  2023-06-29 11:44:00  21.9900  21.970  22.0600  22.060    400\n",
      "..       ...                  ...      ...     ...      ...     ...    ...\n",
      "127   AEL-PA  2023-07-03 12:57:00  21.3900  21.390  21.3900  21.390    700\n",
      "128   AEL-PA  2023-07-03 12:58:00  21.3500  21.350  21.3500  21.350    400\n",
      "129   AEL-PA  2023-07-03 13:00:00  21.5700  21.570  21.5700  21.570    111\n",
      "130   AEL-PA  2023-07-03 13:10:00  21.5700  21.570  21.5700  21.570      0\n",
      "131   AEL-PA  2023-07-03 15:30:00  21.5700  21.570  21.5700  21.570      0\n",
      "\n",
      "[132 rows x 7 columns]\n",
      "(132, 7)\n",
      "   percent    name                                          ts_code\n",
      "0        0  AEL-PA  American Equity Investment Life Holding Company\n"
     ]
    },
    {
     "name": "stderr",
     "output_type": "stream",
     "text": [
      "/Users/zhangwenbo/miniforge3/lib/python3.10/site-packages/cashare/minute_data.py:96: FutureWarning: The frame.append method is deprecated and will be removed from pandas in a future version. Use pandas.concat instead.\n",
      "  df = df.append(lsss, ignore_index=True)\n",
      "/Users/zhangwenbo/miniforge3/lib/python3.10/site-packages/cashare/minute_data.py:96: FutureWarning: The frame.append method is deprecated and will be removed from pandas in a future version. Use pandas.concat instead.\n",
      "  df = df.append(lsss, ignore_index=True)\n"
     ]
    },
    {
     "name": "stdout",
     "output_type": "stream",
     "text": [
      "    stock_id                 date   open    low   high  close volume\n",
      "0     AEL-PB  2023-06-29 09:30:00  23.73  23.73  23.73  23.73    368\n",
      "1     AEL-PB  2023-06-29 09:40:00  23.59  23.59  23.59  23.59    100\n",
      "2     AEL-PB  2023-06-29 10:42:00  23.42  23.42  23.42  23.42    100\n",
      "3     AEL-PB  2023-06-29 11:18:00  23.39  23.39  23.39  23.39    100\n",
      "4     AEL-PB  2023-06-29 11:24:00  23.39  23.39  23.39  23.39    200\n",
      "..       ...                  ...    ...    ...    ...    ...    ...\n",
      "120   AEL-PB  2023-07-03 12:53:00  23.14  23.14  23.14  23.14    100\n",
      "121   AEL-PB  2023-07-03 12:56:00  23.22  23.22  23.22  23.22    100\n",
      "122   AEL-PB  2023-07-03 12:59:00  23.21  23.21  23.21  23.21    189\n",
      "123   AEL-PB  2023-07-03 13:10:00  23.21  23.21  23.21  23.21      0\n",
      "124   AEL-PB  2023-07-03 15:30:00  23.21  23.21  23.21  23.21      0\n",
      "\n",
      "[125 rows x 7 columns]\n",
      "(125, 7)\n",
      "   percent    name                                          ts_code\n",
      "0        0  AEL-PB  American Equity Investment Life Holding Company\n"
     ]
    },
    {
     "name": "stderr",
     "output_type": "stream",
     "text": [
      "/Users/zhangwenbo/miniforge3/lib/python3.10/site-packages/cashare/minute_data.py:96: FutureWarning: The frame.append method is deprecated and will be removed from pandas in a future version. Use pandas.concat instead.\n",
      "  df = df.append(lsss, ignore_index=True)\n",
      "/Users/zhangwenbo/miniforge3/lib/python3.10/site-packages/cashare/minute_data.py:96: FutureWarning: The frame.append method is deprecated and will be removed from pandas in a future version. Use pandas.concat instead.\n",
      "  df = df.append(lsss, ignore_index=True)\n"
     ]
    },
    {
     "name": "stdout",
     "output_type": "stream",
     "text": [
      "    stock_id                 date    open    low     high   close volume\n",
      "0        AEM  2023-06-29 09:30:00  48.000  47.84  48.0500  48.050  46063\n",
      "1        AEM  2023-06-29 09:31:00  48.070  48.01  48.1200  48.030  11128\n",
      "2        AEM  2023-06-29 09:32:00  48.020  48.02  48.1400  48.050   6051\n",
      "3        AEM  2023-06-29 09:33:00  48.050  48.05  48.1300  48.090  10197\n",
      "4        AEM  2023-06-29 09:34:00  48.100  48.07  48.1400  48.110  12073\n",
      "..       ...                  ...     ...    ...      ...     ...    ...\n",
      "988      AEM  2023-07-03 12:58:00  50.525  50.52  50.5479  50.535  10991\n",
      "989      AEM  2023-07-03 12:59:00  50.535  50.52  50.5400  50.530  17303\n",
      "990      AEM  2023-07-03 13:00:00  50.520  50.52  50.5200  50.520  28013\n",
      "991      AEM  2023-07-03 13:10:00  50.520  50.52  50.5200  50.520      0\n",
      "992      AEM  2023-07-03 15:30:00  50.520  50.52  50.5200  50.520      0\n",
      "\n",
      "[993 rows x 7 columns]\n",
      "(993, 7)\n",
      "   percent name                     ts_code\n",
      "0        0  AEM  Agnico Eagle Mines Limited\n"
     ]
    },
    {
     "name": "stderr",
     "output_type": "stream",
     "text": [
      "/Users/zhangwenbo/miniforge3/lib/python3.10/site-packages/cashare/minute_data.py:96: FutureWarning: The frame.append method is deprecated and will be removed from pandas in a future version. Use pandas.concat instead.\n",
      "  df = df.append(lsss, ignore_index=True)\n",
      "/Users/zhangwenbo/miniforge3/lib/python3.10/site-packages/cashare/minute_data.py:96: FutureWarning: The frame.append method is deprecated and will be removed from pandas in a future version. Use pandas.concat instead.\n",
      "  df = df.append(lsss, ignore_index=True)\n"
     ]
    },
    {
     "name": "stdout",
     "output_type": "stream",
     "text": [
      "    stock_id                 date    open     low     high     close volume\n",
      "0       AEMD  2023-06-29 09:30:00  0.4310  0.4050  0.43490  0.405000  59966\n",
      "1       AEMD  2023-06-29 09:32:00  0.4176  0.4051  0.43009  0.405201  20117\n",
      "2       AEMD  2023-06-29 09:34:00  0.4301  0.4301  0.43010  0.430100    390\n",
      "3       AEMD  2023-06-29 09:35:00  0.4301  0.4289  0.43010  0.428900   1723\n",
      "4       AEMD  2023-06-29 09:36:00  0.4289  0.4289  0.42890  0.428900    150\n",
      "..       ...                  ...     ...     ...      ...       ...    ...\n",
      "215     AEMD  2023-07-03 12:01:00  0.3500  0.3500  0.35010  0.350099   2424\n",
      "216     AEMD  2023-07-03 12:04:00  0.3501  0.3501  0.35010  0.350100   3000\n",
      "217     AEMD  2023-07-03 12:22:00  0.3501  0.3501  0.35010  0.350100    100\n",
      "218     AEMD  2023-07-03 12:27:00  0.3500  0.3500  0.35000  0.350000    612\n",
      "219     AEMD  2023-07-03 12:33:00  0.3500  0.3498  0.35000  0.349800   1350\n",
      "\n",
      "[220 rows x 7 columns]\n",
      "(220, 7)\n",
      "   percent  name                ts_code\n",
      "0        0  AEMD  Aethlon Medical, Inc.\n"
     ]
    },
    {
     "name": "stderr",
     "output_type": "stream",
     "text": [
      "/Users/zhangwenbo/miniforge3/lib/python3.10/site-packages/cashare/minute_data.py:96: FutureWarning: The frame.append method is deprecated and will be removed from pandas in a future version. Use pandas.concat instead.\n",
      "  df = df.append(lsss, ignore_index=True)\n",
      "/Users/zhangwenbo/miniforge3/lib/python3.10/site-packages/cashare/minute_data.py:96: FutureWarning: The frame.append method is deprecated and will be removed from pandas in a future version. Use pandas.concat instead.\n",
      "  df = df.append(lsss, ignore_index=True)\n"
     ]
    },
    {
     "name": "stdout",
     "output_type": "stream",
     "text": [
      "  stock_id                 date  open  low  high  close volume\n",
      "0     AENZ  2023-06-30 09:30:00   1.9  1.9   1.9    1.9    103\n",
      "(1, 7)\n"
     ]
    },
    {
     "name": "stderr",
     "output_type": "stream",
     "text": [
      "/Users/zhangwenbo/miniforge3/lib/python3.10/site-packages/cashare/minute_data.py:96: FutureWarning: The frame.append method is deprecated and will be removed from pandas in a future version. Use pandas.concat instead.\n",
      "  df = df.append(lsss, ignore_index=True)\n"
     ]
    },
    {
     "ename": "JSONDecodeError",
     "evalue": "Expecting value: line 1 column 1 (char 0)",
     "output_type": "error",
     "traceback": [
      "\u001b[0;31m---------------------------------------------------------------------------\u001b[0m",
      "\u001b[0;31mJSONDecodeError\u001b[0m                           Traceback (most recent call last)",
      "\u001b[1;32m/Users/zhangwenbo/testProjects/laplace/try_transformer_all_updown_us.ipynb 单元格 1\u001b[0m in \u001b[0;36m<cell line: 15>\u001b[0;34m()\u001b[0m\n\u001b[1;32m     <a href='vscode-notebook-cell:/Users/zhangwenbo/testProjects/laplace/try_transformer_all_updown_us.ipynb#W0sZmlsZQ%3D%3D?line=13'>14</a>\u001b[0m \u001b[39mprint\u001b[39m(stocks)\n\u001b[1;32m     <a href='vscode-notebook-cell:/Users/zhangwenbo/testProjects/laplace/try_transformer_all_updown_us.ipynb#W0sZmlsZQ%3D%3D?line=14'>15</a>\u001b[0m \u001b[39mfor\u001b[39;00m stock \u001b[39min\u001b[39;00m stocks\u001b[39m.\u001b[39mvalues:\n\u001b[0;32m---> <a href='vscode-notebook-cell:/Users/zhangwenbo/testProjects/laplace/try_transformer_all_updown_us.ipynb#W0sZmlsZQ%3D%3D?line=15'>16</a>\u001b[0m     data \u001b[39m=\u001b[39m m_data(sk_code\u001b[39m=\u001b[39;49mstock[\u001b[39m0\u001b[39;49m],token\u001b[39m=\u001b[39;49m\u001b[39m'\u001b[39;49m\u001b[39mf9882e4b76023e40f506c3b274ecde2295t1\u001b[39;49m\u001b[39m'\u001b[39;49m,\u001b[39mtype\u001b[39;49m\u001b[39m=\u001b[39;49m\u001b[39m'\u001b[39;49m\u001b[39m1min\u001b[39;49m\u001b[39m'\u001b[39;49m,start_date\u001b[39m=\u001b[39;49m\u001b[39m'\u001b[39;49m\u001b[39m2023-06-30\u001b[39;49m\u001b[39m'\u001b[39;49m,end_date\u001b[39m=\u001b[39;49m\u001b[39m'\u001b[39;49m\u001b[39m2023-07-05\u001b[39;49m\u001b[39m'\u001b[39;49m)\n\u001b[1;32m     <a href='vscode-notebook-cell:/Users/zhangwenbo/testProjects/laplace/try_transformer_all_updown_us.ipynb#W0sZmlsZQ%3D%3D?line=16'>17</a>\u001b[0m     \u001b[39mprint\u001b[39m(data)\n\u001b[1;32m     <a href='vscode-notebook-cell:/Users/zhangwenbo/testProjects/laplace/try_transformer_all_updown_us.ipynb#W0sZmlsZQ%3D%3D?line=17'>18</a>\u001b[0m     \u001b[39mprint\u001b[39m(data\u001b[39m.\u001b[39mshape)\n",
      "File \u001b[0;32m~/miniforge3/lib/python3.10/site-packages/cashare/minute_data.py:19\u001b[0m, in \u001b[0;36mm_data\u001b[0;34m(sk_code, type, token, end_date, start_date)\u001b[0m\n\u001b[1;32m     17\u001b[0m     \u001b[39mpass\u001b[39;00m\n\u001b[1;32m     18\u001b[0m \u001b[39mif\u001b[39;00m \u001b[39mtype\u001b[39m\u001b[39m==\u001b[39m\u001b[39m\"\u001b[39m\u001b[39m1min\u001b[39m\u001b[39m\"\u001b[39m:\n\u001b[0;32m---> 19\u001b[0m     \u001b[39mreturn\u001b[39;00m dan(start_date\u001b[39m=\u001b[39;49mstart_date, end_date\u001b[39m=\u001b[39;49mend_date,\u001b[39mtype\u001b[39;49m\u001b[39m=\u001b[39;49m\u001b[39mtype\u001b[39;49m,sk_code\u001b[39m=\u001b[39;49msk_code, token\u001b[39m=\u001b[39;49mtoken, x\u001b[39m=\u001b[39;49m\u001b[39m3\u001b[39;49m, y\u001b[39m=\u001b[39;49m\u001b[39m3\u001b[39;49m)\n\u001b[1;32m     20\u001b[0m \u001b[39melif\u001b[39;00m \u001b[39mtype\u001b[39m\u001b[39m==\u001b[39m\u001b[39m\"\u001b[39m\u001b[39m5min\u001b[39m\u001b[39m\"\u001b[39m:\n\u001b[1;32m     21\u001b[0m     \u001b[39mreturn\u001b[39;00m dan(start_date\u001b[39m=\u001b[39mstart_date, end_date\u001b[39m=\u001b[39mend_date,\u001b[39mtype\u001b[39m\u001b[39m=\u001b[39m\u001b[39mtype\u001b[39m,sk_code\u001b[39m=\u001b[39msk_code, token\u001b[39m=\u001b[39mtoken, x\u001b[39m=\u001b[39m\u001b[39m8\u001b[39m, y\u001b[39m=\u001b[39m\u001b[39m7\u001b[39m)\n",
      "File \u001b[0;32m~/miniforge3/lib/python3.10/site-packages/cashare/minute_data.py:46\u001b[0m, in \u001b[0;36mdan\u001b[0;34m(start_date, end_date, sk_code, token, x, y, type)\u001b[0m\n\u001b[1;32m     43\u001b[0m     n \u001b[39m=\u001b[39m \u001b[39mint\u001b[39m(ri(start_date, end_date) \u001b[39m/\u001b[39m y)\n\u001b[1;32m     45\u001b[0m \u001b[39mlist\u001b[39m \u001b[39m=\u001b[39m date_huafen(sk_code\u001b[39m=\u001b[39msk_code, start_date\u001b[39m=\u001b[39mstart_date, end_date\u001b[39m=\u001b[39mend_date, token\u001b[39m=\u001b[39mtoken, \u001b[39mtype\u001b[39m\u001b[39m=\u001b[39m\u001b[39mtype\u001b[39m, n\u001b[39m=\u001b[39mn)\n\u001b[0;32m---> 46\u001b[0m \u001b[39mreturn\u001b[39;00m url_get(\u001b[39mlist\u001b[39;49m)\n",
      "File \u001b[0;32m~/miniforge3/lib/python3.10/site-packages/cashare/minute_data.py:92\u001b[0m, in \u001b[0;36murl_get\u001b[0;34m(url_list)\u001b[0m\n\u001b[1;32m     90\u001b[0m r \u001b[39m=\u001b[39m httpx\u001b[39m.\u001b[39mget(item,timeout\u001b[39m=\u001b[39m\u001b[39m100\u001b[39m)\n\u001b[1;32m     91\u001b[0m \u001b[39m# print(r.json())\u001b[39;00m\n\u001b[0;32m---> 92\u001b[0m \u001b[39mif\u001b[39;00m pd\u001b[39m.\u001b[39mDataFrame(r\u001b[39m.\u001b[39;49mjson())\u001b[39m.\u001b[39mempty:\n\u001b[1;32m     93\u001b[0m    \u001b[39mpass\u001b[39;00m\n\u001b[1;32m     94\u001b[0m \u001b[39melse\u001b[39;00m:\n",
      "File \u001b[0;32m~/miniforge3/lib/python3.10/site-packages/httpx/_models.py:756\u001b[0m, in \u001b[0;36mResponse.json\u001b[0;34m(self, **kwargs)\u001b[0m\n\u001b[1;32m    754\u001b[0m     \u001b[39mif\u001b[39;00m encoding \u001b[39mis\u001b[39;00m \u001b[39mnot\u001b[39;00m \u001b[39mNone\u001b[39;00m:\n\u001b[1;32m    755\u001b[0m         \u001b[39mreturn\u001b[39;00m jsonlib\u001b[39m.\u001b[39mloads(\u001b[39mself\u001b[39m\u001b[39m.\u001b[39mcontent\u001b[39m.\u001b[39mdecode(encoding), \u001b[39m*\u001b[39m\u001b[39m*\u001b[39mkwargs)\n\u001b[0;32m--> 756\u001b[0m \u001b[39mreturn\u001b[39;00m jsonlib\u001b[39m.\u001b[39;49mloads(\u001b[39mself\u001b[39;49m\u001b[39m.\u001b[39;49mtext, \u001b[39m*\u001b[39;49m\u001b[39m*\u001b[39;49mkwargs)\n",
      "File \u001b[0;32m~/miniforge3/lib/python3.10/json/__init__.py:346\u001b[0m, in \u001b[0;36mloads\u001b[0;34m(s, cls, object_hook, parse_float, parse_int, parse_constant, object_pairs_hook, **kw)\u001b[0m\n\u001b[1;32m    341\u001b[0m     s \u001b[39m=\u001b[39m s\u001b[39m.\u001b[39mdecode(detect_encoding(s), \u001b[39m'\u001b[39m\u001b[39msurrogatepass\u001b[39m\u001b[39m'\u001b[39m)\n\u001b[1;32m    343\u001b[0m \u001b[39mif\u001b[39;00m (\u001b[39mcls\u001b[39m \u001b[39mis\u001b[39;00m \u001b[39mNone\u001b[39;00m \u001b[39mand\u001b[39;00m object_hook \u001b[39mis\u001b[39;00m \u001b[39mNone\u001b[39;00m \u001b[39mand\u001b[39;00m\n\u001b[1;32m    344\u001b[0m         parse_int \u001b[39mis\u001b[39;00m \u001b[39mNone\u001b[39;00m \u001b[39mand\u001b[39;00m parse_float \u001b[39mis\u001b[39;00m \u001b[39mNone\u001b[39;00m \u001b[39mand\u001b[39;00m\n\u001b[1;32m    345\u001b[0m         parse_constant \u001b[39mis\u001b[39;00m \u001b[39mNone\u001b[39;00m \u001b[39mand\u001b[39;00m object_pairs_hook \u001b[39mis\u001b[39;00m \u001b[39mNone\u001b[39;00m \u001b[39mand\u001b[39;00m \u001b[39mnot\u001b[39;00m kw):\n\u001b[0;32m--> 346\u001b[0m     \u001b[39mreturn\u001b[39;00m _default_decoder\u001b[39m.\u001b[39;49mdecode(s)\n\u001b[1;32m    347\u001b[0m \u001b[39mif\u001b[39;00m \u001b[39mcls\u001b[39m \u001b[39mis\u001b[39;00m \u001b[39mNone\u001b[39;00m:\n\u001b[1;32m    348\u001b[0m     \u001b[39mcls\u001b[39m \u001b[39m=\u001b[39m JSONDecoder\n",
      "File \u001b[0;32m~/miniforge3/lib/python3.10/json/decoder.py:337\u001b[0m, in \u001b[0;36mJSONDecoder.decode\u001b[0;34m(self, s, _w)\u001b[0m\n\u001b[1;32m    332\u001b[0m \u001b[39mdef\u001b[39;00m \u001b[39mdecode\u001b[39m(\u001b[39mself\u001b[39m, s, _w\u001b[39m=\u001b[39mWHITESPACE\u001b[39m.\u001b[39mmatch):\n\u001b[1;32m    333\u001b[0m     \u001b[39m\"\"\"Return the Python representation of ``s`` (a ``str`` instance\u001b[39;00m\n\u001b[1;32m    334\u001b[0m \u001b[39m    containing a JSON document).\u001b[39;00m\n\u001b[1;32m    335\u001b[0m \n\u001b[1;32m    336\u001b[0m \u001b[39m    \"\"\"\u001b[39;00m\n\u001b[0;32m--> 337\u001b[0m     obj, end \u001b[39m=\u001b[39m \u001b[39mself\u001b[39;49m\u001b[39m.\u001b[39;49mraw_decode(s, idx\u001b[39m=\u001b[39;49m_w(s, \u001b[39m0\u001b[39;49m)\u001b[39m.\u001b[39;49mend())\n\u001b[1;32m    338\u001b[0m     end \u001b[39m=\u001b[39m _w(s, end)\u001b[39m.\u001b[39mend()\n\u001b[1;32m    339\u001b[0m     \u001b[39mif\u001b[39;00m end \u001b[39m!=\u001b[39m \u001b[39mlen\u001b[39m(s):\n",
      "File \u001b[0;32m~/miniforge3/lib/python3.10/json/decoder.py:355\u001b[0m, in \u001b[0;36mJSONDecoder.raw_decode\u001b[0;34m(self, s, idx)\u001b[0m\n\u001b[1;32m    353\u001b[0m     obj, end \u001b[39m=\u001b[39m \u001b[39mself\u001b[39m\u001b[39m.\u001b[39mscan_once(s, idx)\n\u001b[1;32m    354\u001b[0m \u001b[39mexcept\u001b[39;00m \u001b[39mStopIteration\u001b[39;00m \u001b[39mas\u001b[39;00m err:\n\u001b[0;32m--> 355\u001b[0m     \u001b[39mraise\u001b[39;00m JSONDecodeError(\u001b[39m\"\u001b[39m\u001b[39mExpecting value\u001b[39m\u001b[39m\"\u001b[39m, s, err\u001b[39m.\u001b[39mvalue) \u001b[39mfrom\u001b[39;00m \u001b[39mNone\u001b[39m\n\u001b[1;32m    356\u001b[0m \u001b[39mreturn\u001b[39;00m obj, end\n",
      "\u001b[0;31mJSONDecodeError\u001b[0m: Expecting value: line 1 column 1 (char 0)"
     ]
    }
   ],
   "source": [
    "import numpy as np\n",
    "import pandas as pd\n",
    "from sklearn.preprocessing import StandardScaler\n",
    "from tensorflow.keras.models import Sequential,Model\n",
    "from tensorflow.keras.layers import LSTM, Dense,Input\n",
    "from tensorflow.keras.optimizers import Adam\n",
    "from tensorflow.keras.layers import MultiHeadAttention, Dropout\n",
    "from cashare.day_data import daily_data\n",
    "from cashare.stock_list import stock_list\n",
    "from cashare.minute_data import m_data\n",
    "\n",
    "result = pd.DataFrame(columns=['percent','name','ts_code'])\n",
    "stocks=stock_list(type='us',token='f9882e4b76023e40f506c3b274ecde2295t1')\n",
    "print(stocks)\n",
    "for stock in stocks.values:\n",
    "    try:\n",
    "        data = m_data(sk_code=stock[0],token='f9882e4b76023e40f506c3b274ecde2295t1',type='1min',start_date='2023-06-20',end_date='2023-07-05')\n",
    "    except Exception as e:\n",
    "        continue\n",
    "    print(data)\n",
    "    if(data.shape[0]<500):\n",
    "        continue\n",
    "    data = data[['close', 'volume']]\n",
    "    data['volume'] = pd.to_numeric(data['volume'],errors='coerce')\n",
    "    data.sort_index(ascending=False, inplace=True)\n",
    "    data = data.reset_index(drop=True)\n",
    "\n",
    "    # 计算差值\n",
    "    data_diff = data.diff().dropna()\n",
    "    # print(data_diff)\n",
    "\n",
    "    # 数据缩放\n",
    "    scaler = StandardScaler()\n",
    "    data_scaled = scaler.fit_transform(data_diff)\n",
    "\n",
    "    lookback = 50\n",
    "\n",
    "    # 定义生成器函数\n",
    "    def generator(data, lookback=10, delay=1, batch_size=20):\n",
    "        max_index = len(data) - delay - 1\n",
    "        i = lookback\n",
    "        while 1:\n",
    "            if i + delay >= max_index:\n",
    "                i = lookback\n",
    "            samples = np.zeros((batch_size, lookback, data.shape[-1]))\n",
    "            targets = np.zeros((batch_size, data.shape[-1]))  # targets now is 2D, predict price and volume\n",
    "            for j in range(batch_size):\n",
    "                if i + delay >= max_index:\n",
    "                    i = lookback\n",
    "                rows = np.arange(i - lookback, i)\n",
    "                samples[j] = data[rows]\n",
    "                targets[j] = data[i + delay]  # target is the next value sequence\n",
    "                i += 1\n",
    "            print(samples)\n",
    "            print(targets)\n",
    "            yield samples, targets\n",
    "\n",
    "    ##lstm\n",
    "    inputs = Input(shape=(lookback, data.shape[-1]))\n",
    "    x = LSTM(100, return_sequences=True)(inputs)  # first LSTM layer\n",
    "    x = Dropout(0.5)(x)\n",
    "    x = LSTM(100, return_sequences=False)(x)  # second LSTM layer\n",
    "    outputs = Dense(data.shape[-1])(x)   # only predict the next value\n",
    "    model = Model(inputs=inputs, outputs=outputs)\n",
    "    model.compile(optimizer=Adam(), loss='mse')\n",
    "\n",
    "    train_data = data_scaled[:int(len(data_scaled)*0.9)]\n",
    "    val_data = list(data_scaled[int(len(data_scaled)*0.1):])\n",
    "\n",
    "    \n",
    "    \n",
    "    last_sequence = np.reshape(train_data[-lookback:], (1, lookback, data_diff.shape[-1]))\n",
    "    next_prediction = model.predict(last_sequence, verbose=0)[0, 0]\n",
    "    next_real = val_data[0][0]\n",
    "    prediction_increase = next_prediction > 0\n",
    "    real_increase = next_real > 0\n",
    "    correct = 0\n",
    "    if prediction_increase == real_increase:\n",
    "        correct = 1\n",
    "    new_result = pd.DataFrame([[correct,stock[0],stock[1]]], columns=result.columns)\n",
    "    print(new_result)\n",
    "    new_result.to_csv('result_us.csv', mode='a', header=False, index=False)\n",
    "    \n",
    "    # #预测涨跌\n",
    "    # correct_predictions = 0\n",
    "    # total_predictions = 0 \n",
    "\n",
    "    # for epoch in range(30):  # train for 30 epochs\n",
    "    #     train_gen = generator(train_data, lookback=lookback)\n",
    "    #     model.fit(train_gen, epochs=1, steps_per_epoch=20, verbose=0)  # train the model for one epoch\n",
    "\n",
    "    #     # move the first data point from val_data to train_data\n",
    "    #     train_data = np.concatenate([train_data, np.reshape(val_data.pop(0), (1, -1))])\n",
    "\n",
    "    #     # 预测下一个点\n",
    "    #     last_sequence = np.reshape(train_data[-lookback:], (1, lookback, data_diff.shape[-1]))\n",
    "    #     next_prediction = model.predict(last_sequence, verbose=0)[0, 0]\n",
    "\n",
    "    #     # 计算预测值与真实值之间的差距\n",
    "    #     if len(val_data) > 0:\n",
    "    #         next_real = val_data[0][0]  # the next real value\n",
    "    #         error = np.abs((next_prediction - next_real) / next_real)  # the relative error\n",
    "    #         print(f'Epoch {epoch + 1}, validation error: {error:.4f}')\n",
    "\n",
    "    #         # 对预测结果进行涨跌预测\n",
    "    #         prediction_increase = next_prediction > 0\n",
    "    #         real_increase = next_real > 0\n",
    "    #         if prediction_increase == real_increase:\n",
    "    #             correct_predictions += 1\n",
    "    #         total_predictions += 1\n",
    "\n",
    "    # # 计算预测准确率\n",
    "    # accuracy = correct_predictions / total_predictions\n",
    "    # print(f'Prediction accuracy: {accuracy:.4f}')\n",
    "    # new_result = pd.DataFrame([[accuracy,stock[0],stock[1]]], columns=result.columns)\n",
    "    # print(new_result)\n",
    "    # result.append(new_result)\n",
    "    # new_result.to_csv('result_us.csv', mode='a', header=False, index=False)\n",
    "    \n",
    "\n"
   ]
  }
 ],
 "metadata": {
  "kernelspec": {
   "display_name": "base",
   "language": "python",
   "name": "python3"
  },
  "language_info": {
   "codemirror_mode": {
    "name": "ipython",
    "version": 3
   },
   "file_extension": ".py",
   "mimetype": "text/x-python",
   "name": "python",
   "nbconvert_exporter": "python",
   "pygments_lexer": "ipython3",
   "version": "3.10.10"
  },
  "orig_nbformat": 4
 },
 "nbformat": 4,
 "nbformat_minor": 2
}
