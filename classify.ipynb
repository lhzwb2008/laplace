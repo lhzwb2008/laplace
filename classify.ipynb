{
 "cells": [
  {
   "cell_type": "code",
   "execution_count": 11,
   "id": "3cc0c197-2b0b-4126-bc7e-0c3640386c06",
   "metadata": {
    "tags": []
   },
   "outputs": [
    {
     "name": "stdout",
     "output_type": "stream",
     "text": [
      "                    stock_id     open     low    high    close  volume  \\\n",
      "date                                                                     \n",
      "2023-06-15 09:30:00     BABA  91.4600  91.450  92.215  92.0700  921881   \n",
      "2023-06-15 09:31:00     BABA  92.0694  91.260  92.080  91.2900  373924   \n",
      "2023-06-15 09:32:00     BABA  91.3000  91.230  91.500  91.3246  187062   \n",
      "2023-06-15 09:33:00     BABA  91.3300  91.300  91.746  91.6500  130774   \n",
      "2023-06-15 09:34:00     BABA  91.6500  91.645  92.160  92.1269  290249   \n",
      "...                      ...      ...     ...     ...      ...     ...   \n",
      "2023-07-03 12:59:00     BABA  84.1050  84.080  84.160  84.1100  154122   \n",
      "2023-07-03 13:02:00     BABA  84.0700  84.070  84.070  84.0700  192221   \n",
      "2023-07-03 13:10:00     BABA  84.0700  84.070  84.070  84.0700       0   \n",
      "2023-07-03 15:30:00     BABA  84.0700  84.070  84.070  84.0700       0   \n",
      "2023-07-03 16:00:00     BABA  84.1900  84.190  84.190  84.1900     161   \n",
      "\n",
      "                     is_random  cluster  \n",
      "date                                     \n",
      "2023-06-15 09:30:00        NaN      NaN  \n",
      "2023-06-15 09:31:00        NaN      NaN  \n",
      "2023-06-15 09:32:00        NaN      NaN  \n",
      "2023-06-15 09:33:00        NaN      NaN  \n",
      "2023-06-15 09:34:00        NaN      NaN  \n",
      "...                        ...      ...  \n",
      "2023-07-03 12:59:00        0.0      8.0  \n",
      "2023-07-03 13:02:00        0.0      8.0  \n",
      "2023-07-03 13:10:00        0.0     12.0  \n",
      "2023-07-03 15:30:00        0.0     12.0  \n",
      "2023-07-03 16:00:00        0.0     12.0  \n",
      "\n",
      "[4900 rows x 8 columns]\n"
     ]
    }
   ],
   "source": [
    "import pandas as pd\n",
    "from sklearn import mixture\n",
    "from sklearn.preprocessing import StandardScaler\n",
    "from statsmodels.tsa.stattools import acf\n",
    "import numpy as np\n",
    "\n",
    "# Load the data\n",
    "df = pd.read_csv('stock_data_baba.csv', parse_dates=True, index_col='date')\n",
    "\n",
    "# Select features to use for clustering\n",
    "features = [\"open\", \"low\", \"high\", \"close\", \"volume\"]\n",
    "data = df[features]\n",
    "\n",
    "# Define a function to test whether a series is random\n",
    "def is_random(series, threshold=0.1):\n",
    "    # Compute the absolute values of the autocorrelations\n",
    "    acf_values = np.abs(acf(series, nlags=30)[1:])\n",
    "    print(acf_values)\n",
    "    # Return whether the autocorrelations are less than the threshold\n",
    "    return np.all(acf_values < threshold)\n",
    "\n",
    "# Apply the function to each day\n",
    "df['is_random'] = df['open'].rolling(window=300).apply(is_random)\n",
    "\n",
    "# It is a good practice to scale the features before clustering\n",
    "scaler = StandardScaler()\n",
    "scaled_data = scaler.fit_transform(data[df['is_random'] == False])\n",
    "\n",
    "# Estimate the optimal number of components\n",
    "n_components = np.arange(1, 21)\n",
    "models = [mixture.GaussianMixture(n, covariance_type='full', random_state=0).fit(scaled_data)\n",
    "          for n in n_components]\n",
    "bics = [model.bic(scaled_data) for model in models]\n",
    "best_n = np.argmin(bics) + 1  # adding 1 because np.arange() starts from 1\n",
    "\n",
    "# Train a Gaussian Mixture Model\n",
    "gmm = mixture.GaussianMixture(n_components=best_n, covariance_type='full')\n",
    "gmm.fit(scaled_data)\n",
    "\n",
    "# Predict the labels for the data points\n",
    "df.loc[df['is_random'] == False, 'cluster'] = gmm.predict(scaled_data)\n",
    "\n",
    "print(df)\n",
    "df.to_csv('cluster.csv')\n"
   ]
  }
 ],
 "metadata": {
  "kernelspec": {
   "display_name": "Python 3 (ipykernel)",
   "language": "python",
   "name": "python3"
  },
  "language_info": {
   "codemirror_mode": {
    "name": "ipython",
    "version": 3
   },
   "file_extension": ".py",
   "mimetype": "text/x-python",
   "name": "python",
   "nbconvert_exporter": "python",
   "pygments_lexer": "ipython3",
   "version": "3.10.10"
  }
 },
 "nbformat": 4,
 "nbformat_minor": 5
}
