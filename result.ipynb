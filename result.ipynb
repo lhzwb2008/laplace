{
 "cells": [
  {
   "cell_type": "code",
   "execution_count": 6,
   "id": "ab924168-b0a5-4c55-83f7-fd5ee717ff24",
   "metadata": {
    "tags": []
   },
   "outputs": [
    {
     "name": "stdout",
     "output_type": "stream",
     "text": [
      "0.49844632768361585\n"
     ]
    }
   ],
   "source": [
    "import pandas as pd\n",
    "result = pd.read_csv('result.csv',header=None)\n",
    "sum = 0 \n",
    "count = 0\n",
    "for r in result.values:\n",
    "    sum = sum + r[0]\n",
    "    count = count +1 \n",
    "print(sum/count)\n"
   ]
  }
 ],
 "metadata": {
  "kernelspec": {
   "display_name": "Python 3 (ipykernel)",
   "language": "python",
   "name": "python3"
  },
  "language_info": {
   "codemirror_mode": {
    "name": "ipython",
    "version": 3
   },
   "file_extension": ".py",
   "mimetype": "text/x-python",
   "name": "python",
   "nbconvert_exporter": "python",
   "pygments_lexer": "ipython3",
   "version": "3.10.10"
  }
 },
 "nbformat": 4,
 "nbformat_minor": 5
}
