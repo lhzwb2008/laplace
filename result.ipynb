{
 "cells": [
  {
   "cell_type": "code",
   "execution_count": 1,
   "id": "ab924168-b0a5-4c55-83f7-fd5ee717ff24",
   "metadata": {
    "tags": []
   },
   "outputs": [
    {
     "ename": "NameError",
     "evalue": "name 'results' is not defined",
     "output_type": "error",
     "traceback": [
      "\u001b[0;31m---------------------------------------------------------------------------\u001b[0m",
      "\u001b[0;31mNameError\u001b[0m                                 Traceback (most recent call last)",
      "\u001b[1;32m/Users/zhangwenbo/testProjects/laplace/result.ipynb 单元格 1\u001b[0m in \u001b[0;36m<cell line: 5>\u001b[0;34m()\u001b[0m\n\u001b[1;32m      <a href='vscode-notebook-cell:/Users/zhangwenbo/testProjects/laplace/result.ipynb#W0sZmlsZQ%3D%3D?line=2'>3</a>\u001b[0m \u001b[39msum\u001b[39m \u001b[39m=\u001b[39m \u001b[39m0\u001b[39m \n\u001b[1;32m      <a href='vscode-notebook-cell:/Users/zhangwenbo/testProjects/laplace/result.ipynb#W0sZmlsZQ%3D%3D?line=3'>4</a>\u001b[0m count \u001b[39m=\u001b[39m \u001b[39m0\u001b[39m\n\u001b[0;32m----> <a href='vscode-notebook-cell:/Users/zhangwenbo/testProjects/laplace/result.ipynb#W0sZmlsZQ%3D%3D?line=4'>5</a>\u001b[0m \u001b[39mfor\u001b[39;00m r \u001b[39min\u001b[39;00m results\u001b[39m.\u001b[39mvalues:\n\u001b[1;32m      <a href='vscode-notebook-cell:/Users/zhangwenbo/testProjects/laplace/result.ipynb#W0sZmlsZQ%3D%3D?line=5'>6</a>\u001b[0m     \u001b[39msum\u001b[39m \u001b[39m=\u001b[39m \u001b[39msum\u001b[39m \u001b[39m+\u001b[39m r[\u001b[39m0\u001b[39m]\n\u001b[1;32m      <a href='vscode-notebook-cell:/Users/zhangwenbo/testProjects/laplace/result.ipynb#W0sZmlsZQ%3D%3D?line=6'>7</a>\u001b[0m     count \u001b[39m=\u001b[39m count \u001b[39m+\u001b[39m\u001b[39m1\u001b[39m \n",
      "\u001b[0;31mNameError\u001b[0m: name 'results' is not defined"
     ]
    }
   ],
   "source": [
    "import pandas as pd\n",
    "result = pd.read_csv('result.csv',header=None)\n",
    "sum = 0 \n",
    "count = 0\n",
    "for r in result.values:\n",
    "    sum = sum + r[0]\n",
    "    count = count +1 \n",
    "print(sum/count)\n"
   ]
  }
 ],
 "metadata": {
  "kernelspec": {
   "display_name": "Python 3 (ipykernel)",
   "language": "python",
   "name": "python3"
  },
  "language_info": {
   "codemirror_mode": {
    "name": "ipython",
    "version": 3
   },
   "file_extension": ".py",
   "mimetype": "text/x-python",
   "name": "python",
   "nbconvert_exporter": "python",
   "pygments_lexer": "ipython3",
   "version": "3.10.10"
  }
 },
 "nbformat": 4,
 "nbformat_minor": 5
}
