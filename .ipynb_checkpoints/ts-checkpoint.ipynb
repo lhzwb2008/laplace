{
 "cells": [
  {
   "cell_type": "code",
   "execution_count": 1,
   "id": "ab924168-b0a5-4c55-83f7-fd5ee717ff24",
   "metadata": {
    "tags": []
   },
   "outputs": [],
   "source": [
    "import tushare as ts\n",
    "import pymysql\n",
    "ts.set_token('b0030b7297c6b297f1db549c7f8c8a080b5f28e2267f07c4741e69ad')"
   ]
  },
  {
   "cell_type": "code",
   "execution_count": 3,
   "id": "3cc0c197-2b0b-4126-bc7e-0c3640386c06",
   "metadata": {
    "tags": []
   },
   "outputs": [
    {
     "name": "stdout",
     "output_type": "stream",
     "text": [
      "       ts_code           trade_time    open   close    high     low       vol  \\\n",
      "0    002594.SZ  2023-01-04 14:13:00  259.51  259.38  259.51  259.38   12300.0   \n",
      "1    002594.SZ  2023-01-04 14:12:00  259.51  259.50  259.55  259.50   25400.0   \n",
      "2    002594.SZ  2023-01-04 14:11:00  259.54  259.51  259.58  259.50   16900.0   \n",
      "3    002594.SZ  2023-01-04 14:10:00  259.50  259.58  259.59  259.50   33700.0   \n",
      "4    002594.SZ  2023-01-04 14:09:00  259.34  259.50  259.50  259.25   49700.0   \n",
      "..         ...                  ...     ...     ...     ...     ...       ...   \n",
      "430  002594.SZ  2023-01-03 09:34:00  252.87  253.20  253.20  252.60  191597.0   \n",
      "431  002594.SZ  2023-01-03 09:33:00  252.62  253.20  253.37  252.62  167900.0   \n",
      "432  002594.SZ  2023-01-03 09:32:00  253.34  252.72  253.34  252.40  186600.0   \n",
      "433  002594.SZ  2023-01-03 09:31:00  255.86  253.83  255.86  253.23  207700.0   \n",
      "434  002594.SZ  2023-01-03 09:30:00  256.41  256.00  256.45  255.73  110700.0   \n",
      "\n",
      "          amount trade_date  pre_close  \n",
      "0     3191296.00   20230104     259.50  \n",
      "1     6592138.00   20230104     259.51  \n",
      "2     4385957.00   20230104     259.58  \n",
      "3     8746149.00   20230104     259.50  \n",
      "4    12894110.00   20230104     259.34  \n",
      "..           ...        ...        ...  \n",
      "430  48440294.72   20230103     253.20  \n",
      "431  42474891.00   20230103     252.72  \n",
      "432  47170683.00   20230103     253.83  \n",
      "433  52832226.00   20230103     256.00  \n",
      "434  28374577.07   20230103        NaN  \n",
      "\n",
      "[435 rows x 10 columns]\n",
      "(1062, \"Duplicate entry '002594.SZ-2023-01-04 14:13:00' for key 'ts_code'\")\n",
      "(1062, \"Duplicate entry '002594.SZ-2023-01-04 14:12:00' for key 'ts_code'\")\n",
      "(1062, \"Duplicate entry '002594.SZ-2023-01-04 14:11:00' for key 'ts_code'\")\n",
      "(1062, \"Duplicate entry '002594.SZ-2023-01-04 14:10:00' for key 'ts_code'\")\n",
      "(1062, \"Duplicate entry '002594.SZ-2023-01-04 14:09:00' for key 'ts_code'\")\n",
      "(1062, \"Duplicate entry '002594.SZ-2023-01-04 14:08:00' for key 'ts_code'\")\n",
      "(1062, \"Duplicate entry '002594.SZ-2023-01-04 14:07:00' for key 'ts_code'\")\n",
      "(1062, \"Duplicate entry '002594.SZ-2023-01-04 14:06:00' for key 'ts_code'\")\n",
      "(1062, \"Duplicate entry '002594.SZ-2023-01-04 14:05:00' for key 'ts_code'\")\n",
      "(1062, \"Duplicate entry '002594.SZ-2023-01-04 14:04:00' for key 'ts_code'\")\n",
      "(1062, \"Duplicate entry '002594.SZ-2023-01-04 14:03:00' for key 'ts_code'\")\n",
      "(1062, \"Duplicate entry '002594.SZ-2023-01-04 14:02:00' for key 'ts_code'\")\n",
      "(1062, \"Duplicate entry '002594.SZ-2023-01-04 14:01:00' for key 'ts_code'\")\n",
      "(1062, \"Duplicate entry '002594.SZ-2023-01-04 14:00:00' for key 'ts_code'\")\n",
      "(1062, \"Duplicate entry '002594.SZ-2023-01-04 13:59:00' for key 'ts_code'\")\n",
      "(1062, \"Duplicate entry '002594.SZ-2023-01-04 13:58:00' for key 'ts_code'\")\n",
      "(1062, \"Duplicate entry '002594.SZ-2023-01-04 13:57:00' for key 'ts_code'\")\n",
      "(1062, \"Duplicate entry '002594.SZ-2023-01-04 13:56:00' for key 'ts_code'\")\n",
      "(1062, \"Duplicate entry '002594.SZ-2023-01-04 13:55:00' for key 'ts_code'\")\n",
      "(1062, \"Duplicate entry '002594.SZ-2023-01-04 13:54:00' for key 'ts_code'\")\n",
      "(1062, \"Duplicate entry '002594.SZ-2023-01-04 13:53:00' for key 'ts_code'\")\n",
      "(1062, \"Duplicate entry '002594.SZ-2023-01-04 13:52:00' for key 'ts_code'\")\n",
      "(1062, \"Duplicate entry '002594.SZ-2023-01-04 13:51:00' for key 'ts_code'\")\n",
      "(1062, \"Duplicate entry '002594.SZ-2023-01-04 13:50:00' for key 'ts_code'\")\n",
      "(1062, \"Duplicate entry '002594.SZ-2023-01-04 13:49:00' for key 'ts_code'\")\n",
      "(1062, \"Duplicate entry '002594.SZ-2023-01-04 13:48:00' for key 'ts_code'\")\n",
      "(1062, \"Duplicate entry '002594.SZ-2023-01-04 13:47:00' for key 'ts_code'\")\n",
      "(1062, \"Duplicate entry '002594.SZ-2023-01-04 13:46:00' for key 'ts_code'\")\n",
      "(1062, \"Duplicate entry '002594.SZ-2023-01-04 13:45:00' for key 'ts_code'\")\n",
      "(1062, \"Duplicate entry '002594.SZ-2023-01-04 13:44:00' for key 'ts_code'\")\n",
      "(1062, \"Duplicate entry '002594.SZ-2023-01-04 13:43:00' for key 'ts_code'\")\n",
      "(1062, \"Duplicate entry '002594.SZ-2023-01-04 13:42:00' for key 'ts_code'\")\n",
      "(1062, \"Duplicate entry '002594.SZ-2023-01-04 13:41:00' for key 'ts_code'\")\n",
      "(1062, \"Duplicate entry '002594.SZ-2023-01-04 13:40:00' for key 'ts_code'\")\n",
      "(1062, \"Duplicate entry '002594.SZ-2023-01-04 13:39:00' for key 'ts_code'\")\n",
      "(1062, \"Duplicate entry '002594.SZ-2023-01-04 13:38:00' for key 'ts_code'\")\n",
      "(1062, \"Duplicate entry '002594.SZ-2023-01-04 13:37:00' for key 'ts_code'\")\n",
      "(1062, \"Duplicate entry '002594.SZ-2023-01-04 13:36:00' for key 'ts_code'\")\n",
      "(1062, \"Duplicate entry '002594.SZ-2023-01-04 13:35:00' for key 'ts_code'\")\n",
      "(1062, \"Duplicate entry '002594.SZ-2023-01-04 13:34:00' for key 'ts_code'\")\n",
      "(1062, \"Duplicate entry '002594.SZ-2023-01-04 13:33:00' for key 'ts_code'\")\n",
      "(1062, \"Duplicate entry '002594.SZ-2023-01-04 13:32:00' for key 'ts_code'\")\n",
      "(1062, \"Duplicate entry '002594.SZ-2023-01-04 13:31:00' for key 'ts_code'\")\n",
      "(1062, \"Duplicate entry '002594.SZ-2023-01-04 13:30:00' for key 'ts_code'\")\n",
      "(1062, \"Duplicate entry '002594.SZ-2023-01-04 13:29:00' for key 'ts_code'\")\n",
      "(1062, \"Duplicate entry '002594.SZ-2023-01-04 13:28:00' for key 'ts_code'\")\n",
      "(1062, \"Duplicate entry '002594.SZ-2023-01-04 13:27:00' for key 'ts_code'\")\n"
     ]
    }
   ],
   "source": [
    "#获取股票1分钟数据\n",
    "df = ts.pro_bar(ts_code='002594.SZ',freq='1min', start_date='2023-01-01 09:00:00', end_date='2023-01-04 14:13:00')\n",
    "print(df)\n",
    "for index,row in df.iterrows(): \n",
    "    db = pymysql.connect(host=\"127.0.0.1\", user=\"root\", password=\"123\", database=\"laplace\" )\n",
    "    cursor = db.cursor()\n",
    "    sql = \"INSERT INTO trade(ts_code,trade_time,vol,amount,price) \\\n",
    "    VALUES ('%s','%s','%s','%s','%s')\" % \\\n",
    "    (row['ts_code'],row['trade_time'],row['vol'], row['amount'],row['open'])\n",
    "    try:\n",
    "        cursor.execute(sql)\n",
    "        db.commit()\n",
    "    except Exception as e:\n",
    "        print(e)\n",
    "    finally:\n",
    "        db.close()        "
   ]
  }
 ],
 "metadata": {
  "kernelspec": {
   "display_name": "Python 3 (ipykernel)",
   "language": "python",
   "name": "python3"
  },
  "language_info": {
   "codemirror_mode": {
    "name": "ipython",
    "version": 3
   },
   "file_extension": ".py",
   "mimetype": "text/x-python",
   "name": "python",
   "nbconvert_exporter": "python",
   "pygments_lexer": "ipython3",
   "version": "3.9.12"
  }
 },
 "nbformat": 4,
 "nbformat_minor": 5
}
