{
 "cells": [
  {
   "cell_type": "code",
   "execution_count": 19,
   "metadata": {},
   "outputs": [
    {
     "name": "stdout",
     "output_type": "stream",
     "text": [
      "2024年IM主力与连续合约的映射数据已保存到 'im_2024_mapping.csv'.\n"
     ]
    }
   ],
   "source": [
    "import chinadata.ca_data as ts\n",
    "import pandas as pd\n",
    "import warnings\n",
    "warnings.filterwarnings('ignore')\n",
    "\n",
    "ts.set_token('fdd07f13a9e334456a6694056e146afed08')\n",
    "pro = ts.pro_api()\n",
    "\n",
    "# 封装 API 调用函数\n",
    "def call_fut_mapping(**kwargs):\n",
    "    result = pro.fut_mapping(**kwargs)\n",
    "    return result\n",
    "\n",
    "# 获取IM期货主力与连续合约映射数据\n",
    "def get_im_mapping():\n",
    "    \"\"\"获取IM期货主力与连续合约的映射数据\"\"\"\n",
    "    return call_fut_mapping(ts_code='IM.CFX', start_date='20240101', end_date='20241231')\n",
    "\n",
    "# 获取映射数据\n",
    "df_mapping = get_im_mapping()\n",
    "\n",
    "# 保存到CSV文件\n",
    "df_mapping.to_csv('im_2024_mapping.csv', index=False)\n",
    "\n",
    "print(\"2024年IM主力与连续合约的映射数据已保存到 'im_2024_mapping.csv'.\")\n"
   ]
  },
  {
   "cell_type": "code",
   "execution_count": 17,
   "metadata": {},
   "outputs": [
    {
     "name": "stdout",
     "output_type": "stream",
     "text": [
      "成功获取 IM2401 数据，共 14 条\n",
      "成功获取 IM2402 数据，共 29 条\n",
      "成功获取 IM2403 数据，共 48 条\n",
      "成功获取 IM2404 数据，共 42 条\n",
      "成功获取 IM2405 数据，共 40 条\n",
      "成功获取 IM2406 数据，共 112 条\n",
      "成功获取 IM2407 数据，共 44 条\n",
      "成功获取 IM2408 数据，共 40 条\n",
      "成功获取 IM2409 数据，共 161 条\n",
      "成功获取 IM2410 数据，共 38 条\n",
      "成功获取 IM2411 数据，共 35 条\n",
      "成功获取 IM2412 数据，共 164 条\n",
      "\n",
      "数据已成功保存到 future_im.csv\n",
      "前5行数据预览：\n",
      "        ts_code trade_date    open    high     low   close      vol       oi  \\\n",
      "13   IM2401.CFX 2024-01-02  5895.0  5902.0  5832.0  5833.6  34421.0  77941.0   \n",
      "28   IM2402.CFX 2024-01-02  5883.0  5883.2  5810.6  5810.6   3163.0   7159.0   \n",
      "47   IM2403.CFX 2024-01-02  5860.0  5861.0  5788.6  5793.8  13958.0  90592.0   \n",
      "111  IM2406.CFX 2024-01-02  5766.8  5774.0  5702.0  5706.4   7700.0  71596.0   \n",
      "12   IM2401.CFX 2024-01-03  5818.0  5852.6  5766.0  5809.4  39674.0  77490.0   \n",
      "\n",
      "    contract  \n",
      "13    IM2401  \n",
      "28    IM2402  \n",
      "47    IM2403  \n",
      "111   IM2406  \n",
      "12    IM2401  \n"
     ]
    }
   ],
   "source": [
    "import chinadata.ca_data as ts\n",
    "import pandas as pd\n",
    "import numpy as np\n",
    "import matplotlib.pyplot as plt\n",
    "import warnings\n",
    "warnings.filterwarnings('ignore')\n",
    "\n",
    "ts.set_token('fdd07f13a9e334456a6694056e146afed08')\n",
    "pro = ts.pro_api()\n",
    "\n",
    "# 定义合约列表（2024年可能存在的合约）\n",
    "contracts = [f'24{i:02d}' for i in range(1, 13)]  # 生成2401到2412\n",
    "\n",
    "all_data = []\n",
    "\n",
    "# 带错误处理的增强数据获取\n",
    "for contract in contracts:\n",
    "    try:\n",
    "        # 获取日线数据\n",
    "        df = pro.fut_daily(\n",
    "            ts_code=f'IM{contract}.CFX',\n",
    "            start_date='20240101',\n",
    "            end_date='20241231',\n",
    "            fields='ts_code,trade_date,open,high,low,close,vol,oi'\n",
    "        )\n",
    "        \n",
    "        # 添加合约标识\n",
    "        if not df.empty:\n",
    "            df['contract'] = f'IM{contract}'\n",
    "            df['trade_date'] = pd.to_datetime(df['trade_date'])\n",
    "            print(f\"成功获取 IM{contract} 数据，共 {len(df)} 条\")\n",
    "            all_data.append(df)\n",
    "        else:\n",
    "            print(f\"警告：IM{contract} 无有效数据\")\n",
    "            \n",
    "    except Exception as e:\n",
    "        print(f\"获取 IM{contract} 数据失败：{str(e)}\")\n",
    "\n",
    "# 合并数据并保存\n",
    "if all_data:\n",
    "    df_all = pd.concat(all_data)\n",
    "    \n",
    "    # 按照日期递增排序，同一天的不同合约连续打印\n",
    "    df_all = df_all.sort_values(['trade_date', 'contract'])\n",
    "    \n",
    "    # 保存到文件\n",
    "    df_all.to_csv('future_im.csv', index=False, encoding='utf_8_sig')\n",
    "    print(\"\\n数据已成功保存到 future_im.csv\")\n",
    "    print(\"前5行数据预览：\")\n",
    "    print(df_all.head())\n",
    "else:\n",
    "    print(\"错误：未获取到任何有效数据，请检查：\\n1.合约有效性\\n2.API权限\\n3.网络连接\")"
   ]
  }
 ],
 "metadata": {
  "kernelspec": {
   "display_name": "futu",
   "language": "python",
   "name": "python3"
  },
  "language_info": {
   "codemirror_mode": {
    "name": "ipython",
    "version": 3
   },
   "file_extension": ".py",
   "mimetype": "text/x-python",
   "name": "python",
   "nbconvert_exporter": "python",
   "pygments_lexer": "ipython3",
   "version": "3.12.8"
  }
 },
 "nbformat": 4,
 "nbformat_minor": 2
}
