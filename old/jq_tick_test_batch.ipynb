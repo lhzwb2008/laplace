{
 "cells": [
  {
   "cell_type": "code",
   "execution_count": 4,
   "metadata": {},
   "outputs": [
    {
     "data": {
      "text/html": [
       "<style>#sk-container-id-2 {color: black;background-color: white;}#sk-container-id-2 pre{padding: 0;}#sk-container-id-2 div.sk-toggleable {background-color: white;}#sk-container-id-2 label.sk-toggleable__label {cursor: pointer;display: block;width: 100%;margin-bottom: 0;padding: 0.3em;box-sizing: border-box;text-align: center;}#sk-container-id-2 label.sk-toggleable__label-arrow:before {content: \"▸\";float: left;margin-right: 0.25em;color: #696969;}#sk-container-id-2 label.sk-toggleable__label-arrow:hover:before {color: black;}#sk-container-id-2 div.sk-estimator:hover label.sk-toggleable__label-arrow:before {color: black;}#sk-container-id-2 div.sk-toggleable__content {max-height: 0;max-width: 0;overflow: hidden;text-align: left;background-color: #f0f8ff;}#sk-container-id-2 div.sk-toggleable__content pre {margin: 0.2em;color: black;border-radius: 0.25em;background-color: #f0f8ff;}#sk-container-id-2 input.sk-toggleable__control:checked~div.sk-toggleable__content {max-height: 200px;max-width: 100%;overflow: auto;}#sk-container-id-2 input.sk-toggleable__control:checked~label.sk-toggleable__label-arrow:before {content: \"▾\";}#sk-container-id-2 div.sk-estimator input.sk-toggleable__control:checked~label.sk-toggleable__label {background-color: #d4ebff;}#sk-container-id-2 div.sk-label input.sk-toggleable__control:checked~label.sk-toggleable__label {background-color: #d4ebff;}#sk-container-id-2 input.sk-hidden--visually {border: 0;clip: rect(1px 1px 1px 1px);clip: rect(1px, 1px, 1px, 1px);height: 1px;margin: -1px;overflow: hidden;padding: 0;position: absolute;width: 1px;}#sk-container-id-2 div.sk-estimator {font-family: monospace;background-color: #f0f8ff;border: 1px dotted black;border-radius: 0.25em;box-sizing: border-box;margin-bottom: 0.5em;}#sk-container-id-2 div.sk-estimator:hover {background-color: #d4ebff;}#sk-container-id-2 div.sk-parallel-item::after {content: \"\";width: 100%;border-bottom: 1px solid gray;flex-grow: 1;}#sk-container-id-2 div.sk-label:hover label.sk-toggleable__label {background-color: #d4ebff;}#sk-container-id-2 div.sk-serial::before {content: \"\";position: absolute;border-left: 1px solid gray;box-sizing: border-box;top: 0;bottom: 0;left: 50%;z-index: 0;}#sk-container-id-2 div.sk-serial {display: flex;flex-direction: column;align-items: center;background-color: white;padding-right: 0.2em;padding-left: 0.2em;position: relative;}#sk-container-id-2 div.sk-item {position: relative;z-index: 1;}#sk-container-id-2 div.sk-parallel {display: flex;align-items: stretch;justify-content: center;background-color: white;position: relative;}#sk-container-id-2 div.sk-item::before, #sk-container-id-2 div.sk-parallel-item::before {content: \"\";position: absolute;border-left: 1px solid gray;box-sizing: border-box;top: 0;bottom: 0;left: 50%;z-index: -1;}#sk-container-id-2 div.sk-parallel-item {display: flex;flex-direction: column;z-index: 1;position: relative;background-color: white;}#sk-container-id-2 div.sk-parallel-item:first-child::after {align-self: flex-end;width: 50%;}#sk-container-id-2 div.sk-parallel-item:last-child::after {align-self: flex-start;width: 50%;}#sk-container-id-2 div.sk-parallel-item:only-child::after {width: 0;}#sk-container-id-2 div.sk-dashed-wrapped {border: 1px dashed gray;margin: 0 0.4em 0.5em 0.4em;box-sizing: border-box;padding-bottom: 0.4em;background-color: white;}#sk-container-id-2 div.sk-label label {font-family: monospace;font-weight: bold;display: inline-block;line-height: 1.2em;}#sk-container-id-2 div.sk-label-container {text-align: center;}#sk-container-id-2 div.sk-container {/* jupyter's `normalize.less` sets `[hidden] { display: none; }` but bootstrap.min.css set `[hidden] { display: none !important; }` so we also need the `!important` here to be able to override the default hidden behavior on the sphinx rendered scikit-learn.org. See: https://github.com/scikit-learn/scikit-learn/issues/21755 */display: inline-block !important;position: relative;}#sk-container-id-2 div.sk-text-repr-fallback {display: none;}</style><div id=\"sk-container-id-2\" class=\"sk-top-container\"><div class=\"sk-text-repr-fallback\"><pre>GradientBoostingRegressor(random_state=42)</pre><b>In a Jupyter environment, please rerun this cell to show the HTML representation or trust the notebook. <br />On GitHub, the HTML representation is unable to render, please try loading this page with nbviewer.org.</b></div><div class=\"sk-container\" hidden><div class=\"sk-item\"><div class=\"sk-estimator sk-toggleable\"><input class=\"sk-toggleable__control sk-hidden--visually\" id=\"sk-estimator-id-2\" type=\"checkbox\" checked><label for=\"sk-estimator-id-2\" class=\"sk-toggleable__label sk-toggleable__label-arrow\">GradientBoostingRegressor</label><div class=\"sk-toggleable__content\"><pre>GradientBoostingRegressor(random_state=42)</pre></div></div></div></div></div>"
      ],
      "text/plain": [
       "GradientBoostingRegressor(random_state=42)"
      ]
     },
     "execution_count": 4,
     "metadata": {},
     "output_type": "execute_result"
    }
   ],
   "source": [
    "import pandas as pd\n",
    "from sklearn.ensemble import GradientBoostingRegressor\n",
    "\n",
    "# 加载数据文件\n",
    "data_path = \"jq_stock_ticks.csv\"\n",
    "data = pd.read_csv(data_path)\n",
    "\n",
    "# 定义五档买卖价量数据作为特征和窗口大小\n",
    "window_size = 10\n",
    "feature_columns = [col for col in data.columns if col.startswith('a') or col.startswith('b')]\n",
    "\n",
    "# 使用连续的十个时间窗口的摆盘作为特征\n",
    "features = pd.concat([data[feature_columns].shift(i) for i in range(window_size)], axis=1).dropna()\n",
    "features.columns = [f\"{col}_{i}\" for i in range(window_size) for col in feature_columns]\n",
    "\n",
    "\n",
    "# 定义滚动窗口大小和偏移量\n",
    "rolling_window_size = 101\n",
    "shift_offset = -100\n",
    "\n",
    "# 计算未来100条数据的成交均价\n",
    "target_100_corrected = data['current'].rolling(window=rolling_window_size).mean().shift(shift_offset)\n",
    "\n",
    "# 考虑使用了10个时间窗口，因此需要删除前9个NaN值，以及后面的100个NaN值\n",
    "target_100_corrected = target_100_corrected.iloc[window_size - 1 + 9: -(rolling_window_size - 1) - 1]\n",
    "\n",
    "\n",
    "# 考虑使用了10个时间窗口，因此需要删除前9个NaN值，以及后面的100个NaN值\n",
    "target_100_finalized = target_100_corrected.iloc[window_size - 1 + 9: -(rolling_window_size - 1)]\n",
    "\n",
    "# 使特征和目标的长度一致\n",
    "features_finalized = features.iloc[:len(target_100_finalized)]\n",
    "\n",
    "\n",
    "# 创建并训练梯度提升回归模型\n",
    "regressor = GradientBoostingRegressor(random_state=42)\n",
    "regressor.fit(features_finalized, target_100_finalized)\n"
   ]
  },
  {
   "cell_type": "code",
   "execution_count": 3,
   "metadata": {},
   "outputs": [
    {
     "data": {
      "text/plain": [
       "{'最终资本': 100000, '收益率': 0.0, '总交易次数': 0}"
      ]
     },
     "execution_count": 3,
     "metadata": {},
     "output_type": "execute_result"
    }
   ],
   "source": [
    "\n",
    "# 加载新数据进行预测\n",
    "new_data_path = \"jq_stock_ticks_next.csv\"\n",
    "new_data = pd.read_csv(new_data_path)\n",
    "new_data['timestamp'] = pd.to_datetime(new_data['time'])\n",
    "new_data['date'] = new_data['timestamp'].dt.date\n",
    "\n",
    "# 提取新数据中的五档买卖价量数据，使用连续的十个时间窗口的摆盘作为特征\n",
    "new_features = pd.concat([new_data[feature_columns].shift(i) for i in range(window_size)], axis=1).dropna()\n",
    "new_features.columns = [f\"{col}_{i}\" for i in range(window_size) for col in feature_columns]\n",
    "\n",
    "# 使用训练的模型进行预测\n",
    "new_predictions = regressor.predict(new_features)\n",
    "\n",
    "# 初始化变量\n",
    "capital = 100000  # 初始资本\n",
    "shares = 0  # 持有股票数量\n",
    "buy_sell_log = []  # 存储买入和卖出的日志\n",
    "threshold = 0.01 # 买入卖出门槛\n",
    "trade_count = 0  # 交易次数\n",
    "prev_date = None\n",
    "\n",
    "# 遍历预测和实际价格\n",
    "for idx, (prediction, current_price, date) in enumerate(zip(new_predictions, new_data['current'].iloc[window_size - 1:], new_data['date'].iloc[window_size - 1:])):\n",
    "    timestamp = new_data['timestamp'].iloc[idx + window_size - 1]\n",
    "    price_difference = prediction - current_price\n",
    "\n",
    "    if price_difference > threshold and capital > 0:  # 买入条件\n",
    "        purchase_shares = capital / current_price * (1 - 0.0003)  # 扣除交易费\n",
    "        shares += purchase_shares\n",
    "        capital = 0\n",
    "        buy_sell_log.append((timestamp, 'buy', current_price))\n",
    "        trade_count += 1\n",
    "    elif price_difference < -threshold and shares > 0:  # 卖出条件\n",
    "        capital += shares * current_price * (1 - 0.0003)  # 扣除交易费\n",
    "        shares = 0\n",
    "        buy_sell_log.append((timestamp, 'sell', current_price))\n",
    "        trade_count += 1\n",
    "\n",
    "# 最后的卖出（如果还持有股票）\n",
    "if shares > 0:\n",
    "    capital += shares * new_data['current'].iloc[-1] * (1 - 0.0003)\n",
    "\n",
    "# 打印买入和卖出日志\n",
    "for log in buy_sell_log:\n",
    "    print(f\"Time: {log[0]}, Action: {log[1]}, Price: {log[2]:.2f}\")\n",
    "\n",
    "initial_capital = 100000\n",
    "final_capital = capital\n",
    "profit_percentage = (final_capital - initial_capital) / initial_capital * 100\n",
    "\n",
    "final_results = {\n",
    "    \"最终资本\": final_capital,\n",
    "    \"收益率\": profit_percentage,\n",
    "    \"总交易次数\": trade_count\n",
    "}\n",
    "\n",
    "final_results\n"
   ]
  }
 ],
 "metadata": {
  "kernelspec": {
   "display_name": "base",
   "language": "python",
   "name": "python3"
  },
  "language_info": {
   "codemirror_mode": {
    "name": "ipython",
    "version": 3
   },
   "file_extension": ".py",
   "mimetype": "text/x-python",
   "name": "python",
   "nbconvert_exporter": "python",
   "pygments_lexer": "ipython3",
   "version": "3.10.10"
  },
  "orig_nbformat": 4
 },
 "nbformat": 4,
 "nbformat_minor": 2
}
