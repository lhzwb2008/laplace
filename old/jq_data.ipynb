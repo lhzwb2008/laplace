{
 "cells": [
  {
   "cell_type": "code",
   "execution_count": null,
   "id": "3cc0c197-2b0b-4126-bc7e-0c3640386c06",
   "metadata": {
    "tags": []
   },
   "outputs": [],
   "source": [
    "pip install jqdatasdk -U"
   ]
  },
  {
   "cell_type": "code",
   "execution_count": 1,
   "id": "b8c6581d",
   "metadata": {},
   "outputs": [
    {
     "name": "stdout",
     "output_type": "stream",
     "text": [
      "auth success \n"
     ]
    },
    {
     "data": {
      "text/plain": [
       "{'license': 1,\n",
       " 'date_range_start': '2022-05-15 00:00:00',\n",
       " 'query_count_limit': 1000000,\n",
       " 'date_range_end': '2023-05-22 00:00:00',\n",
       " 'expire_time': '2023-11-08 00:00:00',\n",
       " 'mob': '17895604891'}"
      ]
     },
     "execution_count": 1,
     "metadata": {},
     "output_type": "execute_result"
    }
   ],
   "source": [
    "from jqdatasdk import *\n",
    "auth('17895604891','Hello2023')\n",
    "get_account_info()"
   ]
  },
  {
   "cell_type": "code",
   "execution_count": 11,
   "id": "59553126",
   "metadata": {},
   "outputs": [],
   "source": [
    "securitys = get_all_securities(types=['stock'], date='2023-05-10')\n",
    "df =get_price(securitys.index.tolist(), start_date= '2023-05-10 09:00:00',end_date='2023-05-10 14:00:00',fq='post', frequency='minute', fields=['open','close','low','high','volume','money','factor',\n",
    "        'high_limit','low_limit','avg','pre_close','paused','factor'],round=False) \n",
    "df.to_csv('20230510_all.csv')"
   ]
  },
  {
   "cell_type": "code",
   "execution_count": 2,
   "id": "4c3e1a05",
   "metadata": {},
   "outputs": [
    {
     "ename": "Exception",
     "evalue": "get_ticks(股票历史tick) 属于付费模块（仅限机构使用），如果您有购买需求，可添加微信号JQData02申请试用或咨询开通",
     "output_type": "error",
     "traceback": [
      "\u001b[0;31m---------------------------------------------------------------------------\u001b[0m",
      "\u001b[0;31mException\u001b[0m                                 Traceback (most recent call last)",
      "\u001b[1;32m/Users/zhangwenbo/testProjects/laplace/jq_data.ipynb 单元格 4\u001b[0m in \u001b[0;36m<cell line: 3>\u001b[0;34m()\u001b[0m\n\u001b[1;32m      <a href='vscode-notebook-cell:/Users/zhangwenbo/testProjects/laplace/jq_data.ipynb#W3sZmlsZQ%3D%3D?line=0'>1</a>\u001b[0m \u001b[39m# data = get_ticks(\"605033.XSHG\", start_dt=\"2022-09-01\", end_dt=\"2022-10-01\",fields=[\"time\",\"a1_p\",\"a1_v\",\"a1_p\",\"a1_v\",\"a1_p\",\"a1_v\",\"a1_p\",\"a1_v\",\"a1_p\",\"a1_v\",\"a1_p\",\"a1_v\",],skip=True,df=True)\u001b[39;00m\n\u001b[1;32m      <a href='vscode-notebook-cell:/Users/zhangwenbo/testProjects/laplace/jq_data.ipynb#W3sZmlsZQ%3D%3D?line=1'>2</a>\u001b[0m \u001b[39m# data = get_ticks(\"002594.XSHE\", start_dt=\"2022-10-01\", end_dt=\"2022-11-01\",skip=True,df=True)\u001b[39;00m\n\u001b[0;32m----> <a href='vscode-notebook-cell:/Users/zhangwenbo/testProjects/laplace/jq_data.ipynb#W3sZmlsZQ%3D%3D?line=2'>3</a>\u001b[0m data \u001b[39m=\u001b[39m get_ticks(\u001b[39m\"\u001b[39;49m\u001b[39m002199.XSHE\u001b[39;49m\u001b[39m\"\u001b[39;49m, start_dt\u001b[39m=\u001b[39;49m\u001b[39m\"\u001b[39;49m\u001b[39m2023-01-06\u001b[39;49m\u001b[39m\"\u001b[39;49m, end_dt\u001b[39m=\u001b[39;49m\u001b[39m\"\u001b[39;49m\u001b[39m2023-01-06\u001b[39;49m\u001b[39m\"\u001b[39;49m,skip\u001b[39m=\u001b[39;49m\u001b[39mTrue\u001b[39;49;00m,df\u001b[39m=\u001b[39;49m\u001b[39mTrue\u001b[39;49;00m)\n\u001b[1;32m      <a href='vscode-notebook-cell:/Users/zhangwenbo/testProjects/laplace/jq_data.ipynb#W3sZmlsZQ%3D%3D?line=4'>5</a>\u001b[0m \u001b[39mprint\u001b[39m(data)\n",
      "File \u001b[0;32m~/miniforge3/lib/python3.10/site-packages/jqdatasdk/utils.py:350\u001b[0m, in \u001b[0;36massert_auth.<locals>._wrapper\u001b[0;34m(*args, **kwargs)\u001b[0m\n\u001b[1;32m    348\u001b[0m     \u001b[39mraise\u001b[39;00m \u001b[39mException\u001b[39;00m(\u001b[39m\"\u001b[39m\u001b[39mPlease run jqdatasdk.auth first\u001b[39m\u001b[39m\"\u001b[39m)\n\u001b[1;32m    349\u001b[0m \u001b[39melse\u001b[39;00m:\n\u001b[0;32m--> 350\u001b[0m     \u001b[39mreturn\u001b[39;00m func(\u001b[39m*\u001b[39;49margs, \u001b[39m*\u001b[39;49m\u001b[39m*\u001b[39;49mkwargs)\n",
      "File \u001b[0;32m~/miniforge3/lib/python3.10/site-packages/jqdatasdk/api.py:544\u001b[0m, in \u001b[0;36mget_ticks\u001b[0;34m(security, start_dt, end_dt, count, fields, skip, df)\u001b[0m\n\u001b[1;32m    542\u001b[0m start_dt \u001b[39m=\u001b[39m to_date_str(start_dt)\n\u001b[1;32m    543\u001b[0m end_dt \u001b[39m=\u001b[39m to_date_str(end_dt)\n\u001b[0;32m--> 544\u001b[0m \u001b[39mreturn\u001b[39;00m JQDataClient\u001b[39m.\u001b[39;49minstance()\u001b[39m.\u001b[39;49mget_ticks(\u001b[39m*\u001b[39;49m\u001b[39m*\u001b[39;49m\u001b[39mlocals\u001b[39;49m())\n",
      "File \u001b[0;32m~/miniforge3/lib/python3.10/site-packages/jqdatasdk/client.py:372\u001b[0m, in \u001b[0;36mJQDataClient.__getattr__.<locals>.<lambda>\u001b[0;34m(**kwargs)\u001b[0m\n\u001b[1;32m    371\u001b[0m \u001b[39mdef\u001b[39;00m \u001b[39m__getattr__\u001b[39m(\u001b[39mself\u001b[39m, method):\n\u001b[0;32m--> 372\u001b[0m     \u001b[39mreturn\u001b[39;00m \u001b[39mlambda\u001b[39;00m \u001b[39m*\u001b[39m\u001b[39m*\u001b[39mkwargs: \u001b[39mself\u001b[39;49m(method, \u001b[39m*\u001b[39;49m\u001b[39m*\u001b[39;49mkwargs)\n",
      "File \u001b[0;32m~/miniforge3/lib/python3.10/site-packages/jqdatasdk/client.py:356\u001b[0m, in \u001b[0;36mJQDataClient.__call__\u001b[0;34m(self, method, **kwargs)\u001b[0m\n\u001b[1;32m    354\u001b[0m \u001b[39mfor\u001b[39;00m _ \u001b[39min\u001b[39;00m \u001b[39mrange\u001b[39m(\u001b[39mself\u001b[39m\u001b[39m.\u001b[39mrequest_attempt_count):\n\u001b[1;32m    355\u001b[0m     \u001b[39mtry\u001b[39;00m:\n\u001b[0;32m--> 356\u001b[0m         result \u001b[39m=\u001b[39m \u001b[39mself\u001b[39;49m\u001b[39m.\u001b[39;49mquery(method, kwargs)\n\u001b[1;32m    357\u001b[0m         \u001b[39mbreak\u001b[39;00m\n\u001b[1;32m    358\u001b[0m     \u001b[39mexcept\u001b[39;00m socket_error \u001b[39mas\u001b[39;00m ex:\n",
      "File \u001b[0;32m~/miniforge3/lib/python3.10/site-packages/jqdatasdk/client.py:277\u001b[0m, in \u001b[0;36mJQDataClient.query\u001b[0;34m(self, method, params)\u001b[0m\n\u001b[1;32m    275\u001b[0m         result \u001b[39m=\u001b[39m pc\u001b[39m.\u001b[39mload(buffer, encoding\u001b[39m=\u001b[39mpickle_encoding)\n\u001b[1;32m    276\u001b[0m     \u001b[39melse\u001b[39;00m:\n\u001b[0;32m--> 277\u001b[0m         \u001b[39mraise\u001b[39;00m \u001b[39mself\u001b[39m\u001b[39m.\u001b[39mget_error(response)\n\u001b[1;32m    278\u001b[0m \u001b[39mfinally\u001b[39;00m:\n\u001b[1;32m    279\u001b[0m     buffer\u001b[39m.\u001b[39mclose()\n",
      "\u001b[0;31mException\u001b[0m: get_ticks(股票历史tick) 属于付费模块（仅限机构使用），如果您有购买需求，可添加微信号JQData02申请试用或咨询开通"
     ]
    }
   ],
   "source": [
    "# data = get_ticks(\"605033.XSHG\", start_dt=\"2022-09-01\", end_dt=\"2022-10-01\",fields=[\"time\",\"a1_p\",\"a1_v\",\"a1_p\",\"a1_v\",\"a1_p\",\"a1_v\",\"a1_p\",\"a1_v\",\"a1_p\",\"a1_v\",\"a1_p\",\"a1_v\",],skip=True,df=True)\n",
    "# data = get_ticks(\"002594.XSHE\", start_dt=\"2022-10-01\", end_dt=\"2022-11-01\",skip=True,df=True)\n",
    "data = get_ticks(\"603048.XSHG\", start_dt=\"2023-04-18\", end_dt=\"2023-04-18\",skip=True,df=True)\n",
    "\n",
    "print(data)\n",
    "\n",
    "# data.to_csv('tick_data/600028.csv', index=False)"
   ]
  }
 ],
 "metadata": {
  "kernelspec": {
   "display_name": "Python 3 (ipykernel)",
   "language": "python",
   "name": "python3"
  },
  "language_info": {
   "codemirror_mode": {
    "name": "ipython",
    "version": 3
   },
   "file_extension": ".py",
   "mimetype": "text/x-python",
   "name": "python",
   "nbconvert_exporter": "python",
   "pygments_lexer": "ipython3",
   "version": "3.10.10"
  }
 },
 "nbformat": 4,
 "nbformat_minor": 5
}
