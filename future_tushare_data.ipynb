{
 "cells": [
  {
   "cell_type": "code",
   "execution_count": 7,
   "metadata": {},
   "outputs": [
    {
     "name": "stdout",
     "output_type": "stream",
     "text": [
      "         ts_code           trade_time     open    close     high      low  \\\n",
      "0     SS2312.SHF  2023-05-25 00:52:00  13785.0  13785.0  13785.0  13785.0   \n",
      "1     SS2312.SHF  2023-05-25 00:51:00  13785.0  13785.0  13785.0  13785.0   \n",
      "2     SS2312.SHF  2023-05-25 00:50:00  13785.0  13785.0  13785.0  13785.0   \n",
      "3     SS2312.SHF  2023-05-25 00:49:00  13785.0  13785.0  13785.0  13785.0   \n",
      "4     SS2312.SHF  2023-05-25 00:48:00  13785.0  13785.0  13785.0  13785.0   \n",
      "...          ...                  ...      ...      ...      ...      ...   \n",
      "6978  SS2312.SHF  2023-05-04 09:04:00  14590.0  14590.0  14590.0  14590.0   \n",
      "6979  SS2312.SHF  2023-05-04 09:03:00  14590.0  14590.0  14590.0  14590.0   \n",
      "6980  SS2312.SHF  2023-05-04 09:02:00  14590.0  14590.0  14590.0  14590.0   \n",
      "6981  SS2312.SHF  2023-05-04 09:01:00  14585.0  14585.0  14585.0  14585.0   \n",
      "6982  SS2312.SHF  2023-05-04 09:00:00  14585.0  14585.0  14585.0  14585.0   \n",
      "\n",
      "      vol   amount      oi  \n",
      "0     0.0      0.0  5026.0  \n",
      "1     0.0      0.0  5026.0  \n",
      "2     0.0      0.0  5026.0  \n",
      "3     0.0      0.0  5026.0  \n",
      "4     0.0      0.0  5026.0  \n",
      "...   ...      ...     ...  \n",
      "6978  0.0      0.0  2228.0  \n",
      "6979  0.0      0.0  2228.0  \n",
      "6980  1.0  72950.0  2228.0  \n",
      "6981  0.0      0.0  2228.0  \n",
      "6982  0.0      0.0  2228.0  \n",
      "\n",
      "[6983 rows x 9 columns]\n"
     ]
    }
   ],
   "source": [
    "import tushare as ts\n",
    "import pandas as pd\n",
    "from sklearn.ensemble import RandomForestClassifier\n",
    "from sklearn.ensemble import RandomForestRegressor\n",
    "from sklearn.model_selection import train_test_split\n",
    "\n",
    "ts.set_token('82ff41298783062accf8b8400cd4e1303a64a28df0a53533586313fa')\n",
    "pro = ts.pro_api()\n",
    "df = pro.df = pro.ft_mins(ts_code='SS2312.SHF', freq='1min', start_date='2023-05-01 09:00:00', end_date='2023-05-25 00:52:00')\n",
    "print(df)\n",
    "df.to_csv('future_ss2312_min.csv',index=False,header=False,mode='a')\n"
   ]
  }
 ],
 "metadata": {
  "kernelspec": {
   "display_name": "base",
   "language": "python",
   "name": "python3"
  },
  "language_info": {
   "codemirror_mode": {
    "name": "ipython",
    "version": 3
   },
   "file_extension": ".py",
   "mimetype": "text/x-python",
   "name": "python",
   "nbconvert_exporter": "python",
   "pygments_lexer": "ipython3",
   "version": "3.10.10"
  }
 },
 "nbformat": 4,
 "nbformat_minor": 2
}
