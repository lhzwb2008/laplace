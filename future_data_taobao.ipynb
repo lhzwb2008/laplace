{
 "cells": [
  {
   "cell_type": "code",
   "execution_count": 12,
   "metadata": {},
   "outputs": [
    {
     "name": "stdout",
     "output_type": "stream",
     "text": [
      "All files combined successfully!\n"
     ]
    }
   ],
   "source": [
    "import os\n",
    "import pandas as pd\n",
    "\n",
    "def read_csv_with_encoding(file, encodings):\n",
    "    for encoding in encodings:\n",
    "        try:\n",
    "            return pd.read_csv(file, encoding=encoding)\n",
    "        except UnicodeDecodeError:\n",
    "            continue\n",
    "    raise ValueError(f\"None of the encodings worked for file: {file}\")\n",
    "\n",
    "def combine_csv_in_folder(folder_path, file_pattern):\n",
    "    dataframes = []  # 创建一个空列表来收集数据帧\n",
    "    for root, dirs, files in os.walk(folder_path):\n",
    "        for file in files:\n",
    "            if file.endswith(file_pattern):\n",
    "                file_path = os.path.join(root, file)\n",
    "                df = read_csv_with_encoding(file_path, ['utf-8', 'gb2312', 'gbk'])\n",
    "                dataframes.append(df)  # 将数据帧添加到列表中\n",
    "    return pd.concat(dataframes, ignore_index=True) if dataframes else pd.DataFrame()\n",
    "\n",
    "# List of root folders to start the search\n",
    "root_folders = ['/Users/zhangwenbo/Downloads/1','/Users/zhangwenbo/Downloads/12']\n",
    "\n",
    "file_pattern = \"ss2403.csv\"\n",
    "\n",
    "# Create an empty DataFrame to store combined data\n",
    "combined_csv = pd.DataFrame()\n",
    "\n",
    "# Process each root folder and concatenate the results\n",
    "for folder in root_folders:\n",
    "    folder_csv = combine_csv_in_folder(folder, file_pattern)\n",
    "    if not folder_csv.empty:\n",
    "        combined_csv = pd.concat([combined_csv, folder_csv], ignore_index=True)\n",
    "\n",
    "# Save the combined data to a new CSV file\n",
    "combined_csv.to_csv(\"/Users/zhangwenbo/testProjects/laplace/taobao_combined.csv\", index=False, encoding='utf-8', errors='ignore')\n",
    "\n",
    "print(\"All files combined successfully!\")\n"
   ]
  },
  {
   "cell_type": "code",
   "execution_count": 2,
   "metadata": {},
   "outputs": [],
   "source": [
    "import pandas as pd\n",
    "data = pd.read_csv(\"/Users/zhangwenbo/testProjects/laplace/taobao_combined.csv\")\n",
    "code = \"SHFE.ss2403.\"\n",
    "\n",
    "# 遍历所有列名并处理\n",
    "new_columns = []\n",
    "for col in data.columns:\n",
    "    if col.startswith(code):\n",
    "        new_columns.append(col.replace(code, \"\"))\n",
    "    else:\n",
    "        new_columns.append(col)\n",
    "data.columns = new_columns\n",
    "data = data.sort_values(by='datetime')\n",
    "data.to_csv(\"future_taobao_ss2403_tick.csv\",index=False)\n"
   ]
  }
 ],
 "metadata": {
  "kernelspec": {
   "display_name": "base",
   "language": "python",
   "name": "python3"
  },
  "language_info": {
   "codemirror_mode": {
    "name": "ipython",
    "version": 3
   },
   "file_extension": ".py",
   "mimetype": "text/x-python",
   "name": "python",
   "nbconvert_exporter": "python",
   "pygments_lexer": "ipython3",
   "version": "3.10.10"
  }
 },
 "nbformat": 4,
 "nbformat_minor": 2
}
