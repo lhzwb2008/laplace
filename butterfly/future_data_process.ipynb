{
 "cells": [
  {
   "cell_type": "code",
   "execution_count": 4,
   "metadata": {},
   "outputs": [
    {
     "name": "stdout",
     "output_type": "stream",
     "text": [
      "All files combined successfully!\n"
     ]
    }
   ],
   "source": [
    "import os\n",
    "import pandas as pd\n",
    "import fnmatch\n",
    "\n",
    "def read_csv_with_encoding(file, encodings):\n",
    "    for encoding in encodings:\n",
    "        try:\n",
    "            return pd.read_csv(file, encoding=encoding)\n",
    "        except UnicodeDecodeError:\n",
    "            continue\n",
    "    raise ValueError(f\"None of the encodings worked for file: {file}\")\n",
    "\n",
    "\n",
    "def combine_csv_in_folder(folder_path, file_pattern):\n",
    "    dataframes = []  # 创建一个空列表来收集数据帧\n",
    "    for root, dirs, files in os.walk(folder_path):\n",
    "        for file in files:\n",
    "            if fnmatch.fnmatch(file, file_pattern):  # 使用fnmatch来进行模式匹配\n",
    "                file_path = os.path.join(root, file)\n",
    "                df = read_csv_with_encoding(file_path, ['utf-8', 'gb2312', 'gbk'])\n",
    "                dataframes.append(df)  # 将数据帧添加到列表中\n",
    "    return pd.concat(dataframes, ignore_index=True) if dataframes else pd.DataFrame()\n",
    "\n",
    "\n",
    "root_folders = ['/Users/Wezhang/Downloads/data']\n",
    "file_pattern = 'ss2405.csv'\n",
    "\n",
    "# Create an empty DataFrame to store combined data\n",
    "combined_csv = pd.DataFrame()\n",
    "\n",
    "# Process each root folder and concatenate the results\n",
    "for folder in root_folders:\n",
    "    folder_csv = combine_csv_in_folder(folder, file_pattern)\n",
    "    if not folder_csv.empty:\n",
    "        combined_csv = pd.concat([combined_csv, folder_csv], ignore_index=True)\n",
    "\n",
    "# Save the combined data to a new CSV file\n",
    "combined_csv.to_csv(\"/Users/Wezhang/workspace/laplace/taobao_combined.csv\", index=False, encoding='utf-8', errors='ignore')\n",
    "\n",
    "print(\"All files combined successfully!\")\n"
   ]
  },
  {
   "cell_type": "code",
   "execution_count": 5,
   "metadata": {},
   "outputs": [],
   "source": [
    "import pandas as pd\n",
    "data = pd.read_csv(\"/Users/Wezhang/workspace/laplace/taobao_combined.csv\")\n",
    "code = \"SHFE.ss2405.\"\n",
    "# code = \"KQ.m@SHFE.ss.\"\n",
    "\n",
    "# 遍历所有列名并处理\n",
    "new_columns = []\n",
    "for col in data.columns:\n",
    "    if col.startswith(code):\n",
    "        new_columns.append(col.replace(code, \"\"))\n",
    "    else:\n",
    "        new_columns.append(col)\n",
    "data.columns = new_columns\n",
    "data = data.sort_values(by='datetime')\n",
    "data.to_csv(\"future_taobao_ss2405.csv\",index=False)\n"
   ]
  },
  {
   "cell_type": "code",
   "execution_count": 6,
   "metadata": {},
   "outputs": [],
   "source": [
    "import pandas as pd\n",
    "data = pd.read_csv(\"future_taobao_ss2405.csv\")\n",
    "data = data.drop(columns=['average'])\n",
    "data.to_csv(\"future_taobao_ss2405.csv\", index=False)"
   ]
  },
  {
   "cell_type": "code",
   "execution_count": null,
   "metadata": {},
   "outputs": [],
   "source": [
    "#合并主力合约\n",
    "import pandas as pd\n",
    "\n",
    "# 定义文件路径\n",
    "files = {\n",
    "    \"ss2401\": \"future_taobao_ss2401.csv\",\n",
    "    \"ss2402\": \"future_taobao_ss2402.csv\",\n",
    "    \"ss2403\": \"future_taobao_ss2403.csv\",\n",
    "    \"ss2405\": \"future_taobao_ss2405.csv\"\n",
    "}\n",
    "\n",
    "# 读取数据\n",
    "dataframes = {key: pd.read_csv(value) for key, value in files.items()}\n",
    "\n",
    "# 转换datetime列为datetime类型\n",
    "for df in dataframes.values():\n",
    "    df['datetime'] = pd.to_datetime(df['datetime'])\n",
    "\n",
    "# 根据日期规则筛选数据\n",
    "ss2401_data = dataframes['ss2401'][dataframes['ss2401']['datetime'] <= '2023-12-11']\n",
    "ss2402_data = dataframes['ss2402'][(dataframes['ss2402']['datetime'] > '2023-12-11') & (dataframes['ss2402']['datetime'] <= '2024-01-12')]\n",
    "ss2403_data = dataframes['ss2403'][(dataframes['ss2403']['datetime'] > '2024-01-12') & (dataframes['ss2403']['datetime'] <= '2024-02-08')]\n",
    "ss2405_data = dataframes['ss2405'][dataframes['ss2405']['datetime'] > '2024-02-08']\n",
    "\n",
    "# 合并数据\n",
    "concatenated_data = pd.concat([ss2401_data, ss2402_data, ss2403_data, ss2405_data])\n",
    "\n",
    "# 排序数据\n",
    "concatenated_data = concatenated_data.sort_values(by='datetime')\n",
    "\n",
    "# 导出到新的CSV文件\n",
    "concatenated_data.to_csv(\"future_taobao_ssMain.csv\", index=False)\n"
   ]
  }
 ],
 "metadata": {
  "kernelspec": {
   "display_name": "futu",
   "language": "python",
   "name": "python3"
  },
  "language_info": {
   "codemirror_mode": {
    "name": "ipython",
    "version": 3
   },
   "file_extension": ".py",
   "mimetype": "text/x-python",
   "name": "python",
   "nbconvert_exporter": "python",
   "pygments_lexer": "ipython3",
   "version": "3.12.8"
  }
 },
 "nbformat": 4,
 "nbformat_minor": 2
}
