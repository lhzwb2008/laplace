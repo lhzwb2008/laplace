{
 "cells": [
  {
   "cell_type": "code",
   "execution_count": 1,
   "metadata": {},
   "outputs": [
    {
     "name": "stderr",
     "output_type": "stream",
     "text": [
      "/var/folders/g3/764mx2lj2gs3qc7l4pz4v2n00000gp/T/ipykernel_72465/1015513770.py:19: FutureWarning: The frame.append method is deprecated and will be removed from pandas in a future version. Use pandas.concat instead.\n",
      "  combined_csv = combined_csv.append(df, ignore_index=True)\n",
      "/var/folders/g3/764mx2lj2gs3qc7l4pz4v2n00000gp/T/ipykernel_72465/1015513770.py:19: FutureWarning: The frame.append method is deprecated and will be removed from pandas in a future version. Use pandas.concat instead.\n",
      "  combined_csv = combined_csv.append(df, ignore_index=True)\n",
      "/var/folders/g3/764mx2lj2gs3qc7l4pz4v2n00000gp/T/ipykernel_72465/1015513770.py:19: FutureWarning: The frame.append method is deprecated and will be removed from pandas in a future version. Use pandas.concat instead.\n",
      "  combined_csv = combined_csv.append(df, ignore_index=True)\n",
      "/var/folders/g3/764mx2lj2gs3qc7l4pz4v2n00000gp/T/ipykernel_72465/1015513770.py:19: FutureWarning: The frame.append method is deprecated and will be removed from pandas in a future version. Use pandas.concat instead.\n",
      "  combined_csv = combined_csv.append(df, ignore_index=True)\n",
      "/var/folders/g3/764mx2lj2gs3qc7l4pz4v2n00000gp/T/ipykernel_72465/1015513770.py:19: FutureWarning: The frame.append method is deprecated and will be removed from pandas in a future version. Use pandas.concat instead.\n",
      "  combined_csv = combined_csv.append(df, ignore_index=True)\n",
      "/var/folders/g3/764mx2lj2gs3qc7l4pz4v2n00000gp/T/ipykernel_72465/1015513770.py:19: FutureWarning: The frame.append method is deprecated and will be removed from pandas in a future version. Use pandas.concat instead.\n",
      "  combined_csv = combined_csv.append(df, ignore_index=True)\n",
      "/var/folders/g3/764mx2lj2gs3qc7l4pz4v2n00000gp/T/ipykernel_72465/1015513770.py:19: FutureWarning: The frame.append method is deprecated and will be removed from pandas in a future version. Use pandas.concat instead.\n",
      "  combined_csv = combined_csv.append(df, ignore_index=True)\n",
      "/var/folders/g3/764mx2lj2gs3qc7l4pz4v2n00000gp/T/ipykernel_72465/1015513770.py:19: FutureWarning: The frame.append method is deprecated and will be removed from pandas in a future version. Use pandas.concat instead.\n",
      "  combined_csv = combined_csv.append(df, ignore_index=True)\n",
      "/var/folders/g3/764mx2lj2gs3qc7l4pz4v2n00000gp/T/ipykernel_72465/1015513770.py:19: FutureWarning: The frame.append method is deprecated and will be removed from pandas in a future version. Use pandas.concat instead.\n",
      "  combined_csv = combined_csv.append(df, ignore_index=True)\n",
      "/var/folders/g3/764mx2lj2gs3qc7l4pz4v2n00000gp/T/ipykernel_72465/1015513770.py:19: FutureWarning: The frame.append method is deprecated and will be removed from pandas in a future version. Use pandas.concat instead.\n",
      "  combined_csv = combined_csv.append(df, ignore_index=True)\n",
      "/var/folders/g3/764mx2lj2gs3qc7l4pz4v2n00000gp/T/ipykernel_72465/1015513770.py:19: FutureWarning: The frame.append method is deprecated and will be removed from pandas in a future version. Use pandas.concat instead.\n",
      "  combined_csv = combined_csv.append(df, ignore_index=True)\n",
      "/var/folders/g3/764mx2lj2gs3qc7l4pz4v2n00000gp/T/ipykernel_72465/1015513770.py:19: FutureWarning: The frame.append method is deprecated and will be removed from pandas in a future version. Use pandas.concat instead.\n",
      "  combined_csv = combined_csv.append(df, ignore_index=True)\n",
      "/var/folders/g3/764mx2lj2gs3qc7l4pz4v2n00000gp/T/ipykernel_72465/1015513770.py:19: FutureWarning: The frame.append method is deprecated and will be removed from pandas in a future version. Use pandas.concat instead.\n",
      "  combined_csv = combined_csv.append(df, ignore_index=True)\n",
      "/var/folders/g3/764mx2lj2gs3qc7l4pz4v2n00000gp/T/ipykernel_72465/1015513770.py:19: FutureWarning: The frame.append method is deprecated and will be removed from pandas in a future version. Use pandas.concat instead.\n",
      "  combined_csv = combined_csv.append(df, ignore_index=True)\n",
      "/var/folders/g3/764mx2lj2gs3qc7l4pz4v2n00000gp/T/ipykernel_72465/1015513770.py:19: FutureWarning: The frame.append method is deprecated and will be removed from pandas in a future version. Use pandas.concat instead.\n",
      "  combined_csv = combined_csv.append(df, ignore_index=True)\n",
      "/var/folders/g3/764mx2lj2gs3qc7l4pz4v2n00000gp/T/ipykernel_72465/1015513770.py:19: FutureWarning: The frame.append method is deprecated and will be removed from pandas in a future version. Use pandas.concat instead.\n",
      "  combined_csv = combined_csv.append(df, ignore_index=True)\n",
      "/var/folders/g3/764mx2lj2gs3qc7l4pz4v2n00000gp/T/ipykernel_72465/1015513770.py:19: FutureWarning: The frame.append method is deprecated and will be removed from pandas in a future version. Use pandas.concat instead.\n",
      "  combined_csv = combined_csv.append(df, ignore_index=True)\n"
     ]
    },
    {
     "name": "stdout",
     "output_type": "stream",
     "text": [
      "All files combined successfully!\n"
     ]
    }
   ],
   "source": [
    "import os\n",
    "import glob\n",
    "import pandas as pd\n",
    "\n",
    "def read_csv_with_encoding(file, encodings):\n",
    "    for encoding in encodings:\n",
    "        try:\n",
    "            return pd.read_csv(file, encoding=encoding)\n",
    "        except UnicodeDecodeError:\n",
    "            continue\n",
    "    raise ValueError(f\"None of the encodings worked for file: {file}\")\n",
    "\n",
    "def combine_csv_in_folder(folder_path, file_pattern, combined_csv):\n",
    "    os.chdir(folder_path)\n",
    "    file_list = glob.glob(file_pattern)\n",
    "\n",
    "    for file in file_list:\n",
    "        df = read_csv_with_encoding(file, ['utf-8', 'gb2312', 'gbk'])\n",
    "        combined_csv = combined_csv.append(df, ignore_index=True)\n",
    "\n",
    "    return combined_csv\n",
    "\n",
    "# List of folders to combine CSV files from\n",
    "folders = ['/Users/zhangwenbo/testProjects/laplace/ss', '/Users/zhangwenbo/testProjects/laplace']  # Update with your folder paths\n",
    "file_pattern = \"ss主力连续*.csv\"\n",
    "\n",
    "# Create an empty DataFrame to store combined data\n",
    "combined_csv = pd.DataFrame()\n",
    "\n",
    "# Process each folder\n",
    "for folder in folders:\n",
    "    combined_csv = combine_csv_in_folder(folder, file_pattern, combined_csv)\n",
    "\n",
    "# Save the combined data to a new CSV file\n",
    "combined_csv.to_csv(\"/Users/zhangwenbo/testProjects/laplace/combined_csv.csv\", index=False, encoding='utf-8', errors='ignore')\n",
    "\n",
    "print(\"All files combined successfully!\")\n"
   ]
  },
  {
   "cell_type": "code",
   "execution_count": 9,
   "metadata": {},
   "outputs": [],
   "source": [
    "data = pd.read_csv(\"/Users/zhangwenbo/testProjects/laplace/combined_csv.csv\")\n",
    "data['close'] = data['最新价']\n",
    "data['time'] = data['最后修改时间']\n",
    "data['trade_time'] = pd.to_datetime(data['交易日'].astype(str) + ' ' + data['最后修改时间'])\n",
    "data = data.sort_values(by='trade_time')\n",
    "data.to_csv(\"future_ssmain_tick.csv\")\n"
   ]
  }
 ],
 "metadata": {
  "kernelspec": {
   "display_name": "base",
   "language": "python",
   "name": "python3"
  },
  "language_info": {
   "codemirror_mode": {
    "name": "ipython",
    "version": 3
   },
   "file_extension": ".py",
   "mimetype": "text/x-python",
   "name": "python",
   "nbconvert_exporter": "python",
   "pygments_lexer": "ipython3",
   "version": "3.10.10"
  }
 },
 "nbformat": 4,
 "nbformat_minor": 2
}
