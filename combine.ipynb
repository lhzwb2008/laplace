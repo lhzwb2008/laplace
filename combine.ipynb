{
 "cells": [
  {
   "cell_type": "code",
   "execution_count": 3,
   "metadata": {},
   "outputs": [
    {
     "name": "stderr",
     "output_type": "stream",
     "text": [
      "/var/folders/g3/764mx2lj2gs3qc7l4pz4v2n00000gp/T/ipykernel_14302/1238958417.py:19: FutureWarning: The frame.append method is deprecated and will be removed from pandas in a future version. Use pandas.concat instead.\n",
      "  combined_csv = combined_csv.append(df, ignore_index=True)\n",
      "/var/folders/g3/764mx2lj2gs3qc7l4pz4v2n00000gp/T/ipykernel_14302/1238958417.py:19: FutureWarning: The frame.append method is deprecated and will be removed from pandas in a future version. Use pandas.concat instead.\n",
      "  combined_csv = combined_csv.append(df, ignore_index=True)\n",
      "/var/folders/g3/764mx2lj2gs3qc7l4pz4v2n00000gp/T/ipykernel_14302/1238958417.py:19: FutureWarning: The frame.append method is deprecated and will be removed from pandas in a future version. Use pandas.concat instead.\n",
      "  combined_csv = combined_csv.append(df, ignore_index=True)\n",
      "/var/folders/g3/764mx2lj2gs3qc7l4pz4v2n00000gp/T/ipykernel_14302/1238958417.py:19: FutureWarning: The frame.append method is deprecated and will be removed from pandas in a future version. Use pandas.concat instead.\n",
      "  combined_csv = combined_csv.append(df, ignore_index=True)\n",
      "/var/folders/g3/764mx2lj2gs3qc7l4pz4v2n00000gp/T/ipykernel_14302/1238958417.py:19: FutureWarning: The frame.append method is deprecated and will be removed from pandas in a future version. Use pandas.concat instead.\n",
      "  combined_csv = combined_csv.append(df, ignore_index=True)\n",
      "/var/folders/g3/764mx2lj2gs3qc7l4pz4v2n00000gp/T/ipykernel_14302/1238958417.py:19: FutureWarning: The frame.append method is deprecated and will be removed from pandas in a future version. Use pandas.concat instead.\n",
      "  combined_csv = combined_csv.append(df, ignore_index=True)\n",
      "/var/folders/g3/764mx2lj2gs3qc7l4pz4v2n00000gp/T/ipykernel_14302/1238958417.py:19: FutureWarning: The frame.append method is deprecated and will be removed from pandas in a future version. Use pandas.concat instead.\n",
      "  combined_csv = combined_csv.append(df, ignore_index=True)\n",
      "/var/folders/g3/764mx2lj2gs3qc7l4pz4v2n00000gp/T/ipykernel_14302/1238958417.py:19: FutureWarning: The frame.append method is deprecated and will be removed from pandas in a future version. Use pandas.concat instead.\n",
      "  combined_csv = combined_csv.append(df, ignore_index=True)\n",
      "/var/folders/g3/764mx2lj2gs3qc7l4pz4v2n00000gp/T/ipykernel_14302/1238958417.py:19: FutureWarning: The frame.append method is deprecated and will be removed from pandas in a future version. Use pandas.concat instead.\n",
      "  combined_csv = combined_csv.append(df, ignore_index=True)\n",
      "/var/folders/g3/764mx2lj2gs3qc7l4pz4v2n00000gp/T/ipykernel_14302/1238958417.py:19: FutureWarning: The frame.append method is deprecated and will be removed from pandas in a future version. Use pandas.concat instead.\n",
      "  combined_csv = combined_csv.append(df, ignore_index=True)\n",
      "/var/folders/g3/764mx2lj2gs3qc7l4pz4v2n00000gp/T/ipykernel_14302/1238958417.py:19: FutureWarning: The frame.append method is deprecated and will be removed from pandas in a future version. Use pandas.concat instead.\n",
      "  combined_csv = combined_csv.append(df, ignore_index=True)\n",
      "/var/folders/g3/764mx2lj2gs3qc7l4pz4v2n00000gp/T/ipykernel_14302/1238958417.py:19: FutureWarning: The frame.append method is deprecated and will be removed from pandas in a future version. Use pandas.concat instead.\n",
      "  combined_csv = combined_csv.append(df, ignore_index=True)\n",
      "/var/folders/g3/764mx2lj2gs3qc7l4pz4v2n00000gp/T/ipykernel_14302/1238958417.py:19: FutureWarning: The frame.append method is deprecated and will be removed from pandas in a future version. Use pandas.concat instead.\n",
      "  combined_csv = combined_csv.append(df, ignore_index=True)\n",
      "/var/folders/g3/764mx2lj2gs3qc7l4pz4v2n00000gp/T/ipykernel_14302/1238958417.py:19: FutureWarning: The frame.append method is deprecated and will be removed from pandas in a future version. Use pandas.concat instead.\n",
      "  combined_csv = combined_csv.append(df, ignore_index=True)\n",
      "/var/folders/g3/764mx2lj2gs3qc7l4pz4v2n00000gp/T/ipykernel_14302/1238958417.py:19: FutureWarning: The frame.append method is deprecated and will be removed from pandas in a future version. Use pandas.concat instead.\n",
      "  combined_csv = combined_csv.append(df, ignore_index=True)\n",
      "/var/folders/g3/764mx2lj2gs3qc7l4pz4v2n00000gp/T/ipykernel_14302/1238958417.py:19: FutureWarning: The frame.append method is deprecated and will be removed from pandas in a future version. Use pandas.concat instead.\n",
      "  combined_csv = combined_csv.append(df, ignore_index=True)\n",
      "/var/folders/g3/764mx2lj2gs3qc7l4pz4v2n00000gp/T/ipykernel_14302/1238958417.py:19: FutureWarning: The frame.append method is deprecated and will be removed from pandas in a future version. Use pandas.concat instead.\n",
      "  combined_csv = combined_csv.append(df, ignore_index=True)\n"
     ]
    },
    {
     "name": "stdout",
     "output_type": "stream",
     "text": [
      "All files combined into rb2401_10.csv successfully!\n"
     ]
    }
   ],
   "source": [
    "import os\n",
    "import glob\n",
    "import pandas as pd\n",
    "\n",
    "# 设定工作目录，这应该是存放 CSV 文件的文件夹路径\n",
    "os.chdir('/Users/zhangwenbo/testProjects/laplace/rb_202310')\n",
    "\n",
    "\n",
    "# 匹配所有以 'rb2401' 开头的 CSV 文件\n",
    "file_pattern = \"rb2401*.csv\"\n",
    "file_list = glob.glob(file_pattern)\n",
    "\n",
    "# 创建一个空的 DataFrame 来存放合并后的数据\n",
    "combined_csv = pd.DataFrame()\n",
    "\n",
    "# 循环遍历文件列表，将每个文件的内容添加到 DataFrame\n",
    "for file in file_list:\n",
    "    df = pd.read_csv(file, index_col=None, header=0, encoding='gb2312')  # 确保读取时使用utf-8编码\n",
    "    combined_csv = combined_csv.append(df, ignore_index=True)\n",
    "\n",
    "# 将合并后的数据写入一个新的 CSV 文件，使用 gb2312 编码\n",
    "combined_csv.to_csv(\"rb2401_10.csv\", index=False, encoding='utf-8', errors='ignore')\n",
    "\n",
    "print(f\"All files combined into rb2401_10.csv successfully!\")\n"
   ]
  }
 ],
 "metadata": {
  "kernelspec": {
   "display_name": "base",
   "language": "python",
   "name": "python3"
  },
  "language_info": {
   "codemirror_mode": {
    "name": "ipython",
    "version": 3
   },
   "file_extension": ".py",
   "mimetype": "text/x-python",
   "name": "python",
   "nbconvert_exporter": "python",
   "pygments_lexer": "ipython3",
   "version": "3.10.10"
  }
 },
 "nbformat": 4,
 "nbformat_minor": 2
}
