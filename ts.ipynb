{
 "cells": [
  {
   "cell_type": "code",
   "execution_count": 1,
   "id": "ab924168-b0a5-4c55-83f7-fd5ee717ff24",
   "metadata": {
    "tags": []
   },
   "outputs": [],
   "source": [
    "import tushare as ts\n",
    "import pymysql\n",
    "ts.set_token('b0030b7297c6b297f1db549c7f8c8a080b5f28e2267f07c4741e69ad')\n"
   ]
  },
  {
   "cell_type": "code",
   "execution_count": 4,
   "id": "3cc0c197-2b0b-4126-bc7e-0c3640386c06",
   "metadata": {
    "tags": []
   },
   "outputs": [
    {
     "name": "stdout",
     "output_type": "stream",
     "text": [
      "       ts_code           trade_time    open   close    high     low       vol  \\\n",
      "0    002594.SZ  2023-07-12 15:00:00  265.61  265.61  265.61  265.61  140405.0   \n",
      "1    002594.SZ  2023-07-12 14:59:00  265.04  265.04  265.04  265.04       0.0   \n",
      "2    002594.SZ  2023-07-12 14:58:00  265.04  265.04  265.04  265.04       0.0   \n",
      "3    002594.SZ  2023-07-12 14:57:00  265.05  265.04  265.10  265.04   65997.0   \n",
      "4    002594.SZ  2023-07-12 14:56:00  265.01  265.15  265.18  265.01   42203.0   \n",
      "..         ...                  ...     ...     ...     ...     ...       ...   \n",
      "718  002594.SZ  2023-07-10 09:34:00  268.54  269.03  269.50  268.54  207800.0   \n",
      "719  002594.SZ  2023-07-10 09:33:00  267.83  268.37  268.51  267.83  122300.0   \n",
      "720  002594.SZ  2023-07-10 09:32:00  267.89  267.60  268.15  267.59  102200.0   \n",
      "721  002594.SZ  2023-07-10 09:31:00  267.26  267.88  268.25  267.12  137300.0   \n",
      "722  002594.SZ  2023-07-10 09:30:00  267.00  267.03  268.00  266.50   64600.0   \n",
      "\n",
      "          amount trade_date  pre_close  \n",
      "0    37292972.05   20230712     265.04  \n",
      "1           0.00   20230712     265.04  \n",
      "2           0.00   20230712     265.04  \n",
      "3    17492546.79   20230712     265.15  \n",
      "4    11185939.15   20230712     265.01  \n",
      "..           ...        ...        ...  \n",
      "718  55902380.00   20230710     268.37  \n",
      "719  32803276.98   20230710     267.60  \n",
      "720  27382240.00   20230710     267.88  \n",
      "721  36737071.00   20230710     267.03  \n",
      "722  17254830.00   20230710        NaN  \n",
      "\n",
      "[723 rows x 10 columns]\n"
     ]
    }
   ],
   "source": [
    "from cashare.minute_data import m_data\n",
    "#获取股票1分钟数据\n",
    "# df = m_data(sk_code='BABA',freq='1min',token='f9882e4b76023e40f506c3b274ecde2295t1',start_date='2020-06-20',end_date='2023-07-05')\n",
    "df = ts.pro_bar(ts_code='002594.SZ',freq='1min', start_date='2023-07-10 09:00:00', end_date='2023-07-13 15:00:00')\n",
    "print(df)\n",
    "# df = df[['open', 'vol']]\n",
    "# df.sort_index(ascending=False, inplace=True)\n",
    "# df = df.reset_index(drop=True)\n",
    "\n",
    "df.to_csv('stock_002594_predict.csv', index=False)\n",
    "\n",
    "# df.to_csv('stock_data.csv', index=False,mode='a', header=False)\n",
    "\n",
    "# for index,row in df.iterrows(): \n",
    "#     db = pymysql.connect(host=\"127.0.0.1\", user=\"root\", password=\"123\", database=\"laplace\" )\n",
    "#     cursor = db.cursor()\n",
    "#     sql = \"INSERT INTO trade(ts_code,trade_time,vol,amount,price) \\\n",
    "#     VALUES ('%s','%s','%s','%s','%s')\" % \\\n",
    "#     (row['ts_code'],row['trade_time'],row['vol'], row['amount'],row['open'])\n",
    "#     try:\n",
    "#         cursor.execute(sql)\n",
    "#         db.commit()\n",
    "#     except Exception as e:\n",
    "#         print(e)\n",
    "#     finally:\n",
    "#         db.close()        "
   ]
  }
 ],
 "metadata": {
  "kernelspec": {
   "display_name": "Python 3 (ipykernel)",
   "language": "python",
   "name": "python3"
  },
  "language_info": {
   "codemirror_mode": {
    "name": "ipython",
    "version": 3
   },
   "file_extension": ".py",
   "mimetype": "text/x-python",
   "name": "python",
   "nbconvert_exporter": "python",
   "pygments_lexer": "ipython3",
   "version": "3.10.10"
  }
 },
 "nbformat": 4,
 "nbformat_minor": 5
}
