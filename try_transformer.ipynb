{
 "cells": [
  {
   "cell_type": "code",
   "execution_count": 80,
   "metadata": {},
   "outputs": [
    {
     "name": "stderr",
     "output_type": "stream",
     "text": [
      "2023-07-04 10:45:19.387674: I tensorflow/core/common_runtime/executor.cc:1210] [/device:CPU:0] (DEBUG INFO) Executor start aborting (this does not indicate an error and you can ignore this message): INVALID_ARGUMENT: You must feed a value for placeholder tensor 'Placeholder/_0' with dtype int32\n",
      "\t [[{{node Placeholder/_0}}]]\n"
     ]
    },
    {
     "name": "stdout",
     "output_type": "stream",
     "text": [
      "-3.25\n"
     ]
    }
   ],
   "source": [
    "import numpy as np\n",
    "import pandas as pd\n",
    "import os\n",
    "from sklearn.preprocessing import StandardScaler\n",
    "from tensorflow.keras.models import Model\n",
    "from tensorflow.keras.layers import Input, Dense, Dropout\n",
    "from tensorflow.keras.optimizers import Adam\n",
    "from tensorflow.keras.layers import MultiHeadAttention\n",
    "from tensorflow.keras.models import load_model\n",
    "import matplotlib.pyplot as plt\n",
    "from tensorflow.keras.layers import TimeDistributed, Flatten\n",
    "from tensorflow.keras.layers import LSTM,RepeatVector\n",
    "from tensorflow.keras.layers import GlobalMaxPooling1D, RepeatVector,Conv1D\n",
    "import tushare as ts\n",
    "import pymysql\n",
    "ts.set_token('b0030b7297c6b297f1db549c7f8c8a080b5f28e2267f07c4741e69ad')\n",
    "\n",
    "pro = ts.pro_api()\n",
    "df = pro.daily(ts_code='002594.SZ', start_date='20110630', end_date='20230703')\n",
    "\n",
    "df = df[['close', 'vol']]\n",
    "data = df\n",
    "\n",
    "data.sort_index(ascending=False, inplace=True)\n",
    "data = data.reset_index(drop=True)\n",
    "\n",
    "# 计算差值\n",
    "data_diff = data.diff().dropna()\n",
    "\n",
    "# 数据缩放\n",
    "scaler = StandardScaler()\n",
    "data_scaled = scaler.fit_transform(data_diff)\n",
    "\n",
    "lookback = 30\n",
    "delay = 1\n",
    "\n",
    "# 定义生成器函数\n",
    "def generator(data, lookback=10, delay=1, batch_size=10):\n",
    "    max_index = len(data) - delay - 1\n",
    "    i = lookback\n",
    "    while 1:\n",
    "        if i + delay >= max_index:\n",
    "            i = lookback\n",
    "        samples = np.zeros((batch_size, lookback, data.shape[-1]))\n",
    "        targets = np.zeros((batch_size, lookback, data.shape[-1]))  # targets should be 3D, same length as inputs\n",
    "        for j in range(batch_size):\n",
    "            if i + delay >= max_index:\n",
    "                i = lookback\n",
    "            rows = np.arange(i - lookback, i)\n",
    "            samples[j] = data[rows]\n",
    "            targets[j] = data[rows + delay]  # targets sequence is shifted by delay\n",
    "            i += 1\n",
    "        yield samples, targets\n",
    "\n",
    "train_gen = generator(data_scaled, lookback=lookback, delay=delay)\n",
    "\n",
    "# 定义模型\n",
    "inputs = Input(shape=(lookback, data.shape[-1]))\n",
    "x = MultiHeadAttention(num_heads=2, key_dim=2)(inputs, inputs)\n",
    "x = Dropout(0.5)(x)\n",
    "x = LSTM(100, return_sequences=True)(x)  # LSTM 层，输出形状为 (batch_size, timesteps, units)\n",
    "\n",
    "outputs = Dense(data.shape[-1])(x) # 用TimeDistributed包装Dense层，以适应新的目标序列长度\n",
    "model = Model(inputs=inputs, outputs=outputs)\n",
    "model.compile(optimizer=Adam(), loss='mse')\n",
    "model.fit(train_gen, epochs=30, steps_per_epoch=20,verbose=0)\n",
    "    \n",
    "future = 1\n",
    "data_to_predict = data_scaled[-lookback:]  # 最后lookback个数据点\n",
    "predicted_data = []\n",
    "for _ in range(future):\n",
    "    samples = np.reshape(data_to_predict[-lookback:], (1, lookback, data_diff.shape[-1]))\n",
    "    predictions = model.predict(samples,verbose=0)\n",
    "    last_prediction = predictions[0, -1, :]\n",
    "    predicted_data.append(last_prediction)\n",
    "    # 使用模型的最后一个预测值和前面的实际值（除去最早的一个）来形成新的输入窗口\n",
    "    data_to_predict = np.vstack([data_to_predict[1:], last_prediction])  \n",
    "\n",
    "# 将差值转化为原始预测值\n",
    "predicted_diffs = scaler.inverse_transform(predicted_data)\n",
    "predicted_data = np.cumsum(predicted_diffs, axis=0) + data.iloc[-lookback-1: -lookback].values\n",
    "\n",
    "print(round((predicted_data[-1][0]-data.values[-1][0])/data.values[-1][0]*100,2))"
   ]
  }
 ],
 "metadata": {
  "kernelspec": {
   "display_name": "base",
   "language": "python",
   "name": "python3"
  },
  "language_info": {
   "codemirror_mode": {
    "name": "ipython",
    "version": 3
   },
   "file_extension": ".py",
   "mimetype": "text/x-python",
   "name": "python",
   "nbconvert_exporter": "python",
   "pygments_lexer": "ipython3",
   "version": "3.10.10"
  },
  "orig_nbformat": 4
 },
 "nbformat": 4,
 "nbformat_minor": 2
}
